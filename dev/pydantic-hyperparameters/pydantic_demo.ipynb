{
 "cells": [
  {
   "cell_type": "markdown",
   "metadata": {},
   "source": [
    "# Why pydantic?\n",
    "\n",
    "\n",
    "Pydantic allows us to write \n",
    "\n",
    "- pydantic enforces type hints at runtime, and provides user friendly errors when data is invalid.\n",
    "- automatic conversion to `json`, `dict`"
   ]
  },
  {
   "cell_type": "code",
   "execution_count": 1,
   "metadata": {},
   "outputs": [],
   "source": [
    "%config InteractiveShell.ast_node_interactivity='last_expr_or_assign'  # always print last expr.\n",
    "%config InlineBackend.figure_format = 'svg'\n",
    "%load_ext autoreload\n",
    "%autoreload 2\n",
    "%matplotlib inline\n",
    "\n",
    "import logging\n",
    "logging.basicConfig(level=logging.INFO)"
   ]
  },
  {
   "cell_type": "code",
   "execution_count": 2,
   "metadata": {},
   "outputs": [],
   "source": [
    "import numpy as np\n",
    "import matplotlib.pyplot as plt\n",
    "\n",
    "np.set_printoptions(precision=4, floatmode='fixed', suppress=True)\n",
    "rng = np.random.default_rng()"
   ]
  },
  {
   "cell_type": "markdown",
   "metadata": {},
   "source": []
  },
  {
   "cell_type": "code",
   "execution_count": 15,
   "metadata": {},
   "outputs": [],
   "source": [
    "from pydantic import BaseModel\n",
    "\n",
    "\n",
    "class HP(BaseModel):\n",
    "    learn_rate: float = 0.01\n",
    "    num_layers: int = 30\n",
    "    \n",
    "    optimizer: class NestedHP(BaseModel):\n",
    "    "
   ]
  },
  {
   "cell_type": "code",
   "execution_count": 6,
   "metadata": {},
   "outputs": [],
   "source": []
  },
  {
   "cell_type": "code",
   "execution_count": 11,
   "metadata": {},
   "outputs": [],
   "source": [
    "import torch\n",
    "from torch import nn, jit, Tensor\n",
    "\n",
    "class MultiplyScalar(nn.Module):\n",
    "    \"\"\"Multiply a tensor by a scalar.\"\"\"\n",
    "\n",
    "    class HP(BaseModel):\n",
    "        learnable: bool = True\n",
    "        initial_value: float = 0.0\n",
    "\n",
    "    def __init__(self, learnable: bool = True, initial_value: float = 0.0) -> None:\n",
    "        super().__init__()\n",
    "        \n",
    "        self.HP = self.HP.update(learnable, initial_value)\n",
    "        \n",
    "        \n",
    "        x0 = torch.tensor(self.HP.initial_value)\n",
    "        self.scalar = nn.Parameter(x0, requires_grad=self.HP.learnable)\n",
    "\n",
    "    def forward(self, tensor: Tensor) -> Tensor:\n",
    "        return self.scalar * tensor\n"
   ]
  },
  {
   "cell_type": "code",
   "execution_count": 12,
   "metadata": {},
   "outputs": [],
   "source": [
    "model = MultiplyScalar()"
   ]
  },
  {
   "cell_type": "code",
   "execution_count": 17,
   "metadata": {},
   "outputs": [],
   "source": [
    "dir(HP())"
   ]
  },
  {
   "cell_type": "code",
   "execution_count": 19,
   "metadata": {},
   "outputs": [],
   "source": [
    "HP().dict()"
   ]
  },
  {
   "cell_type": "code",
   "execution_count": null,
   "metadata": {},
   "outputs": [],
   "source": []
  }
 ],
 "metadata": {
  "kernelspec": {
   "display_name": "Python 3 (ipykernel)",
   "language": "python",
   "name": "python3"
  },
  "language_info": {
   "codemirror_mode": {
    "name": "ipython",
    "version": 3
   },
   "file_extension": ".py",
   "mimetype": "text/x-python",
   "name": "python",
   "nbconvert_exporter": "python",
   "pygments_lexer": "ipython3",
   "version": "3.9.7"
  }
 },
 "nbformat": 4,
 "nbformat_minor": 4
}
