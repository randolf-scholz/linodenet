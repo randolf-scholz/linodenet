{
 "cells": [
  {
   "cell_type": "markdown",
   "metadata": {},
   "source": [
    "# Title\n",
    "\n",
    "\n",
    "TODOs:\n",
    "\n",
    "- use qualname to check if it class is defined as an inner class.\n",
    "    - if so, automatically set the `__source__` and `__type__` and  `__name__` attributes?\n",
    "- use `__module__` to automatically import the class"
   ]
  },
  {
   "cell_type": "code",
   "execution_count": 2,
   "metadata": {},
   "outputs": [],
   "source": [
    "%config InteractiveShell.ast_node_interactivity='last_expr_or_assign'  # always print last expr.\n",
    "%config InlineBackend.figure_format = 'svg'\n",
    "%load_ext autoreload\n",
    "%autoreload 2\n",
    "%matplotlib inline\n",
    "\n",
    "import logging\n",
    "logging.basicConfig(level=logging.INFO)"
   ]
  },
  {
   "cell_type": "code",
   "execution_count": 3,
   "metadata": {},
   "outputs": [],
   "source": [
    "import numpy as np\n",
    "import matplotlib.pyplot as plt\n",
    "\n",
    "np.set_printoptions(precision=4, floatmode='fixed', suppress=True)\n",
    "rng = np.random.default_rng()"
   ]
  },
  {
   "cell_type": "code",
   "execution_count": 24,
   "metadata": {},
   "outputs": [],
   "source": [
    "from dataclasses import dataclass\n",
    "from typing import TypedDict\n",
    "from pydantic import BaseModel"
   ]
  },
  {
   "cell_type": "code",
   "execution_count": 25,
   "metadata": {},
   "outputs": [],
   "source": [
    "import torch\n",
    "from torch import nn, jit, Tensor\n",
    "\n",
    "class MultiplyScalar(nn.Module):\n",
    "    \"\"\"Multiply a tensor by a scalar.\"\"\"\n",
    "\n",
    "    class DEFAULT_HP(BaseModel):\n",
    "        learnable: bool = True\n",
    "        initial_value: float = 0.0\n",
    "    \n",
    "    \n",
    "    def __init__(self, **HP) -> None:\n",
    "        super().__init__()\n",
    "        \n",
    "        \n",
    "        self.HP = self.DEFAULT_HP(**HP)\n",
    "        \n",
    "        # self.HP = self.HP.update(learnable, initial_value)\n",
    "        \n",
    "        \n",
    "        x0 = torch.tensor(self.HP.initial_value)\n",
    "        self.scalar = nn.Parameter(x0, requires_grad=self.HP.learnable)\n",
    "\n",
    "    def forward(self, tensor: Tensor) -> Tensor:\n",
    "        return self.scalar * tensor\n"
   ]
  },
  {
   "cell_type": "code",
   "execution_count": 37,
   "metadata": {},
   "outputs": [],
   "source": [
    "from collections.abc import Mapping\n",
    "\n",
    "class DEFAULT_HP(BaseModel):\n",
    "    __root__ = Mapping\n",
    "    \n",
    "    learnable: bool = True\n",
    "    initial_value: float = 0.0\n",
    "    \n",
    "    class Config:\n",
    "        extra = 'forbid'"
   ]
  },
  {
   "cell_type": "code",
   "execution_count": 41,
   "metadata": {},
   "outputs": [],
   "source": [
    "from abc import ABC"
   ]
  },
  {
   "cell_type": "code",
   "execution_count": 59,
   "metadata": {},
   "outputs": [],
   "source": []
  },
  {
   "cell_type": "code",
   "execution_count": 154,
   "metadata": {},
   "outputs": [],
   "source": [
    "HPC.__qualname__"
   ]
  },
  {
   "cell_type": "code",
   "execution_count": 62,
   "metadata": {},
   "outputs": [],
   "source": [
    "\n",
    "    "
   ]
  },
  {
   "cell_type": "code",
   "execution_count": null,
   "metadata": {},
   "outputs": [],
   "source": [
    "class SubModule(ABC, BaseModel)"
   ]
  },
  {
   "cell_type": "code",
   "execution_count": 101,
   "metadata": {},
   "outputs": [],
   "source": [
    "from torch.optim import Optimizer"
   ]
  },
  {
   "cell_type": "code",
   "execution_count": null,
   "metadata": {},
   "outputs": [],
   "source": []
  },
  {
   "cell_type": "code",
   "execution_count": null,
   "metadata": {},
   "outputs": [],
   "source": []
  },
  {
   "cell_type": "code",
   "execution_count": 114,
   "metadata": {},
   "outputs": [],
   "source": [
    "class InitializableConfig(BaseModel):\n",
    "    __name__: str\n",
    "    __type__: str\n",
    "    __source__: str\n",
    "    \n",
    "    def __call__(self):\n",
    "        try:\n",
    "            module = __import__(self.__source__)\n",
    "\n",
    "            # getting attribute by\n",
    "            # getattr() method\n",
    "            my_class = getattr(module, self.__type__)     \n",
    "            \n",
    "            \n",
    "    \n",
    "    "
   ]
  },
  {
   "cell_type": "code",
   "execution_count": null,
   "metadata": {},
   "outputs": [],
   "source": []
  },
  {
   "cell_type": "code",
   "execution_count": 116,
   "metadata": {},
   "outputs": [],
   "source": [
    "OptimCfg()"
   ]
  },
  {
   "cell_type": "code",
   "execution_count": 108,
   "metadata": {},
   "outputs": [],
   "source": [
    "class OptimCfg(BaseModel):\n",
    "    opt: type[Optimizer]"
   ]
  },
  {
   "cell_type": "code",
   "execution_count": 113,
   "metadata": {},
   "outputs": [],
   "source": [
    "import torch.optim.Optimizer"
   ]
  },
  {
   "cell_type": "code",
   "execution_count": 117,
   "metadata": {},
   "outputs": [],
   "source": [
    "cfg = OptimCfg(opt=torch.optim.SGD)"
   ]
  },
  {
   "cell_type": "code",
   "execution_count": 119,
   "metadata": {},
   "outputs": [],
   "source": [
    "cfg.__fields__"
   ]
  },
  {
   "cell_type": "code",
   "execution_count": 149,
   "metadata": {
    "tags": []
   },
   "outputs": [],
   "source": [
    "from pydantic import BaseModel, Field\n",
    "\n",
    "class HPC(ABC, BaseModel, Mapping):\n",
    "    __root__ = dict\n",
    "    __module__: Field()\n",
    "    \n",
    "    class Config:\n",
    "        extra = 'forbid'\n",
    "    def __iter__(self):\n",
    "        return iter(self.__dict__)\n",
    "    \n",
    "    def __len__(self):\n",
    "        return len(self.__dict__)\n",
    "    \n",
    "    def __getitem__(self, key):\n",
    "        return self.__dict__.__getitem__(key)\n",
    "        \n",
    "\n",
    "class SGD:\n",
    "    class DEFAULT_HPC(HPC):\n",
    "        learnrate: float = 0.01\n",
    "        momentum: float = 0.99\n",
    "\n",
    "class DEFAULT_HP_SGD(HPC):\n",
    "    learnrate: float = 0.01\n",
    "    momentum: float = 0.99\n",
    "\n",
    "class DEFAULT_HP(HPC):    \n",
    "    learnable: bool = True\n",
    "    initial_value: float = 0.0\n",
    "    optimizer: Config = SGD.DEFAULT_HPC()"
   ]
  },
  {
   "cell_type": "code",
   "execution_count": 151,
   "metadata": {},
   "outputs": [],
   "source": [
    "hpc = DEFAULT_HP()"
   ]
  },
  {
   "cell_type": "code",
   "execution_count": 143,
   "metadata": {},
   "outputs": [],
   "source": [
    "list(hpc)"
   ]
  },
  {
   "cell_type": "code",
   "execution_count": 97,
   "metadata": {},
   "outputs": [],
   "source": [
    "hpc.json()"
   ]
  },
  {
   "cell_type": "code",
   "execution_count": 121,
   "metadata": {},
   "outputs": [],
   "source": [
    "HPC.__module__ "
   ]
  },
  {
   "cell_type": "code",
   "execution_count": 90,
   "metadata": {},
   "outputs": [],
   "source": [
    "DEFAULT_HP()"
   ]
  },
  {
   "cell_type": "code",
   "execution_count": 94,
   "metadata": {},
   "outputs": [],
   "source": [
    "DEFAULT_HP().keys()"
   ]
  },
  {
   "cell_type": "code",
   "execution_count": 78,
   "metadata": {},
   "outputs": [],
   "source": [
    "DEFAULT_HP().__root__.keys()"
   ]
  },
  {
   "cell_type": "code",
   "execution_count": 66,
   "metadata": {},
   "outputs": [],
   "source": [
    "DEFAULT_HP().keys()"
   ]
  },
  {
   "cell_type": "code",
   "execution_count": 31,
   "metadata": {},
   "outputs": [],
   "source": [
    "MultiplyScalar(learnable=1).HP"
   ]
  },
  {
   "cell_type": "code",
   "execution_count": 8,
   "metadata": {},
   "outputs": [],
   "source": [
    "import inspect\n",
    "from collections.abc import Mapping, Callable\n",
    "from functools import wraps\n",
    "\n",
    "\n",
    "\n",
    "def configurable(config: Mapping):\n",
    "    \n",
    "    \n",
    "    def make_decorator(func: Callable) -> Callable:\n",
    "        \n",
    "        \n",
    "        @wraps(func)\n",
    "        def Wrapper():\n",
    "            \n",
    "            \n",
    "            \n",
    "    \n",
    "    \n",
    "    \n",
    "    \n",
    "    \n",
    "    \n",
    "    \n",
    "    \n",
    "    \n",
    "    \n",
    "    \n",
    "    "
   ]
  },
  {
   "cell_type": "code",
   "execution_count": null,
   "metadata": {},
   "outputs": [],
   "source": []
  }
 ],
 "metadata": {
  "kernelspec": {
   "display_name": "Python 3 (ipykernel)",
   "language": "python",
   "name": "python3"
  },
  "language_info": {
   "codemirror_mode": {
    "name": "ipython",
    "version": 3
   },
   "file_extension": ".py",
   "mimetype": "text/x-python",
   "name": "python",
   "nbconvert_exporter": "python",
   "pygments_lexer": "ipython3",
   "version": "3.9.7"
  }
 },
 "nbformat": 4,
 "nbformat_minor": 4
}
