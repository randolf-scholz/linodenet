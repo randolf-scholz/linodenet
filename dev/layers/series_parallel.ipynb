{
 "cells": [
  {
   "cell_type": "markdown",
   "metadata": {},
   "source": [
    "# Title"
   ]
  },
  {
   "cell_type": "code",
   "execution_count": 1,
   "metadata": {},
   "outputs": [],
   "source": [
    "%config InteractiveShell.ast_node_interactivity='last_expr_or_assign'  # always print last expr.\n",
    "%config InlineBackend.figure_format = 'svg'\n",
    "%load_ext autoreload\n",
    "%autoreload 2\n",
    "%matplotlib inline\n",
    "\n",
    "import logging\n",
    "\n",
    "logging.basicConfig(level=logging.INFO)"
   ]
  },
  {
   "cell_type": "code",
   "execution_count": 2,
   "metadata": {},
   "outputs": [],
   "source": [
    "import matplotlib.pyplot as plt\n",
    "import numpy as np\n",
    "\n",
    "np.set_printoptions(precision=4, floatmode=\"fixed\", suppress=True)\n",
    "rng = np.random.default_rng()"
   ]
  },
  {
   "cell_type": "code",
   "execution_count": 3,
   "metadata": {},
   "outputs": [],
   "source": [
    "import torch\n",
    "from torch import Tensor, jit, nn\n",
    "from torchinfo import summary\n",
    "from linodenet.util import autojit"
   ]
  },
  {
   "cell_type": "code",
   "execution_count": 4,
   "metadata": {},
   "outputs": [],
   "source": [
    "from typing import Any, Dict, Final, List"
   ]
  },
  {
   "cell_type": "code",
   "execution_count": 5,
   "metadata": {},
   "outputs": [],
   "source": [
    "class Series(nn.Sequential):\n",
    "    \"\"\"An augmentation of nn.Sequential.\"\"\"\n",
    "\n",
    "    DEFAULT_HP = {\"modules\": [None]}\n",
    "\n",
    "    HP: Dict[str, Any]\n",
    "    \"\"\"The HP\"\"\"\n",
    "\n",
    "    def __init__(self, *args: Any, **HP: Any) -> None:\n",
    "        self.HP = self.DEFAULT_HP | HP\n",
    "        HP = self.HP\n",
    "\n",
    "        modules: list[nn.Module] = []\n",
    "\n",
    "        if HP[\"modules\"] != [None]:\n",
    "            del HP[\"modules\"][0]\n",
    "            for k, layer in enumerate(HP[\"modules\"]):\n",
    "                module = initialize_from_config(layer)\n",
    "                modules.append(module)\n",
    "\n",
    "        modules = list(args) + modules\n",
    "\n",
    "        super().__init__(*modules)"
   ]
  },
  {
   "cell_type": "code",
   "execution_count": 6,
   "metadata": {},
   "outputs": [],
   "source": [
    "x = torch.randn(3)"
   ]
  },
  {
   "cell_type": "code",
   "execution_count": 7,
   "metadata": {},
   "outputs": [],
   "source": [
    "model = nn.Sequential(nn.ReLU(), nn.Linear(3, 4))\n",
    "scripted = jit.script(model)\n",
    "scripted(x)"
   ]
  },
  {
   "cell_type": "code",
   "execution_count": 8,
   "metadata": {},
   "outputs": [],
   "source": [
    "model = Series(nn.ReLU(), nn.Linear(3, 4))\n",
    "scripted = jit.script(model)\n",
    "scripted(x)"
   ]
  },
  {
   "cell_type": "code",
   "execution_count": 9,
   "metadata": {},
   "outputs": [],
   "source": [
    "model = nn.Sequential()\n",
    "scripted = jit.script(model)"
   ]
  },
  {
   "cell_type": "markdown",
   "metadata": {},
   "source": [
    "## Parallel"
   ]
  },
  {
   "cell_type": "code",
   "execution_count": 10,
   "metadata": {},
   "outputs": [],
   "source": [
    "class Parallel(nn.ModuleList):\n",
    "    \"\"\"An augmentation of nn.Sequential.\"\"\"\n",
    "\n",
    "    DEFAULT_HP = {\"modules\": [None]}\n",
    "\n",
    "    HP: Dict[str, Any]\n",
    "    \"\"\"The HP\"\"\"\n",
    "\n",
    "    def __init__(self, *args, **HP: Any) -> None:\n",
    "        self.HP = self.DEFAULT_HP | HP\n",
    "        HP = self.HP\n",
    "\n",
    "        modules: list[nn.Module] = []\n",
    "\n",
    "        if HP[\"modules\"] != [None]:\n",
    "            del HP[\"modules\"][0]\n",
    "            for k, layer in enumerate(HP[\"modules\"]):\n",
    "                module = initialize_from_config(layer)\n",
    "                modules.append(module)\n",
    "\n",
    "        modules = list(args) + modules\n",
    "\n",
    "        super().__init__(*modules)\n",
    "\n",
    "    @jit.export\n",
    "    def forward(self, x) -> list[Any]:\n",
    "        r\"\"\"Forward pass.\n",
    "\n",
    "        Parameters\n",
    "        ----------\n",
    "        x: Tensor\n",
    "\n",
    "        Returns\n",
    "        -------\n",
    "        Tensor\n",
    "        \"\"\"\n",
    "        result: List[Any] = []\n",
    "\n",
    "        for module in self:\n",
    "            result.append(module(x))\n",
    "\n",
    "        return result"
   ]
  },
  {
   "cell_type": "code",
   "execution_count": 11,
   "metadata": {},
   "outputs": [],
   "source": [
    "model = Parallel([nn.ReLU(), nn.Linear(3, 4)])\n",
    "scripted = jit.script(model)\n",
    "scripted(x)"
   ]
  },
  {
   "cell_type": "markdown",
   "metadata": {},
   "source": [
    "## Repeat"
   ]
  },
  {
   "cell_type": "code",
   "execution_count": 12,
   "metadata": {},
   "outputs": [],
   "source": [
    "@autojit\n",
    "class Repeat(nn.Sequential):\n",
    "    \"\"\"An copies of a module multiple times.\"\"\"\n",
    "\n",
    "    DEFAULT_HP = {\n",
    "        \"__name__\": __qualname__,  # type: ignore[name-defined]\n",
    "        \"__module__\": __module__,  # type: ignore[name-defined]\n",
    "        \"module\": None,\n",
    "        \"copies\": 1,\n",
    "        \"independent\": True,\n",
    "    }\n",
    "\n",
    "    HP: Dict[str, Any]\n",
    "    \"\"\"The HP\"\"\"\n",
    "\n",
    "    def __init__(self, **HP: Any) -> None:\n",
    "        self.HP = self.DEFAULT_HP | HP\n",
    "        HP = self.HP\n",
    "\n",
    "        copies: list[nn.Module] = []\n",
    "\n",
    "        for k in range(HP[\"copies\"]):\n",
    "            if isinstance(HP[\"module\"], nn.Module):\n",
    "                module = HP[\"module\"]\n",
    "            else:\n",
    "                module = initialize_from_config(HP[\"module\"])\n",
    "\n",
    "            if HP[\"independent\"]:\n",
    "                copies.append(module)\n",
    "            else:\n",
    "                copies = [module] * HP[\"copies\"]\n",
    "                break\n",
    "\n",
    "        HP[\"module\"] = str(HP[\"module\"])\n",
    "        super().__init__(*copies)"
   ]
  },
  {
   "cell_type": "code",
   "execution_count": 13,
   "metadata": {},
   "outputs": [],
   "source": [
    "model = Repeat(module=nn.ReLU(), copies=3)\n",
    "scripted = jit.script(model)\n",
    "scripted(x)"
   ]
  },
  {
   "cell_type": "code",
   "execution_count": 14,
   "metadata": {},
   "outputs": [],
   "source": [
    "summary(model)"
   ]
  },
  {
   "cell_type": "code",
   "execution_count": null,
   "metadata": {},
   "outputs": [],
   "source": []
  }
 ],
 "metadata": {
  "kernelspec": {
   "display_name": "Python 3 (ipykernel)",
   "language": "python",
   "name": "python3"
  },
  "language_info": {
   "codemirror_mode": {
    "name": "ipython",
    "version": 3
   },
   "file_extension": ".py",
   "mimetype": "text/x-python",
   "name": "python",
   "nbconvert_exporter": "python",
   "pygments_lexer": "ipython3",
   "version": "3.9.9"
  }
 },
 "nbformat": 4,
 "nbformat_minor": 4
}
