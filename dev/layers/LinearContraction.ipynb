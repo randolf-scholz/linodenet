{
 "cells": [
  {
   "cell_type": "code",
   "execution_count": null,
   "metadata": {
    "execution": {
     "iopub.execute_input": "2023-05-17T13:27:02.944845Z",
     "iopub.status.busy": "2023-05-17T13:27:02.944127Z",
     "iopub.status.idle": "2023-05-17T13:27:02.956930Z",
     "shell.execute_reply": "2023-05-17T13:27:02.956307Z",
     "shell.execute_reply.started": "2023-05-17T13:27:02.944809Z"
    },
    "tags": []
   },
   "outputs": [],
   "source": [
    "%config InteractiveShell.ast_node_interactivity='last_expr_or_assign'  # always print last expr.\n",
    "\n",
    "import torch\n",
    "from torch import Tensor, jit\n",
    "from torch.nn import functional as F\n",
    "from torch.optim import SGD\n",
    "from torch.linalg import matrix_norm\n",
    "\n",
    "from linodenet.models.encoders.invertible_layers import LinearContraction\n",
    "from linodenet.lib import singular_triplet\n",
    "\n",
    "torch.autograd.set_detect_anomaly(True)"
   ]
  },
  {
   "cell_type": "code",
   "execution_count": null,
   "metadata": {
    "execution": {
     "iopub.execute_input": "2023-05-17T13:27:03.078213Z",
     "iopub.status.busy": "2023-05-17T13:27:03.077663Z",
     "iopub.status.idle": "2023-05-17T13:27:03.111385Z",
     "shell.execute_reply": "2023-05-17T13:27:03.110788Z",
     "shell.execute_reply.started": "2023-05-17T13:27:03.078189Z"
    },
    "tags": []
   },
   "outputs": [],
   "source": [
    "N, m, n = 32, 5, 3\n",
    "\n",
    "x = torch.randn(m)\n",
    "X = torch.randn(N, m)\n",
    "model = jit.script(LinearContraction(m, n))\n",
    "jit.save(model, \"model.pt\")\n",
    "model = jit.load(\"model.pt\")\n",
    "optim = SGD(model.parameters(), lr=0.5)\n",
    "# print(model.weight)\n",
    "# print(model.cached_weight)\n",
    "# model.reset_cache()\n",
    "# print(model.cached_weight)\n",
    "# print(model.cached_weight)\n",
    "# model.reset_cache()\n",
    "print(model.sigma)\n",
    "print(matrix_norm(model.weight, ord=2))\n",
    "print(matrix_norm(model.cached_weight, ord=2))"
   ]
  },
  {
   "cell_type": "code",
   "execution_count": null,
   "metadata": {
    "execution": {
     "iopub.execute_input": "2023-05-17T13:27:03.479939Z",
     "iopub.status.busy": "2023-05-17T13:27:03.479448Z",
     "iopub.status.idle": "2023-05-17T13:27:03.506510Z",
     "shell.execute_reply": "2023-05-17T13:27:03.505696Z",
     "shell.execute_reply.started": "2023-05-17T13:27:03.479914Z"
    },
    "tags": []
   },
   "outputs": [],
   "source": [
    "model.zero_grad(set_to_none=True)\n",
    "\n",
    "y = -F.linear(x, model.cached_weight).norm()\n",
    "y.backward()\n",
    "optim.step()\n",
    "print(y)\n",
    "\n",
    "\n",
    "print(model.sigma)\n",
    "print(matrix_norm(model.weight, ord=2))\n",
    "print(matrix_norm(model.cached_weight, ord=2))\n",
    "model.reset_cache()\n",
    "print(model.sigma)\n",
    "print(matrix_norm(model.weight, ord=2))\n",
    "print(matrix_norm(model.cached_weight, ord=2))"
   ]
  },
  {
   "cell_type": "code",
   "execution_count": null,
   "metadata": {
    "execution": {
     "iopub.execute_input": "2023-05-17T12:22:23.974866Z",
     "iopub.status.busy": "2023-05-17T12:22:23.974516Z",
     "iopub.status.idle": "2023-05-17T12:22:23.979025Z",
     "shell.execute_reply": "2023-05-17T12:22:23.978342Z",
     "shell.execute_reply.started": "2023-05-17T12:22:23.974852Z"
    },
    "tags": []
   },
   "outputs": [],
   "source": [
    "list(model.modules())"
   ]
  },
  {
   "cell_type": "code",
   "execution_count": null,
   "metadata": {
    "execution": {
     "iopub.execute_input": "2023-05-17T10:59:58.665258Z",
     "iopub.status.busy": "2023-05-17T10:59:58.665042Z",
     "iopub.status.idle": "2023-05-17T10:59:58.848753Z",
     "shell.execute_reply": "2023-05-17T10:59:58.848321Z",
     "shell.execute_reply.started": "2023-05-17T10:59:58.665241Z"
    },
    "tags": []
   },
   "outputs": [],
   "source": [
    "import pytest"
   ]
  },
  {
   "cell_type": "code",
   "execution_count": null,
   "metadata": {
    "execution": {
     "iopub.execute_input": "2023-05-17T11:00:09.193981Z",
     "iopub.status.busy": "2023-05-17T11:00:09.193699Z",
     "iopub.status.idle": "2023-05-17T11:00:09.199510Z",
     "shell.execute_reply": "2023-05-17T11:00:09.198739Z",
     "shell.execute_reply.started": "2023-05-17T11:00:09.193962Z"
    },
    "tags": []
   },
   "outputs": [],
   "source": [
    "?pytest.mark.flaky"
   ]
  },
  {
   "cell_type": "code",
   "execution_count": null,
   "metadata": {
    "execution": {
     "iopub.execute_input": "2023-05-17T10:40:18.544207Z",
     "iopub.status.busy": "2023-05-17T10:40:18.543654Z",
     "iopub.status.idle": "2023-05-17T10:40:18.549783Z",
     "shell.execute_reply": "2023-05-17T10:40:18.549030Z",
     "shell.execute_reply.started": "2023-05-17T10:40:18.544182Z"
    },
    "tags": []
   },
   "outputs": [],
   "source": [
    "torch.tensor(float(\"inf\")).any()"
   ]
  },
  {
   "cell_type": "code",
   "execution_count": null,
   "metadata": {
    "execution": {
     "iopub.execute_input": "2023-05-17T10:39:19.797337Z",
     "iopub.status.busy": "2023-05-17T10:39:19.797106Z",
     "iopub.status.idle": "2023-05-17T10:39:19.802686Z",
     "shell.execute_reply": "2023-05-17T10:39:19.801987Z",
     "shell.execute_reply.started": "2023-05-17T10:39:19.797324Z"
    },
    "tags": []
   },
   "outputs": [],
   "source": [
    "torch.zeros(5).all()"
   ]
  },
  {
   "cell_type": "code",
   "execution_count": null,
   "metadata": {
    "execution": {
     "iopub.execute_input": "2023-05-17T10:39:30.631050Z",
     "iopub.status.busy": "2023-05-17T10:39:30.630410Z",
     "iopub.status.idle": "2023-05-17T10:39:30.636665Z",
     "shell.execute_reply": "2023-05-17T10:39:30.636000Z",
     "shell.execute_reply.started": "2023-05-17T10:39:30.631019Z"
    },
    "tags": []
   },
   "outputs": [],
   "source": [
    "torch.randn(5).any()"
   ]
  },
  {
   "cell_type": "code",
   "execution_count": null,
   "metadata": {
    "execution": {
     "iopub.execute_input": "2023-05-17T01:04:07.813191Z",
     "iopub.status.busy": "2023-05-17T01:04:07.812740Z",
     "iopub.status.idle": "2023-05-17T01:04:07.826104Z",
     "shell.execute_reply": "2023-05-17T01:04:07.825394Z",
     "shell.execute_reply.started": "2023-05-17T01:04:07.813166Z"
    },
    "tags": []
   },
   "outputs": [],
   "source": [
    "dir(model.cached_weight)"
   ]
  },
  {
   "cell_type": "code",
   "execution_count": null,
   "metadata": {
    "execution": {
     "iopub.execute_input": "2023-05-17T00:30:08.939464Z",
     "iopub.status.busy": "2023-05-17T00:30:08.939026Z",
     "iopub.status.idle": "2023-05-17T00:30:08.947061Z",
     "shell.execute_reply": "2023-05-17T00:30:08.946284Z",
     "shell.execute_reply.started": "2023-05-17T00:30:08.939440Z"
    },
    "tags": []
   },
   "outputs": [],
   "source": [
    "model.zero_grad(set_to_none=True)\n",
    "y = F.linear(x, model.cached_weight).norm()\n",
    "y.backward()\n",
    "optim.step()\n",
    "model.reset_cache()\n",
    "model.cached_weight"
   ]
  },
  {
   "cell_type": "code",
   "execution_count": null,
   "metadata": {},
   "outputs": [],
   "source": []
  }
 ],
 "metadata": {
  "kernelspec": {
   "display_name": "Python 3 (ipykernel)",
   "language": "python",
   "name": "python3"
  },
  "language_info": {
   "codemirror_mode": {
    "name": "ipython",
    "version": 3
   },
   "file_extension": ".py",
   "mimetype": "text/x-python",
   "name": "python",
   "nbconvert_exporter": "python",
   "pygments_lexer": "ipython3",
   "version": "3.10.6"
  }
 },
 "nbformat": 4,
 "nbformat_minor": 4
}
