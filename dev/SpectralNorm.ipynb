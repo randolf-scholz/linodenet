{
 "cells": [
  {
   "cell_type": "code",
   "execution_count": 1,
   "metadata": {},
   "outputs": [],
   "source": [
    "%config InteractiveShell.ast_node_interactivity='last_expr_or_assign'  # always print last expr.\n",
    "%config InlineBackend.figure_format = 'svg'\n",
    "%load_ext autoreload\n",
    "%autoreload 2\n",
    "%matplotlib inline"
   ]
  },
  {
   "cell_type": "code",
   "execution_count": 2,
   "metadata": {},
   "outputs": [],
   "source": [
    "import numpy as np\n",
    "import matplotlib.pyplot as plt\n",
    "\n",
    "rng = np.random.default_rng()\n",
    "np.set_printoptions()"
   ]
  },
  {
   "cell_type": "markdown",
   "metadata": {},
   "source": [
    "## Automatic Backward pass"
   ]
  },
  {
   "cell_type": "code",
   "execution_count": 3,
   "metadata": {},
   "outputs": [],
   "source": [
    "import torch\n",
    "from torch import Tensor, jit\n",
    "from torch.linalg import vector_norm\n",
    "\n",
    "torch.set_default_tensor_type(torch.cuda.FloatTensor)"
   ]
  },
  {
   "cell_type": "code",
   "execution_count": 4,
   "metadata": {},
   "outputs": [],
   "source": [
    "@jit.script\n",
    "def spectral_norm(\n",
    "    A: Tensor, atol: float = 1e-6, rtol: float = 1e-6, maxiter: int = 1000\n",
    ") -> Tensor:\n",
    "    r\"\"\"Compute the spectral norm `‖A‖_2` by power iteration.\n",
    "\n",
    "    Stopping critertion:\n",
    "    - maxiter reached\n",
    "    - `‖ (A^TA -λI)x ‖_2 ≤ 𝗋𝗍𝗈𝗅⋅‖ λx ‖_2 + 𝖺𝗍𝗈𝗅\n",
    "\n",
    "    Parameters\n",
    "    ----------\n",
    "    A: tensor\n",
    "    atol: float = 1e-4\n",
    "    rtol: float =  1e-3,\n",
    "    maxiter: int = 10\n",
    "\n",
    "    Returns\n",
    "    -------\n",
    "    Tensor\n",
    "    \"\"\"\n",
    "    m, n = A.shape\n",
    "\n",
    "    #     with torch.no_grad():\n",
    "    x = torch.randn(n, device=A.device, dtype=A.dtype)\n",
    "    x = x / vector_norm(x)\n",
    "\n",
    "    z = A.T @ (A @ x)\n",
    "    c, d = vector_norm(z, dim=0), vector_norm(x, dim=0)\n",
    "    λ = c / d\n",
    "    r = z - λ * x\n",
    "\n",
    "    for _ in range(maxiter):\n",
    "        x = z / c\n",
    "        z = A.T @ (A @ x)\n",
    "        c, d = vector_norm(z, dim=0), vector_norm(x, dim=0)\n",
    "        λ = c / d\n",
    "        r = z - λ * x\n",
    "        if vector_norm(r) <= rtol * vector_norm(λ * x) + atol:\n",
    "            break\n",
    "\n",
    "    σ_max = torch.sqrt(λ)\n",
    "\n",
    "    v = x / vector_norm(x)\n",
    "    u = A @ v / σ_max\n",
    "    u /= vector_norm(u)\n",
    "    #     print(u, v, torch.outer(u,v), A@v-λ*u)\n",
    "\n",
    "    return σ_max"
   ]
  },
  {
   "cell_type": "markdown",
   "metadata": {},
   "source": [
    "## Custom Backward pass"
   ]
  },
  {
   "cell_type": "code",
   "execution_count": 5,
   "metadata": {},
   "outputs": [],
   "source": [
    "class SpectralNorm(torch.autograd.Function):\n",
    "    r\"\"\"`‖A‖_2=λ_{𝗆𝖺𝗑}(A^𝖳A)`.\n",
    "\n",
    "    The spectral norm `∥A∥_2 ≔ 𝗌𝗎𝗉_x ∥Ax∥_2 / ∥x∥_2` can be shown to be equal to\n",
    "    `σ_\\max(A) = √{λ_{𝗆𝖺𝗑} (AᵀA)}`, the largest singular value of `A`.\n",
    "\n",
    "    It can be computed efficiently via Power iteration.\n",
    "\n",
    "    One can show that the derivative is equal to:\n",
    "\n",
    "    .. math::\n",
    "        \\frac{∂½∥A∥_2}/{∂A} = uvᵀ\n",
    "\n",
    "    where `u,v` are the left/right-singular vector corresponding to `σ_\\max`\n",
    "    \"\"\"\n",
    "\n",
    "    @staticmethod\n",
    "    def forward(\n",
    "        ctx, A: Tensor, atol: float = 1e-6, rtol: float = 1e-6, maxiter: int = 1000\n",
    "    ) -> Tensor:\n",
    "        \"\"\"\"\"\"\n",
    "        m, n = A.shape\n",
    "\n",
    "        #     with torch.no_grad():\n",
    "        x = torch.randn(n, device=A.device, dtype=A.dtype)\n",
    "        x = x / vector_norm(x)\n",
    "\n",
    "        z = A.T @ (A @ x)\n",
    "        c, d = vector_norm(z, dim=0), vector_norm(x, dim=0)\n",
    "        λ = c / d\n",
    "        r = z - λ * x\n",
    "\n",
    "        for _ in range(maxiter):\n",
    "            x = z / c\n",
    "            z = A.T @ (A @ x)\n",
    "            c, d = vector_norm(z, dim=0), vector_norm(x, dim=0)\n",
    "            λ = c / d\n",
    "            r = z - λ * x\n",
    "            if vector_norm(r) <= rtol * vector_norm(λ * x) + atol:\n",
    "                break\n",
    "\n",
    "        σ_max = torch.sqrt(λ)\n",
    "\n",
    "        #         ctx.u = x/vector_norm(x)\n",
    "        #         ctx.v = z/vector_norm(z)\n",
    "        v = x / vector_norm(x)\n",
    "        u = A @ v / σ_max\n",
    "        u /= vector_norm(u)\n",
    "        #         print(u, v, torch.outer(u,v), A@v-λ*u)\n",
    "\n",
    "        ctx.save_for_backward(u, v)\n",
    "        return σ_max\n",
    "\n",
    "    @staticmethod\n",
    "    def backward(ctx, grad_output: Tensor) -> Tensor:\n",
    "        #         u, v = ctx.u, ctx.v\n",
    "        u, v = ctx.saved_tensors\n",
    "        #         print(grad_output, u, v)\n",
    "        return grad_output * torch.outer(u, v)"
   ]
  },
  {
   "cell_type": "markdown",
   "metadata": {},
   "source": [
    "## Test against ground truth\n",
    "\n",
    "**Theorem:** $\\frac{∂‖A‖_2}{∂A} = u_1v_1^𝖳$, if $A = ∑_i σ_i u_iv_i^𝖳$ is the SVD of $A$"
   ]
  },
  {
   "cell_type": "code",
   "execution_count": 6,
   "metadata": {},
   "outputs": [],
   "source": [
    "from scipy.stats import ortho_group, dirichlet\n",
    "import numpy as np\n",
    "\n",
    "M, N = 64, 128\n",
    "K = min(M, N)\n",
    "U = ortho_group.rvs(M)\n",
    "V = ortho_group.rvs(N)\n",
    "σ = dirichlet.rvs(np.ones(min(M, N))).squeeze()\n",
    "σ = np.flip(np.sort(σ))\n",
    "σt = σ[0]\n",
    "X = np.einsum(\"i, mi, ni -> mn\", σ, U[:, :K], V[:, :K])\n",
    "X = torch.tensor(X).double()\n",
    "H = torch.randn(M, N).double()\n",
    "u = torch.tensor(U[:, 0])\n",
    "v = torch.tensor(V[:, 0])\n",
    "gt = torch.outer(u, v)"
   ]
  },
  {
   "cell_type": "markdown",
   "metadata": {},
   "source": [
    "### linalg.norm"
   ]
  },
  {
   "cell_type": "code",
   "execution_count": 7,
   "metadata": {},
   "outputs": [],
   "source": [
    "methods = {\n",
    "    \"norm\": lambda X: torch.linalg.norm(X, ord=2),\n",
    "    \"matrix_norm\": lambda X: torch.linalg.matrix_norm(X, ord=2),\n",
    "    \"svdvals\": lambda X: torch.linalg.svdvals(X)[0],\n",
    "    \"spectral_norm\": spectral_norm,\n",
    "    \"SpectralNorm\": SpectralNorm.apply,\n",
    "}\n",
    "\n",
    "for name, method in methods.items():\n",
    "    A = torch.nn.Parameter(X.clone(), requires_grad=True)\n",
    "    σ_max = method(A)\n",
    "    σ_max.backward()\n",
    "    g = A.grad\n",
    "    fward_error = torch.abs(σt - σ_max).item()\n",
    "    bward_error = torch.sqrt(torch.mean((gt - g) ** 2)).item()\n",
    "    print(f\"{fward_error:.4e}  {bward_error:.4e}\", name)"
   ]
  },
  {
   "cell_type": "markdown",
   "metadata": {
    "tags": []
   },
   "source": [
    "## Speet Tests"
   ]
  },
  {
   "cell_type": "markdown",
   "metadata": {},
   "source": [
    "### with norm"
   ]
  },
  {
   "cell_type": "code",
   "execution_count": 8,
   "metadata": {},
   "outputs": [],
   "source": [
    "%%timeit -r 10 -n 10\n",
    "X = torch.nn.Parameter(torch.randn(M, N), requires_grad=True)\n",
    "σ_max = torch.linalg.norm(X, ord=2)\n",
    "σ_max.backward()"
   ]
  },
  {
   "cell_type": "markdown",
   "metadata": {},
   "source": [
    "### with matrix_norm"
   ]
  },
  {
   "cell_type": "code",
   "execution_count": 9,
   "metadata": {},
   "outputs": [],
   "source": [
    "%%timeit -r 10 -n 10\n",
    "X = torch.nn.Parameter(torch.randn(M, N), requires_grad=True)\n",
    "σ_max = torch.linalg.matrix_norm(X, ord=2)\n",
    "σ_max.backward()"
   ]
  },
  {
   "cell_type": "markdown",
   "metadata": {},
   "source": [
    "### with svdvals"
   ]
  },
  {
   "cell_type": "code",
   "execution_count": 10,
   "metadata": {},
   "outputs": [],
   "source": [
    "%%timeit -r 10 -n 10\n",
    "X = torch.nn.Parameter(torch.randn(M, N), requires_grad=True)\n",
    "σ_max = torch.linalg.svdvals(X)[0]\n",
    "σ_max.backward()"
   ]
  },
  {
   "cell_type": "markdown",
   "metadata": {
    "tags": []
   },
   "source": [
    "### with spectral_norm"
   ]
  },
  {
   "cell_type": "code",
   "execution_count": 11,
   "metadata": {},
   "outputs": [],
   "source": [
    "%%timeit -r 10 -n 10\n",
    "X = torch.nn.Parameter(torch.randn(M, N), requires_grad=True)\n",
    "σ_max = spectral_norm(X)\n",
    "σ_max.backward()"
   ]
  },
  {
   "cell_type": "markdown",
   "metadata": {
    "tags": []
   },
   "source": [
    "### with SpectralNorm"
   ]
  },
  {
   "cell_type": "code",
   "execution_count": 12,
   "metadata": {},
   "outputs": [],
   "source": [
    "%%timeit -r 10 -n 10\n",
    "X = torch.nn.Parameter(torch.randn(M, N), requires_grad=True)\n",
    "σ_max = SpectralNorm.apply(X)\n",
    "σ_max.backward()"
   ]
  }
 ],
 "metadata": {
  "kernelspec": {
   "display_name": "Python 3 (ipykernel)",
   "language": "python",
   "name": "python3"
  },
  "language_info": {
   "codemirror_mode": {
    "name": "ipython",
    "version": 3
   },
   "file_extension": ".py",
   "mimetype": "text/x-python",
   "name": "python",
   "nbconvert_exporter": "python",
   "pygments_lexer": "ipython3",
   "version": "3.9.7"
  }
 },
 "nbformat": 4,
 "nbformat_minor": 4
}
