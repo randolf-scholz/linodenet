{
 "cells": [
  {
   "cell_type": "code",
   "execution_count": null,
   "metadata": {
    "execution": {
     "iopub.execute_input": "2023-01-10T10:25:59.922426Z",
     "iopub.status.busy": "2023-01-10T10:25:59.922133Z",
     "iopub.status.idle": "2023-01-10T10:25:59.924840Z",
     "shell.execute_reply": "2023-01-10T10:25:59.924378Z",
     "shell.execute_reply.started": "2023-01-10T10:25:59.922407Z"
    },
    "tags": []
   },
   "outputs": [],
   "source": [
    "import torch\n",
    "import math\n",
    "from torch import jit, Tensor"
   ]
  },
  {
   "cell_type": "code",
   "execution_count": null,
   "metadata": {
    "execution": {
     "iopub.execute_input": "2023-01-10T10:53:41.282762Z",
     "iopub.status.busy": "2023-01-10T10:53:41.282209Z",
     "iopub.status.idle": "2023-01-10T10:53:41.298811Z",
     "shell.execute_reply": "2023-01-10T10:53:41.297526Z",
     "shell.execute_reply.started": "2023-01-10T10:53:41.282721Z"
    }
   },
   "outputs": [],
   "source": [
    "torch.cuda.is_available()"
   ]
  },
  {
   "cell_type": "code",
   "execution_count": null,
   "metadata": {
    "execution": {
     "iopub.execute_input": "2023-01-10T10:27:55.621232Z",
     "iopub.status.busy": "2023-01-10T10:27:55.620966Z",
     "iopub.status.idle": "2023-01-10T10:27:55.705860Z",
     "shell.execute_reply": "2023-01-10T10:27:55.705360Z",
     "shell.execute_reply.started": "2023-01-10T10:27:55.621215Z"
    },
    "tags": []
   },
   "outputs": [],
   "source": [
    "@jit.script\n",
    "def foo(a, /, x: Tensor, *, y: Tensor) -> None:\n",
    "    return a"
   ]
  },
  {
   "cell_type": "code",
   "execution_count": null,
   "metadata": {
    "execution": {
     "iopub.execute_input": "2023-01-10T10:27:50.602648Z",
     "iopub.status.busy": "2023-01-10T10:27:50.602420Z",
     "iopub.status.idle": "2023-01-10T10:27:50.605862Z",
     "shell.execute_reply": "2023-01-10T10:27:50.605403Z",
     "shell.execute_reply.started": "2023-01-10T10:27:50.602635Z"
    },
    "tags": []
   },
   "outputs": [],
   "source": [
    "x = torch.randn(3)\n",
    "y = torch.randn(7)\n",
    "\n",
    "foo(x, y=y)"
   ]
  },
  {
   "cell_type": "code",
   "execution_count": null,
   "metadata": {},
   "outputs": [],
   "source": []
  },
  {
   "cell_type": "code",
   "execution_count": null,
   "metadata": {},
   "outputs": [],
   "source": []
  },
  {
   "cell_type": "code",
   "execution_count": null,
   "metadata": {
    "execution": {
     "iopub.execute_input": "2022-09-26T00:48:08.863219Z",
     "iopub.status.busy": "2022-09-26T00:48:08.862900Z",
     "iopub.status.idle": "2022-09-26T00:48:08.867386Z",
     "shell.execute_reply": "2022-09-26T00:48:08.866938Z",
     "shell.execute_reply.started": "2022-09-26T00:48:08.863200Z"
    },
    "tags": []
   },
   "outputs": [],
   "source": [
    "b, m, n = 64, 256, 128\n",
    "\n",
    "\n",
    "A = torch.normal(0, 1 / math.sqrt(n), size=(m, n))\n",
    "X = torch.randn(b, n)\n",
    "Y = X @ A.T\n",
    "Y.mean(), Y.std()"
   ]
  },
  {
   "cell_type": "code",
   "execution_count": null,
   "metadata": {
    "execution": {
     "iopub.execute_input": "2022-09-26T00:49:03.500402Z",
     "iopub.status.busy": "2022-09-26T00:49:03.500113Z",
     "iopub.status.idle": "2022-09-26T00:49:03.507886Z",
     "shell.execute_reply": "2022-09-26T00:49:03.507486Z",
     "shell.execute_reply.started": "2022-09-26T00:49:03.500389Z"
    },
    "tags": []
   },
   "outputs": [],
   "source": [
    "Z = torch.randn(b, m)\n",
    "W = Z @ torch.linalg.pinv(A).T\n",
    "W.mean(), W.std()"
   ]
  },
  {
   "cell_type": "code",
   "execution_count": null,
   "metadata": {
    "execution": {
     "iopub.execute_input": "2022-09-26T01:55:40.694051Z",
     "iopub.status.busy": "2022-09-26T01:55:40.693649Z",
     "iopub.status.idle": "2022-09-26T01:55:40.696053Z",
     "shell.execute_reply": "2022-09-26T01:55:40.695754Z",
     "shell.execute_reply.started": "2022-09-26T01:55:40.694033Z"
    },
    "tags": []
   },
   "outputs": [],
   "source": [
    "alpha = 12"
   ]
  },
  {
   "cell_type": "code",
   "execution_count": null,
   "metadata": {
    "execution": {
     "iopub.execute_input": "2022-09-26T01:55:40.846208Z",
     "iopub.status.busy": "2022-09-26T01:55:40.845883Z",
     "iopub.status.idle": "2022-09-26T01:55:40.849465Z",
     "shell.execute_reply": "2022-09-26T01:55:40.849131Z",
     "shell.execute_reply.started": "2022-09-26T01:55:40.846194Z"
    },
    "tags": []
   },
   "outputs": [],
   "source": [
    "match alpha:\n",
    "    case \"first-value\":\n",
    "        alpha = 0.0\n",
    "    case \"last-value\":\n",
    "        alpha = 1.0\n",
    "    case \"kalman\":\n",
    "        alpha = 0.5\n",
    "    case str():\n",
    "        raise ValueError(f\"Unknown alpha: {alpha}\")\n",
    "\n",
    "alpha"
   ]
  },
  {
   "cell_type": "code",
   "execution_count": null,
   "metadata": {},
   "outputs": [],
   "source": []
  }
 ],
 "metadata": {
  "kernelspec": {
   "display_name": "Python 3 (ipykernel)",
   "language": "python",
   "name": "python3"
  },
  "language_info": {
   "codemirror_mode": {
    "name": "ipython",
    "version": 3
   },
   "file_extension": ".py",
   "mimetype": "text/x-python",
   "name": "python",
   "nbconvert_exporter": "python",
   "pygments_lexer": "ipython3",
   "version": "3.10.8"
  }
 },
 "nbformat": 4,
 "nbformat_minor": 4
}
