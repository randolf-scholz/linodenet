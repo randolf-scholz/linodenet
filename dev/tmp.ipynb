{
 "cells": [
  {
   "cell_type": "code",
   "execution_count": null,
   "metadata": {
    "execution": {
     "iopub.execute_input": "2022-09-26T00:45:03.122118Z",
     "iopub.status.busy": "2022-09-26T00:45:03.121903Z",
     "iopub.status.idle": "2022-09-26T00:45:03.124242Z",
     "shell.execute_reply": "2022-09-26T00:45:03.123887Z",
     "shell.execute_reply.started": "2022-09-26T00:45:03.122104Z"
    },
    "tags": []
   },
   "outputs": [],
   "source": [
    "import torch\n",
    "import math"
   ]
  },
  {
   "cell_type": "code",
   "execution_count": null,
   "metadata": {
    "execution": {
     "iopub.execute_input": "2022-09-26T00:48:08.863219Z",
     "iopub.status.busy": "2022-09-26T00:48:08.862900Z",
     "iopub.status.idle": "2022-09-26T00:48:08.867386Z",
     "shell.execute_reply": "2022-09-26T00:48:08.866938Z",
     "shell.execute_reply.started": "2022-09-26T00:48:08.863200Z"
    },
    "tags": []
   },
   "outputs": [],
   "source": [
    "b, m, n = 64, 256, 128\n",
    "\n",
    "\n",
    "A = torch.normal(0, 1 / math.sqrt(n), size=(m, n))\n",
    "X = torch.randn(b, n)\n",
    "Y = X @ A.T\n",
    "Y.mean(), Y.std()"
   ]
  },
  {
   "cell_type": "code",
   "execution_count": null,
   "metadata": {
    "execution": {
     "iopub.execute_input": "2022-09-26T00:49:03.500402Z",
     "iopub.status.busy": "2022-09-26T00:49:03.500113Z",
     "iopub.status.idle": "2022-09-26T00:49:03.507886Z",
     "shell.execute_reply": "2022-09-26T00:49:03.507486Z",
     "shell.execute_reply.started": "2022-09-26T00:49:03.500389Z"
    },
    "tags": []
   },
   "outputs": [],
   "source": [
    "Z = torch.randn(b, m)\n",
    "W = Z @ torch.linalg.pinv(A).T\n",
    "W.mean(), W.std()"
   ]
  },
  {
   "cell_type": "code",
   "execution_count": null,
   "metadata": {
    "execution": {
     "iopub.execute_input": "2022-09-26T01:55:40.694051Z",
     "iopub.status.busy": "2022-09-26T01:55:40.693649Z",
     "iopub.status.idle": "2022-09-26T01:55:40.696053Z",
     "shell.execute_reply": "2022-09-26T01:55:40.695754Z",
     "shell.execute_reply.started": "2022-09-26T01:55:40.694033Z"
    },
    "tags": []
   },
   "outputs": [],
   "source": [
    "alpha = 12"
   ]
  },
  {
   "cell_type": "code",
   "execution_count": null,
   "metadata": {
    "execution": {
     "iopub.execute_input": "2022-09-26T01:55:40.846208Z",
     "iopub.status.busy": "2022-09-26T01:55:40.845883Z",
     "iopub.status.idle": "2022-09-26T01:55:40.849465Z",
     "shell.execute_reply": "2022-09-26T01:55:40.849131Z",
     "shell.execute_reply.started": "2022-09-26T01:55:40.846194Z"
    },
    "tags": []
   },
   "outputs": [],
   "source": [
    "match alpha:\n",
    "    case \"first-value\":\n",
    "        alpha = 0.0\n",
    "    case \"last-value\":\n",
    "        alpha = 1.0\n",
    "    case \"kalman\":\n",
    "        alpha = 0.5\n",
    "    case str():\n",
    "        raise ValueError(f\"Unknown alpha: {alpha}\")\n",
    "\n",
    "alpha"
   ]
  },
  {
   "cell_type": "code",
   "execution_count": null,
   "metadata": {},
   "outputs": [],
   "source": []
  }
 ],
 "metadata": {
  "kernelspec": {
   "display_name": "Python 3 (ipykernel)",
   "language": "python",
   "name": "python3"
  },
  "language_info": {
   "codemirror_mode": {
    "name": "ipython",
    "version": 3
   },
   "file_extension": ".py",
   "mimetype": "text/x-python",
   "name": "python",
   "nbconvert_exporter": "python",
   "pygments_lexer": "ipython3",
   "version": "3.10.6"
  }
 },
 "nbformat": 4,
 "nbformat_minor": 4
}
