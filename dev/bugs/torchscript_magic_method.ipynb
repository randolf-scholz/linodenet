{
 "cells": [
  {
   "cell_type": "code",
   "execution_count": null,
   "id": "20191951-beec-414a-b3c6-89dca8277ad2",
   "metadata": {},
   "outputs": [],
   "source": [
    "%config InteractiveShell.ast_node_interactivity='last_expr_or_assign'  # always print last expr.\n",
    "%config InlineBackend.figure_format = 'svg'\n",
    "%load_ext autoreload\n",
    "%autoreload 2\n",
    "%matplotlib inline"
   ]
  },
  {
   "cell_type": "code",
   "execution_count": null,
   "id": "178680e3-3ae6-42ae-86c6-e7bc63eb6034",
   "metadata": {},
   "outputs": [],
   "source": [
    "import torch\n",
    "from torch import Tensor, jit, nn\n",
    "\n",
    "\n",
    "class Foo(nn.Module):\n",
    "    weight: Tensor\n",
    "\n",
    "    def __init__(self, m: int, n: int):\n",
    "        super().__init__()\n",
    "        self.weight = nn.Parameter(torch.randn(m, n))\n",
    "\n",
    "    @jit.export\n",
    "    def __len__(self) -> int:\n",
    "        return len(self.weight)\n",
    "\n",
    "    @jit.export\n",
    "    def length(self) -> int:\n",
    "        return len(self.weight)"
   ]
  },
  {
   "cell_type": "code",
   "execution_count": null,
   "id": "107481c2-7edd-4da4-abc5-6f7845b8eaf8",
   "metadata": {},
   "outputs": [],
   "source": [
    "model = Foo(2, 3)\n",
    "\n",
    "print(model.length())  # works! ✓\n",
    "print(len(model))  # works! ✓\n",
    "\n",
    "model = jit.script(model)\n",
    "\n",
    "print(model.length())  # works! ✓\n",
    "print(len(model))  # works! ✓\n",
    "\n",
    "jit.save(model, \"model.pt\")\n",
    "model = jit.load(\"model.pt\")\n",
    "\n",
    "print(model.length())  # works! ✓\n",
    "print(len(model))  # doesn't work 😢"
   ]
  },
  {
   "cell_type": "code",
   "execution_count": null,
   "id": "18ab756a-ec0b-4f9d-adf8-f22a79602c21",
   "metadata": {},
   "outputs": [],
   "source": []
  }
 ],
 "metadata": {
  "kernelspec": {
   "display_name": "Python 3 (ipykernel)",
   "language": "python",
   "name": "python3"
  },
  "language_info": {
   "codemirror_mode": {
    "name": "ipython",
    "version": 3
   },
   "file_extension": ".py",
   "mimetype": "text/x-python",
   "name": "python",
   "nbconvert_exporter": "python",
   "pygments_lexer": "ipython3",
   "version": "3.9.12"
  }
 },
 "nbformat": 4,
 "nbformat_minor": 5
}
