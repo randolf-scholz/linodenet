{
 "cells": [
  {
   "cell_type": "markdown",
   "id": "834a99da-08b3-4739-820b-1b7587c551af",
   "metadata": {},
   "source": [
    "## Analysis of the results"
   ]
  },
  {
   "cell_type": "code",
   "execution_count": null,
   "id": "e22e7d61-b7a9-4d27-ae5b-d2f62c9a95f5",
   "metadata": {},
   "outputs": [],
   "source": [
    "%config InlineBackend.figure_format = 'retina'"
   ]
  },
  {
   "cell_type": "code",
   "execution_count": null,
   "id": "d18a733f-ea1a-49e5-a383-a056f4873e60",
   "metadata": {},
   "outputs": [],
   "source": [
    "import pandas\n",
    "import seaborn\n",
    "import matplotlib.pyplot as plt\n",
    "from tsdm.plot import visualize_distribution, shared_grid_plot"
   ]
  },
  {
   "cell_type": "code",
   "execution_count": null,
   "id": "8a5c326a-905b-4aef-a155-07cc9f878156",
   "metadata": {},
   "outputs": [],
   "source": [
    "df32 = pandas.read_csv(\"forward_backward_error_fp32.csv\", header=[0, 1])\n",
    "df64 = pandas.read_csv(\"forward_backward_error_fp64.csv\", header=[0, 1])"
   ]
  },
  {
   "cell_type": "code",
   "execution_count": null,
   "id": "079e7c53-47be-46e9-a0d7-79578c84c5de",
   "metadata": {},
   "outputs": [],
   "source": [
    "data = [\n",
    "    df32[\"forward\"][[\"time (odeint)\", \"time (matexp)\"]].T,\n",
    "    df64[\"forward\"][[\"time (odeint)\", \"time (matexp)\"]].T,\n",
    "]\n",
    "\n",
    "xlabels = \"runtime (s)\"\n",
    "ylabels = \"density\"\n",
    "\n",
    "fig, axes = shared_grid_plot(\n",
    "    data,\n",
    "    visualize_distribution,\n",
    "    xlabels=\"runtime (s)\",\n",
    "    ylabels=\"density\",\n",
    "    col_headers=[\"ODEINT\", \"MATEXP\"],\n",
    "    row_headers=[\"FP32\", \"FP64\"],\n",
    "    sharex=True,\n",
    "    sharey=True,\n",
    ")\n",
    "\n",
    "fig.suptitle(\"Speed Results\", size=\"xx-large\")\n",
    "fig.savefig(\"time_results.pdf\")\n",
    "fig.savefig(\"time_results.png\")"
   ]
  },
  {
   "cell_type": "markdown",
   "id": "e3a66317-a05d-4425-9b42-c3f5fa875472",
   "metadata": {},
   "source": [
    "# Dimension vs Condition vs Spectral Norm"
   ]
  },
  {
   "cell_type": "code",
   "execution_count": null,
   "id": "96ed6c7c-deec-45e4-9a8c-a1cb0776ae91",
   "metadata": {},
   "outputs": [],
   "source": [
    "df = df32[[\"dim\", \"spec\", \"cond\"]]\n",
    "df.columns = df32[[\"dim\", \"spec\", \"cond\"]].columns.droplevel(1)\n",
    "\n",
    "g = seaborn.PairGrid(df)\n",
    "g.set(xscale=\"log\", yscale=\"log\")\n",
    "g.map_diag(seaborn.histplot)\n",
    "g.map_offdiag(seaborn.scatterplot)\n",
    "g.savefig(\"grid_plot.png\")"
   ]
  },
  {
   "cell_type": "code",
   "execution_count": null,
   "id": "944d29ce-126a-4dba-9b76-19b8ef8bec9d",
   "metadata": {},
   "outputs": [],
   "source": []
  }
 ],
 "metadata": {
  "kernelspec": {
   "display_name": "Python 3 (ipykernel)",
   "language": "python",
   "name": "python3"
  },
  "language_info": {
   "codemirror_mode": {
    "name": "ipython",
    "version": 3
   },
   "file_extension": ".py",
   "mimetype": "text/x-python",
   "name": "python",
   "nbconvert_exporter": "python",
   "pygments_lexer": "ipython3",
   "version": "3.10.6"
  }
 },
 "nbformat": 4,
 "nbformat_minor": 5
}
