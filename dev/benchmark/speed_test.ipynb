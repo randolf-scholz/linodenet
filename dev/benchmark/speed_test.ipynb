{
 "cells": [
  {
   "cell_type": "markdown",
   "id": "39292b04-30c3-49c2-8715-9b0a966e0737",
   "metadata": {},
   "source": [
    "# Optimizing Performance by using torchscript to jit-compile ODE model\n",
    "\n",
    "We make use of the details provided at https://pytorch.org/blog/optimizing-cuda-rnn-with-torchscript/"
   ]
  },
  {
   "cell_type": "code",
   "execution_count": null,
   "id": "64443b5e-7410-4344-9b40-1cdc71d500f9",
   "metadata": {},
   "outputs": [],
   "source": [
    "%config InlineBackend.figure_format = 'svg'"
   ]
  },
  {
   "cell_type": "code",
   "execution_count": null,
   "id": "331c37ea-d9d5-4457-9ff1-23159c5dde43",
   "metadata": {
    "tags": []
   },
   "outputs": [],
   "source": [
    "import torch\n",
    "import torchdiffeq\n",
    "from torch import nn\n",
    "from torch.nn import GRUCell\n",
    "import numpy as np\n",
    "from opt_einsum import contract\n",
    "from tqdm.auto import trange\n",
    "from typing import Union, Callable\n",
    "import scipy\n",
    "from scipy import stats\n",
    "import matplotlib.pyplot as plt\n",
    "from scipy.integrate import odeint"
   ]
  },
  {
   "cell_type": "code",
   "execution_count": null,
   "id": "bdbf7257-1231-493f-8f1a-d565a0c79279",
   "metadata": {},
   "outputs": [],
   "source": [
    "plt.rc(\"text\", usetex=True)\n",
    "plt.rc(\"text.latex\", preamble=r\"\\usepackage{{amsmath}}\")"
   ]
  },
  {
   "cell_type": "code",
   "execution_count": null,
   "id": "2362f548-c491-4693-a307-cb932d6a48f7",
   "metadata": {},
   "outputs": [],
   "source": [
    "def scaled_Lp(x, p=2):\n",
    "    x = np.abs(x)\n",
    "    if p == 0:\n",
    "        # https://math.stackexchange.com/q/282271/99220\n",
    "        return stats.gmean(x, axis=None)\n",
    "    elif p == 1:\n",
    "        return np.mean(x)\n",
    "    elif p == 2:\n",
    "        return np.sqrt(np.mean(x**2))\n",
    "    elif p == np.inf:\n",
    "        return np.max(x)\n",
    "    else:\n",
    "        x = x.astype(np.float128)\n",
    "        return np.mean(x**p) ** (1 / p)"
   ]
  },
  {
   "cell_type": "code",
   "execution_count": null,
   "id": "c57bc597-e937-4996-a3a3-a1f953378e82",
   "metadata": {},
   "outputs": [],
   "source": [
    "def visualize_distribution(x, bins=50, log=True, ax=None):\n",
    "    x = np.array(x)\n",
    "    nans = np.isnan(x)\n",
    "    x = x[~nans]\n",
    "\n",
    "    if ax is None:\n",
    "        fig, ax = plt.subplots(figsize=(10, 6), tight_layout=True)\n",
    "\n",
    "    ax.grid(axis=\"x\")\n",
    "    ax.set_axisbelow(True)\n",
    "\n",
    "    if log:\n",
    "        z = np.log10(x)\n",
    "        ax.set_xscale(\"log\")\n",
    "        ax.set_yscale(\"log\")\n",
    "        low = np.floor(np.quantile(z, 0.01))\n",
    "        high = np.quantile(z, 0.99)\n",
    "        x = x[(z >= low) & (z <= high)]\n",
    "        bins = np.logspace(low, high, num=bins, base=10)\n",
    "    ax.hist(x, bins=bins, density=True)\n",
    "    ax.text(\n",
    "        0.975,\n",
    "        0.975,\n",
    "        r\"\\begin{tabular}{ll}\"\n",
    "        + f\"NaNs   & {100*np.mean(nans):.2f}\\%\"\n",
    "        + r\" \\\\ \"\n",
    "        + f\"Mean   & {np.mean(x):.2e}\"\n",
    "        + r\" \\\\ \"\n",
    "        + f\"Median & {np.median(x):.2e}\"\n",
    "        + r\" \\\\ \"\n",
    "        + f\"Mode   & {stats.mode(x)[0][0]:.2e}\"\n",
    "        + r\" \\\\ \"\n",
    "        + f\"stdev  & {np.std(x):.2e}\"\n",
    "        + r\" \\\\ \"\n",
    "        + r\"\\end{tabular}\",\n",
    "        transform=ax.transAxes,\n",
    "        va=\"top\",\n",
    "        ha=\"right\",\n",
    "        snap=True,\n",
    "    )"
   ]
  },
  {
   "cell_type": "code",
   "execution_count": null,
   "id": "95c60ba3-1afb-4bff-9cfc-b026aded3f64",
   "metadata": {},
   "outputs": [],
   "source": [
    "class LinODECell(torch.jit.ScriptModule):\n",
    "    \"\"\"\n",
    "    Linear System module\n",
    "\n",
    "    x' = Ax + Bu + w\n",
    "     y = Cx + Du + v\n",
    "\n",
    "    \"\"\"\n",
    "\n",
    "    def __init__(\n",
    "        self,\n",
    "        input_size,\n",
    "        kernel_initialization: Union[torch.Tensor, Callable[int, torch.Tensor]] = None,\n",
    "        homogeneous: bool = True,\n",
    "        matrix_type: str = None,\n",
    "        device=torch.device(\"cpu\"),\n",
    "        dtype=torch.float32,\n",
    "    ):\n",
    "        \"\"\"\n",
    "        kernel_initialization: torch.tensor or callable\n",
    "            either a tensor to assign to the kernel at initialization\n",
    "            or a callable f: int -> torch.Tensor|L\n",
    "        \"\"\"\n",
    "        super(LinODECell, self).__init__()\n",
    "\n",
    "        if kernel_initialization is None:\n",
    "            self.kernel_initialization = lambda: torch.randn(\n",
    "                input_size, input_size\n",
    "            ) / np.sqrt(input_size)\n",
    "        elif callable(kernel_initialization):\n",
    "            self.kernel = lambda: torch.tensor(kernel_initialization(input_size))\n",
    "        else:\n",
    "            self.kernel_initialization = lambda: torch.tensor(kernel_initialization)\n",
    "\n",
    "        self.kernel = nn.Parameter(self.kernel_initialization())\n",
    "\n",
    "        if not homogeneous:\n",
    "            self.bias = nn.Parameter(torch.randn(input_size))\n",
    "            raise NotImplementedError(\"Inhomogeneous Linear Model not implemented yet.\")\n",
    "\n",
    "        self.to(device=device, dtype=dtype)\n",
    "\n",
    "    @torch.jit.script_method\n",
    "    def forward(self, Δt, x):\n",
    "        \"\"\"\n",
    "        Inputs:\n",
    "        Δt: (...,)\n",
    "        x:  (..., M)\n",
    "\n",
    "        Outputs:\n",
    "        xhat:  (..., M)\n",
    "\n",
    "\n",
    "        Forward using matrix exponential\n",
    "        # TODO: optimize if clauses away by changing definition in constructor.\n",
    "        \"\"\"\n",
    "\n",
    "        AΔt = torch.einsum(\"kl, ... -> ...kl\", self.kernel, Δt)\n",
    "        expAΔt = torch.matrix_exp(AΔt)\n",
    "        xhat = torch.einsum(\"...kl, ...l -> ...k\", expAΔt, x)\n",
    "\n",
    "        return xhat"
   ]
  },
  {
   "cell_type": "code",
   "execution_count": null,
   "id": "aaa5bb56-f382-40de-9587-4a6becd6bb5d",
   "metadata": {},
   "outputs": [],
   "source": [
    "class LinODE(torch.jit.ScriptModule):\n",
    "    def __init__(\n",
    "        self,\n",
    "        input_size,\n",
    "        kernel_initialization: Union[torch.Tensor, Callable[int, torch.Tensor]] = None,\n",
    "        homogeneous: bool = True,\n",
    "        matrix_type: str = None,\n",
    "        device=torch.device(\"cpu\"),\n",
    "        dtype=torch.float32,\n",
    "    ):\n",
    "        \"\"\"\n",
    "        kernel_initialization: torch.tensor or callable\n",
    "            either a tensor to assign to the kernel at initialization\n",
    "            or a callable f: int -> torch.Tensor|L\n",
    "        \"\"\"\n",
    "        super(LinODE, self).__init__()\n",
    "\n",
    "        if kernel_initialization is None:\n",
    "            self.kernel_initialization = lambda: torch.randn(\n",
    "                input_size, input_size\n",
    "            ) / np.sqrt(input_size)\n",
    "        elif callable(kernel_initialization):\n",
    "            self.kernel = lambda: torch.tensor(kernel_initialization(input_size))\n",
    "        else:\n",
    "            self.kernel_initialization = lambda: torch.tensor(kernel_initialization)\n",
    "\n",
    "        self.kernel = nn.Parameter(self.kernel_initialization())\n",
    "\n",
    "        if not homogeneous:\n",
    "            self.bias = nn.Parameter(torch.randn(input_size))\n",
    "            raise NotImplementedError(\"Inhomogeneous Linear Model not implemented yet.\")\n",
    "\n",
    "        self.to(device=device, dtype=dtype)\n",
    "\n",
    "    @torch.jit.script_method\n",
    "    def forward(self, x0, T):\n",
    "        # type: (Tensor, Tensor) -> Tensor\n",
    "        ΔT = T - T[0]\n",
    "        AΔT = torch.einsum(\"kl, ... -> ...kl\", self.kernel, ΔT)\n",
    "        expAΔT = torch.matrix_exp(AΔT)\n",
    "        Xhat = torch.einsum(\"...kl, ...l -> ...k\", expAΔT, x0)\n",
    "\n",
    "        return Xhat"
   ]
  },
  {
   "cell_type": "code",
   "execution_count": null,
   "id": "3d62fdaf-0049-4ee7-bd59-2cd798ca35ef",
   "metadata": {},
   "outputs": [],
   "source": [
    "class LinODE(torch.jit.ScriptModule):\n",
    "    def __init__(self, *cell_args, **cell_kwargs):\n",
    "        super(LinODE, self).__init__()\n",
    "        self.cell = LinODECell(*cell_args, **cell_kwargs)\n",
    "\n",
    "    @torch.jit.script_method\n",
    "    def forward(self, x0, T):\n",
    "        # type: (Tensor, Tensor) -> Tensor\n",
    "\n",
    "        ΔT = torch.diff(T)\n",
    "\n",
    "        xhat = torch.empty((len(T), len(x0)))\n",
    "        xhat[0] = x0\n",
    "\n",
    "        ret = x0\n",
    "\n",
    "        for i, Δt in enumerate(ΔT):\n",
    "            ret = self.cell(Δt, ret)\n",
    "            xhat[i + 1] = ret\n",
    "        return xhat\n",
    "\n",
    "\n",
    "#         x = torch.jit.annotate(List[Tensor], [])\n",
    "#         x += [x0]\n",
    "\n",
    "#         for i, Δt in enumerate(ΔT):\n",
    "#             x += [self.cell(Δt, x[-1])]\n",
    "\n",
    "#         return torch.stack(x)"
   ]
  },
  {
   "cell_type": "code",
   "execution_count": null,
   "id": "5109ab7e-ab24-4fdc-ad68-b54de9d16855",
   "metadata": {},
   "outputs": [],
   "source": [
    "def test_LinODE(\n",
    "    dim=None,\n",
    "    num=None,\n",
    "    tol=1e-3,\n",
    "    precision=\"single\",\n",
    "    relative_error=True,\n",
    "    device=torch.device(\"cpu\"),\n",
    "):\n",
    "    if precision == \"single\":\n",
    "        eps = 2**-24\n",
    "        numpy_dtype = np.float32\n",
    "        torch_dtype = torch.float32\n",
    "    elif precision == \"double\":\n",
    "        eps = 2**-53\n",
    "        numpy_dtype = np.float64\n",
    "        torch_dtype = torch.float64\n",
    "    else:\n",
    "        raise ValueError\n",
    "\n",
    "    num = np.random.randint(low=20, high=1000) or num\n",
    "    dim = np.random.randint(low=2, high=100) or dim\n",
    "    t0, t1 = np.random.uniform(low=-10, high=10, size=(2,)).astype(numpy_dtype)\n",
    "    A = np.random.randn(dim, dim).astype(numpy_dtype)\n",
    "    x0 = np.random.randn(dim).astype(numpy_dtype)\n",
    "    T = np.random.uniform(low=t0, high=t1, size=num - 2).astype(numpy_dtype)\n",
    "    T = np.sort([t0, *T, t1]).astype(numpy_dtype)\n",
    "    func = lambda t, x: A @ x\n",
    "\n",
    "    X = odeint(func, x0, T, tfirst=True)\n",
    "\n",
    "    model = LinODE(\n",
    "        input_size=dim, kernel_initialization=A, dtype=torch_dtype, device=device\n",
    "    )\n",
    "    Xhat = model(\n",
    "        torch.tensor(x0, dtype=torch_dtype, device=device),\n",
    "        torch.tensor(T, dtype=torch_dtype, device=device),\n",
    "    )\n",
    "    Xhat = Xhat.detach().cpu().numpy()\n",
    "\n",
    "    err = np.abs(X - Xhat)\n",
    "\n",
    "    if relative_error:\n",
    "        err /= np.abs(X) + eps\n",
    "\n",
    "    return np.array([scaled_Lp(err, p=p) for p in (1, 2, np.inf)])"
   ]
  },
  {
   "cell_type": "markdown",
   "id": "eb4296d1-e57d-4cf4-8b13-a0860746281b",
   "metadata": {},
   "source": [
    "## Standalone Speed Test\n",
    "\n",
    "How long does it take to integrate ODE?"
   ]
  },
  {
   "cell_type": "code",
   "execution_count": null,
   "id": "31712a5a-803f-44fc-842f-1520cca55da9",
   "metadata": {},
   "outputs": [],
   "source": [
    "numpy_dtype = np.float32\n",
    "num = 1000\n",
    "dim = 100\n",
    "t0, t1 = np.random.uniform(low=-10, high=10, size=(2,)).astype(numpy_dtype)\n",
    "A = np.random.randn(dim, dim).astype(numpy_dtype)\n",
    "x0 = np.random.randn(dim).astype(numpy_dtype)\n",
    "T = np.random.uniform(low=t0, high=t1, size=num - 2).astype(numpy_dtype)\n",
    "T = np.sort([t0, *T, t1]).astype(numpy_dtype)\n",
    "y = np.random.randn(dim).astype(numpy_dtype)\n",
    "func = lambda t, x: A @ x\n",
    "\n",
    "# torch cpu setup\n",
    "torch_dtype = torch.float32\n",
    "device = torch.device(\"cpu\")\n",
    "A_cpu = torch.nn.Parameter(torch.from_numpy(A)).to(dtype=torch_dtype, device=device)\n",
    "func_cpu = lambda t, x: A_cpu @ x\n",
    "T_cpu = torch.tensor(T).to(dtype=torch_dtype, device=device)\n",
    "x0_cpu = torch.tensor(x0).to(dtype=torch_dtype, device=device)\n",
    "y_cpu = torch.tensor(y).to(dtype=torch_dtype, device=device)\n",
    "model_cpu = LinODE(input_size=dim, kernel_initialization=A).to(\n",
    "    dtype=torch_dtype, device=device\n",
    ")\n",
    "\n",
    "# torch gpu setup\n",
    "device = torch.device(\"cuda\")\n",
    "A_gpu = torch.nn.Parameter(torch.from_numpy(A)).to(dtype=torch_dtype, device=device)\n",
    "func_gpu = lambda t, x: A_gpu @ x\n",
    "T_gpu = torch.tensor(T).to(dtype=torch_dtype, device=device)\n",
    "x0_gpu = torch.tensor(x0).to(dtype=torch_dtype, device=device)\n",
    "y_gpu = torch.tensor(y).to(dtype=torch_dtype, device=device)\n",
    "model_gpu = LinODE(input_size=dim, kernel_initialization=A).to(\n",
    "    dtype=torch_dtype, device=device\n",
    ")"
   ]
  },
  {
   "cell_type": "code",
   "execution_count": null,
   "id": "11bed6b1-430e-41b0-b401-e1fd10daa7e4",
   "metadata": {},
   "outputs": [],
   "source": [
    "yhat = torchdiffeq.odeint(func_cpu, x0_cpu, T_cpu)\n",
    "r = torch.linalg.norm(yhat[-1] - y_cpu)\n",
    "r.backward()\n",
    "\n",
    "yhat = model_cpu(x0_cpu, T_cpu)\n",
    "r = torch.linalg.norm(yhat[-1] - y_cpu)\n",
    "r.backward()\n",
    "\n",
    "grad = list(model_cpu.parameters())[0].grad\n",
    "\n",
    "err = torch.abs(A_cpu.grad - grad)\n",
    "relerr = err / (torch.abs(grad) + 2**-24)\n",
    "print(torch.mean(err))\n",
    "print(torch.mean(relerr))"
   ]
  },
  {
   "cell_type": "markdown",
   "id": "c0fe173e-7420-4146-a45c-6a996ec44f26",
   "metadata": {},
   "source": [
    "### scipy on cpu"
   ]
  },
  {
   "cell_type": "code",
   "execution_count": null,
   "id": "b55a4425-8908-4b2a-933b-45d98d68b12e",
   "metadata": {},
   "outputs": [],
   "source": [
    "%%timeit\n",
    "odeint(func, x0, T, tfirst=True)"
   ]
  },
  {
   "cell_type": "markdown",
   "id": "7cab67d3-4fa7-4277-8f0c-3cffaa56932d",
   "metadata": {},
   "source": [
    "### torch on cpu"
   ]
  },
  {
   "cell_type": "code",
   "execution_count": null,
   "id": "a03fbc49-c591-4552-856b-892da5aedff1",
   "metadata": {},
   "outputs": [],
   "source": [
    "%%timeit\n",
    "y = model_cpu(x0_cpu, T_cpu)\n",
    "r = torch.linalg.norm(y)\n",
    "r.backward()"
   ]
  },
  {
   "cell_type": "markdown",
   "id": "6cf5d404-3bec-4712-8f84-b1f18fb41f7e",
   "metadata": {},
   "source": [
    "### torchdiffeq on cpu"
   ]
  },
  {
   "cell_type": "code",
   "execution_count": null,
   "id": "18c9f71d-4189-43f8-b739-22ca9aa9fe52",
   "metadata": {},
   "outputs": [],
   "source": [
    "%%timeit\n",
    "y = torchdiffeq.odeint(func_cpu, x0_cpu, T_cpu)\n",
    "r = torch.linalg.norm(y)\n",
    "r.backward()"
   ]
  },
  {
   "cell_type": "markdown",
   "id": "a5f24de5-8c0e-4877-a88e-0f27d382a418",
   "metadata": {},
   "source": [
    "### torch on gpu"
   ]
  },
  {
   "cell_type": "code",
   "execution_count": null,
   "id": "6375cdba-6e63-4263-963b-ff1f0f0de4d1",
   "metadata": {},
   "outputs": [],
   "source": [
    "%%timeit\n",
    "y = model_gpu(x0_gpu, T_gpu)\n",
    "r = torch.linalg.norm(y)\n",
    "r.backward()"
   ]
  },
  {
   "cell_type": "markdown",
   "id": "c21952a2-1b13-4c4d-b607-28d0a9cefc7e",
   "metadata": {},
   "source": [
    "### torchdiffeq on gpu"
   ]
  },
  {
   "cell_type": "code",
   "execution_count": null,
   "id": "aae57726-f5be-4cc3-b4c8-e386d2ac1926",
   "metadata": {},
   "outputs": [],
   "source": [
    "%%timeit\n",
    "y = torchdiffeq.odeint(func_gpu, x0_gpu, T_gpu)\n",
    "r = torch.linalg.norm(y)\n",
    "r.backward()"
   ]
  },
  {
   "cell_type": "markdown",
   "id": "7f774d89-1984-4829-a1da-b4ec2639a164",
   "metadata": {},
   "source": [
    "## Matrix Exponential comparison"
   ]
  },
  {
   "cell_type": "code",
   "execution_count": null,
   "id": "4eac2fea-b988-4578-a6c4-fd6d2c8e34bc",
   "metadata": {},
   "outputs": [],
   "source": [
    "%%timeit\n",
    "scipy.linalg.expm(A)"
   ]
  },
  {
   "cell_type": "code",
   "execution_count": null,
   "id": "7bbfdeea-a39c-453f-bc28-6ff00247bba3",
   "metadata": {},
   "outputs": [],
   "source": [
    "%%timeit\n",
    "torch.matrix_exp(A_cpu)"
   ]
  },
  {
   "cell_type": "code",
   "execution_count": null,
   "id": "2d160991-6f87-4158-87b2-bf683c5d5aea",
   "metadata": {},
   "outputs": [],
   "source": [
    "%%timeit\n",
    "torch.matrix_exp(A_gpu)"
   ]
  },
  {
   "cell_type": "markdown",
   "id": "762719f8-19ab-4edf-8f02-27c77f87b3c5",
   "metadata": {},
   "source": [
    "## Forward pass only"
   ]
  },
  {
   "cell_type": "code",
   "execution_count": null,
   "id": "b83c86c5-55ad-4105-ba14-8cbdf5349405",
   "metadata": {},
   "outputs": [],
   "source": [
    "%%timeit\n",
    "odeint(func, x0, T, tfirst=True)"
   ]
  },
  {
   "cell_type": "code",
   "execution_count": null,
   "id": "f9d76ab7-2272-41a6-8ab3-5219e3480caf",
   "metadata": {},
   "outputs": [],
   "source": [
    "%%timeit\n",
    "ΔT = torch.diff(T_cpu)\n",
    "AΔT = torch.einsum(\"kl, ... -> ...kl\", A_cpu, ΔT)\n",
    "expAΔT = torch.matrix_exp(AΔT)\n",
    "Xhat = torch.einsum(\"...kl, ...l -> ...k\", expAΔT, x0_cpu)"
   ]
  },
  {
   "cell_type": "code",
   "execution_count": null,
   "id": "5daf069d-be16-47cc-b109-7b3332a35d97",
   "metadata": {},
   "outputs": [],
   "source": [
    "%%timeit\n",
    "Xhat = model_cpu(x0_cpu, T_cpu)"
   ]
  },
  {
   "cell_type": "code",
   "execution_count": null,
   "id": "e8d96cca-3a60-4187-a554-b26353c474f9",
   "metadata": {},
   "outputs": [],
   "source": []
  }
 ],
 "metadata": {
  "kernelspec": {
   "display_name": "Python 3 (ipykernel)",
   "language": "python",
   "name": "python3"
  },
  "language_info": {
   "codemirror_mode": {
    "name": "ipython",
    "version": 3
   },
   "file_extension": ".py",
   "mimetype": "text/x-python",
   "name": "python",
   "nbconvert_exporter": "python",
   "pygments_lexer": "ipython3",
   "version": "3.10.6"
  }
 },
 "nbformat": 4,
 "nbformat_minor": 5
}
