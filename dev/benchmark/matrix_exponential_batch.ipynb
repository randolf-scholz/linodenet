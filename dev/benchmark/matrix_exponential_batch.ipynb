{
 "cells": [
  {
   "cell_type": "code",
   "execution_count": null,
   "id": "20191951-beec-414a-b3c6-89dca8277ad2",
   "metadata": {
    "execution": {
     "iopub.execute_input": "2023-02-07T11:47:07.214416Z",
     "iopub.status.busy": "2023-02-07T11:47:07.214188Z",
     "iopub.status.idle": "2023-02-07T11:47:07.662843Z",
     "shell.execute_reply": "2023-02-07T11:47:07.662414Z",
     "shell.execute_reply.started": "2023-02-07T11:47:07.214391Z"
    }
   },
   "outputs": [],
   "source": [
    "%config InteractiveShell.ast_node_interactivity='last_expr_or_assign'\n",
    "%config InlineBackend.figure_format = 'svg'\n",
    "%load_ext autoreload\n",
    "%autoreload 2\n",
    "%matplotlib inline"
   ]
  },
  {
   "cell_type": "code",
   "execution_count": null,
   "id": "58b7f6d7",
   "metadata": {
    "execution": {
     "iopub.execute_input": "2023-02-07T11:47:07.663958Z",
     "iopub.status.busy": "2023-02-07T11:47:07.663757Z",
     "iopub.status.idle": "2023-02-07T11:47:08.563051Z",
     "shell.execute_reply": "2023-02-07T11:47:08.562531Z",
     "shell.execute_reply.started": "2023-02-07T11:47:07.663944Z"
    },
    "tags": []
   },
   "outputs": [],
   "source": [
    "from math import sqrt\n",
    "\n",
    "import torch\n",
    "from torch import Tensor, jit"
   ]
  },
  {
   "cell_type": "code",
   "execution_count": null,
   "id": "d695b42b",
   "metadata": {
    "execution": {
     "iopub.execute_input": "2023-02-07T11:47:08.564075Z",
     "iopub.status.busy": "2023-02-07T11:47:08.563638Z",
     "iopub.status.idle": "2023-02-07T11:47:10.627082Z",
     "shell.execute_reply": "2023-02-07T11:47:10.626670Z",
     "shell.execute_reply.started": "2023-02-07T11:47:08.564057Z"
    },
    "tags": []
   },
   "outputs": [],
   "source": [
    "DEVICE = torch.device(\"cuda\" if torch.cuda.is_available() else \"cpu\")\n",
    "B = 32  # batch size\n",
    "L = 256  # sequence length\n",
    "N = 128  # latent size\n",
    "\n",
    "T = torch.rand(B, L).to(device=DEVICE)\n",
    "Z = torch.randn(B, L, N).to(device=DEVICE)\n",
    "A = torch.randn(N, N).to(device=DEVICE) / sqrt(N)"
   ]
  },
  {
   "cell_type": "code",
   "execution_count": null,
   "id": "3c4bba4a-fda0-4699-805e-bd48eda58e17",
   "metadata": {
    "execution": {
     "iopub.execute_input": "2023-02-07T11:47:10.628380Z",
     "iopub.status.busy": "2023-02-07T11:47:10.627910Z",
     "iopub.status.idle": "2023-02-07T11:47:10.672407Z",
     "shell.execute_reply": "2023-02-07T11:47:10.671826Z",
     "shell.execute_reply.started": "2023-02-07T11:47:10.628349Z"
    },
    "tags": []
   },
   "outputs": [],
   "source": [
    "@jit.script\n",
    "def forward_batch(T: Tensor, A: Tensor, Z: Tensor) -> Tensor:\n",
    "    At = torch.einsum(\"..., mn -> ...mn\", T, A)\n",
    "    expAt = torch.linalg.matrix_exp(At)\n",
    "    expAtz = torch.einsum(\"...mn, ...n -> ...m\", expAt, Z)\n",
    "    return expAtz\n",
    "\n",
    "\n",
    "@jit.script\n",
    "def forward_loop(T: Tensor, A: Tensor, Z: Tensor) -> Tensor:\n",
    "    T = T.moveaxis(0, -1)  # (..., LEN) - > (LEN, ...)\n",
    "    Z = Z.moveaxis(0, -2)\n",
    "    y_list: list[Tensor] = []\n",
    "\n",
    "    for t, z in zip(T, Z):  # iterate over LEN\n",
    "        At = torch.einsum(\"..., mn -> ...mn\", t, A)\n",
    "        expAt = torch.linalg.matrix_exp(At)\n",
    "        expAtz = torch.einsum(\"...mn, ...n -> ...m\", expAt, Z)\n",
    "        y_list.append(expAtz)\n",
    "\n",
    "    y = torch.cat(y_list).moveaxis(0, -2)\n",
    "\n",
    "    return y"
   ]
  },
  {
   "cell_type": "code",
   "execution_count": null,
   "id": "8d1b0221-308c-4b73-9279-c34128b50f8c",
   "metadata": {
    "execution": {
     "iopub.execute_input": "2023-02-07T11:47:30.101797Z",
     "iopub.status.busy": "2023-02-07T11:47:30.101495Z",
     "iopub.status.idle": "2023-02-07T11:47:31.799584Z",
     "shell.execute_reply": "2023-02-07T11:47:31.798973Z",
     "shell.execute_reply.started": "2023-02-07T11:47:30.101781Z"
    },
    "tags": []
   },
   "outputs": [],
   "source": [
    "%%timeit\n",
    "forward_batch(T, A, Z);"
   ]
  },
  {
   "cell_type": "code",
   "execution_count": null,
   "id": "df879b9f-2aff-4838-a38c-b4c3da14be17",
   "metadata": {
    "execution": {
     "iopub.execute_input": "2023-02-07T11:47:38.639794Z",
     "iopub.status.busy": "2023-02-07T11:47:38.639492Z",
     "iopub.status.idle": "2023-02-07T11:47:41.936237Z",
     "shell.execute_reply": "2023-02-07T11:47:41.935528Z",
     "shell.execute_reply.started": "2023-02-07T11:47:38.639780Z"
    },
    "tags": []
   },
   "outputs": [],
   "source": [
    "%%timeit\n",
    "forward_loop(T, A, Z);"
   ]
  },
  {
   "cell_type": "code",
   "execution_count": null,
   "id": "0bc3115e-25a7-4da5-a187-53f14b6ea94e",
   "metadata": {},
   "outputs": [],
   "source": []
  }
 ],
 "metadata": {
  "kernelspec": {
   "display_name": "Python 3 (ipykernel)",
   "language": "python",
   "name": "python3"
  },
  "language_info": {
   "codemirror_mode": {
    "name": "ipython",
    "version": 3
   },
   "file_extension": ".py",
   "mimetype": "text/x-python",
   "name": "python",
   "nbconvert_exporter": "python",
   "pygments_lexer": "ipython3",
   "version": "3.10.9"
  }
 },
 "nbformat": 4,
 "nbformat_minor": 5
}
