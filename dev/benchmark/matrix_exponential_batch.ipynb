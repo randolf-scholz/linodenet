{
 "cells": [
  {
   "cell_type": "code",
   "execution_count": null,
   "id": "20191951-beec-414a-b3c6-89dca8277ad2",
   "metadata": {
    "execution": {
     "iopub.execute_input": "2023-02-08T17:17:13.795392Z",
     "iopub.status.busy": "2023-02-08T17:17:13.794825Z",
     "iopub.status.idle": "2023-02-08T17:17:13.813214Z",
     "shell.execute_reply": "2023-02-08T17:17:13.812724Z",
     "shell.execute_reply.started": "2023-02-08T17:17:13.795350Z"
    },
    "tags": []
   },
   "outputs": [],
   "source": [
    "%config InteractiveShell.ast_node_interactivity='last_expr_or_assign'\n",
    "%config InlineBackend.figure_format = 'svg'\n",
    "%load_ext autoreload\n",
    "%autoreload 2\n",
    "%matplotlib inline"
   ]
  },
  {
   "cell_type": "code",
   "execution_count": null,
   "id": "f8a1cd8f-a662-45b4-b580-114fecef7ebf",
   "metadata": {
    "execution": {
     "iopub.execute_input": "2023-02-08T17:18:20.570928Z",
     "iopub.status.busy": "2023-02-08T17:18:20.569154Z",
     "iopub.status.idle": "2023-02-08T17:18:20.577447Z",
     "shell.execute_reply": "2023-02-08T17:18:20.577023Z",
     "shell.execute_reply.started": "2023-02-08T17:18:20.570890Z"
    },
    "tags": []
   },
   "outputs": [],
   "source": [
    "import logging\n",
    "\n",
    "logging.basicConfig(level=logging.DEBUG)"
   ]
  },
  {
   "cell_type": "code",
   "execution_count": null,
   "id": "de45b818-0b36-4f63-8f6b-36dffdd4bac5",
   "metadata": {
    "execution": {
     "iopub.execute_input": "2023-02-08T17:18:21.220833Z",
     "iopub.status.busy": "2023-02-08T17:18:21.219790Z",
     "iopub.status.idle": "2023-02-08T17:18:22.391058Z",
     "shell.execute_reply": "2023-02-08T17:18:22.390404Z",
     "shell.execute_reply.started": "2023-02-08T17:18:21.220816Z"
    },
    "tags": []
   },
   "outputs": [],
   "source": [
    "import linodenet"
   ]
  },
  {
   "cell_type": "code",
   "execution_count": null,
   "id": "58b7f6d7",
   "metadata": {
    "execution": {
     "iopub.execute_input": "2023-02-08T15:22:27.995548Z",
     "iopub.status.busy": "2023-02-08T15:22:27.995377Z",
     "iopub.status.idle": "2023-02-08T15:22:28.661678Z",
     "shell.execute_reply": "2023-02-08T15:22:28.661287Z",
     "shell.execute_reply.started": "2023-02-08T15:22:27.995536Z"
    },
    "tags": []
   },
   "outputs": [],
   "source": [
    "from math import sqrt\n",
    "\n",
    "import torch\n",
    "from torch import Tensor, jit\n",
    "\n",
    "# The flag below controls whether to allow TF32 on matmul. This flag defaults to False\n",
    "# in PyTorch 1.12 and later.\n",
    "torch.backends.cuda.matmul.allow_tf32 = True\n",
    "\n",
    "# The flag below controls whether to allow TF32 on cuDNN. This flag defaults to True.\n",
    "torch.backends.cudnn.allow_tf32 = True"
   ]
  },
  {
   "cell_type": "code",
   "execution_count": null,
   "id": "d695b42b",
   "metadata": {
    "execution": {
     "iopub.execute_input": "2023-02-08T15:22:28.662388Z",
     "iopub.status.busy": "2023-02-08T15:22:28.662199Z",
     "iopub.status.idle": "2023-02-08T15:22:29.857998Z",
     "shell.execute_reply": "2023-02-08T15:22:29.857701Z",
     "shell.execute_reply.started": "2023-02-08T15:22:28.662376Z"
    },
    "tags": []
   },
   "outputs": [],
   "source": [
    "DEVICE = torch.device(\"cuda\" if torch.cuda.is_available() else \"cpu\")\n",
    "B = 48  # batch size\n",
    "L = 256  # sequence length\n",
    "N = 128  # latent size\n",
    "\n",
    "T = torch.rand(B, L).to(device=DEVICE)\n",
    "Z = torch.randn(B, L, N).to(device=DEVICE)\n",
    "A = torch.randn(N, N).to(device=DEVICE) / sqrt(N)"
   ]
  },
  {
   "cell_type": "code",
   "execution_count": null,
   "id": "3c4bba4a-fda0-4699-805e-bd48eda58e17",
   "metadata": {
    "execution": {
     "iopub.execute_input": "2023-02-08T15:22:29.858531Z",
     "iopub.status.busy": "2023-02-08T15:22:29.858420Z",
     "iopub.status.idle": "2023-02-08T15:22:29.883702Z",
     "shell.execute_reply": "2023-02-08T15:22:29.883191Z",
     "shell.execute_reply.started": "2023-02-08T15:22:29.858520Z"
    },
    "tags": []
   },
   "outputs": [],
   "source": [
    "@jit.script\n",
    "def forward_batch(T: Tensor, A: Tensor, Z: Tensor) -> Tensor:\n",
    "    At = torch.einsum(\"..., mn -> ...mn\", T, A)\n",
    "    expAt = torch.linalg.matrix_exp(At)\n",
    "    expAtz = torch.einsum(\"...mn, ...n -> ...m\", expAt, Z)\n",
    "    return expAtz\n",
    "\n",
    "\n",
    "@jit.script\n",
    "def forward_loop(T: Tensor, A: Tensor, Z: Tensor) -> Tensor:\n",
    "    T = T.moveaxis(0, -1)  # (..., LEN) - > (LEN, ...)\n",
    "    Z = Z.moveaxis(0, -2)\n",
    "    y_list: list[Tensor] = []\n",
    "\n",
    "    for t, z in zip(T, Z):  # iterate over LEN\n",
    "        At = torch.einsum(\"..., mn -> ...mn\", t, A)\n",
    "        expAt = torch.linalg.matrix_exp(At)\n",
    "        expAtz = torch.einsum(\"...mn, ...n -> ...m\", expAt, Z)\n",
    "        y_list.append(expAtz)\n",
    "\n",
    "    y = torch.cat(y_list).moveaxis(0, -2)\n",
    "\n",
    "    return y"
   ]
  },
  {
   "cell_type": "code",
   "execution_count": null,
   "id": "8d1b0221-308c-4b73-9279-c34128b50f8c",
   "metadata": {
    "execution": {
     "iopub.execute_input": "2023-02-08T15:22:29.884578Z",
     "iopub.status.busy": "2023-02-08T15:22:29.884415Z",
     "iopub.status.idle": "2023-02-08T15:22:33.391567Z",
     "shell.execute_reply": "2023-02-08T15:22:33.390678Z",
     "shell.execute_reply.started": "2023-02-08T15:22:29.884565Z"
    },
    "tags": []
   },
   "outputs": [],
   "source": [
    "%%timeit\n",
    "forward_batch(T, A, Z);"
   ]
  },
  {
   "cell_type": "code",
   "execution_count": null,
   "id": "df879b9f-2aff-4838-a38c-b4c3da14be17",
   "metadata": {
    "execution": {
     "iopub.execute_input": "2023-02-08T15:22:33.392665Z",
     "iopub.status.busy": "2023-02-08T15:22:33.392486Z",
     "iopub.status.idle": "2023-02-08T15:22:37.835205Z",
     "shell.execute_reply": "2023-02-08T15:22:37.834635Z",
     "shell.execute_reply.started": "2023-02-08T15:22:33.392650Z"
    },
    "tags": []
   },
   "outputs": [],
   "source": [
    "%%timeit\n",
    "forward_loop(T, A, Z);"
   ]
  },
  {
   "cell_type": "code",
   "execution_count": null,
   "id": "f785f682-45da-4e41-86fa-40051a898b77",
   "metadata": {},
   "outputs": [],
   "source": []
  }
 ],
 "metadata": {
  "kernelspec": {
   "display_name": "Python 3 (ipykernel)",
   "language": "python",
   "name": "python3"
  },
  "language_info": {
   "codemirror_mode": {
    "name": "ipython",
    "version": 3
   },
   "file_extension": ".py",
   "mimetype": "text/x-python",
   "name": "python",
   "nbconvert_exporter": "python",
   "pygments_lexer": "ipython3",
   "version": "3.10.9"
  }
 },
 "nbformat": 4,
 "nbformat_minor": 5
}
