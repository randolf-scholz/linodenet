{
 "cells": [
  {
   "cell_type": "markdown",
   "metadata": {},
   "source": [
    "# TODO\n",
    "\n",
    "- compare speed & memory of batching to (async?) loop over batch (supports variable length!)"
   ]
  },
  {
   "cell_type": "code",
   "execution_count": null,
   "metadata": {},
   "outputs": [],
   "source": [
    "%load_ext autoreload\n",
    "%autoreload 2"
   ]
  },
  {
   "cell_type": "code",
   "execution_count": null,
   "metadata": {},
   "outputs": [],
   "source": [
    "import numpy as np\n",
    "import pandas as pd\n",
    "import torch\n",
    "\n",
    "pd.set_option(\"display.max_rows\", 5)"
   ]
  },
  {
   "cell_type": "code",
   "execution_count": null,
   "metadata": {},
   "outputs": [],
   "source": [
    "from tsdm.datasets import Electricity"
   ]
  },
  {
   "cell_type": "code",
   "execution_count": null,
   "metadata": {},
   "outputs": [],
   "source": [
    "X = Electricity.dataset\n",
    "x = X.iloc[:100]\n",
    "t = X.index[:100]\n",
    "t = (t - t[0]) / np.timedelta64(1, \"h\")\n",
    "x"
   ]
  },
  {
   "cell_type": "code",
   "execution_count": null,
   "metadata": {},
   "outputs": [],
   "source": [
    "device = torch.device(\"cuda\")\n",
    "dtype = torch.float32\n",
    "X = torch.tensor(x.values, dtype=dtype, device=device)\n",
    "T = torch.tensor(t.values, dtype=dtype, device=device)\n",
    "ΔT = torch.diff(T)\n",
    "Δt = ΔT[0]\n",
    "x0 = X[0]\n",
    "T_batch = torch.stack([T, T, T])\n",
    "X_batch = torch.stack([X, X, X])\n",
    "Δt_batch = torch.stack([Δt, Δt, Δt])\n",
    "ΔT_batch = torch.stack([ΔT, ΔT, ΔT])\n",
    "x0_batch = torch.stack([x0, x0, x0])"
   ]
  },
  {
   "cell_type": "code",
   "execution_count": null,
   "metadata": {
    "tags": []
   },
   "outputs": [],
   "source": [
    "from linodenet.models import LinODEnet, LinODECell, LinODE\n",
    "\n",
    "model = LinODECell(370, kernel_regularization=\"skew-symmetric\")\n",
    "model.to(device=device, dtype=dtype)\n",
    "print(Δt.shape, x0.shape)\n",
    "print(model(Δt, x0).shape)\n",
    "print(Δt_batch.shape, x0_batch.shape)\n",
    "print(model(Δt_batch, x0_batch).shape)"
   ]
  },
  {
   "cell_type": "code",
   "execution_count": null,
   "metadata": {},
   "outputs": [],
   "source": [
    "Δt_batch.shape"
   ]
  },
  {
   "cell_type": "code",
   "execution_count": null,
   "metadata": {},
   "outputs": [],
   "source": [
    "BATCHSIZE = 32\n",
    "Δt_batch = torch.stack([Δt] * BATCHSIZE)\n",
    "x0_batch = torch.stack([x0] * BATCHSIZE)"
   ]
  },
  {
   "cell_type": "code",
   "execution_count": null,
   "metadata": {},
   "outputs": [],
   "source": [
    "%%timeit\n",
    "Y = [model(Δt, Δx) for Δt, Δx in zip(Δt_batch, x0_batch)]"
   ]
  },
  {
   "cell_type": "code",
   "execution_count": null,
   "metadata": {},
   "outputs": [],
   "source": [
    "%%timeit\n",
    "Y = []\n",
    "for Δt, Δx in zip(Δt_batch, x0_batch):\n",
    "    Y += [model(Δt, Δx)]"
   ]
  },
  {
   "cell_type": "code",
   "execution_count": null,
   "metadata": {},
   "outputs": [],
   "source": [
    "%%timeit\n",
    "\n",
    "s = torch.cuda.Stream()\n",
    "with torch.cuda.stream(s):\n",
    "    Y = []\n",
    "\n",
    "    for Δt, Δx in zip(Δt_batch, x0_batch):\n",
    "        Y += [model(Δt, Δx)]\n",
    "        s.wait_stream(torch.cuda.current_stream())"
   ]
  },
  {
   "cell_type": "code",
   "execution_count": null,
   "metadata": {},
   "outputs": [],
   "source": [
    "%%timeit\n",
    "Y = model(Δt_batch, x0_batch)"
   ]
  },
  {
   "cell_type": "markdown",
   "metadata": {},
   "source": [
    "# Variable Length Batch"
   ]
  },
  {
   "cell_type": "code",
   "execution_count": null,
   "metadata": {},
   "outputs": [],
   "source": []
  },
  {
   "cell_type": "code",
   "execution_count": null,
   "metadata": {},
   "outputs": [],
   "source": [
    "LEN, DIM = X.shape\n",
    "\n",
    "T_batch = []\n",
    "X_batch = []\n",
    "for k in range(BATCHSIZE):\n",
    "    idx = np.random.choice(range(1, LEN))\n",
    "    X_batch += [X[:idx]]\n",
    "    T_batch += [T[:idx]]\n",
    "\n",
    "print([len(x) for x in X_batch])"
   ]
  },
  {
   "cell_type": "code",
   "execution_count": null,
   "metadata": {},
   "outputs": [],
   "source": [
    "from linodenet.models import LinODEnet, LinODECell, LinODE\n",
    "\n",
    "model = LinODEnet(370, 250)\n",
    "model.to(device=device, dtype=dtype)\n",
    "print(T.shape, X.shape)\n",
    "print(model(T, X).shape)"
   ]
  },
  {
   "cell_type": "code",
   "execution_count": null,
   "metadata": {},
   "outputs": [],
   "source": [
    "from torchinfo import summary\n",
    "\n",
    "summary(model, input_size=[(BATCHSIZE, LEN), (BATCHSIZE, LEN, DIM)])"
   ]
  },
  {
   "cell_type": "code",
   "execution_count": null,
   "metadata": {},
   "outputs": [],
   "source": [
    "%%timeit\n",
    "Y = [model(T, X) for T, X in zip(T_batch, X_batch)]"
   ]
  },
  {
   "cell_type": "code",
   "execution_count": null,
   "metadata": {},
   "outputs": [],
   "source": [
    "from torch.nn.utils.rnn import pad_sequence, pack_padded_sequence\n",
    "\n",
    "lengths = [len(x) for x in X_batch]"
   ]
  },
  {
   "cell_type": "code",
   "execution_count": null,
   "metadata": {},
   "outputs": [],
   "source": [
    "X_batch_padded = pad_sequence(X_batch, batch_first=True, padding_value=float(\"nan\"))\n",
    "T_batch_padded = pad_sequence(X_batch, batch_first=True, padding_value=float(\"nan\"))"
   ]
  },
  {
   "cell_type": "code",
   "execution_count": null,
   "metadata": {},
   "outputs": [],
   "source": [
    "X_batch_packed = pack_padded_sequence(\n",
    "    X_batch_padded, lengths, batch_first=True, enforce_sorted=False\n",
    ")\n",
    "T_batch_packed = pack_padded_sequence(\n",
    "    T_batch_padded, lengths, batch_first=True, enforce_sorted=False\n",
    ")"
   ]
  },
  {
   "cell_type": "code",
   "execution_count": null,
   "metadata": {},
   "outputs": [],
   "source": [
    "T_batch_packed"
   ]
  },
  {
   "cell_type": "code",
   "execution_count": null,
   "metadata": {},
   "outputs": [],
   "source": [
    "model(T_batch_packed, X_batch_packed)"
   ]
  },
  {
   "cell_type": "code",
   "execution_count": null,
   "metadata": {
    "tags": []
   },
   "outputs": [],
   "source": [
    "from linodenet.models import LinODEnet, LinODECell, LinODE\n",
    "\n",
    "model = LinODE(370, kernel_regularization=\"skew-symmetric\")\n",
    "model.to(device=device, dtype=dtype)\n",
    "print(T.shape, x0.shape)\n",
    "print(model(T, x0).shape)\n",
    "print(T_batch.shape, x0_batch.shape)\n",
    "print(model(T_batch, x0_batch).shape)"
   ]
  },
  {
   "cell_type": "code",
   "execution_count": null,
   "metadata": {
    "tags": []
   },
   "outputs": [],
   "source": [
    "from linodenet.models import LinODEnet, LinODECell, LinODE\n",
    "\n",
    "model = LinODEnet(370, 400, embedding_type=\"concat\")\n",
    "model.to(device=device, dtype=dtype)\n",
    "print(T.shape, X.shape)\n",
    "print(model(T, X).shape)\n",
    "print(T_batch.shape, X_batch.shape)\n",
    "print(model(T_batch, X_batch).shape)"
   ]
  },
  {
   "cell_type": "code",
   "execution_count": null,
   "metadata": {},
   "outputs": [],
   "source": [
    "T_batch = torch.stack([T_batch, T_batch])\n",
    "X_batch = torch.stack([X_batch, X_batch])\n",
    "Δt_batch = torch.stack([Δt_batch, Δt_batch])\n",
    "ΔT_batch = torch.stack([ΔT_batch, ΔT_batch])\n",
    "x0_batch = torch.stack([x0_batch, x0_batch])"
   ]
  },
  {
   "cell_type": "code",
   "execution_count": null,
   "metadata": {
    "tags": []
   },
   "outputs": [],
   "source": [
    "from linodenet.models import LinODEnet, LinODECell, LinODE\n",
    "\n",
    "model = LinODECell(370, kernel_regularization=\"skew-symmetric\")\n",
    "model.to(device=device, dtype=dtype)\n",
    "print(Δt.shape, x0.shape)\n",
    "print(model(Δt, x0).shape)\n",
    "print(Δt_batch.shape, x0_batch.shape)\n",
    "print(model(Δt_batch, x0_batch).shape)"
   ]
  },
  {
   "cell_type": "code",
   "execution_count": null,
   "metadata": {
    "tags": []
   },
   "outputs": [],
   "source": [
    "from linodenet.models import LinODEnet, LinODECell, LinODE\n",
    "\n",
    "model = LinODE(370, kernel_regularization=\"skew-symmetric\")\n",
    "model.to(device=device, dtype=dtype)\n",
    "print(T.shape, x0.shape)\n",
    "print(model(T, x0).shape)\n",
    "print(T_batch.shape, x0_batch.shape)\n",
    "print(model(T_batch, x0_batch).shape)"
   ]
  },
  {
   "cell_type": "code",
   "execution_count": null,
   "metadata": {
    "tags": []
   },
   "outputs": [],
   "source": [
    "from linodenet.models import LinODEnet, LinODECell, LinODE\n",
    "\n",
    "model = LinODEnet(370, 250)\n",
    "model.to(device=device, dtype=dtype)\n",
    "print(T.shape, X.shape)\n",
    "print(model(T, X).shape)\n",
    "print(T_batch.shape, X_batch.shape)\n",
    "print(model(T_batch, X_batch).shape)"
   ]
  }
 ],
 "metadata": {
  "kernelspec": {
   "display_name": "Python 3",
   "language": "python",
   "name": "python3"
  },
  "language_info": {
   "codemirror_mode": {
    "name": "ipython",
    "version": 3
   },
   "file_extension": ".py",
   "mimetype": "text/x-python",
   "name": "python",
   "nbconvert_exporter": "python",
   "pygments_lexer": "ipython3",
   "version": "3.9.4"
  }
 },
 "nbformat": 4,
 "nbformat_minor": 4
}