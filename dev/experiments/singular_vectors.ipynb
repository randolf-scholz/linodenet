{
 "cells": [
  {
   "cell_type": "code",
   "execution_count": null,
   "metadata": {},
   "outputs": [],
   "source": [
    "# insert code here"
   ]
  },
  {
   "cell_type": "markdown",
   "metadata": {},
   "source": [
    "## A second heading"
   ]
  },
  {
   "cell_type": "markdown",
   "metadata": {},
   "source": [
    "and some more text"
   ]
  },
  {
   "cell_type": "code",
   "execution_count": null,
   "metadata": {},
   "outputs": [],
   "source": []
  },
  {
   "cell_type": "code",
   "execution_count": null,
   "metadata": {},
   "outputs": [],
   "source": [
    "from tqdm.autonotebook import tqdm"
   ]
  },
  {
   "cell_type": "code",
   "execution_count": null,
   "metadata": {},
   "outputs": [],
   "source": [
    "import numpy as np\n",
    "\n",
    "M, N = 2, 2\n",
    "MAXITER = 1_000_000\n",
    "\n",
    "matrices = np.random.randn(MAXITER, M, N)\n",
    "us = np.full((MAXITER, M), fill_value=float(\"nan\"))\n",
    "vs = np.full((MAXITER, N), fill_value=float(\"nan\"))\n",
    "\n",
    "for k, A in enumerate(matrices):\n",
    "    U, S, Vh = np.linalg.svd(A)\n",
    "    u, s, v = U[:, 0], S[0], Vh[0, :]\n",
    "    us[k] = u\n",
    "    vs[k] = v"
   ]
  },
  {
   "cell_type": "code",
   "execution_count": null,
   "metadata": {},
   "outputs": [],
   "source": [
    "A"
   ]
  },
  {
   "cell_type": "code",
   "execution_count": null,
   "metadata": {},
   "outputs": [],
   "source": [
    "import numpy as np\n",
    "\n",
    "MAXITER, M, N = 1_000_000, 2, 2\n",
    "matrices = np.random.randn(MAXITER, M, N)\n",
    "us = np.full((MAXITER, M), fill_value=float(\"nan\"))\n",
    "vs = np.full((MAXITER, N), fill_value=float(\"nan\"))\n",
    "\n",
    "for k, A in enumerate(matrices):\n",
    "    U, S, Vh = np.linalg.svd(A)\n",
    "    u, s, v = U[:, 0], S[0], Vh[0, :]\n",
    "    us[k] = u\n",
    "    vs[k] = v\n",
    "\n",
    "angle_u = np.arctan2(*us.T[::-1])  # takes y as first arg\n",
    "angle_v = np.arctan2(*vs.T[::-1])  # takes y as first arg"
   ]
  },
  {
   "cell_type": "code",
   "execution_count": null,
   "metadata": {},
   "outputs": [],
   "source": [
    "from matplotlib import pyplot as plt\n",
    "\n",
    "fig, ax = plt.subplots(figsize=(2.5, 2.5), dpi=300, constrained_layout=True)\n",
    "ax.plot(angle_u, angle_v, \".\", ms=2, markeredgecolor=\"none\", alpha=0.2)\n",
    "ax.set_xlabel(\"angle u\")\n",
    "ax.set_ylabel(\"angle v\")\n",
    "ax.set_aspect(\"equal\", adjustable=\"box\")\n",
    "ax.set_xticks([-np.pi, 0, np.pi], [\"-π\", \"0\", \"+π\"])\n",
    "ax.set_yticks([-np.pi, 0, np.pi], [\"-π\", \"0\", \"+π\"])\n",
    "fig.savefig(\"hexagons.png\", dpi=300)"
   ]
  },
  {
   "cell_type": "code",
   "execution_count": null,
   "metadata": {},
   "outputs": [],
   "source": [
    "import torch\n",
    "from torch import jit, nn, Tensor\n",
    "from linodenet.lib import singular_triplet, singular_triplet_native\n",
    "\n",
    "M, N = 2, 2\n",
    "MAXITER = 1_0_000\n",
    "\n",
    "matrices = torch.randn(MAXITER, M, N)\n",
    "us = torch.full((MAXITER, M), fill_value=float('nan'))\n",
    "vs = torch.full((MAXITER, N), fill_value=float('nan'))\n",
    "\n",
    "for k, A in enumerate(tqdm(matrices)):\n",
    "    u, s, v = singular_triplet(A)\n",
    "    us[k] = u\n",
    "    vs[k] = v\n",
    "\n",
    "angle_u = torch.atan2(*us.[::-1])  # takes y as first arg\n",
    "angle_v = torch.atan2(*vs.[::-1])  # takes y as first arg"
   ]
  },
  {
   "cell_type": "code",
   "execution_count": null,
   "metadata": {},
   "outputs": [],
   "source": [
    "from matplotlib import pyplot as plt\n",
    "\n",
    "fig, ax = plt.subplots(figsize=(2.5, 3), dpi=300)\n",
    "ax.plot(angle_u, angle_v, \".\", ms=2, markeredgecolor=\"none\", alpha=0.2)\n",
    "ax.set_xlabel(\"angle u\")\n",
    "ax.set_ylabel(\"angle v\")\n",
    "# ax.set_title(f\"{MAXITER} random 2×2 gaussian matrices\")\n",
    "fig.savefig(\"hexagons.png\")"
   ]
  },
  {
   "cell_type": "code",
   "execution_count": null,
   "metadata": {},
   "outputs": [],
   "source": [
    "import torch\n",
    "from torch import jit, nn, Tensor\n",
    "from linodenet.lib import singular_triplet, singular_triplet_native\n",
    "\n",
    "M, N = 2, 2\n",
    "MAXITER = 1_0_000\n",
    "\n",
    "matrices = torch.randn(MAXITER, M, N)\n",
    "us = torch.full((MAXITER, M), fill_value=float(\"nan\"))\n",
    "vs = torch.full((MAXITER, N), fill_value=float(\"nan\"))\n",
    "\n",
    "for k, A in enumerate(tqdm(matrices)):\n",
    "    u, s, v = singular_triplet_native(A)\n",
    "    us[k] = u\n",
    "    vs[k] = v\n",
    "\n",
    "angle_u = torch.atan2(*us.T)\n",
    "angle_v = torch.atan2(*vs.T)"
   ]
  },
  {
   "cell_type": "code",
   "execution_count": null,
   "metadata": {},
   "outputs": [],
   "source": [
    "from matplotlib import pyplot as plt\n",
    "\n",
    "fig, ax = plt.subplots(figsize=(2.5, 3), dpi=300)\n",
    "ax.plot(angle_u, angle_v, \".\", ms=2, markeredgecolor=\"none\", alpha=0.2)\n",
    "ax.set_xlabel(\"angle u\")\n",
    "ax.set_ylabel(\"angle v\")\n",
    "# ax.set_title(f\"{MAXITER} random 2×2 gaussian matrices\")\n",
    "fig.savefig(\"hexagons.png\")"
   ]
  },
  {
   "cell_type": "code",
   "execution_count": null,
   "metadata": {},
   "outputs": [],
   "source": [
    "import scipy\n",
    "\n",
    "A = torch.randn(7, 3)\n",
    "ustar = np.random.randn(7)\n",
    "vstar = np.random.randn(3)\n",
    "A = np.outer(ustar, vstar)\n",
    "\n",
    "U, S, Vh = scipy.linalg.svd(A)\n",
    "# cols of U = LSV, rows of Vh: RSV\n",
    "u, s, v = U[:, 0], S[0], Vh[0, :]\n",
    "assert np.allclose(s * np.outer(u, v), A)"
   ]
  },
  {
   "cell_type": "code",
   "execution_count": null,
   "metadata": {},
   "outputs": [],
   "source": [
    "A = torch.randn(7, 3)\n",
    "ustar = np.random.randn(7)\n",
    "vstar = np.random.randn(3)\n",
    "A = np.outer(ustar, vstar)\n",
    "\n",
    "U, S, Vh = np.linalg.svd(A)\n",
    "# cols of U = LSV, rows of Vh: RSV\n",
    "u, s, v = U[:, 0], S[0], Vh[0, :]\n",
    "A - np.outer(u, v)\n",
    "assert np.allclose(s * np.outer(u, v), A)"
   ]
  },
  {
   "cell_type": "code",
   "execution_count": null,
   "metadata": {},
   "outputs": [],
   "source": [
    "A = torch.randn(7, 3)\n",
    "ustar = torch.randn(7)\n",
    "vstar = torch.randn(3)\n",
    "A = torch.outer(ustar, vstar)\n",
    "\n",
    "U, S, Vh = torch.linalg.svd(A)\n",
    "# cols of U = LSV, rows of Vh: RSV\n",
    "u, s, v = U[:, 0], S[0], Vh[0, :]\n",
    "assert torch.allclose(s * torch.outer(u, v), A)"
   ]
  },
  {
   "cell_type": "code",
   "execution_count": null,
   "metadata": {},
   "outputs": [],
   "source": [
    "A = torch.randn(7, 3)\n",
    "ustar = torch.randn(7)\n",
    "vstar = torch.randn(3)\n",
    "A = torch.outer(ustar, vstar)\n",
    "# cols of U = LSV, rows of Vh: RSV\n",
    "s, u, v = singular_triplet(A)\n",
    "assert torch.allclose(s * torch.outer(u, v), A)"
   ]
  },
  {
   "cell_type": "code",
   "execution_count": null,
   "metadata": {},
   "outputs": [],
   "source": []
  }
 ],
 "metadata": {
  "kernelspec": {
   "display_name": "Python 3 (ipykernel)",
   "language": "python",
   "name": "python3"
  },
  "language_info": {
   "codemirror_mode": {
    "name": "ipython",
    "version": 3
   },
   "file_extension": ".py",
   "mimetype": "text/x-python",
   "name": "python",
   "nbconvert_exporter": "python",
   "pygments_lexer": "ipython3",
   "version": "3.10.13"
  }
 },
 "nbformat": 4,
 "nbformat_minor": 4
}
