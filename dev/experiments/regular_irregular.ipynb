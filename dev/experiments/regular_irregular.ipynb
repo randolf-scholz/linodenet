{
 "cells": [
  {
   "cell_type": "code",
   "execution_count": null,
   "id": "f83edca0-fb1e-4a09-a484-45e4e4897489",
   "metadata": {},
   "outputs": [],
   "source": [
    "%load_ext autoreload\n",
    "%autoreload 2"
   ]
  },
  {
   "cell_type": "code",
   "execution_count": null,
   "id": "5768a118-56eb-448e-9dcd-e9f4391bcf1e",
   "metadata": {},
   "outputs": [],
   "source": [
    "from tsdm.util import (\n",
    "    float_gcd,\n",
    "    time_gcd,\n",
    "    regularity_coefficient,\n",
    "    is_regular,\n",
    "    is_quasiregular,\n",
    ")\n",
    "from tsdm.datasets import Electricity\n",
    "import numpy as np"
   ]
  },
  {
   "cell_type": "code",
   "execution_count": null,
   "id": "d7fcb276-23c1-46f2-bcb2-ef0b6ab0e12d",
   "metadata": {
    "tags": []
   },
   "outputs": [],
   "source": [
    "from numba import jit\n",
    "\n",
    "\n",
    "def float_gcd(x, rtol=1e-08, atol=1e-08):\n",
    "    x = np.asanyarray(x)\n",
    "    x = np.abs(x).flatten()\n",
    "\n",
    "    #     @jit\n",
    "    def _float_gcd(x: np.ndarray):\n",
    "        print(x, end=\"\")\n",
    "        n = len(x)\n",
    "        if n == 1:\n",
    "            print(\"->\", x[0])\n",
    "            return x[0]\n",
    "        if n == 2:\n",
    "            t = np.min(x)\n",
    "            while x[1] >= rtol * t + atol:\n",
    "                x[0], x[1] = x[1], x[0] % x[1]\n",
    "            print(\"->\", x[0])\n",
    "            return x[0]\n",
    "        if n >= 3:\n",
    "            out = np.full(2, np.nan)\n",
    "            out[0] = _float_gcd(x[: n // 2])\n",
    "            out[1] = _float_gcd(x[n // 2 :])\n",
    "            return _float_gcd(out)\n",
    "\n",
    "    return _float_gcd(x)"
   ]
  },
  {
   "cell_type": "code",
   "execution_count": null,
   "id": "30871bfa-9503-4b16-a660-631c1640e1b0",
   "metadata": {},
   "outputs": [],
   "source": [
    "X = Electricity.dataset"
   ]
  },
  {
   "cell_type": "code",
   "execution_count": null,
   "id": "55095eaa-b8b5-4d12-a6ab-7194b9dba372",
   "metadata": {},
   "outputs": [],
   "source": [
    "x = np.random.randn(100) * 10\n",
    "x = np.array([2, 4, 4 + 2**-10, 6])"
   ]
  },
  {
   "cell_type": "code",
   "execution_count": null,
   "id": "985c4b1b-0f21-466d-afd1-27800be00372",
   "metadata": {},
   "outputs": [],
   "source": [
    "m, e = np.frexp(x)\n",
    "\n",
    "z = x * 2 ** int(52 - np.min(e))\n",
    "assert np.allclose(z, np.rint(z))\n",
    "\n",
    "gcd = np.gcd.reduce(np.rint(z).astype(int))\n",
    "gcd = gcd * 2 ** int(np.min(e) - 52)\n",
    "gcd"
   ]
  },
  {
   "cell_type": "code",
   "execution_count": null,
   "id": "c8c183bd-73e8-4da9-a980-0850719e12eb",
   "metadata": {},
   "outputs": [],
   "source": [
    "float_gcd(x, rtol=0, atol=2**-8)"
   ]
  },
  {
   "cell_type": "code",
   "execution_count": null,
   "id": "01457b6d-1c6b-4f4f-8de1-45bf92f8be25",
   "metadata": {},
   "outputs": [],
   "source": [
    "y = [4.00097656, 6.0]\n",
    "\n",
    "for k in range(10):\n",
    "    y[0], y[1] = y[1], y[0] % y[1]\n",
    "    print(y)"
   ]
  },
  {
   "cell_type": "code",
   "execution_count": null,
   "id": "a7c69ae8-b9c9-4869-9256-40e1586a9b1d",
   "metadata": {},
   "outputs": [],
   "source": [
    "# float: (-1)^sign (1+ sum_{i=1}^52 b[52-i] 2^{-i}) * 2^(e-1023)\"\n",
    "\n",
    "\n",
    "def float2ints(x) -> tuple[int, int, int]:\n",
    "    x = np.array(x, dtype=np.float64)\n",
    "    m, e = np.frexp(x)\n",
    "    m = np.array(m)\n",
    "    e = np.array(e).astype(int)\n",
    "    s, m = np.sign(m).astype(int), np.rint(np.abs(m) * 2**52).astype(int)\n",
    "    return s.squeeze(), m.squeeze(), e.squeeze()\n",
    "\n",
    "\n",
    "def ints2float(s: int, m: int, e: int) -> float:\n",
    "    return np.ldexp(s * (m * 2**-52), e)"
   ]
  }
 ],
 "metadata": {
  "kernelspec": {
   "display_name": "Python 3",
   "language": "python",
   "name": "python3"
  },
  "language_info": {
   "codemirror_mode": {
    "name": "ipython",
    "version": 3
   },
   "file_extension": ".py",
   "mimetype": "text/x-python",
   "name": "python",
   "nbconvert_exporter": "python",
   "pygments_lexer": "ipython3",
   "version": "3.9.5"
  }
 },
 "nbformat": 4,
 "nbformat_minor": 5
}
