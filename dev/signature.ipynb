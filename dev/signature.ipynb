{
 "cells": [
  {
   "cell_type": "markdown",
   "id": "5c6b6b12-4753-4df7-932c-48deb1d005a2",
   "metadata": {},
   "source": [
    "# Signatures\n",
    "\n",
    "Goals: \n",
    "\n",
    "- define a signature mini-language to describe mappings between Hilbert-spaces.\n",
    "- Should be convertible to Einsum notation when possible\n",
    "- Should support direct sums and tensor products, as well as arbitrary batching.\n",
    "- ability to distinguish variable and static input shapes.\n",
    "\n",
    "\n",
    "Tensor products: \n",
    "- via tuples\n",
    "- direct sums: ?\n",
    "\n",
    "Example:\n",
    "\n",
    "- Input is Image of arbitrary shape, output is a monochrome 64x64 image, with arbitrary batching\n",
    "\n",
    "\n",
    "$$ [..., h, w, c] -> [..., 64, 64] $$\n",
    "\n",
    "Example: \n",
    "\n",
    "Input is a video consisting of \n",
    "\n",
    "- temporal image data of fixed size\n",
    "- temporal audio data of fixed size\n",
    "- temporal text data (subscripts) of variable size, using word2vec embeddings\n",
    "- static metadata\n",
    "\n",
    "$$ [t_image, h, w, c], [t_audio, samples, channels], [t_subtitle, language, content]  $$\n",
    "\n",
    "\n"
   ]
  },
  {
   "cell_type": "code",
   "execution_count": null,
   "id": "20191951-beec-414a-b3c6-89dca8277ad2",
   "metadata": {},
   "outputs": [],
   "source": [
    "%config InteractiveShell.ast_node_interactivity='last_expr_or_assign'  # always print last expr.\n",
    "%config InlineBackend.figure_format = 'svg'\n",
    "%load_ext autoreload\n",
    "%autoreload 2\n",
    "%matplotlib inline"
   ]
  },
  {
   "cell_type": "code",
   "execution_count": null,
   "id": "58b7f6d7",
   "metadata": {},
   "outputs": [],
   "source": []
  },
  {
   "cell_type": "code",
   "execution_count": null,
   "id": "d695b42b",
   "metadata": {},
   "outputs": [],
   "source": []
  }
 ],
 "metadata": {
  "kernelspec": {
   "display_name": "Python 3 (ipykernel)",
   "language": "python",
   "name": "python3"
  },
  "language_info": {
   "codemirror_mode": {
    "name": "ipython",
    "version": 3
   },
   "file_extension": ".py",
   "mimetype": "text/x-python",
   "name": "python",
   "nbconvert_exporter": "python",
   "pygments_lexer": "ipython3",
   "version": "3.9.12"
  }
 },
 "nbformat": 4,
 "nbformat_minor": 5
}
