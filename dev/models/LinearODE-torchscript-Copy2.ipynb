{
 "cells": [
  {
   "cell_type": "markdown",
   "id": "39292b04-30c3-49c2-8715-9b0a966e0737",
   "metadata": {},
   "source": [
    "# Optimizing Performance by using torchscript to jit-compile ODE model\n",
    "\n",
    "This should be ~50% faster, even on CPU\n",
    "\n",
    "We make use of the details provided at https://pytorch.org/blog/optimizing-cuda-rnn-with-torchscript/"
   ]
  },
  {
   "cell_type": "code",
   "execution_count": null,
   "id": "64443b5e-7410-4344-9b40-1cdc71d500f9",
   "metadata": {},
   "outputs": [],
   "source": [
    "%config InlineBackend.figure_format = 'svg'"
   ]
  },
  {
   "cell_type": "code",
   "execution_count": null,
   "id": "331c37ea-d9d5-4457-9ff1-23159c5dde43",
   "metadata": {
    "tags": []
   },
   "outputs": [],
   "source": [
    "import torch\n",
    "import torchdiffeq\n",
    "from torch import nn, Tensor\n",
    "from torch.nn import GRUCell\n",
    "import numpy as np\n",
    "from opt_einsum import contract\n",
    "from tqdm.auto import trange\n",
    "from typing import Union, Callable\n",
    "from scipy import stats\n",
    "import matplotlib.pyplot as plt\n",
    "from scipy.integrate import odeint"
   ]
  },
  {
   "cell_type": "code",
   "execution_count": null,
   "id": "2943e185-fbfc-4b7b-8277-ddb83148a76e",
   "metadata": {},
   "outputs": [],
   "source": [
    "from tsdm.util import scaled_norm, relative_error, timefun"
   ]
  },
  {
   "cell_type": "code",
   "execution_count": null,
   "id": "73b2551d-dc26-4756-9b63-0223d12138a6",
   "metadata": {},
   "outputs": [],
   "source": [
    "n = 100\n",
    "A = torch.normal(mean=torch.zeros(n, n), std=1 / np.sqrt(n))\n",
    "x = torch.normal(mean=torch.zeros(n), std=1)"
   ]
  },
  {
   "cell_type": "code",
   "execution_count": null,
   "id": "1f7e475f-f85a-4fad-97d5-481853964a0f",
   "metadata": {},
   "outputs": [],
   "source": [
    "torch.std(A @ x), torch.std((A + A.T) / np.sqrt(2) @ x), torch.std(\n",
    "    (A - A.T) / np.sqrt(2) @ x\n",
    ")"
   ]
  },
  {
   "cell_type": "code",
   "execution_count": null,
   "id": "95c60ba3-1afb-4bff-9cfc-b026aded3f64",
   "metadata": {},
   "outputs": [],
   "source": [
    "class LinODECell(torch.jit.ScriptModule):\n",
    "    \"\"\"\n",
    "    Linear System module\n",
    "\n",
    "    x' = Ax + Bu + w\n",
    "     y = Cx + Du + v\n",
    "\n",
    "    \"\"\"\n",
    "\n",
    "    def __init__(\n",
    "        self,\n",
    "        input_size,\n",
    "        kernel_initialization: Union[\n",
    "            torch.Tensor, Callable[int, torch.Tensor], str\n",
    "        ] = None,\n",
    "        homogeneous: bool = True,\n",
    "        matrix_type: str = None,\n",
    "        device=torch.device(\"cpu\"),\n",
    "        dtype=torch.float32,\n",
    "    ):\n",
    "        \"\"\"\n",
    "        kernel_initialization: torch.tensor, callable\n",
    "            either a tensor to assign to the kernel at initialization\n",
    "            or a callable f: int -> torch.Tensor|L\n",
    "            \"skew_symmetric\"\n",
    "            \"symmetric\"\n",
    "            \"normal\"\n",
    "        \"\"\"\n",
    "        super(LinODECell, self).__init__()\n",
    "\n",
    "        if kernel_initialization is None:\n",
    "            self.kernel_initialization = lambda: torch.randn(\n",
    "                input_size, input_size\n",
    "            ) / np.sqrt(input_size)\n",
    "        elif callable(kernel_initialization):\n",
    "            self.kernel = lambda: torch.tensor(kernel_initialization(input_size))\n",
    "        elif type(kernel_initialization) == torch.Tensor:\n",
    "            self._kernel_initialization = kernel_initialization.clone().detach()\n",
    "            self.kernel_initialization = lambda: self._kernel_initialization.clone()\n",
    "        else:\n",
    "            self.kernel_initialization = lambda: torch.tensor(kernel_initialization)\n",
    "\n",
    "        self.kernel = nn.Parameter(self.kernel_initialization())\n",
    "\n",
    "        if not homogeneous:\n",
    "            self.bias = nn.Parameter(torch.randn(input_size))\n",
    "            raise NotImplementedError(\"Inhomogeneous Linear Model not implemented yet.\")\n",
    "\n",
    "        self.to(device=device, dtype=dtype)\n",
    "\n",
    "    @torch.jit.script_method\n",
    "    def forward(self, Δt, x):\n",
    "        \"\"\"\n",
    "        Inputs:\n",
    "        Δt: (...,)\n",
    "        x:  (..., M)\n",
    "\n",
    "        Outputs:\n",
    "        xhat:  (..., M)\n",
    "\n",
    "\n",
    "        Forward using matrix exponential\n",
    "        # TODO: optimize if clauses away by changing definition in constructor.\n",
    "        \"\"\"\n",
    "\n",
    "        AΔt = torch.einsum(\"kl, ... -> ...kl\", self.kernel, Δt)\n",
    "        expAΔt = torch.matrix_exp(AΔt)\n",
    "        xhat = torch.einsum(\"...kl, ...l -> ...k\", expAΔt, x)\n",
    "\n",
    "        return xhat"
   ]
  },
  {
   "cell_type": "code",
   "execution_count": null,
   "id": "3118e220-aac6-4015-abc9-65d7de084ba7",
   "metadata": {},
   "outputs": [],
   "source": [
    "class LinODEv2(nn.Module):\n",
    "    def __init__(self, *cell_args, **cell_kwargs):\n",
    "        super(LinODEv2, self).__init__()\n",
    "        self.cell = LinODECell(*cell_args, **cell_kwargs)\n",
    "        self.kernel = self.cell.kernel\n",
    "\n",
    "    def forward(self, x0: Tensor, T: Tensor) -> Tensor:\n",
    "        return self.__forward__(x0, T)\n",
    "\n",
    "    def __forward__(self, x0, T):\n",
    "        r\"\"\"\n",
    "        Propagate x0\n",
    "\n",
    "        Parameters\n",
    "        ----------\n",
    "        x0: :class:`torch.Tensor`\n",
    "        T: :class:`torch.Tensor`\n",
    "\n",
    "        Returns\n",
    "        -------\n",
    "        Xhat: :class:`torch.Tensor`\n",
    "        \"\"\"\n",
    "        ΔT = torch.diff(T)\n",
    "        x = []\n",
    "        x += [x0]\n",
    "\n",
    "        for Δt in ΔT:\n",
    "            x += [self.cell(Δt, x[-1])]\n",
    "\n",
    "        return torch.stack(x)"
   ]
  },
  {
   "cell_type": "code",
   "execution_count": null,
   "id": "c15ecb51-d911-499f-8dff-e35619cbb968",
   "metadata": {},
   "outputs": [],
   "source": [
    "class LinODE(torch.jit.ScriptModule):\n",
    "    def __init__(self, *cell_args, **cell_kwargs):\n",
    "        super(LinODE, self).__init__()\n",
    "        self.cell = LinODECell(*cell_args, **cell_kwargs)\n",
    "        self.kernel = self.cell.kernel\n",
    "\n",
    "    @torch.jit.script_method\n",
    "    def forward(self, x0: Tensor, T: Tensor) -> Tensor:\n",
    "\n",
    "        ΔT = torch.diff(T)\n",
    "        x = torch.empty((len(T), len(x0)), dtype=x0.dtype, device=x0.device)\n",
    "        x[0] = x0\n",
    "        z = x0\n",
    "\n",
    "        for i, Δt in enumerate(ΔT):\n",
    "            z = self.cell(Δt, z)\n",
    "            x[i + 1] = z\n",
    "\n",
    "        return x"
   ]
  },
  {
   "cell_type": "markdown",
   "id": "bd26f3f6-6309-4838-9e41-e8d8ee1ae74c",
   "metadata": {},
   "source": [
    "# Testing the Forward\n",
    "We compare against `scipy.integrate.odeint`"
   ]
  },
  {
   "cell_type": "code",
   "execution_count": null,
   "id": "5109ab7e-ab24-4fdc-ad68-b54de9d16855",
   "metadata": {},
   "outputs": [],
   "source": [
    "def test_LinODE(dim=None, num=None, precision=\"single\", device=\"cpu\"):\n",
    "    numpy_dtype = {\"single\": np.float32, \"double\": np.float64}[precision]\n",
    "    torch_dtype = {\"single\": torch.float32, \"double\": torch.float64}[precision]\n",
    "    num = np.random.randint(low=20, high=1000) or num\n",
    "    dim = np.random.randint(low=2, high=100) or dim\n",
    "    t0, t1 = np.random.uniform(low=-10, high=10, size=(2,)).astype(numpy_dtype)\n",
    "    A = np.random.randn(dim, dim).astype(numpy_dtype)\n",
    "    x0 = np.random.randn(dim).astype(numpy_dtype)\n",
    "    T = np.random.uniform(low=t0, high=t1, size=num - 2).astype(numpy_dtype)\n",
    "    T = np.sort([t0, *T, t1]).astype(numpy_dtype)\n",
    "    cond = np.linalg.cond(A)\n",
    "    spec = np.linalg.norm(A, ord=2)\n",
    "\n",
    "    A = torch.tensor(A, requires_grad=True, device=device, dtype=torch_dtype)\n",
    "    x0 = torch.Tensor(x0).to(device=device, dtype=torch_dtype)\n",
    "    T = torch.Tensor(T).to(device=device, dtype=torch_dtype)\n",
    "    model = LinODEv2(input_size=dim, kernel_initialization=A)\n",
    "    model = model.to(dtype=torch_dtype, device=device)\n",
    "\n",
    "    @timefun\n",
    "    def matexp_loss(model, x0, T):\n",
    "        X = model(x0, T)\n",
    "        r = torch.linalg.norm(X)\n",
    "        r.backward()\n",
    "        return X, r\n",
    "\n",
    "    _, matexp_time = matexp_loss(model, x0, T)\n",
    "    return matexp_time"
   ]
  },
  {
   "cell_type": "markdown",
   "id": "c3972139-0f34-4286-8c54-7bc899023db8",
   "metadata": {},
   "source": [
    "## Checking LinODE error\n",
    "\n",
    "We compare results from our LinODE against scipy's odeint, averaged across different number of dimensions."
   ]
  },
  {
   "cell_type": "code",
   "execution_count": null,
   "id": "4c945de2-a329-41e8-9c5a-2e48adac4e2e",
   "metadata": {},
   "outputs": [],
   "source": [
    "err_single = np.array([test_LinODE() for _ in trange(1_000)]).T"
   ]
  },
  {
   "cell_type": "code",
   "execution_count": null,
   "id": "75f0b631-9774-405f-8dda-b97111805e02",
   "metadata": {},
   "outputs": [],
   "source": [
    "err_single_cuda = np.array([test_LinODE(device=\"cuda\") for _ in trange(1_000)]).T"
   ]
  },
  {
   "cell_type": "code",
   "execution_count": null,
   "id": "7b9b3bf6-0698-4acd-99e5-656926956f0d",
   "metadata": {},
   "outputs": [],
   "source": [
    "np.median(err_single_cuda), err_single_cuda.mean()"
   ]
  },
  {
   "cell_type": "code",
   "execution_count": null,
   "id": "93256173-5c70-4423-9f6b-b27804e499eb",
   "metadata": {},
   "outputs": [],
   "source": [
    "np.median(err_single), err_single.mean(), np.median(\n",
    "    err_single_cuda\n",
    "), err_single_cuda.mean()"
   ]
  },
  {
   "cell_type": "code",
   "execution_count": null,
   "id": "0bbea14c-6f3d-4316-9c1f-79ddbcf3707d",
   "metadata": {},
   "outputs": [],
   "source": []
  },
  {
   "cell_type": "code",
   "execution_count": null,
   "id": "8e539c74-77ae-4c79-814d-e923386356fe",
   "metadata": {},
   "outputs": [],
   "source": [
    "err_double = np.array([test_LinODE(precision=\"double\") for _ in trange(1_000)]).T"
   ]
  },
  {
   "cell_type": "code",
   "execution_count": null,
   "id": "ff9f32fd-3563-40e0-970d-1934e463ef1d",
   "metadata": {},
   "outputs": [],
   "source": [
    "with plt.style.context(\"bmh\"):\n",
    "    fig, ax = plt.subplots(\n",
    "        ncols=3, nrows=2, figsize=(10, 5), tight_layout=True, sharey=True, sharex=True\n",
    "    )\n",
    "\n",
    "for i, err in enumerate((err_single, err_double)):\n",
    "    for j, p in enumerate((1, 2, np.inf)):\n",
    "        visualize_distribution(err[j], log=True, ax=ax[i, j])\n",
    "        if j == 0:\n",
    "            ax[i, 0].annotate(\n",
    "                f\"FP{32*(i+1)}\",\n",
    "                xy=(0, 0.5),\n",
    "                xytext=(-ax[i, 0].yaxis.labelpad - 5, 0),\n",
    "                xycoords=ax[i, 0].yaxis.label,\n",
    "                textcoords=\"offset points\",\n",
    "                size=\"xx-large\",\n",
    "                ha=\"right\",\n",
    "                va=\"center\",\n",
    "            )\n",
    "        if i == 1:\n",
    "            ax[i, j].set_xlabel(f\"scaled, relative L{p} error\")\n",
    "\n",
    "fig.savefig(\"linode_error_plot_torchscript.svg\")"
   ]
  },
  {
   "cell_type": "markdown",
   "id": "7c630dc7-1cd6-43f0-848e-3df6ff8c67b1",
   "metadata": {},
   "source": [
    "# Testing the Backward\n",
    "\n",
    "We compare against `torchdiffeq.odeint`"
   ]
  },
  {
   "cell_type": "code",
   "execution_count": null,
   "id": "59791f14-f56c-49ab-b188-c1a90bb957fa",
   "metadata": {},
   "outputs": [],
   "source": [
    "from torchdiffeq import odeint_adjoint as odeint\n",
    "import gc\n",
    "from time import time\n",
    "from collections import namedtuple\n",
    "from pandas import DataFrame, MultiIndex\n",
    "import pandas"
   ]
  },
  {
   "cell_type": "code",
   "execution_count": null,
   "id": "4e24f054-1cab-4f5e-94da-4436a42acfe7",
   "metadata": {},
   "outputs": [],
   "source": [
    "def test_LinODE(dim=None, num=None, precision=\"double\", device=\"cpu\"):\n",
    "    numpy_dtype = {\"single\": np.float32, \"double\": np.float64}[precision]\n",
    "    torch_dtype = {\"single\": torch.float32, \"double\": torch.float64}[precision]\n",
    "    num = np.random.randint(low=20, high=1000) or num\n",
    "    dim = np.random.randint(low=2, high=100) or dim\n",
    "    t0, t1 = np.random.uniform(low=-10, high=10, size=(2,)).astype(numpy_dtype)\n",
    "    A = np.random.randn(dim, dim).astype(numpy_dtype)\n",
    "    x0 = np.random.randn(dim).astype(numpy_dtype)\n",
    "    T = np.random.uniform(low=t0, high=t1, size=num - 2).astype(numpy_dtype)\n",
    "    T = np.sort([t0, *T, t1]).astype(numpy_dtype)\n",
    "    cond = np.linalg.cond(A)\n",
    "    spec = np.linalg.norm(A, ord=2)\n",
    "\n",
    "    A = torch.tensor(A, requires_grad=True, device=device, dtype=torch_dtype)\n",
    "    x0 = torch.Tensor(x0).to(device=device, dtype=torch_dtype)\n",
    "    T = torch.Tensor(T).to(device=device, dtype=torch_dtype)\n",
    "    model = LinODE(\n",
    "        input_size=dim, kernel_initialization=A, dtype=torch_dtype, device=device\n",
    "    )\n",
    "\n",
    "    def odeint_loss(A, x0, T):\n",
    "        X = odeint(lambda t, x: A @ x, x0, T, adjoint_params=(A,))\n",
    "        r = torch.linalg.norm(X)\n",
    "        return X, r\n",
    "\n",
    "    def matexp_loss(model, x0, T):\n",
    "        X = model(x0, T)\n",
    "        r = torch.linalg.norm(X)\n",
    "        return X, r\n",
    "\n",
    "    result_odeint, odeint_ftime = timefun(odeint_loss)(A, x0, T)\n",
    "    result_matexp, matexp_ftime = timefun(matexp_loss)(model, x0, T)\n",
    "\n",
    "    if not np.isnan(odeint_ftime):\n",
    "        X, r = result_odeint\n",
    "        _, odeint_btime = timefun(r.backward)()\n",
    "    else:\n",
    "        odeint_btime = float(\"nan\")\n",
    "\n",
    "    if not np.isnan(matexp_ftime):\n",
    "        Xhat, rhat = result_matexp\n",
    "        _, matexp_btime = timefun(rhat.backward)()\n",
    "    else:\n",
    "        matexp_btime = float(\"nan\")\n",
    "\n",
    "    if not any(np.isnan([odeint_ftime, matexp_ftime])):\n",
    "        X, r = result_odeint\n",
    "        Xhat, rhat = result_matexp\n",
    "        fward_error = relative_error(Xhat, X)\n",
    "        fward_errors = [float(scaled_norm(fward_error, p=p)) for p in (1, 2, np.inf)]\n",
    "    else:\n",
    "        fward_errors = [float(\"nan\")] * 3\n",
    "\n",
    "    if not any(np.isnan([odeint_btime, matexp_btime])):\n",
    "        G, Ghat = A.grad, model.kernel.grad\n",
    "        bward_error = relative_error(Ghat, G)\n",
    "        bward_errors = [float(scaled_norm(bward_error, p=p)) for p in (1, 2, np.inf)]\n",
    "    else:\n",
    "        bward_errors = [float(\"nan\")] * 3\n",
    "\n",
    "    columns = pandas.MultiIndex.from_product(\n",
    "        [\n",
    "            [\"forward\", \"backward\"],\n",
    "            [\"1-norm\", \"2-norm\", \"inf-norm\", \"time (odeint)\", \"time (matexp)\"],\n",
    "        ]\n",
    "    )\n",
    "    data = np.array(\n",
    "        [\n",
    "            [\n",
    "                *fward_errors,\n",
    "                odeint_ftime,\n",
    "                matexp_ftime,\n",
    "                *bward_errors,\n",
    "                odeint_btime,\n",
    "                matexp_btime,\n",
    "            ]\n",
    "        ]\n",
    "    )\n",
    "    df = pandas.DataFrame(data, columns=columns)\n",
    "    df[\"num\"] = num\n",
    "    df[\"dim\"] = dim\n",
    "    df[\"cond\"] = cond\n",
    "    df[\"spec\"] = spec\n",
    "\n",
    "    return df"
   ]
  },
  {
   "cell_type": "code",
   "execution_count": null,
   "id": "5ed759f7-2372-48d4-bc83-3032bd2d1f4e",
   "metadata": {},
   "outputs": [],
   "source": [
    "df = test_LinODE(precision=\"single\", device=\"cuda\")\n",
    "df.to_csv(\"forward_backward_error_fp32.csv\", mode=\"w\", index=False)"
   ]
  },
  {
   "cell_type": "code",
   "execution_count": null,
   "id": "d10a9464-8d34-4674-8005-de32533d61bb",
   "metadata": {},
   "outputs": [],
   "source": [
    "for k in trange(1000):\n",
    "    try:\n",
    "        df = test_LinODE(precision=\"double\", device=\"cuda\")\n",
    "    #         df.to_csv(\"forward_backward_error_fp64.csv\", mode='a', header=False, index=False)\n",
    "    except Exception:\n",
    "        continue"
   ]
  }
 ],
 "metadata": {
  "kernelspec": {
   "display_name": "Python 3",
   "language": "python",
   "name": "python3"
  },
  "language_info": {
   "codemirror_mode": {
    "name": "ipython",
    "version": 3
   },
   "file_extension": ".py",
   "mimetype": "text/x-python",
   "name": "python",
   "nbconvert_exporter": "python",
   "pygments_lexer": "ipython3",
   "version": "3.9.4"
  }
 },
 "nbformat": 4,
 "nbformat_minor": 5
}
