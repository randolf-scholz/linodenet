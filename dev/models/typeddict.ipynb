{
 "cells": [
  {
   "cell_type": "code",
   "execution_count": null,
   "id": "dd947183-25c2-4d7b-b5ea-5838049546dd",
   "metadata": {},
   "outputs": [],
   "source": [
    "from typing import *\n",
    "\n",
    "from typing_extensions import Required"
   ]
  },
  {
   "cell_type": "code",
   "execution_count": null,
   "id": "37bfc3dd-7278-488a-afd7-edd58092af1c",
   "metadata": {},
   "outputs": [],
   "source": []
  },
  {
   "cell_type": "code",
   "execution_count": null,
   "id": "761b8a45-2262-46b7-9cbb-dd97af47dbe2",
   "metadata": {},
   "outputs": [],
   "source": []
  },
  {
   "cell_type": "code",
   "execution_count": null,
   "id": "4848440a-6e1a-42f6-8a40-574c9750109a",
   "metadata": {},
   "outputs": [],
   "source": []
  },
  {
   "cell_type": "code",
   "execution_count": null,
   "id": "0dd2d126-4bfa-44f5-b9e4-328cfe8e0141",
   "metadata": {},
   "outputs": [],
   "source": [
    "class HP(TypedDict):\n",
    "    input_size: Required[int]\n",
    "    hidden_size: int"
   ]
  },
  {
   "cell_type": "code",
   "execution_count": null,
   "id": "f6bc2a77-e922-4dfc-a183-49607e907a45",
   "metadata": {},
   "outputs": [],
   "source": [
    "class Point2D(TypedDict, total=False):\n",
    "    x: Required[int]\n",
    "    y: Required[int]\n",
    "    label: str"
   ]
  },
  {
   "cell_type": "code",
   "execution_count": null,
   "id": "58517d2b-cc56-400f-8c91-d1f86a75195c",
   "metadata": {},
   "outputs": [],
   "source": [
    "isinstance(Point2D(), Point2D)"
   ]
  },
  {
   "cell_type": "code",
   "execution_count": null,
   "id": "bdbd83ef-4b86-4ae7-8e77-25612f605a6f",
   "metadata": {},
   "outputs": [],
   "source": [
    "class Config(type):\n",
    "    \"\"\"Metaclass for configs.\n",
    "\n",
    "    A config behaves like a dataclass and maps one-to-one to a JSON file.\n",
    "    It supports a limited number of types\n",
    "    \"\"\"\n",
    "\n",
    "    def __init__(cls, name: str, bases: tuple[type, ...], namespace: dict[str, Any]):\n",
    "        pass"
   ]
  },
  {
   "cell_type": "code",
   "execution_count": null,
   "id": "1974dc9a-6b91-4c12-b904-7590dae54dc2",
   "metadata": {},
   "outputs": [],
   "source": [
    "Config()"
   ]
  },
  {
   "cell_type": "code",
   "execution_count": null,
   "id": "ee817733-c2f2-470b-a6bd-cf9f1bb5d54c",
   "metadata": {},
   "outputs": [],
   "source": []
  }
 ],
 "metadata": {
  "kernelspec": {
   "display_name": "Python 3 (ipykernel)",
   "language": "python",
   "name": "python3"
  },
  "language_info": {
   "codemirror_mode": {
    "name": "ipython",
    "version": 3
   },
   "file_extension": ".py",
   "mimetype": "text/x-python",
   "name": "python",
   "nbconvert_exporter": "python",
   "pygments_lexer": "ipython3",
   "version": "3.10.11"
  }
 },
 "nbformat": 4,
 "nbformat_minor": 5
}
