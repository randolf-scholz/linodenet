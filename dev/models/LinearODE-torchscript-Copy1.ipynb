{
 "cells": [
  {
   "cell_type": "markdown",
   "id": "39292b04-30c3-49c2-8715-9b0a966e0737",
   "metadata": {},
   "source": [
    "# Optimizing Performance by using torchscript to jit-compile ODE model\n",
    "\n",
    "This should be ~50% faster, even on CPU\n",
    "\n",
    "We make use of the details provided at https://pytorch.org/blog/optimizing-cuda-rnn-with-torchscript/"
   ]
  },
  {
   "cell_type": "code",
   "execution_count": null,
   "id": "64443b5e-7410-4344-9b40-1cdc71d500f9",
   "metadata": {},
   "outputs": [],
   "source": [
    "%config InlineBackend.figure_format = 'svg'"
   ]
  },
  {
   "cell_type": "code",
   "execution_count": null,
   "id": "331c37ea-d9d5-4457-9ff1-23159c5dde43",
   "metadata": {
    "tags": []
   },
   "outputs": [],
   "source": [
    "import torch\n",
    "import torchdiffeq\n",
    "from torch import nn, Tensor\n",
    "from torch.nn import GRUCell\n",
    "import numpy as np\n",
    "from opt_einsum import contract\n",
    "from tqdm.auto import trange\n",
    "from typing import Union, Callable\n",
    "from scipy import stats\n",
    "import matplotlib.pyplot as plt\n",
    "from scipy.integrate import odeint"
   ]
  },
  {
   "cell_type": "code",
   "execution_count": null,
   "id": "2943e185-fbfc-4b7b-8277-ddb83148a76e",
   "metadata": {},
   "outputs": [],
   "source": [
    "from tsdm.util import scaled_norm, visualize_distribution"
   ]
  },
  {
   "cell_type": "code",
   "execution_count": null,
   "id": "bdbf7257-1231-493f-8f1a-d565a0c79279",
   "metadata": {},
   "outputs": [],
   "source": [
    "plt.rc(\"text\", usetex=True)\n",
    "plt.rc(\"text.latex\", preamble=r\"\\usepackage{{amsmath}}\")"
   ]
  },
  {
   "cell_type": "code",
   "execution_count": null,
   "id": "2362f548-c491-4693-a307-cb932d6a48f7",
   "metadata": {},
   "outputs": [],
   "source": [
    "def scaled_Lp(x, p=2):\n",
    "    x = np.abs(x)\n",
    "    if p == 0:\n",
    "        # https://math.stackexchange.com/q/282271/99220\n",
    "        return stats.gmean(x, axis=None)\n",
    "    elif p == 1:\n",
    "        return np.mean(x)\n",
    "    elif p == 2:\n",
    "        return np.sqrt(np.mean(x**2))\n",
    "    elif p == np.inf:\n",
    "        return np.max(x)\n",
    "    else:\n",
    "        x = x.astype(np.float128)\n",
    "        return np.mean(x**p) ** (1 / p)"
   ]
  },
  {
   "cell_type": "code",
   "execution_count": null,
   "id": "c57bc597-e937-4996-a3a3-a1f953378e82",
   "metadata": {},
   "outputs": [],
   "source": [
    "def visualize_distribution(x, bins=50, log=True, ax=None):\n",
    "    x = np.array(x)\n",
    "    nans = np.isnan(x)\n",
    "    x = x[~nans]\n",
    "\n",
    "    if ax is None:\n",
    "        fig, ax = plt.subplots(figsize=(10, 6), tight_layout=True)\n",
    "\n",
    "    ax.grid(axis=\"x\")\n",
    "    ax.set_axisbelow(True)\n",
    "\n",
    "    if log:\n",
    "        z = np.log10(x)\n",
    "        ax.set_xscale(\"log\")\n",
    "        ax.set_yscale(\"log\")\n",
    "        low = np.floor(np.quantile(z, 0.01))\n",
    "        high = np.quantile(z, 0.99)\n",
    "        x = x[(z >= low) & (z <= high)]\n",
    "        bins = np.logspace(low, high, num=bins, base=10)\n",
    "    ax.hist(x, bins=bins, density=True)\n",
    "    ax.text(\n",
    "        0.975,\n",
    "        0.975,\n",
    "        r\"\\begin{tabular}{ll}\"\n",
    "        + f\"NaNs   & {100*np.mean(nans):.2f}\\%\"\n",
    "        + r\" \\\\ \"\n",
    "        + f\"Mean   & {np.mean(x):.2e}\"\n",
    "        + r\" \\\\ \"\n",
    "        + f\"Median & {np.median(x):.2e}\"\n",
    "        + r\" \\\\ \"\n",
    "        + f\"Mode   & {stats.mode(x)[0][0]:.2e}\"\n",
    "        + r\" \\\\ \"\n",
    "        + f\"stdev  & {np.std(x):.2e}\"\n",
    "        + r\" \\\\ \"\n",
    "        + r\"\\end{tabular}\",\n",
    "        transform=ax.transAxes,\n",
    "        va=\"top\",\n",
    "        ha=\"right\",\n",
    "        snap=True,\n",
    "    )"
   ]
  },
  {
   "cell_type": "code",
   "execution_count": null,
   "id": "95c60ba3-1afb-4bff-9cfc-b026aded3f64",
   "metadata": {},
   "outputs": [],
   "source": [
    "class LinODECell(torch.jit.ScriptModule):\n",
    "    \"\"\"\n",
    "    Linear System module\n",
    "\n",
    "    x' = Ax + Bu + w\n",
    "     y = Cx + Du + v\n",
    "\n",
    "    \"\"\"\n",
    "\n",
    "    def __init__(\n",
    "        self,\n",
    "        input_size,\n",
    "        kernel_initialization: Union[torch.Tensor, Callable[int, torch.Tensor]] = None,\n",
    "        homogeneous: bool = True,\n",
    "        matrix_type: str = None,\n",
    "        device=torch.device(\"cpu\"),\n",
    "        dtype=torch.float32,\n",
    "    ):\n",
    "        \"\"\"\n",
    "        kernel_initialization: torch.tensor or callable\n",
    "            either a tensor to assign to the kernel at initialization\n",
    "            or a callable f: int -> torch.Tensor|L\n",
    "        \"\"\"\n",
    "        super(LinODECell, self).__init__()\n",
    "\n",
    "        if kernel_initialization is None:\n",
    "            self.kernel_initialization = lambda: torch.randn(\n",
    "                input_size, input_size\n",
    "            ) / np.sqrt(input_size)\n",
    "        elif callable(kernel_initialization):\n",
    "            self.kernel = lambda: torch.tensor(kernel_initialization(input_size))\n",
    "        else:\n",
    "            self.kernel_initialization = lambda: torch.tensor(kernel_initialization)\n",
    "\n",
    "        self.kernel = nn.Parameter(self.kernel_initialization())\n",
    "\n",
    "        if not homogeneous:\n",
    "            self.bias = nn.Parameter(torch.randn(input_size))\n",
    "            raise NotImplementedError(\"Inhomogeneous Linear Model not implemented yet.\")\n",
    "\n",
    "        self.to(device=device, dtype=dtype)\n",
    "\n",
    "    @torch.jit.script_method\n",
    "    def forward(self, Δt, x):\n",
    "        \"\"\"\n",
    "        Inputs:\n",
    "        Δt: (...,)\n",
    "        x:  (..., M)\n",
    "\n",
    "        Outputs:\n",
    "        xhat:  (..., M)\n",
    "\n",
    "\n",
    "        Forward using matrix exponential\n",
    "        # TODO: optimize if clauses away by changing definition in constructor.\n",
    "        \"\"\"\n",
    "\n",
    "        AΔt = torch.einsum(\"kl, ... -> ...kl\", self.kernel, Δt)\n",
    "        expAΔt = torch.matrix_exp(AΔt)\n",
    "        xhat = torch.einsum(\"...kl, ...l -> ...k\", expAΔt, x)\n",
    "\n",
    "        return xhat"
   ]
  },
  {
   "cell_type": "code",
   "execution_count": null,
   "id": "c15ecb51-d911-499f-8dff-e35619cbb968",
   "metadata": {},
   "outputs": [],
   "source": [
    "class LinODE(torch.jit.ScriptModule):\n",
    "    def __init__(self, *cell_args, **cell_kwargs):\n",
    "        super(LinODE, self).__init__()\n",
    "        self.cell = LinODECell(*cell_args, **cell_kwargs)\n",
    "\n",
    "    @torch.jit.script_method\n",
    "    def forward(self, x0: Tensor, T: Tensor) -> Tensor:\n",
    "\n",
    "        ΔT = torch.diff(T)\n",
    "        x = torch.empty((len(T), len(x0)), dtype=x0.dtype)\n",
    "        #         x = torch.jit.annotate(List[Tensor], [])\n",
    "        x[0] = x0\n",
    "\n",
    "        for i, Δt in enumerate(ΔT):\n",
    "            x[i + 1] = self.cell(Δt, x[i])\n",
    "\n",
    "        return x"
   ]
  },
  {
   "cell_type": "code",
   "execution_count": null,
   "id": "aaa5bb56-f382-40de-9587-4a6becd6bb5d",
   "metadata": {},
   "outputs": [],
   "source": [
    "class LinODE(torch.jit.ScriptModule):\n",
    "    def __init__(self, *cell_args, **cell_kwargs):\n",
    "        super(LinODE, self).__init__()\n",
    "        self.cell = LinODECell(*cell_args, **cell_kwargs)\n",
    "\n",
    "    @torch.jit.script_method\n",
    "    def forward(self, x0: Tensor, T: Tensor) -> Tensor:\n",
    "\n",
    "        ΔT = torch.diff(T)\n",
    "        x = torch.jit.annotate(List[Tensor], [])\n",
    "        x += [x0]\n",
    "\n",
    "        for i, Δt in enumerate(ΔT):\n",
    "            x += [self.cell(Δt, x[-1])]\n",
    "\n",
    "        return torch.stack(x)"
   ]
  },
  {
   "cell_type": "markdown",
   "id": "bd26f3f6-6309-4838-9e41-e8d8ee1ae74c",
   "metadata": {},
   "source": [
    "# Testing the Forward\n",
    "\n",
    "We compare against `torchdiffeq.odeint`"
   ]
  },
  {
   "cell_type": "code",
   "execution_count": null,
   "id": "5109ab7e-ab24-4fdc-ad68-b54de9d16855",
   "metadata": {},
   "outputs": [],
   "source": [
    "def test_LinODE(\n",
    "    dim=None,\n",
    "    num=None,\n",
    "    tol=1e-3,\n",
    "    precision=\"single\",\n",
    "    relative_error=True,\n",
    "    device=torch.device(\"cpu\"),\n",
    "):\n",
    "    if precision == \"single\":\n",
    "        eps = 2**-24\n",
    "        numpy_dtype = np.float32\n",
    "        torch_dtype = torch.float32\n",
    "    elif precision == \"double\":\n",
    "        eps = 2**-53\n",
    "        numpy_dtype = np.float64\n",
    "        torch_dtype = torch.float64\n",
    "    else:\n",
    "        raise ValueError\n",
    "\n",
    "    num = np.random.randint(low=20, high=1000) or num\n",
    "    dim = np.random.randint(low=2, high=100) or dim\n",
    "    t0, t1 = np.random.uniform(low=-10, high=10, size=(2,)).astype(numpy_dtype)\n",
    "    A = np.random.randn(dim, dim).astype(numpy_dtype)\n",
    "    x0 = np.random.randn(dim).astype(numpy_dtype)\n",
    "    T = np.random.uniform(low=t0, high=t1, size=num - 2).astype(numpy_dtype)\n",
    "    T = np.sort([t0, *T, t1]).astype(numpy_dtype)\n",
    "    func = lambda t, x: A @ x\n",
    "\n",
    "    X = odeint(func, x0, T, tfirst=True)\n",
    "\n",
    "    model = LinODE(\n",
    "        input_size=dim, kernel_initialization=A, dtype=torch_dtype, device=device\n",
    "    )\n",
    "    Xhat = model(\n",
    "        torch.tensor(x0, dtype=torch_dtype, device=device),\n",
    "        torch.tensor(T, dtype=torch_dtype, device=device),\n",
    "    )\n",
    "    Xhat = Xhat.detach().cpu().numpy()\n",
    "\n",
    "    err = np.abs(X - Xhat)\n",
    "\n",
    "    if relative_error:\n",
    "        err /= np.abs(X) + eps\n",
    "\n",
    "    return np.array([scaled_Lp(err, p=p) for p in (1, 2, np.inf)])"
   ]
  },
  {
   "cell_type": "markdown",
   "id": "c3972139-0f34-4286-8c54-7bc899023db8",
   "metadata": {},
   "source": [
    "## Checking LinODE error\n",
    "\n",
    "We compare results from our LinODE against scipy's odeint, averaged across different number of dimensions."
   ]
  },
  {
   "cell_type": "code",
   "execution_count": null,
   "id": "4c945de2-a329-41e8-9c5a-2e48adac4e2e",
   "metadata": {},
   "outputs": [],
   "source": [
    "err_single = np.array([test_LinODE() for _ in trange(1_000)]).T"
   ]
  },
  {
   "cell_type": "code",
   "execution_count": null,
   "id": "8e539c74-77ae-4c79-814d-e923386356fe",
   "metadata": {},
   "outputs": [],
   "source": [
    "err_double = np.array([test_LinODE(precision=\"double\") for _ in trange(1_000)]).T"
   ]
  },
  {
   "cell_type": "code",
   "execution_count": null,
   "id": "ff9f32fd-3563-40e0-970d-1934e463ef1d",
   "metadata": {},
   "outputs": [],
   "source": [
    "with plt.style.context(\"bmh\"):\n",
    "    fig, ax = plt.subplots(\n",
    "        ncols=3, nrows=2, figsize=(10, 5), tight_layout=True, sharey=True, sharex=True\n",
    "    )\n",
    "\n",
    "for i, err in enumerate((err_single, err_double)):\n",
    "    for j, p in enumerate((1, 2, np.inf)):\n",
    "        visualize_distribution(err[j], log=True, ax=ax[i, j])\n",
    "        if j == 0:\n",
    "            ax[i, 0].annotate(\n",
    "                f\"FP{32*(i+1)}\",\n",
    "                xy=(0, 0.5),\n",
    "                xytext=(-ax[i, 0].yaxis.labelpad - 5, 0),\n",
    "                xycoords=ax[i, 0].yaxis.label,\n",
    "                textcoords=\"offset points\",\n",
    "                size=\"xx-large\",\n",
    "                ha=\"right\",\n",
    "                va=\"center\",\n",
    "            )\n",
    "        if i == 1:\n",
    "            ax[i, j].set_xlabel(f\"scaled, relative L{p} error\")\n",
    "\n",
    "fig.savefig(\"linode_error_plot_torchscript.svg\")"
   ]
  },
  {
   "cell_type": "markdown",
   "id": "7c630dc7-1cd6-43f0-848e-3df6ff8c67b1",
   "metadata": {},
   "source": [
    "# Testing the Backward\n",
    "\n",
    "We compare against `torchdiffeq.odeint`"
   ]
  },
  {
   "cell_type": "code",
   "execution_count": null,
   "id": "286669af-47ed-4099-8dd2-9819db583e30",
   "metadata": {},
   "outputs": [],
   "source": [
    "from tsdm.util import scaled_norm"
   ]
  }
 ],
 "metadata": {
  "kernelspec": {
   "display_name": "Python 3",
   "language": "python",
   "name": "python3"
  },
  "language_info": {
   "codemirror_mode": {
    "name": "ipython",
    "version": 3
   },
   "file_extension": ".py",
   "mimetype": "text/x-python",
   "name": "python",
   "nbconvert_exporter": "python",
   "pygments_lexer": "ipython3",
   "version": "3.9.4"
  }
 },
 "nbformat": 4,
 "nbformat_minor": 5
}
