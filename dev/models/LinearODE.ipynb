{
 "cells": [
  {
   "cell_type": "markdown",
   "id": "39292b04-30c3-49c2-8715-9b0a966e0737",
   "metadata": {},
   "source": [
    "# Linear ODE module"
   ]
  },
  {
   "cell_type": "code",
   "execution_count": null,
   "id": "64443b5e-7410-4344-9b40-1cdc71d500f9",
   "metadata": {},
   "outputs": [],
   "source": [
    "%config InlineBackend.figure_format = 'svg'"
   ]
  },
  {
   "cell_type": "code",
   "execution_count": null,
   "id": "331c37ea-d9d5-4457-9ff1-23159c5dde43",
   "metadata": {
    "tags": []
   },
   "outputs": [],
   "source": [
    "import torch\n",
    "from torch import nn\n",
    "from torch.nn import GRUCell\n",
    "import numpy as np\n",
    "from opt_einsum import contract\n",
    "from tqdm.auto import trange\n",
    "from typing import Union, Callable\n",
    "from scipy import stats\n",
    "from scipy.integrate import odeint\n",
    "import matplotlib.pyplot as plt"
   ]
  },
  {
   "cell_type": "code",
   "execution_count": null,
   "id": "738694c3-6c41-4ef3-bcaf-df5af94813b9",
   "metadata": {},
   "outputs": [],
   "source": [
    "plt.rc(\"text\", usetex=True)\n",
    "plt.rc(\"text.latex\", preamble=r\"\\usepackage{{amsmath}}\")"
   ]
  },
  {
   "cell_type": "markdown",
   "id": "52fe6443-6df5-4eaf-a7a2-8984e5f75ee3",
   "metadata": {},
   "source": [
    "## 1. Implementation"
   ]
  },
  {
   "cell_type": "code",
   "execution_count": null,
   "id": "c93c43de-a8e7-490c-8f79-8d22a95a9c11",
   "metadata": {},
   "outputs": [],
   "source": [
    "class LinODE(nn.Module):\n",
    "    \"\"\"\n",
    "    Linear System module\n",
    "\n",
    "    x' = Ax + Bu + w\n",
    "     y = Cx + Du + v\n",
    "\n",
    "    \"\"\"\n",
    "\n",
    "    def __init__(\n",
    "        self,\n",
    "        input_size,\n",
    "        kernel_initialization: Union[torch.Tensor, Callable[int, torch.Tensor]] = None,\n",
    "        homogeneous: bool = True,\n",
    "        matrix_type: str = None,\n",
    "        device=torch.device(\"cpu\"),\n",
    "        dtype=torch.float32,\n",
    "    ):\n",
    "        \"\"\"\n",
    "        kernel_initialization: torch.tensor or callable\n",
    "            either a tensor to assign to the kernel at initialization\n",
    "            or a callable f: int -> torch.Tensor|L\n",
    "        \"\"\"\n",
    "        super(LinODE, self).__init__()\n",
    "\n",
    "        if kernel_initialization is None:\n",
    "            self.kernel_initialization = lambda: torch.randn(\n",
    "                input_size, input_size\n",
    "            ) / np.sqrt(input_size)\n",
    "        elif callable(kernel_initialization):\n",
    "            self.kernel = lambda: torch.tensor(kernel_initialization(input_size))\n",
    "        else:\n",
    "            self.kernel_initialization = lambda: torch.tensor(kernel_initialization)\n",
    "\n",
    "        self.kernel = nn.Parameter(self.kernel_initialization())\n",
    "\n",
    "        if not homogeneous:\n",
    "            self.bias = nn.Parameter(torch.randn(input_size))\n",
    "            raise NotImplementedError(\"Inhomogeneous Linear Model not implemented yet.\")\n",
    "\n",
    "        self.to(device=device, dtype=dtype)\n",
    "\n",
    "    def forward(self, Δt, x):\n",
    "        \"\"\"\n",
    "        Inputs:\n",
    "            Δt: (...,)\n",
    "            x:  (..., M)\n",
    "\n",
    "        Outputs:\n",
    "            xhat:  (..., M)\n",
    "\n",
    "        Forward using matrix exponential\n",
    "        # TODO: optimize if clauses away by changing definition in constructor.\n",
    "        \"\"\"\n",
    "\n",
    "        AΔt = contract(\"kl, ... -> ...kl\", self.kernel, Δt)\n",
    "        expAΔt = torch.matrix_exp(AΔt)\n",
    "        xhat = contract(\"...kl, ...l -> ...k\", expAΔt, x)\n",
    "\n",
    "        return xhat"
   ]
  },
  {
   "cell_type": "code",
   "execution_count": null,
   "id": "2362f548-c491-4693-a307-cb932d6a48f7",
   "metadata": {},
   "outputs": [],
   "source": [
    "def scaled_Lp(x, p=2):\n",
    "    x = np.abs(x)\n",
    "    if p == 0:\n",
    "        # https://math.stackexchange.com/q/282271/99220\n",
    "        return stats.gmean(x, axis=None)\n",
    "    elif p == 1:\n",
    "        return np.mean(x)\n",
    "    elif p == 2:\n",
    "        return np.sqrt(np.mean(x**2))\n",
    "    elif p == np.inf:\n",
    "        return np.max(x)\n",
    "    else:\n",
    "        x = x.astype(np.float128)\n",
    "        return np.mean(x**p) ** (1 / p)"
   ]
  },
  {
   "cell_type": "code",
   "execution_count": null,
   "id": "c57bc597-e937-4996-a3a3-a1f953378e82",
   "metadata": {},
   "outputs": [],
   "source": [
    "def visualize_distribution(x, bins=50, log=True, ax=None):\n",
    "    x = np.array(x)\n",
    "    nans = np.isnan(x)\n",
    "    x = x[~nans]\n",
    "\n",
    "    if ax is None:\n",
    "        fig, ax = plt.subplots(figsize=(10, 6), tight_layout=True)\n",
    "\n",
    "    ax.grid(axis=\"x\")\n",
    "    ax.set_axisbelow(True)\n",
    "\n",
    "    if log:\n",
    "        z = np.log10(x)\n",
    "        ax.set_xscale(\"log\")\n",
    "        ax.set_yscale(\"log\")\n",
    "        low = np.floor(np.quantile(z, 0.01))\n",
    "        high = np.quantile(z, 0.99)\n",
    "        x = x[(z >= low) & (z <= high)]\n",
    "        bins = np.logspace(low, high, num=bins, base=10)\n",
    "    ax.hist(x, bins=bins, density=True)\n",
    "    ax.text(\n",
    "        0.975,\n",
    "        0.975,\n",
    "        r\"\\begin{tabular}{ll}\"\n",
    "        + f\"NaNs   & {100*np.mean(nans):.2f}\\%\"\n",
    "        + r\" \\\\ \"\n",
    "        + f\"Mean   & {np.mean(x):.2e}\"\n",
    "        + r\" \\\\ \"\n",
    "        + f\"Median & {np.median(x):.2e}\"\n",
    "        + r\" \\\\ \"\n",
    "        + f\"Mode   & {stats.mode(x)[0][0]:.2e}\"\n",
    "        + r\" \\\\ \"\n",
    "        + f\"stdev  & {np.std(x):.2e}\"\n",
    "        + r\" \\\\ \"\n",
    "        + r\"\\end{tabular}\",\n",
    "        transform=ax.transAxes,\n",
    "        va=\"top\",\n",
    "        ha=\"right\",\n",
    "        snap=True,\n",
    "    )"
   ]
  },
  {
   "cell_type": "code",
   "execution_count": null,
   "id": "5109ab7e-ab24-4fdc-ad68-b54de9d16855",
   "metadata": {},
   "outputs": [],
   "source": [
    "def test_LinODE(dim=None, num=None, tol=1e-3, precision=\"single\", relative_error=True):\n",
    "    from scipy.integrate import odeint\n",
    "\n",
    "    if precision == \"single\":\n",
    "        eps = 2**-24\n",
    "        numpy_dtype = np.float32\n",
    "        torch_dtype = torch.float32\n",
    "    elif precision == \"double\":\n",
    "        eps = 2**-53\n",
    "        numpy_dtype = np.float64\n",
    "        torch_dtype = torch.float64\n",
    "    else:\n",
    "        raise ValueError\n",
    "\n",
    "    num = np.random.randint(low=20, high=1000) or num\n",
    "    dim = np.random.randint(low=2, high=100) or dim\n",
    "    t0, t1 = np.random.uniform(low=-10, high=10, size=(2,)).astype(numpy_dtype)\n",
    "    A = np.random.randn(dim, dim).astype(numpy_dtype)\n",
    "    x0 = np.random.randn(dim).astype(numpy_dtype)\n",
    "    T = np.random.uniform(low=t0, high=t1, size=num - 2).astype(numpy_dtype)\n",
    "    T = np.sort([t0, *T, t1]).astype(numpy_dtype)\n",
    "    func = lambda t, x: A @ x\n",
    "\n",
    "    X = odeint(func, x0, T, tfirst=True)\n",
    "\n",
    "    model = LinODE(input_size=dim, kernel_initialization=A, dtype=torch_dtype)\n",
    "    ΔT = torch.diff(torch.tensor(T))\n",
    "    Xhat = torch.empty(num, dim, dtype=torch_dtype)\n",
    "    Xhat[0] = torch.tensor(x0)\n",
    "\n",
    "    for i, Δt in enumerate(ΔT):\n",
    "        Xhat[i + 1] = model(Δt, Xhat[i])\n",
    "\n",
    "    Xhat = Xhat.detach().cpu().numpy()\n",
    "\n",
    "    err = np.abs(X - Xhat)\n",
    "\n",
    "    if relative_error:\n",
    "        err /= np.abs(X) + eps\n",
    "\n",
    "    return np.array([scaled_Lp(err, p=p) for p in (1, 2, np.inf)])"
   ]
  },
  {
   "cell_type": "markdown",
   "id": "c3972139-0f34-4286-8c54-7bc899023db8",
   "metadata": {},
   "source": [
    "## 2. Checking LinODE error\n",
    "\n",
    "We compare results from our LinODE against scipy's odeint, averaged across different number of dimensions."
   ]
  },
  {
   "cell_type": "code",
   "execution_count": null,
   "id": "671495d1-1537-49dc-81cd-aa072053c7fb",
   "metadata": {},
   "outputs": [],
   "source": [
    "err_single = np.array([test_LinODE() for _ in trange(1_000)]).T"
   ]
  },
  {
   "cell_type": "code",
   "execution_count": null,
   "id": "d4aaf961-3feb-40c5-92a6-3ef9c9dcc3a4",
   "metadata": {},
   "outputs": [],
   "source": [
    "err_double = np.array([test_LinODE(precision=\"double\") for _ in trange(1_000)]).T"
   ]
  },
  {
   "cell_type": "code",
   "execution_count": null,
   "id": "cd96c3de-22f2-4f9a-8521-3985f0c47b48",
   "metadata": {},
   "outputs": [],
   "source": [
    "with plt.style.context(\"bmh\"):\n",
    "    fig, ax = plt.subplots(\n",
    "        ncols=3, nrows=2, figsize=(10, 5), tight_layout=True, sharey=True, sharex=True\n",
    "    )\n",
    "\n",
    "for i, err in enumerate((err_single, err_double)):\n",
    "    for j, p in enumerate((1, 2, np.inf)):\n",
    "        visualize_distribution(err[j], log=True, ax=ax[i, j])\n",
    "        if j == 0:\n",
    "            ax[i, 0].annotate(\n",
    "                f\"FP{32*(i+1)}\",\n",
    "                xy=(0, 0.5),\n",
    "                xytext=(-ax[i, 0].yaxis.labelpad - 5, 0),\n",
    "                xycoords=ax[i, 0].yaxis.label,\n",
    "                textcoords=\"offset points\",\n",
    "                size=\"xx-large\",\n",
    "                ha=\"right\",\n",
    "                va=\"center\",\n",
    "            )\n",
    "        if i == 1:\n",
    "            ax[i, j].set_xlabel(f\"scaled, relative L{p} error\")\n",
    "\n",
    "fig.savefig(\"linode_error_plot.svg\")"
   ]
  }
 ],
 "metadata": {
  "kernelspec": {
   "display_name": "Python 3 (ipykernel)",
   "language": "python",
   "name": "python3"
  },
  "language_info": {
   "codemirror_mode": {
    "name": "ipython",
    "version": 3
   },
   "file_extension": ".py",
   "mimetype": "text/x-python",
   "name": "python",
   "nbconvert_exporter": "python",
   "pygments_lexer": "ipython3",
   "version": "3.10.6"
  }
 },
 "nbformat": 4,
 "nbformat_minor": 5
}
