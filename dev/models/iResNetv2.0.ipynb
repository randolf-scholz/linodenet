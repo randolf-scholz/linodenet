{
 "cells": [
  {
   "cell_type": "markdown",
   "metadata": {},
   "source": [
    "# Sample Template"
   ]
  },
  {
   "cell_type": "markdown",
   "metadata": {},
   "source": [
    "Here is some sample text, and a first block of code"
   ]
  },
  {
   "cell_type": "code",
   "execution_count": null,
   "metadata": {
    "execution": {
     "iopub.execute_input": "2023-05-17T15:05:43.051709Z",
     "iopub.status.busy": "2023-05-17T15:05:43.051599Z",
     "iopub.status.idle": "2023-05-17T15:05:44.838604Z",
     "shell.execute_reply": "2023-05-17T15:05:44.838170Z",
     "shell.execute_reply.started": "2023-05-17T15:05:43.051696Z"
    },
    "tags": []
   },
   "outputs": [],
   "source": [
    "from collections import OrderedDict\n",
    "from math import sqrt\n",
    "from typing import Any, Final, Iterable, Optional, TypeVar\n",
    "\n",
    "import torch\n",
    "from torch import Tensor, jit, nn\n",
    "from torch._jit_internal import _copy_to_script_wrapper\n",
    "from torch.linalg import matrix_norm, vector_norm\n",
    "from torch.nn import functional\n",
    "from typing_extensions import Self\n",
    "\n",
    "from linodenet.models.encoders.invertible_layers import LinearContraction, iResNetBlock"
   ]
  },
  {
   "cell_type": "code",
   "execution_count": null,
   "metadata": {
    "execution": {
     "iopub.execute_input": "2023-05-17T15:36:03.602229Z",
     "iopub.status.busy": "2023-05-17T15:36:03.602041Z",
     "iopub.status.idle": "2023-05-17T15:36:03.605525Z",
     "shell.execute_reply": "2023-05-17T15:36:03.604825Z",
     "shell.execute_reply.started": "2023-05-17T15:36:03.602216Z"
    },
    "tags": []
   },
   "outputs": [],
   "source": [
    "m = nn.Linear(4, 3, bias=False)"
   ]
  },
  {
   "cell_type": "code",
   "execution_count": null,
   "metadata": {},
   "outputs": [],
   "source": []
  },
  {
   "cell_type": "code",
   "execution_count": null,
   "metadata": {
    "execution": {
     "iopub.execute_input": "2023-05-17T15:05:44.839895Z",
     "iopub.status.busy": "2023-05-17T15:05:44.839583Z",
     "iopub.status.idle": "2023-05-17T15:05:44.842265Z",
     "shell.execute_reply": "2023-05-17T15:05:44.841657Z",
     "shell.execute_reply.started": "2023-05-17T15:05:44.839881Z"
    },
    "tags": []
   },
   "outputs": [],
   "source": [
    "class Stop(nn.Module):\n",
    "    def forward(self, *args, **kwargs):\n",
    "        raise RuntimeError"
   ]
  },
  {
   "cell_type": "code",
   "execution_count": null,
   "metadata": {
    "execution": {
     "iopub.execute_input": "2023-05-17T15:05:44.843564Z",
     "iopub.status.busy": "2023-05-17T15:05:44.843236Z",
     "iopub.status.idle": "2023-05-17T15:05:44.850636Z",
     "shell.execute_reply": "2023-05-17T15:05:44.850093Z",
     "shell.execute_reply.started": "2023-05-17T15:05:44.843548Z"
    },
    "tags": []
   },
   "outputs": [],
   "source": [
    "class iResNet(nn.Module):\n",
    "    r\"\"\"Invertible ResNet consists of a stack of `iResNetBlock` modules.\n",
    "\n",
    "    References\n",
    "    ----------\n",
    "    - | Invertible Residual Networks\n",
    "      | Jens Behrmann, Will Grathwohl, Ricky T. Q. Chen, David Duvenaud, Jörn-Henrik Jacobsen\n",
    "      | International Conference on Machine Learning 2019\n",
    "      | http://proceedings.mlr.press/v97/behrmann19a.html\n",
    "\n",
    "    Attributes\n",
    "    ----------\n",
    "    input_size: int\n",
    "        The dimensionality of the input space.\n",
    "    output_size: int\n",
    "        The dimensionality of the output space.\n",
    "    blocks:  nn.Sequential\n",
    "        Sequential model consisting of the iResNetBlocks\n",
    "    reversed_blocks: nn.Sequential\n",
    "        The same blocks in reversed order\n",
    "    HP: dict\n",
    "        Nested dictionary containing the hyperparameters.\n",
    "    \"\"\"\n",
    "\n",
    "    # Constants\n",
    "    input_size: Final[int]\n",
    "    r\"\"\"CONST: The dimensionality of the inputs.\"\"\"\n",
    "    output_size: Final[int]\n",
    "    r\"\"\"CONST: The dimensionality of the outputs.\"\"\"\n",
    "\n",
    "    HP = {\n",
    "        \"__name__\": __qualname__,  # type: ignore[name-defined]\n",
    "        \"__module__\": __module__,  # type: ignore[name-defined]\n",
    "        \"maxiter\": 10,\n",
    "        \"input_size\": None,\n",
    "        \"dropout\": None,\n",
    "        \"bias\": True,\n",
    "        \"nblocks\": 5,\n",
    "        \"rezero\": False,\n",
    "        \"iResNetBlock\": {\n",
    "            \"input_size\": None,\n",
    "            \"activation\": \"ReLU\",\n",
    "            \"activation_config\": {\"inplace\": False},\n",
    "            \"bias\": True,\n",
    "            \"hidden_size\": None,\n",
    "            \"maxiter\": 100,\n",
    "        },\n",
    "    }\n",
    "    r\"\"\"The hyperparameter dictionary\"\"\"\n",
    "\n",
    "    def __new__(\n",
    "        cls, *modules: nn.Module, inverse: Optional[Self] = None, **hparams: Any\n",
    "    ) -> Self:\n",
    "        r\"\"\"Initialize from hyperparameters.\"\"\"\n",
    "        blocks: list[nn.Module] = [] if modules is None else list(modules)\n",
    "        assert len(blocks) ^ len(hparams), \"Provide either blocks, or hyperparameters!\"\n",
    "\n",
    "        if hparams:\n",
    "            return cls.from_hyperparameters(**hparams)\n",
    "\n",
    "        return super().__new__(cls)\n",
    "\n",
    "    def __init__(\n",
    "        self, *modules: nn.Module, inverse: Optional[Self] = None, **hparams: Any\n",
    "    ) -> None:\n",
    "        r\"\"\"Initialize from hyperparameters.\"\"\"\n",
    "        super().__init__()\n",
    "\n",
    "        layers: list[nn.Module] = [] if modules is None else list(modules)\n",
    "        assert len(layers) ^ len(hparams), \"Provide either blocks, or hyperparameters!\"\n",
    "        if hparams:\n",
    "            raise ValueError\n",
    "\n",
    "        # validate layers\n",
    "        # for layer in layers:\n",
    "        #     assert hasattr(layer, \"inverse\")\n",
    "        #     assert hasattr(layer, \"encode\")\n",
    "        #     assert hasattr(layer, \"decode\")\n",
    "\n",
    "        self.blocks = nn.Sequential(*layers)\n",
    "\n",
    "        # print([layer.is_inverse for layer in self])\n",
    "        if inverse is None:\n",
    "            cls = type(self)\n",
    "            self.inverse = cls(*[layer.inverse for layer in self.blocks], inverse=self)\n",
    "        else:\n",
    "            self.inverse = None\n",
    "\n",
    "    @classmethod\n",
    "    def from_hyperparameters(cls, cfg) -> Self:\n",
    "        raise NotImplementedError\n",
    "\n",
    "    @jit.export\n",
    "    def forward(self, x: Tensor) -> Tensor:\n",
    "        \"\"\"Compute the encoding.\"\"\"\n",
    "        return self.blocks(x)\n",
    "\n",
    "    @jit.export\n",
    "    def encode(self, x: Tensor) -> Tensor:\n",
    "        \"\"\"Compute the encoding.\"\"\"\n",
    "        return self.blocks(x)\n",
    "\n",
    "    @jit.export\n",
    "    def decode(self, y: Tensor) -> Tensor:\n",
    "        r\"\"\"Compute the inverse through fix point iteration in each block in reversed order.\"\"\"\n",
    "        for layer in self.blocks[::-1]:  # traverse in reverse\n",
    "            y = layer.decode(y)\n",
    "        return y"
   ]
  },
  {
   "cell_type": "code",
   "execution_count": null,
   "metadata": {
    "execution": {
     "iopub.execute_input": "2023-05-17T15:05:44.851378Z",
     "iopub.status.busy": "2023-05-17T15:05:44.851252Z",
     "iopub.status.idle": "2023-05-17T15:05:44.858049Z",
     "shell.execute_reply": "2023-05-17T15:05:44.857422Z",
     "shell.execute_reply.started": "2023-05-17T15:05:44.851366Z"
    },
    "tags": []
   },
   "outputs": [],
   "source": [
    "m, n = 5, 5\n",
    "layer = LinearContraction(m, n)\n",
    "model = iResNetBlock(layer)"
   ]
  },
  {
   "cell_type": "code",
   "execution_count": null,
   "metadata": {
    "execution": {
     "iopub.execute_input": "2023-05-17T15:05:44.858972Z",
     "iopub.status.busy": "2023-05-17T15:05:44.858718Z",
     "iopub.status.idle": "2023-05-17T15:05:44.860999Z",
     "shell.execute_reply": "2023-05-17T15:05:44.860603Z",
     "shell.execute_reply.started": "2023-05-17T15:05:44.858959Z"
    },
    "tags": []
   },
   "outputs": [],
   "source": [
    "# model = jit.script(model)"
   ]
  },
  {
   "cell_type": "code",
   "execution_count": null,
   "metadata": {
    "execution": {
     "iopub.execute_input": "2023-05-17T15:05:44.861840Z",
     "iopub.status.busy": "2023-05-17T15:05:44.861532Z",
     "iopub.status.idle": "2023-05-17T15:05:44.864278Z",
     "shell.execute_reply": "2023-05-17T15:05:44.863712Z",
     "shell.execute_reply.started": "2023-05-17T15:05:44.861823Z"
    },
    "tags": []
   },
   "outputs": [],
   "source": [
    "x = torch.randn(5)"
   ]
  },
  {
   "cell_type": "code",
   "execution_count": null,
   "metadata": {
    "execution": {
     "iopub.execute_input": "2023-05-17T15:05:44.866250Z",
     "iopub.status.busy": "2023-05-17T15:05:44.865865Z",
     "iopub.status.idle": "2023-05-17T15:05:44.872542Z",
     "shell.execute_reply": "2023-05-17T15:05:44.872086Z",
     "shell.execute_reply.started": "2023-05-17T15:05:44.866232Z"
    },
    "tags": []
   },
   "outputs": [],
   "source": [
    "model(x)"
   ]
  },
  {
   "cell_type": "code",
   "execution_count": null,
   "metadata": {
    "execution": {
     "iopub.execute_input": "2023-05-17T15:05:44.873454Z",
     "iopub.status.busy": "2023-05-17T15:05:44.873181Z",
     "iopub.status.idle": "2023-05-17T15:05:44.934924Z",
     "shell.execute_reply": "2023-05-17T15:05:44.934459Z",
     "shell.execute_reply.started": "2023-05-17T15:05:44.873436Z"
    },
    "tags": []
   },
   "outputs": [],
   "source": [
    "f = jit.script(iResNet(model, model))"
   ]
  },
  {
   "cell_type": "code",
   "execution_count": null,
   "metadata": {
    "execution": {
     "iopub.execute_input": "2023-05-17T15:05:44.935755Z",
     "iopub.status.busy": "2023-05-17T15:05:44.935496Z",
     "iopub.status.idle": "2023-05-17T15:05:44.984896Z",
     "shell.execute_reply": "2023-05-17T15:05:44.984488Z",
     "shell.execute_reply.started": "2023-05-17T15:05:44.935742Z"
    },
    "tags": []
   },
   "outputs": [],
   "source": [
    "f.decode(x)"
   ]
  },
  {
   "cell_type": "code",
   "execution_count": null,
   "metadata": {},
   "outputs": [],
   "source": []
  },
  {
   "cell_type": "markdown",
   "metadata": {},
   "source": [
    "## A second heading"
   ]
  },
  {
   "cell_type": "markdown",
   "metadata": {},
   "source": [
    "and some more text"
   ]
  },
  {
   "cell_type": "code",
   "execution_count": null,
   "metadata": {},
   "outputs": [],
   "source": []
  }
 ],
 "metadata": {
  "kernelspec": {
   "display_name": "Python 3 (ipykernel)",
   "language": "python",
   "name": "python3"
  },
  "language_info": {
   "codemirror_mode": {
    "name": "ipython",
    "version": 3
   },
   "file_extension": ".py",
   "mimetype": "text/x-python",
   "name": "python",
   "nbconvert_exporter": "python",
   "pygments_lexer": "ipython3",
   "version": "3.10.6"
  }
 },
 "nbformat": 4,
 "nbformat_minor": 4
}
