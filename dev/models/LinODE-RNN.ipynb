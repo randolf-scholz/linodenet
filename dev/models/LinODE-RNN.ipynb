{
 "cells": [
  {
   "cell_type": "markdown",
   "id": "39292b04-30c3-49c2-8715-9b0a966e0737",
   "metadata": {},
   "source": [
    "# Optimizing Performance by using torchscript to jit-compile ODE model\n",
    "\n",
    "We make use of the details provided at https://pytorch.org/blog/optimizing-cuda-rnn-with-torchscript/"
   ]
  },
  {
   "cell_type": "code",
   "execution_count": null,
   "id": "64443b5e-7410-4344-9b40-1cdc71d500f9",
   "metadata": {},
   "outputs": [],
   "source": [
    "%config InlineBackend.figure_format = 'retina'"
   ]
  },
  {
   "cell_type": "code",
   "execution_count": null,
   "id": "331c37ea-d9d5-4457-9ff1-23159c5dde43",
   "metadata": {
    "tags": []
   },
   "outputs": [],
   "source": [
    "from typing import Callable, Final, Union\n",
    "\n",
    "import matplotlib.pyplot as plt\n",
    "import numpy as np\n",
    "import pandas\n",
    "import torch\n",
    "import torchdiffeq\n",
    "from opt_einsum import contract\n",
    "from scipy import stats\n",
    "from scipy.integrate import odeint\n",
    "from torch import Tensor, jit, nn, optim\n",
    "from torch.nn import GRUCell\n",
    "from tqdm.auto import trange"
   ]
  },
  {
   "cell_type": "code",
   "execution_count": null,
   "id": "dacb010c-87fb-42c2-90f5-7bd2bdadaebf",
   "metadata": {},
   "outputs": [],
   "source": [
    "import tsdm\n",
    "from tsdm.util import deep_dict_update\n",
    "\n",
    "from linodenet import init\n",
    "from linodenet.models import (\n",
    "    LinearContraction,\n",
    "    LinODE,\n",
    "    LinODECell,\n",
    "    LinODEnet,\n",
    "    iResNet,\n",
    "    iResNetBlock,\n",
    ")"
   ]
  },
  {
   "cell_type": "code",
   "execution_count": null,
   "id": "2769f7b2-4147-4109-9c15-676047f1518c",
   "metadata": {},
   "outputs": [],
   "source": [
    "from pandas import DataFrame, DatetimeIndex, Series, Timedelta, Timestamp\n",
    "from pandas.tseries.offsets import DateOffset"
   ]
  },
  {
   "cell_type": "code",
   "execution_count": null,
   "id": "93977ebc-5702-49db-a91b-d03aee2219e1",
   "metadata": {},
   "outputs": [],
   "source": [
    "df = tsdm.load_dataset(\"electricity\")\n",
    "ΔT = np.diff(df.index)\n",
    "Δt = ΔT[0].astype(\"timedelta64[m]\")\n",
    "assert np.all(ΔT == Δt)\n",
    "N, M = df.shape\n",
    "# remove first year from the data (useless zeros)\n",
    "span = np.timedelta64(365, \"D\") // Δt - 1\n",
    "df = df.iloc[span:]"
   ]
  },
  {
   "cell_type": "code",
   "execution_count": null,
   "id": "71aaadbc-a808-4c5e-86db-1b31ee6c6c3e",
   "metadata": {},
   "outputs": [],
   "source": [
    "time = df.index\n",
    "\n",
    "time[0], time[-1]"
   ]
  },
  {
   "cell_type": "code",
   "execution_count": null,
   "id": "2abd45a7-68c9-41a8-8429-3d97204b2fea",
   "metadata": {},
   "outputs": [],
   "source": [
    "df.index[0] - Timestamp(\"2014-03-31\")"
   ]
  },
  {
   "cell_type": "markdown",
   "id": "540c1397-a70c-4d3d-815c-49551e2a7749",
   "metadata": {},
   "source": [
    "### Train test split\n",
    "For details check N-BEATS paper"
   ]
  },
  {
   "cell_type": "code",
   "execution_count": null,
   "id": "18c13d90-ac02-4f89-b293-31746e78d1d5",
   "metadata": {},
   "outputs": [],
   "source": [
    "split_dates = [\n",
    "    Timestamp(\"2014-09-01\"),\n",
    "    Timestamp(\"2014-03-31\"),\n",
    "    df.index[-1] - DateOffset(days=7),\n",
    "]\n",
    "assert Series(split_dates).isin(df.index).all()\n",
    "split = split_dates[-1]\n",
    "\n",
    "X_TRAIN = df.loc[:split]\n",
    "X_TEST = df.loc[split:]"
   ]
  },
  {
   "cell_type": "markdown",
   "id": "ac341110-69d2-40d9-ab71-e4594b9f3580",
   "metadata": {},
   "source": [
    "### Pre-processing"
   ]
  },
  {
   "cell_type": "code",
   "execution_count": null,
   "id": "800dd91a-cb10-4b2f-bc9f-26493941cce1",
   "metadata": {},
   "outputs": [],
   "source": [
    "# Optionm 1: Normalization"
   ]
  },
  {
   "cell_type": "code",
   "execution_count": null,
   "id": "b5999d55-76b3-4296-941f-1599c60592ca",
   "metadata": {},
   "outputs": [],
   "source": [
    "# Option 1: aggregation\n",
    "X_TRAIN.resample(\"1H\").sum()\n",
    "X_TEST.resample(\"1H\").mean()"
   ]
  },
  {
   "cell_type": "code",
   "execution_count": null,
   "id": "ee442b9a-4283-4a8c-bac5-c71ae4fdbb38",
   "metadata": {},
   "outputs": [],
   "source": []
  },
  {
   "cell_type": "code",
   "execution_count": null,
   "id": "c1cfbe69-521a-4c29-9724-da712723b6d9",
   "metadata": {},
   "outputs": [],
   "source": [
    "T_TRAIN.resample(\"2H\")"
   ]
  },
  {
   "cell_type": "code",
   "execution_count": null,
   "id": "d479e641-2b66-4bc9-8765-85df9cd12908",
   "metadata": {},
   "outputs": [],
   "source": [
    "device = torch.device(\"cuda\")\n",
    "dtype = torch.float32"
   ]
  },
  {
   "cell_type": "code",
   "execution_count": null,
   "id": "cd96b928-37e5-4a6d-afa5-0423809ba079",
   "metadata": {},
   "outputs": [],
   "source": [
    "torch.tensor(T_TRAIN)"
   ]
  },
  {
   "cell_type": "code",
   "execution_count": null,
   "id": "ae0b0c79-48de-475e-a1bc-2ae466d72f17",
   "metadata": {},
   "outputs": [],
   "source": [
    "final_time = time[-1]\n",
    "final_time, final_time - DateOffset(months=1)"
   ]
  },
  {
   "cell_type": "code",
   "execution_count": null,
   "id": "c58a466e-a9d8-4a7e-9d54-1d4a1eb18360",
   "metadata": {},
   "outputs": [],
   "source": []
  },
  {
   "cell_type": "code",
   "execution_count": null,
   "id": "6b6a48fb-df4b-46f2-80e3-38d613b41d0a",
   "metadata": {},
   "outputs": [],
   "source": []
  },
  {
   "cell_type": "code",
   "execution_count": null,
   "id": "6dddb4b9-d15f-4bde-b975-a3e2973792ae",
   "metadata": {},
   "outputs": [],
   "source": [
    "X = torch.tensor(df.values)"
   ]
  },
  {
   "cell_type": "code",
   "execution_count": null,
   "id": "c60b45b3-de5a-4fb0-86e4-178c0e7723e7",
   "metadata": {},
   "outputs": [],
   "source": [
    "LEN = 100"
   ]
  },
  {
   "cell_type": "code",
   "execution_count": null,
   "id": "ae4013ea-8463-4eb1-b06c-9b77ff8961ff",
   "metadata": {},
   "outputs": [],
   "source": [
    "model = LinODE_RNN(input_size=370, hidden_size=400)\n",
    "optimizer = optim.Adamax(model.parameters(), lr=0.001)"
   ]
  },
  {
   "cell_type": "code",
   "execution_count": null,
   "id": "2b657392-f3df-44b6-9fab-121c04901329",
   "metadata": {},
   "outputs": [],
   "source": [
    "for n in (pbar := trange(1000)):\n",
    "    optimizer.zero_grad()\n",
    "\n",
    "    pbar.set_postfix({key: float(val) for key, val in train_res.items()})\n",
    "    train_res[\"loss\"].backward()\n",
    "    optimizer.step()"
   ]
  },
  {
   "cell_type": "code",
   "execution_count": null,
   "id": "ed8bebb4-83a5-4b21-97b1-31b1e953ed64",
   "metadata": {},
   "outputs": [],
   "source": [
    "n = 1000\n",
    "x = np.random.randn(n)\n",
    "for k in range(5):\n",
    "    A = np.eye(n) + np.random.normal(loc=0, scale=1 / n, size=(n, n))\n",
    "    y = A @ x\n",
    "    print(f\"{y.mean():.6f}  {y.std():.6f}\")"
   ]
  },
  {
   "cell_type": "code",
   "execution_count": null,
   "id": "675ba302-5f5e-4a58-8ece-08cd96ccf416",
   "metadata": {},
   "outputs": [],
   "source": [
    "SHAPE = (5, 5, 5, 5)\n",
    "DIM = 5"
   ]
  },
  {
   "cell_type": "code",
   "execution_count": null,
   "id": "36446f7e-220c-491f-ae22-2728aacacf04",
   "metadata": {},
   "outputs": [],
   "source": []
  },
  {
   "cell_type": "code",
   "execution_count": null,
   "id": "5118c4f1-0c1d-4182-86a6-8b8b8618d4a9",
   "metadata": {},
   "outputs": [],
   "source": []
  }
 ],
 "metadata": {
  "kernelspec": {
   "display_name": "Python 3 (ipykernel)",
   "language": "python",
   "name": "python3"
  },
  "language_info": {
   "codemirror_mode": {
    "name": "ipython",
    "version": 3
   },
   "file_extension": ".py",
   "mimetype": "text/x-python",
   "name": "python",
   "nbconvert_exporter": "python",
   "pygments_lexer": "ipython3",
   "version": "3.10.6"
  }
 },
 "nbformat": 4,
 "nbformat_minor": 5
}
