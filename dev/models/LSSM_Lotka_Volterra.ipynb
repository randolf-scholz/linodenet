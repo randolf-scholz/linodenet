{
 "cells": [
  {
   "cell_type": "code",
   "execution_count": null,
   "metadata": {
    "execution": {
     "iopub.execute_input": "2023-05-17T19:16:32.821482Z",
     "iopub.status.busy": "2023-05-17T19:16:32.821020Z",
     "iopub.status.idle": "2023-05-17T19:16:34.632626Z",
     "shell.execute_reply": "2023-05-17T19:16:34.632262Z",
     "shell.execute_reply.started": "2023-05-17T19:16:32.821442Z"
    },
    "tags": []
   },
   "outputs": [],
   "source": [
    "import torch\n",
    "from torch import Tensor, jit, nn\n",
    "from torch.optim import AdamW\n",
    "from tqdm.autonotebook import tqdm\n",
    "\n",
    "from linodenet.models import LatentStateSpaceModel as LSSM\n",
    "from linodenet.models.embeddings import ConcatEmbedding, ConcatProjection\n",
    "from linodenet.models.encoders.invertible_layers import (\n",
    "    LinearContraction,\n",
    "    NaiveLinearContraction,\n",
    "    iResNetBlock,\n",
    "    iSequential,\n",
    ")\n",
    "from linodenet.models.filters import LinearFilter, NonLinearFilter, SequentialFilter\n",
    "from linodenet.models.system import LinODECell\n",
    "from linodenet.utils import ReZeroCell"
   ]
  },
  {
   "cell_type": "code",
   "execution_count": null,
   "metadata": {
    "execution": {
     "iopub.execute_input": "2023-05-17T19:16:34.633788Z",
     "iopub.status.busy": "2023-05-17T19:16:34.633539Z",
     "iopub.status.idle": "2023-05-17T19:16:34.843287Z",
     "shell.execute_reply": "2023-05-17T19:16:34.842903Z",
     "shell.execute_reply.started": "2023-05-17T19:16:34.633775Z"
    },
    "tags": []
   },
   "outputs": [],
   "source": [
    "import matplotlib.pyplot as plt\n",
    "import numpy as np\n",
    "from scipy.integrate import solve_ivp\n",
    "\n",
    "\n",
    "# Define the Lotka-Volterra equations\n",
    "def lotka_volterra(t, y, a, b, c, d):\n",
    "    x, y = y\n",
    "    dx_dt = a * x - b * x * y\n",
    "    dy_dt = -c * y + d * x * y\n",
    "    return [dx_dt, dy_dt]\n",
    "\n",
    "\n",
    "# Set the parameters\n",
    "a = 3.0  # prey growth rate\n",
    "b = 1.5  # predation rate\n",
    "c = 3.0  # predator death rate\n",
    "d = 1.0  # conversion factor of prey to predator\n",
    "\n",
    "# Set the initial conditions\n",
    "x0 = 10.0  # initial prey population\n",
    "y0 = 5.0  # initial predator population\n",
    "\n",
    "# Set the time span\n",
    "t_start = 0.0\n",
    "t_end = 30.0\n",
    "num_points = 1000\n",
    "\n",
    "# Solve the equations using solve_ivp\n",
    "sol = solve_ivp(\n",
    "    lotka_volterra,\n",
    "    [t_start, t_end],\n",
    "    [x0, y0],\n",
    "    args=(a, b, c, d),\n",
    "    dense_output=True,\n",
    ")\n",
    "\n",
    "# Generate time points for evaluation\n",
    "t_eval = np.linspace(t_start, t_end, num_points)\n",
    "\n",
    "# Evaluate the solution at the time points\n",
    "sol_eval = sol.sol(t_eval)"
   ]
  },
  {
   "cell_type": "code",
   "execution_count": null,
   "metadata": {
    "execution": {
     "iopub.execute_input": "2023-05-17T19:16:34.843995Z",
     "iopub.status.busy": "2023-05-17T19:16:34.843821Z",
     "iopub.status.idle": "2023-05-17T19:16:35.138599Z",
     "shell.execute_reply": "2023-05-17T19:16:35.138185Z",
     "shell.execute_reply.started": "2023-05-17T19:16:34.843983Z"
    },
    "tags": []
   },
   "outputs": [],
   "source": [
    "fig, ax = plt.subplots(figsize=(16, 10), constrained_layout=True)\n",
    "\n",
    "# Plot the populations over time\n",
    "ax.plot(t_eval, sol_eval[0], label=\"Prey\")\n",
    "ax.plot(t_eval, sol_eval[1], label=\"Predator\")\n",
    "ax.set_xlabel(\"Time\")\n",
    "ax.set_ylabel(\"Population\")\n",
    "ax.set_title(\"Lotka-Volterra Equations\")\n",
    "ax.legend()\n",
    "ax.grid(True)"
   ]
  },
  {
   "cell_type": "code",
   "execution_count": null,
   "metadata": {},
   "outputs": [],
   "source": []
  },
  {
   "cell_type": "code",
   "execution_count": null,
   "metadata": {
    "execution": {
     "iopub.execute_input": "2023-05-17T19:16:35.139278Z",
     "iopub.status.busy": "2023-05-17T19:16:35.139161Z",
     "iopub.status.idle": "2023-05-17T19:16:35.145415Z",
     "shell.execute_reply": "2023-05-17T19:16:35.145008Z",
     "shell.execute_reply.started": "2023-05-17T19:16:35.139267Z"
    },
    "tags": []
   },
   "outputs": [],
   "source": [
    "N = 1000\n",
    "\n",
    "noise = np.random.gamma(shape=10, scale=1 / 10, size=(N, 1))\n",
    "\n",
    "T = np.sort(np.random.uniform(t_start, t_end, N))\n",
    "X = noise * sol.sol(T).T\n",
    "\n",
    "m_train = T < (t_end - t_start) / 2\n",
    "m_test = T > (t_end - t_start) / 2\n",
    "T_train = T[m_train]\n",
    "T_test = T[m_test]\n",
    "X_train = X[m_train]\n",
    "X_test = X[m_test]"
   ]
  },
  {
   "cell_type": "code",
   "execution_count": null,
   "metadata": {
    "execution": {
     "iopub.execute_input": "2023-05-17T19:16:35.146058Z",
     "iopub.status.busy": "2023-05-17T19:16:35.145942Z",
     "iopub.status.idle": "2023-05-17T19:16:35.261741Z",
     "shell.execute_reply": "2023-05-17T19:16:35.261321Z",
     "shell.execute_reply.started": "2023-05-17T19:16:35.146048Z"
    },
    "tags": []
   },
   "outputs": [],
   "source": [
    "plt.plot(T_train, X_train[:, 0], \".b\", T_train, X_train[:, 1], \".r\")"
   ]
  },
  {
   "cell_type": "markdown",
   "metadata": {},
   "source": [
    "# Setup Model"
   ]
  },
  {
   "cell_type": "code",
   "execution_count": null,
   "metadata": {
    "execution": {
     "iopub.execute_input": "2023-05-17T19:16:35.262666Z",
     "iopub.status.busy": "2023-05-17T19:16:35.262333Z",
     "iopub.status.idle": "2023-05-17T19:16:35.266353Z",
     "shell.execute_reply": "2023-05-17T19:16:35.265994Z",
     "shell.execute_reply.started": "2023-05-17T19:16:35.262653Z"
    },
    "tags": []
   },
   "outputs": [],
   "source": [
    "latent_size = 16\n",
    "input_size = 2\n",
    "\n",
    "x = torch.randn(input_size)\n",
    "z = torch.randn(latent_size)\n",
    "dta = torch.rand(1)\n",
    "dtb = torch.rand(1)\n",
    "T = torch.tensor(T, dtype=torch.float32)\n",
    "X = torch.tensor(X, dtype=torch.float32)\n",
    "T_train = torch.tensor(T_train, dtype=torch.float32)\n",
    "T_test = torch.tensor(T_test, dtype=torch.float32)\n",
    "X_train = torch.tensor(X_train, dtype=torch.float32)\n",
    "X_test = torch.tensor(X_test, dtype=torch.float32)"
   ]
  },
  {
   "cell_type": "markdown",
   "metadata": {},
   "source": [
    "## Initialize Encoder"
   ]
  },
  {
   "cell_type": "code",
   "execution_count": null,
   "metadata": {
    "execution": {
     "iopub.execute_input": "2023-05-17T19:16:35.267704Z",
     "iopub.status.busy": "2023-05-17T19:16:35.267591Z",
     "iopub.status.idle": "2023-05-17T19:16:35.276959Z",
     "shell.execute_reply": "2023-05-17T19:16:35.276488Z",
     "shell.execute_reply.started": "2023-05-17T19:16:35.267694Z"
    },
    "tags": []
   },
   "outputs": [],
   "source": [
    "Encoder = iSequential(\n",
    "    ConcatEmbedding(input_size, latent_size),\n",
    "    iResNetBlock(\n",
    "        nn.Sequential(\n",
    "            LinearContraction(latent_size, latent_size, L=0.95),\n",
    "            ReZeroCell(),\n",
    "        )\n",
    "    ),\n",
    "    iResNetBlock(\n",
    "        nn.Sequential(\n",
    "            LinearContraction(latent_size, latent_size, L=0.95),\n",
    "            ReZeroCell(),\n",
    "        )\n",
    "    ),\n",
    ")\n",
    "assert torch.allclose(x, Encoder.decode(Encoder.encode(x)), atol=1e-3, rtol=1e-3)"
   ]
  },
  {
   "cell_type": "markdown",
   "metadata": {},
   "source": [
    "## initialize Filter"
   ]
  },
  {
   "cell_type": "code",
   "execution_count": null,
   "metadata": {
    "execution": {
     "iopub.execute_input": "2023-05-17T19:16:35.277692Z",
     "iopub.status.busy": "2023-05-17T19:16:35.277578Z",
     "iopub.status.idle": "2023-05-17T19:16:35.281858Z",
     "shell.execute_reply": "2023-05-17T19:16:35.281421Z",
     "shell.execute_reply.started": "2023-05-17T19:16:35.277682Z"
    },
    "tags": []
   },
   "outputs": [],
   "source": [
    "Filter = SequentialFilter(\n",
    "    LinearFilter(input_size, autoregressive=True),\n",
    "    NonLinearFilter(input_size, autoregressive=True),\n",
    ")\n",
    "assert torch.allclose(x, Filter(x, x))"
   ]
  },
  {
   "cell_type": "markdown",
   "metadata": {},
   "source": [
    "## initialize System"
   ]
  },
  {
   "cell_type": "code",
   "execution_count": null,
   "metadata": {
    "execution": {
     "iopub.execute_input": "2023-05-17T19:16:35.282512Z",
     "iopub.status.busy": "2023-05-17T19:16:35.282401Z",
     "iopub.status.idle": "2023-05-17T19:16:35.288069Z",
     "shell.execute_reply": "2023-05-17T19:16:35.287617Z",
     "shell.execute_reply.started": "2023-05-17T19:16:35.282501Z"
    },
    "tags": []
   },
   "outputs": [],
   "source": [
    "System = LinODECell(latent_size)\n",
    "assert torch.allclose(System(dta + dtb, z), System(dta, System(dtb, z)))"
   ]
  },
  {
   "cell_type": "markdown",
   "metadata": {},
   "source": [
    "## Initialize Model"
   ]
  },
  {
   "cell_type": "code",
   "execution_count": null,
   "metadata": {
    "execution": {
     "iopub.execute_input": "2023-05-17T19:16:35.288762Z",
     "iopub.status.busy": "2023-05-17T19:16:35.288649Z",
     "iopub.status.idle": "2023-05-17T19:16:35.368584Z",
     "shell.execute_reply": "2023-05-17T19:16:35.368148Z",
     "shell.execute_reply.started": "2023-05-17T19:16:35.288751Z"
    },
    "tags": []
   },
   "outputs": [],
   "source": [
    "model = LSSM(\n",
    "    encoder=Encoder,\n",
    "    system=System,\n",
    "    decoder=Encoder.inverse,\n",
    "    filter=Filter,\n",
    ").to(device=\"cpu\")\n",
    "\n",
    "contractions = [\n",
    "    m for m in model.encoder.modules() if m.__class__.__name__ == \"LinearContraction\"\n",
    "]\n",
    "for layer in contractions:\n",
    "    layer.reset_cache()\n",
    "\n",
    "assert torch.allclose(X[:100], model(T[:100], X[:100]))"
   ]
  },
  {
   "cell_type": "markdown",
   "metadata": {},
   "source": [
    "## train Model"
   ]
  },
  {
   "cell_type": "code",
   "execution_count": null,
   "metadata": {
    "execution": {
     "iopub.execute_input": "2023-05-17T19:17:34.014797Z",
     "iopub.status.busy": "2023-05-17T19:17:34.014386Z",
     "iopub.status.idle": "2023-05-17T19:17:34.043799Z",
     "shell.execute_reply": "2023-05-17T19:17:34.043258Z",
     "shell.execute_reply.started": "2023-05-17T19:17:34.014777Z"
    },
    "tags": []
   },
   "outputs": [],
   "source": [
    "device = torch.device(\"cuda\" if torch.cuda.is_available() else \"cpu\")\n",
    "model = torch.jit.script(model)\n",
    "model = model.to(device)\n",
    "optim = AdamW(model.parameters())\n",
    "\n",
    "contractions = [\n",
    "    m for m in model.encoder.modules() if m.original_name == \"LinearContraction\"\n",
    "]\n",
    "\n",
    "for layer in contractions:\n",
    "    layer.reset_cache()"
   ]
  },
  {
   "cell_type": "code",
   "execution_count": null,
   "metadata": {
    "execution": {
     "iopub.execute_input": "2023-05-17T19:17:34.911061Z",
     "iopub.status.busy": "2023-05-17T19:17:34.910489Z",
     "iopub.status.idle": "2023-05-17T19:17:34.915497Z",
     "shell.execute_reply": "2023-05-17T19:17:34.914966Z",
     "shell.execute_reply.started": "2023-05-17T19:17:34.911036Z"
    },
    "tags": []
   },
   "outputs": [],
   "source": [
    "from torch.utils.data import DataLoader\n",
    "\n",
    "from tsdm.random.samplers import SlidingWindowSampler\n",
    "\n",
    "train_sampler = SlidingWindowSampler(T_train, horizons=(5,), stride=0.1, shuffle=True)\n",
    "test_sampler = SlidingWindowSampler(T_test, horizons=(5,), stride=0.1)"
   ]
  },
  {
   "cell_type": "code",
   "execution_count": null,
   "metadata": {
    "execution": {
     "iopub.execute_input": "2023-05-17T19:17:35.600386Z",
     "iopub.status.busy": "2023-05-17T19:17:35.599805Z",
     "iopub.status.idle": "2023-05-17T19:17:35.649742Z",
     "shell.execute_reply": "2023-05-17T19:17:35.648980Z",
     "shell.execute_reply.started": "2023-05-17T19:17:35.600362Z"
    },
    "tags": []
   },
   "outputs": [],
   "source": [
    "from torch.nn.utils.rnn import pad_sequence\n",
    "\n",
    "n_forecast = 10\n",
    "\n",
    "train_samples = []\n",
    "test_samples = []\n",
    "for horizon in train_sampler:\n",
    "    t = T_train[horizon]\n",
    "    x = X_train[horizon]\n",
    "    y = x.clone()\n",
    "    x[-n_forecast:] = float(\"nan\")\n",
    "    train_samples.append((t, x, y))\n",
    "\n",
    "for horizon in test_sampler:\n",
    "    t = T_test[horizon]\n",
    "    x = X_test[horizon]\n",
    "    y = x.clone()\n",
    "    x[-n_forecast:] = float(\"nan\")\n",
    "    test_samples.append((t, x, y))\n",
    "\n",
    "\n",
    "def collate_fn(\n",
    "    samples: list[tuple[Tensor, Tensor, Tensor]]\n",
    ") -> tuple[Tensor, Tensor, Tensor]:\n",
    "    nan = torch.tensor(float(\"nan\"), device=device)\n",
    "    t_list, x_list, y_list = list(zip(*samples))\n",
    "\n",
    "    return (\n",
    "        pad_sequence(t_list, batch_first=True, padding_value=nan),\n",
    "        pad_sequence(x_list, batch_first=True, padding_value=nan),\n",
    "        pad_sequence(y_list, batch_first=True, padding_value=nan),\n",
    "    )"
   ]
  },
  {
   "cell_type": "code",
   "execution_count": null,
   "metadata": {
    "execution": {
     "iopub.execute_input": "2023-05-17T19:17:36.450104Z",
     "iopub.status.busy": "2023-05-17T19:17:36.449639Z",
     "iopub.status.idle": "2023-05-17T19:17:36.456188Z",
     "shell.execute_reply": "2023-05-17T19:17:36.455543Z",
     "shell.execute_reply.started": "2023-05-17T19:17:36.450080Z"
    },
    "tags": []
   },
   "outputs": [],
   "source": [
    "train_loader = DataLoader(train_samples, collate_fn=collate_fn, batch_size=8)\n",
    "test_loader = DataLoader(train_samples, collate_fn=collate_fn, batch_size=8)\n",
    "\n",
    "\n",
    "def test_score(model, dloader):\n",
    "    with torch.no_grad():\n",
    "        total = torch.tensor(0.0, device=device)\n",
    "\n",
    "        for t, x, y in (pbar := tqdm(dloader, leave=False)):\n",
    "            t = t.to(device)\n",
    "            x = x.to(device)\n",
    "            y = y.to(device)\n",
    "            yhat = model(t, x)\n",
    "            loss = torch.nanmean((y - yhat).pow(2))\n",
    "            assert loss.isfinite()\n",
    "            pbar.set_postfix(loss=f\"{float(loss.item()):.4f}\")\n",
    "            total += loss\n",
    "\n",
    "        total /= len(test_loader)\n",
    "        return total"
   ]
  },
  {
   "cell_type": "code",
   "execution_count": null,
   "metadata": {
    "execution": {
     "iopub.execute_input": "2023-05-17T19:17:37.229629Z",
     "iopub.status.busy": "2023-05-17T19:17:37.229174Z",
     "iopub.status.idle": "2023-05-17T19:17:38.900938Z",
     "shell.execute_reply": "2023-05-17T19:17:38.900227Z",
     "shell.execute_reply.started": "2023-05-17T19:17:37.229606Z"
    },
    "tags": []
   },
   "outputs": [],
   "source": [
    "score = test_score(model, test_loader)\n",
    "print(score)"
   ]
  },
  {
   "cell_type": "code",
   "execution_count": null,
   "metadata": {
    "execution": {
     "iopub.execute_input": "2023-05-17T19:17:40.039928Z",
     "iopub.status.busy": "2023-05-17T19:17:40.039697Z",
     "iopub.status.idle": "2023-05-17T19:17:40.532584Z",
     "shell.execute_reply": "2023-05-17T19:17:40.532050Z",
     "shell.execute_reply.started": "2023-05-17T19:17:40.039916Z"
    },
    "tags": []
   },
   "outputs": [],
   "source": [
    "for k in range(10):\n",
    "    for t, x, y in (pbar := tqdm(train_loader)):\n",
    "        with torch.no_grad():\n",
    "            t = t.to(device)\n",
    "            x = x.to(device)\n",
    "            y = y.to(device)\n",
    "\n",
    "        model.zero_grad(set_to_none=True)\n",
    "        yhat = model(t, x)\n",
    "        loss = torch.nanmean((y - yhat).pow(2))\n",
    "        loss.backward()\n",
    "\n",
    "        assert loss.isfinite()\n",
    "        optim.step()\n",
    "        pbar.set_postfix(loss=f\"{float(loss.item()):.4f}\")\n",
    "    score = test_score(model, test_loader)\n",
    "    print(score)"
   ]
  },
  {
   "cell_type": "code",
   "execution_count": null,
   "metadata": {},
   "outputs": [],
   "source": []
  }
 ],
 "metadata": {
  "kernelspec": {
   "display_name": "Python 3 (ipykernel)",
   "language": "python",
   "name": "python3"
  },
  "language_info": {
   "codemirror_mode": {
    "name": "ipython",
    "version": 3
   },
   "file_extension": ".py",
   "mimetype": "text/x-python",
   "name": "python",
   "nbconvert_exporter": "python",
   "pygments_lexer": "ipython3",
   "version": "3.10.6"
  }
 },
 "nbformat": 4,
 "nbformat_minor": 4
}
