{
 "cells": [
  {
   "cell_type": "code",
   "execution_count": null,
   "id": "331c37ea-d9d5-4457-9ff1-23159c5dde43",
   "metadata": {},
   "outputs": [],
   "source": [
    "import torch\n",
    "from torch import nn\n",
    "from torch.nn import GRUCell\n",
    "import numpy as np\n",
    "from opt_einsum import contract"
   ]
  },
  {
   "cell_type": "markdown",
   "id": "6cc059c9-24e2-4cdb-b39c-96f401fc35f6",
   "metadata": {},
   "source": [
    "# RITS Model (BRITS Paper)\n",
    "\n",
    "combining observation estimation and input:\n",
    "\n",
    "- $\\hat x_t = \\operatorname{Linear}(h_t)$\n",
    "- $\\tilde x_t = \\begin{cases}x_t: \\text{if observed} \\\\ \\hat x_t: \\text{else}\\end{cases}$\n",
    "- $\\hat h_t = \\operatorname{ODEsolve}(f, t, (t-1, h_{t-1}))$\n",
    "- $h_t = \\operatorname{GRUCell}(\\tilde x_t, \\hat h_t)$\n",
    "\n"
   ]
  },
  {
   "cell_type": "markdown",
   "id": "b4e25b74-1e58-446b-8cf3-d26e92c42cb2",
   "metadata": {},
   "source": [
    "/home/rscholz/.tsdm/models/Latent-ODELoss functions:\n",
    "\n",
    "- "
   ]
  },
  {
   "cell_type": "code",
   "execution_count": null,
   "id": "c93c43de-a8e7-490c-8f79-8d22a95a9c11",
   "metadata": {},
   "outputs": [],
   "source": [
    "class LinODE(nn.Module):\n",
    "    \"\"\"\n",
    "    Linear System module\n",
    "\n",
    "    x' = Ax + Bu + w\n",
    "     y = Cx + Du + v\n",
    "\n",
    "    \"\"\"\n",
    "\n",
    "    def __init__(self, input_size, initialization=None):\n",
    "        super(LinODE, self).__init__()\n",
    "        self.kernel = nn.Parameter(torch.randn(input_size, input_size))\n",
    "\n",
    "    def forward(self, t, z):\n",
    "        \"\"\"\n",
    "        Forward using matrix exponential\n",
    "        # TODO: optimize if clauses away by changing definition in constructor.\n",
    "        \"\"\"\n",
    "\n",
    "        zhat = z.copy()\n",
    "        Δt = torch.diff(t)\n",
    "        AΔt = contract(\"kl, n -> nkl\", self.kernel, Δt)\n",
    "        expAΔt = torch.matrix_exp(At)\n",
    "        zhat[1:] = contract(\"nkl, nl -> nk\", expAΔt, z[:-1])\n",
    "\n",
    "        return zhat"
   ]
  },
  {
   "cell_type": "code",
   "execution_count": null,
   "id": "2f0e49fc-79ad-400d-b768-e038254254a3",
   "metadata": {},
   "outputs": [],
   "source": [
    "class AttrDict(dict):\n",
    "    # https://stackoverflow.com/a/14620633/9318372\n",
    "    def __init__(self, *args, **kwargs):\n",
    "        super(AttrDict, self).__init__(*args, **kwargs)\n",
    "        self.__dict__ = self"
   ]
  },
  {
   "cell_type": "code",
   "execution_count": null,
   "id": "0dc5ecee-fb99-437d-b941-7b2feba4c0a3",
   "metadata": {},
   "outputs": [],
   "source": [
    "d = AttrDict({\"k\": 1, \"l\": 2})"
   ]
  },
  {
   "cell_type": "code",
   "execution_count": null,
   "id": "5d9a317b-b86b-4a5e-a0cf-e1771b3a8f44",
   "metadata": {},
   "outputs": [],
   "source": [
    "class LinODERNN(nn.Module):\n",
    "    # default hyperparameters\n",
    "    HP = {\n",
    "        'GRUCell' : {'bias' : True, 'hidden_size' : None},\n",
    "        'LinODE' :  {'hidden_size': None, initialization: 'None'}\n",
    "    }\n",
    "    \n",
    "    def __set_HP():\n",
    "        self.HP['LinODE']['hidden_size']\n",
    "    \n",
    "    def __init__(self, input_size, HP: dict):\n",
    "        self.__set_HP(input_size, HP: dict)\n",
    "        self.init_HP()\n",
    "        self.dynamics = LinODE(**HP['LinODE'])\n",
    "        self.encoder = \n",
    "        self.decoder = \n",
    "        self.filter = \n",
    "        \n",
    "        \n",
    "    def forward(self):\n",
    "        \"\"\"c\n",
    "        input: t: tensor shape (..., N,)\n",
    "            Observation timepoints corresponding to the observed values\n",
    "        input: x: tensor shape (..., N, M) dtype: float. \n",
    "            Observed data, NaN indicates Missing values\n",
    "        input:\n",
    "        output: xhat: tensor shape (..., N, M)\n",
    "            Predicted values. The values may differ from x for non-NaN entries, since the model assumes that observational data is noisy.\n",
    "            Q: Does this make any sense for categorical data? Not really..., but one can use sigmoid for example.\n",
    "        \"\"\"\n",
    "        \n",
    "        xhat = None\n",
    "        \n",
    "        return xhat\n",
    "    \n",
    "    def predict(self, t, x):\n",
    "        xhat = self(t, x)\n",
    "        \n",
    "        # TODO: treat categorical features.\n",
    "        \n",
    "        return xhat"
   ]
  },
  {
   "cell_type": "code",
   "execution_count": null,
   "id": "62dd0893-6649-466f-b258-5ad7f6e59d9f",
   "metadata": {},
   "outputs": [],
   "source": []
  },
  {
   "cell_type": "code",
   "execution_count": null,
   "id": "0a8a0f2a-0304-4c68-bc95-07f35a214971",
   "metadata": {},
   "outputs": [],
   "source": [
    "mask = np.random.choice([True, False], size=(5, 6))\n",
    "np.where(mask, np.random.randn(5, 6))"
   ]
  },
  {
   "cell_type": "code",
   "execution_count": null,
   "id": "e0cd0fef-fbd7-4a38-9dd3-eaa11a1ba48a",
   "metadata": {},
   "outputs": [],
   "source": [
    "d = AttrDict()\n",
    "d.update({\"items\": [\"jacket\", \"necktie\", \"trousers\"]})\n",
    "d.items"
   ]
  },
  {
   "cell_type": "markdown",
   "id": "b1a2cac6-dd0b-4b1d-8660-514967ec3cfe",
   "metadata": {},
   "source": [
    "How to handle input? We have multiple Options:\n",
    "\n",
    "1. Input $t_\\text{obs}$, $x_\\text{obs}$, and $t_\\text{predict}$, return $x_\\text{predict}$\n",
    "    - similar to regular ODESELVE input, but with many time observations instead of single initial condition.\n",
    "2. Input $t_\\text{obs+predict}$, $x_\\text{obs}$, fill $x$ with nan values at prediction points (reduce problem to imputation task)\n",
    "3. Input $t$, $x$, $u$. The controls $u$ can occur at future time points (pre-scheduled) controls\n"
   ]
  },
  {
   "cell_type": "markdown",
   "id": "b01bfe37-31f6-48dc-a71e-429cd990ec4e",
   "metadata": {},
   "source": [
    "### Question? How to handle initial hidden state & initial state estimation in RNN?\n",
    "\n",
    "1. Initialize with zero or randomly (kinda dumb, but has to do for now)\n",
    "2. Initialize through initializer network, \n",
    "    - small deepset / Time series set function network\n",
    "    - ODE-RNN encoder like in Latent-ODE encoder\n"
   ]
  },
  {
   "cell_type": "code",
   "execution_count": null,
   "id": "50640a4e-56ec-4fbb-b5ab-ce62380dfd97",
   "metadata": {},
   "outputs": [],
   "source": [
    "class LinODERNN(nn.Module):\n",
    "    # default hyperparameters\n",
    "    HP = {\n",
    "        'GRUCell' : {'bias' : True, 'hidden_size' : None},\n",
    "        'LinODE' : {'hidden_size': None, initialization: 'None'}\n",
    "    }\n",
    "    \n",
    "    def __set_HP()\n",
    "    \n",
    "    def __init__(self, input_size, **hyperparameters):\n",
    "        self.__set_HP(**hyperparameters)\n",
    "        self.init_HP()\n",
    "        self.GRUCell = nn.GRUCell()\n",
    "        self.LinODE = LinODE()\n",
    "        \n",
    "    def forward(self):\n",
    "        \"\"\"c\n",
    "        input: t: tensor shape (..., N,)\n",
    "            Observation timepoints corresponding to the observed values\n",
    "        input: x: tensor shape (..., N, M) dtype: float. \n",
    "            Observed data, NaN indicates Missing values\n",
    "        input:\n",
    "        output: xhat: tensor shape (..., N, M)\n",
    "            Predicted values. The values may differ from x for non-NaN entries, since the model assumes that observational data is noisy.\n",
    "            Q: Does this make any sense for categorical data? Not really..., but one can use sigmoid for example.\n",
    "        \"\"\"\n",
    "        \n",
    "        xhat = None\n",
    "        \n",
    "        return xhat\n",
    "    \n",
    "    def predict(self, t, x):\n",
    "        xhat = self(t, x)\n",
    "        \n",
    "        # TODO: treat categorical features.\n",
    "        \n",
    "        return xhat"
   ]
  },
  {
   "cell_type": "code",
   "execution_count": null,
   "id": "033574dd-8d62-4ce0-8ed5-e47b94062104",
   "metadata": {},
   "outputs": [],
   "source": []
  },
  {
   "cell_type": "code",
   "execution_count": null,
   "id": "16511690-32f1-4c66-9684-c0716048b968",
   "metadata": {},
   "outputs": [],
   "source": [
    "import numpy as np\n",
    "import matplotlib.pyplot as plt\n",
    "\n",
    "N = 100_000\n",
    "n = 20\n",
    "\n",
    "A = np.random.randn(N, n, n)\n",
    "symA = (A + np.einsum(\"ijk-> ikj\", A)) / 2\n",
    "skewA = (A - np.einsum(\"ijk-> ikj\", A)) / 2"
   ]
  },
  {
   "cell_type": "code",
   "execution_count": null,
   "id": "85cb2a5d-24c6-449d-8509-d29b45227e1b",
   "metadata": {},
   "outputs": [],
   "source": [
    "conds = np.linalg.cond(A)\n",
    "symconds = np.linalg.cond(symA)\n",
    "skewconds = np.linalg.cond(skewA)"
   ]
  },
  {
   "cell_type": "code",
   "execution_count": null,
   "id": "c1ee7ce1-7dbe-403e-b20d-f65c60169d9c",
   "metadata": {},
   "outputs": [],
   "source": [
    "from scipy import stats\n",
    "\n",
    "\n",
    "def visualize_distribution(x, bins=100, log=True, ax=None):\n",
    "    if ax is None:\n",
    "        fig, ax = plt.subplots(figsize=(10, 6), tight_layout=True)\n",
    "\n",
    "    if log:\n",
    "        x = np.log10(x)\n",
    "        ax.set_xscale(\"log\")\n",
    "        ax.set_yscale(\"log\")\n",
    "        bins = np.logspace(np.floor(np.min(x)), np.ceil(np.max(x)), num=bins, base=10)\n",
    "    ax.hist(conds, bins=bins, density=True)\n",
    "    print(\n",
    "        f\"median: {np.median(x):.2}   mode:{stats.mode(x)[0][0]:.2}   mean: {np.mean(x):.2}  stdev:{np.std(x):.2}\"\n",
    "    )"
   ]
  },
  {
   "cell_type": "code",
   "execution_count": null,
   "id": "30499228-84a0-4953-b367-9714acf03e7b",
   "metadata": {},
   "outputs": [],
   "source": [
    "fig, ax = plt.subplots(\n",
    "    ncols=3, figsize=(12, 4), tight_layout=True, sharex=True, sharey=True\n",
    ")\n",
    "visualize_distribution(conds, ax=ax[0])\n",
    "visualize_distribution(symconds, ax=ax[1])\n",
    "visualize_distribution(skewconds, ax=ax[2])"
   ]
  },
  {
   "cell_type": "code",
   "execution_count": null,
   "id": "f104e397-f2e7-4c69-be46-8837c87a5a72",
   "metadata": {},
   "outputs": [],
   "source": [
    "nn.init.kaiming_normal_(torch.empty(10, 10))"
   ]
  },
  {
   "cell_type": "code",
   "execution_count": null,
   "id": "008af0b5-a872-47ae-81b3-41e589c85848",
   "metadata": {},
   "outputs": [],
   "source": [
    "def random_matrix(input_size, kind=None):\n",
    "    \"\"\"\n",
    "    kind options:\n",
    "    symmetric,\n",
    "    skew symmetric,\n",
    "    orthogonal,\n",
    "    normal,\n",
    "    \"\"\"\n",
    "\n",
    "    A = nn.init.kaiming_normal_(torch.empty(input_size, input_size))\n",
    "\n",
    "    if kind == \"symmetric\":\n",
    "        return (A + A.T) / 2\n",
    "    if kind == \"skew-symmetric\":\n",
    "        return (A - A.T) / 2"
   ]
  },
  {
   "cell_type": "code",
   "execution_count": null,
   "id": "fffa14dc-e894-4044-9e9d-7318fe919a06",
   "metadata": {},
   "outputs": [],
   "source": []
  },
  {
   "cell_type": "code",
   "execution_count": null,
   "id": "c21bf384-0897-412d-8c05-623d3fe666b9",
   "metadata": {},
   "outputs": [],
   "source": []
  },
  {
   "cell_type": "code",
   "execution_count": null,
   "id": "014a22a8-aff6-490e-b98c-67e5f8da4a1b",
   "metadata": {},
   "outputs": [],
   "source": [
    "?GRUCell"
   ]
  },
  {
   "cell_type": "code",
   "execution_count": null,
   "id": "b305ff24-8f3a-48f9-ab44-af1b84eda62b",
   "metadata": {},
   "outputs": [],
   "source": []
  }
 ],
 "metadata": {
  "kernelspec": {
   "display_name": "Python 3 (ipykernel)",
   "language": "python",
   "name": "python3"
  },
  "language_info": {
   "codemirror_mode": {
    "name": "ipython",
    "version": 3
   },
   "file_extension": ".py",
   "mimetype": "text/x-python",
   "name": "python",
   "nbconvert_exporter": "python",
   "pygments_lexer": "ipython3",
   "version": "3.10.6"
  }
 },
 "nbformat": 4,
 "nbformat_minor": 5
}
