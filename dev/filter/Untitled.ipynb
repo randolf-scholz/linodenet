{
 "cells": [
  {
   "cell_type": "code",
   "execution_count": null,
   "id": "20191951-beec-414a-b3c6-89dca8277ad2",
   "metadata": {},
   "outputs": [],
   "source": [
    "%config InteractiveShell.ast_node_interactivity='last_expr_or_assign'  # always print last expr.\n",
    "%config InlineBackend.figure_format = 'svg'\n",
    "%load_ext autoreload\n",
    "%autoreload 2\n",
    "%matplotlib inline"
   ]
  },
  {
   "cell_type": "code",
   "execution_count": null,
   "id": "4e08117b-7ded-4524-a460-576effd5cb44",
   "metadata": {
    "execution": {
     "iopub.execute_input": "2022-09-27T10:20:23.287190Z",
     "iopub.status.busy": "2022-09-27T10:20:23.285785Z",
     "iopub.status.idle": "2022-09-27T10:20:23.312123Z",
     "shell.execute_reply": "2022-09-27T10:20:23.310879Z",
     "shell.execute_reply.started": "2022-09-27T10:20:23.287137Z"
    },
    "tags": []
   },
   "outputs": [],
   "source": [
    "from abc import abstractmethod\n",
    "from collections.abc import Iterable\n",
    "from typing import Any, Final, Optional, TypeAlias\n",
    "\n",
    "import torch\n",
    "from torch import Tensor, jit, nn\n",
    "\n",
    "from linodenet.utils import (\n",
    "    ReverseDense,\n",
    "    ReZeroCell,\n",
    "    deep_dict_update,\n",
    "    deep_keyval_update,\n",
    "    initialize_from_config,\n",
    ")\n",
    "\n",
    "from linodenet.models.filters import FilterABC, KalmanCell\n",
    "from torchinfo import summary"
   ]
  },
  {
   "cell_type": "code",
   "execution_count": null,
   "id": "58b7f6d7",
   "metadata": {
    "execution": {
     "iopub.execute_input": "2022-09-27T10:19:34.425966Z",
     "iopub.status.busy": "2022-09-27T10:19:34.425501Z",
     "iopub.status.idle": "2022-09-27T10:19:34.447293Z",
     "shell.execute_reply": "2022-09-27T10:19:34.445839Z",
     "shell.execute_reply.started": "2022-09-27T10:19:34.425928Z"
    },
    "tags": []
   },
   "outputs": [],
   "source": [
    "class SequentialFilterBlock(FilterABC, nn.ModuleList):\n",
    "    r\"\"\"Multiple Filters applied sequentially.\"\"\"\n",
    "\n",
    "    HP = {\n",
    "        \"__name__\": __qualname__,  # type: ignore[name-defined]\n",
    "        \"__module__\": __module__,  # type: ignore[name-defined]\n",
    "        \"input_size\": None,\n",
    "        \"filter\": KalmanCell.HP | {\"autoregressive\": True},\n",
    "        \"layers\": [ReverseDense.HP | {\"bias\": False}, ReZeroCell.HP],\n",
    "    }\n",
    "    r\"\"\"The HyperparameterDict of this class.\"\"\"\n",
    "\n",
    "    input_size: Final[int]\n",
    "\n",
    "    def __init__(self, *args: Any, **HP: Any) -> None:\n",
    "        super().__init__()\n",
    "        self.CFG = HP = deep_dict_update(self.HP, HP)\n",
    "\n",
    "        self.input_size = input_size = HP[\"input_size\"]\n",
    "        HP[\"filter\"][\"input_size\"] = input_size\n",
    "\n",
    "        layers: list[nn.Module] = []\n",
    "\n",
    "        for layer in HP[\"layers\"]:\n",
    "            if \"input_size\" in layer:\n",
    "                layer[\"input_size\"] = input_size\n",
    "            if \"output_size\" in layer:\n",
    "                layer[\"output_size\"] = input_size\n",
    "            module = initialize_from_config(layer)\n",
    "            layers.append(module)\n",
    "\n",
    "        layers = list(args) + layers\n",
    "        self.filter: nn.Module = initialize_from_config(HP[\"filter\"])\n",
    "        self.layers: Iterable[nn.Module] = nn.Sequential(*layers)\n",
    "\n",
    "    @jit.export\n",
    "    def forward(self, y: Tensor, x: Tensor) -> Tensor:\n",
    "        r\"\"\"Signature: ``[(..., m), (..., n)] -> (..., n)``.\"\"\"\n",
    "        z = self.filter(y, x)\n",
    "        for module in self.layers:\n",
    "            z = module(z)\n",
    "        return x + z\n",
    "\n",
    "\n",
    "class SequentialFilter(FilterABC, nn.ModuleList):\n",
    "    r\"\"\"Multiple Filters applied sequentially.\"\"\"\n",
    "\n",
    "    HP = {\n",
    "        \"__name__\": __qualname__,  # type: ignore[name-defined]\n",
    "        \"__module__\": __module__,  # type: ignore[name-defined]\n",
    "        \"independent\": True,\n",
    "        \"copies\": 2,\n",
    "        \"input_size\": int,\n",
    "        \"module\": SequentialFilterBlock.HP,\n",
    "    }\n",
    "    r\"\"\"The HyperparameterDict of this class.\"\"\"\n",
    "\n",
    "    def __init__(self, **HP: Any) -> None:\n",
    "        super().__init__()\n",
    "        self.CFG = HP = deep_dict_update(self.HP, HP)\n",
    "\n",
    "        HP[\"module\"][\"input_size\"] = HP[\"input_size\"]\n",
    "\n",
    "        copies: list[nn.Module] = []\n",
    "\n",
    "        for _ in range(HP[\"copies\"]):\n",
    "            if isinstance(HP[\"module\"], nn.Module):\n",
    "                module = HP[\"module\"]\n",
    "            else:\n",
    "                module = initialize_from_config(HP[\"module\"])\n",
    "\n",
    "            if HP[\"independent\"]:\n",
    "                copies.append(module)\n",
    "            else:\n",
    "                copies = [module] * HP[\"copies\"]\n",
    "                break\n",
    "\n",
    "        HP[\"module\"] = str(HP[\"module\"])\n",
    "        nn.ModuleList.__init__(self, copies)\n",
    "\n",
    "    @jit.export\n",
    "    def forward(self, y: Tensor, x: Tensor) -> Tensor:\n",
    "        r\"\"\"Signature: ``[(..., m), (..., n)] -> (..., n)``.\"\"\"\n",
    "        for module in self:\n",
    "            x = module(y, x)\n",
    "        return x"
   ]
  },
  {
   "cell_type": "code",
   "execution_count": null,
   "id": "d695b42b",
   "metadata": {
    "execution": {
     "iopub.execute_input": "2022-09-27T10:20:35.817293Z",
     "iopub.status.busy": "2022-09-27T10:20:35.816665Z",
     "iopub.status.idle": "2022-09-27T10:20:35.831438Z",
     "shell.execute_reply": "2022-09-27T10:20:35.830146Z",
     "shell.execute_reply.started": "2022-09-27T10:20:35.817249Z"
    },
    "tags": []
   },
   "outputs": [],
   "source": [
    "model = SequentialFilter(input_size=16)\n",
    "summary(model)"
   ]
  },
  {
   "cell_type": "markdown",
   "id": "55928600-f711-4632-bdd9-1c867ef9b505",
   "metadata": {},
   "source": [
    "Old one:\n",
    "    \n",
    "x = x - ϕ(Linear(x-y))\n",
    "x = x - ϕ(Linear(x-y))\n",
    "\n",
    "New Filter:\n",
    "\n",
    "x = x - αLinear(x-y)\n",
    "x = x - ϵϕ(Linear(x-y))\n",
    "x = x - ϵϕ(Linear(x-y))"
   ]
  }
 ],
 "metadata": {
  "kernelspec": {
   "display_name": "Python 3 (ipykernel)",
   "language": "python",
   "name": "python3"
  },
  "language_info": {
   "codemirror_mode": {
    "name": "ipython",
    "version": 3
   },
   "file_extension": ".py",
   "mimetype": "text/x-python",
   "name": "python",
   "nbconvert_exporter": "python",
   "pygments_lexer": "ipython3",
   "version": "3.10.6"
  }
 },
 "nbformat": 4,
 "nbformat_minor": 5
}
