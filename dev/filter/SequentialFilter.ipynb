{
 "cells": [
  {
   "cell_type": "markdown",
   "metadata": {},
   "source": [
    "# Title"
   ]
  },
  {
   "cell_type": "code",
   "execution_count": null,
   "metadata": {},
   "outputs": [],
   "source": [
    "%config InteractiveShell.ast_node_interactivity='last_expr_or_assign'  # always print last expr.\n",
    "%config InlineBackend.figure_format = 'svg'\n",
    "%load_ext autoreload\n",
    "%autoreload 2\n",
    "%matplotlib inline\n",
    "\n",
    "import logging\n",
    "\n",
    "logging.basicConfig(level=logging.INFO)"
   ]
  },
  {
   "cell_type": "code",
   "execution_count": null,
   "metadata": {},
   "outputs": [],
   "source": [
    "import matplotlib.pyplot as plt\n",
    "import numpy as np\n",
    "\n",
    "np.set_printoptions(precision=4, floatmode=\"fixed\", suppress=True)\n",
    "rng = np.random.default_rng()"
   ]
  },
  {
   "cell_type": "code",
   "execution_count": null,
   "metadata": {},
   "outputs": [],
   "source": [
    "from typing import Any, Dict, Final, List\n",
    "\n",
    "import torch\n",
    "from linodenet.models.filters import FilterABC, KalmanCell\n",
    "from linodenet.util import (\n",
    "    ReverseDense,\n",
    "    ReZero,\n",
    "    autojit,\n",
    "    deep_dict_update,\n",
    "    initialize_from_config,\n",
    ")\n",
    "from torch import Tensor, jit, nn\n",
    "from torchinfo import summary"
   ]
  },
  {
   "cell_type": "code",
   "execution_count": null,
   "metadata": {},
   "outputs": [],
   "source": [
    "@autojit\n",
    "class SequentialFilterBlock(FilterABC, nn.ModuleList):\n",
    "    DEFAULT_HP: dict = {\n",
    "        \"__name__\": __qualname__,  # type: ignore[name-defined]\n",
    "        \"__module__\": __module__,  # type: ignore[name-defined]\n",
    "        \"input_size\": None,\n",
    "        \"filter\": KalmanCell.HP | {\"autoregressive\": True},\n",
    "        \"layers\": [ReverseDense.HP | {\"bias\": False}, ReZero.HP],\n",
    "    }\n",
    "\n",
    "    input_size: Final[int]\n",
    "\n",
    "    def __init__(self, *args, **HP: Any) -> None:\n",
    "        super().__init__()\n",
    "\n",
    "        self.HP = self.DEFAULT_HP | HP\n",
    "        HP = self.HP\n",
    "        self.input_size = input_size = HP[\"input_size\"]\n",
    "        HP[\"filter\"][\"input_size\"] = input_size\n",
    "\n",
    "        layers: list[nn.Module] = []\n",
    "\n",
    "        for layer in HP[\"layers\"]:\n",
    "            if \"input_size\" in layer:\n",
    "                layer[\"input_size\"] = input_size\n",
    "            if \"output_size\" in layer:\n",
    "                layer[\"output_size\"] = input_size\n",
    "\n",
    "            module = initialize_from_config(layer)\n",
    "            layers.append(module)\n",
    "\n",
    "        layers = list(args) + layers\n",
    "        self.filter = initialize_from_config(HP[\"filter\"])\n",
    "        self.layers = nn.Sequential(*layers)\n",
    "\n",
    "    @jit.export\n",
    "    def forward(self, y: Tensor, x) -> Tensor:\n",
    "        z = self.filter(y, x)\n",
    "        for module in self.layers:\n",
    "            z = module(z)\n",
    "        return x + z"
   ]
  },
  {
   "cell_type": "code",
   "execution_count": null,
   "metadata": {},
   "outputs": [],
   "source": [
    "x = torch.randn(3)\n",
    "model = SequentialFilterBlock(input_size=3)\n",
    "print(summary(model))\n",
    "model(x, x)\n",
    "scripted = jit.script(model)\n",
    "x == scripted(x, x)"
   ]
  },
  {
   "cell_type": "code",
   "execution_count": null,
   "metadata": {},
   "outputs": [],
   "source": [
    "from linodenet.util.layers import Repeat"
   ]
  },
  {
   "cell_type": "code",
   "execution_count": null,
   "metadata": {},
   "outputs": [],
   "source": [
    "class SequentialFilter(FilterABC, nn.Sequential):\n",
    "    DEFAULT_HP: dict = {\n",
    "        \"__name__\": __qualname__,  # type: ignore[name-defined]\n",
    "        \"__module__\": __module__,  # type: ignore[name-defined]\n",
    "        \"independent\": True,\n",
    "        \"copies\": 2,\n",
    "        \"input_size\": int,\n",
    "        \"module\": SequentialFilterBlock.DEFAULT_HP,\n",
    "    }\n",
    "\n",
    "    HP: Dict[str, Any]\n",
    "    \"\"\"The HP\"\"\"\n",
    "\n",
    "    def __init__(self, **HP: Any) -> None:\n",
    "        self.HP = self.DEFAULT_HP | HP\n",
    "        HP = self.HP\n",
    "        HP[\"module\"][\"input_size\"] = HP[\"input_size\"]\n",
    "\n",
    "        copies: list[nn.Module] = []\n",
    "\n",
    "        for k in range(HP[\"copies\"]):\n",
    "            if isinstance(HP[\"module\"], nn.Module):\n",
    "                module = HP[\"module\"]\n",
    "            else:\n",
    "                module = initialize_from_config(HP[\"module\"])\n",
    "\n",
    "            if HP[\"independent\"]:\n",
    "                copies.append(module)\n",
    "            else:\n",
    "                copies = [module] * HP[\"copies\"]\n",
    "                break\n",
    "\n",
    "        HP[\"module\"] = str(HP[\"module\"])\n",
    "        super().__init__(*copies)\n",
    "\n",
    "    @jit.export\n",
    "    def forward(self, y: Tensor, x: Tensor) -> Tensor:\n",
    "        for module in self:\n",
    "            x = module(y, x)\n",
    "        return x"
   ]
  },
  {
   "cell_type": "code",
   "execution_count": null,
   "metadata": {
    "tags": []
   },
   "outputs": [],
   "source": [
    "x = torch.randn(4)\n",
    "model = SequentialFilter(input_size=4)\n",
    "model(x, x)\n",
    "scripted = jit.script(model)\n",
    "scripted(x, x)\n",
    "summary(model)"
   ]
  }
 ],
 "metadata": {
  "kernelspec": {
   "display_name": "Python 3 (ipykernel)",
   "language": "python",
   "name": "python3"
  },
  "language_info": {
   "codemirror_mode": {
    "name": "ipython",
    "version": 3
   },
   "file_extension": ".py",
   "mimetype": "text/x-python",
   "name": "python",
   "nbconvert_exporter": "python",
   "pygments_lexer": "ipython3",
   "version": "3.9.9"
  }
 },
 "nbformat": 4,
 "nbformat_minor": 4
}
