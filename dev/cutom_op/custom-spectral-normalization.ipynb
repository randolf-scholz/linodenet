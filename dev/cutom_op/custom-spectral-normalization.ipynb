{
 "cells": [
  {
   "cell_type": "code",
   "execution_count": null,
   "id": "b83a4232-8634-407d-a1af-d414a2f68663",
   "metadata": {
    "tags": []
   },
   "outputs": [],
   "source": [
    "import numpy as np\n",
    "import torch\n",
    "import torch.utils.cpp_extension\n",
    "from torch import Tensor, jit, nn\n",
    "from tqdm.autonotebook import tqdm, trange"
   ]
  },
  {
   "cell_type": "code",
   "execution_count": null,
   "id": "bda18d6a-398a-47d4-8412-134bebbd8bfa",
   "metadata": {
    "tags": []
   },
   "outputs": [],
   "source": [
    "torch.utils.cpp_extension.load(\n",
    "    name=\"spectral_norm\",\n",
    "    sources=[\"spectral_norm.cpp\"],\n",
    "    is_python_module=False,\n",
    "    verbose=True,\n",
    ")\n",
    "print(torch.ops.custom.spectral_norm)\n",
    "spectral_norm = torch.ops.custom.spectral_norm"
   ]
  },
  {
   "cell_type": "code",
   "execution_count": null,
   "id": "c4c267f3-b610-4bf8-8940-b7b0052b837f",
   "metadata": {
    "tags": []
   },
   "outputs": [],
   "source": [
    "device = torch.device(\"cuda\" if torch.cuda.is_available() else \"cpu\")"
   ]
  },
  {
   "cell_type": "code",
   "execution_count": null,
   "id": "4c6db4cf-f3e9-4fa5-8912-5fb670c909ab",
   "metadata": {
    "tags": []
   },
   "outputs": [],
   "source": [
    "@jit.script\n",
    "def experiment(device: str = \"cpu\", atol: float = 1e-7, rtol: float = 1e-4) -> None:\n",
    "    device = torch.device(device)\n",
    "    # shape = torch.Size(torch.randint(1, 512, (2,)))\n",
    "    shape = torch.randint(1, 512, (2,))\n",
    "    A = torch.randn(shape[0], shape[1], device=device)\n",
    "    u0 = torch.randn(shape[0], device=device)\n",
    "    v0 = torch.randn(shape[1], device=device)\n",
    "    s = spectral_norm(A, maxiter=None, atol=1e-8, rtol=1e-5)\n",
    "    s_ref = torch.linalg.matrix_norm(A, ord=2)\n",
    "    assert (\n",
    "        abs(s_ref - s) < atol + rtol * s_ref\n",
    "    ), f\"s={s}  {abs(s_ref - s)/s_ref} m+n={sum(shape)}\"\n",
    "    assert s > 0, s"
   ]
  },
  {
   "cell_type": "code",
   "execution_count": null,
   "id": "9bcbb368-a77a-4248-a24b-a2250563f4d7",
   "metadata": {
    "tags": []
   },
   "outputs": [],
   "source": [
    "for k in trange(10_000):\n",
    "    experiment()"
   ]
  },
  {
   "cell_type": "code",
   "execution_count": null,
   "id": "369d08e1-934d-487e-a32a-2fa5025d2028",
   "metadata": {
    "tags": []
   },
   "outputs": [],
   "source": [
    "experiment()"
   ]
  },
  {
   "cell_type": "code",
   "execution_count": null,
   "id": "9dfe51ff-791e-412b-998b-c6259d3edad7",
   "metadata": {
    "tags": []
   },
   "outputs": [],
   "source": [
    "shape = torch.Size(torch.randint(1, 512, (2,)))"
   ]
  },
  {
   "cell_type": "code",
   "execution_count": null,
   "id": "82c40902-8385-42c5-b3b7-9c11bdcf7399",
   "metadata": {
    "tags": []
   },
   "outputs": [],
   "source": [
    "shape\n",
    "A = torch.randn(shape, device=device)"
   ]
  },
  {
   "cell_type": "code",
   "execution_count": null,
   "id": "818968d5-290f-4d85-ab2e-9eb98580d465",
   "metadata": {
    "tags": []
   },
   "outputs": [],
   "source": [
    "jit.script(experiment)()"
   ]
  },
  {
   "cell_type": "code",
   "execution_count": null,
   "id": "0cb95795-c5fb-4b51-ae66-75116df5c80a",
   "metadata": {
    "tags": []
   },
   "outputs": [],
   "source": [
    "import matplotlib.pyplot as plt\n",
    "from tqdm.autonotebook import tqdm, trange"
   ]
  },
  {
   "cell_type": "code",
   "execution_count": null,
   "id": "806e56a3-52ca-42a7-a547-40b4ec0c41a7",
   "metadata": {
    "tags": []
   },
   "outputs": [],
   "source": [
    "import matplotlib.pyplot as plt\n",
    "from tqdm.autonotebook import tqdm, trange\n",
    "\n",
    "\n",
    "def alg_convergene(lists, tol=1e-5) -> list[int]:\n",
    "    return [np.argmax(np.array(l) < tol) for l in lists]"
   ]
  },
  {
   "cell_type": "code",
   "execution_count": null,
   "id": "9b45fd3f-1c1c-46be-acd4-b0a9b1d5aca3",
   "metadata": {
    "tags": []
   },
   "outputs": [],
   "source": [
    "maxiter = 1000\n",
    "m, n = 128, 256\n",
    "A = torch.torch.randn(m, n)\n",
    "U, S, V = torch.svd(A)\n",
    "u_true = U[:, 0]\n",
    "v_true = V[:, 0]\n",
    "s_true = S[0]\n",
    "\n",
    "R = torch.arange(maxiter)\n",
    "\n",
    "u0 = torch.randn(m)\n",
    "v0 = torch.randn(n)\n",
    "\n",
    "u = u0.clone()\n",
    "v = v0.clone()\n",
    "\n",
    "f_s = []  # s residual\n",
    "f_u = []  # u residual\n",
    "f_v = []  # v residual\n",
    "f_r = []  # right residual\n",
    "f_l = []  # left residual\n",
    "f_x = []  # diff u\n",
    "f_y = []  # diff v\n",
    "sign_s = []\n",
    "\n",
    "for k in tqdm(R):\n",
    "    u_old = u\n",
    "    u = A.mv(v)\n",
    "    u /= u.norm()\n",
    "    s = A.mv(v).dot(u)\n",
    "    sign_s.append(s.sign())\n",
    "\n",
    "    v_old = v\n",
    "    v = A.T.mv(u)\n",
    "    v /= v.norm()\n",
    "    s = A.mv(v).dot(u)\n",
    "    f_r.append((A.mv(v) - s * u).norm())\n",
    "    f_x.append((v - v_old).norm())\n",
    "\n",
    "    f_l.append((A.t().mv(u) - s * v).norm())\n",
    "    f_y.append((u - u_old).norm())\n",
    "\n",
    "    f_v.append(min((v - v_true).norm(), (v + v_true).norm()))\n",
    "    f_u.append(min((u - u_true).norm(), (u + u_true).norm()))\n",
    "    f_s.append(abs(s - s_true))\n",
    "    # f_r.append((A.mv(v) - s * u).norm())\n",
    "\n",
    "u = u0.clone()\n",
    "v = v0.clone()\n",
    "g_s = []  # s residual\n",
    "g_u = []  # u residual\n",
    "g_v = []  # v residual\n",
    "g_r = []  # right residual\n",
    "g_l = []  # left residual\n",
    "\n",
    "for k in tqdm(R):\n",
    "    u_old = u\n",
    "    v_old = v\n",
    "    u = A.mv(v_old)\n",
    "    u /= u.norm()\n",
    "\n",
    "    v = A.T.mv(u_old)\n",
    "    v /= v.norm()\n",
    "    s = A.mv(v).dot(u)\n",
    "\n",
    "    g_v.append(min((v - v_true).norm(), (v + v_true).norm()))\n",
    "    g_u.append(min((u - u_true).norm(), (u + u_true).norm()))\n",
    "    g_s.append(abs(abs(s) - s_true))\n",
    "    g_r.append((A.mv(v) - s * u).norm())\n",
    "    g_l.append((A.t().mv(u) - s * v).norm())\n",
    "\n",
    "assert (np.array(sign_s) == 1).all()\n",
    "# f_s,f_u,f_v,f_r,f_l,f_x,f_y\n",
    "\n",
    "\n",
    "print(alg_convergene([f_s, f_u, f_v, f_r, f_l, f_x, f_y]))\n",
    "print(alg_convergene([g_s, g_u, g_v, g_r, g_l]))"
   ]
  },
  {
   "cell_type": "code",
   "execution_count": null,
   "id": "85bd8f80-bacd-4e12-b4dd-1b0379911aba",
   "metadata": {
    "tags": []
   },
   "outputs": [],
   "source": [
    "fig, ax = plt.subplots(figsize=(16, 10))\n",
    "plt.loglog(\n",
    "    # fmt: off\n",
    "    R, f_u, \"-r\", R, f_v, \"-b\", R, f_s, \"-g\", R, f_l, \"-k\", R, f_r, \"-y\", R, f_x, R, f_y,\n",
    "    R, g_u, \":r\", R, g_v, \":b\", R, g_s, \":g\", R, g_l, \":k\", R, g_r, \":y\",\n",
    "    # fmt: on\n",
    ");"
   ]
  },
  {
   "cell_type": "code",
   "execution_count": null,
   "id": "4b438e26-b159-4d8f-abe8-95357174a719",
   "metadata": {
    "tags": []
   },
   "outputs": [],
   "source": [
    "A = torch.randn(5, 7)\n",
    "u0 = torch.randn(5)\n",
    "v0 = torch.randn(7)"
   ]
  },
  {
   "cell_type": "code",
   "execution_count": null,
   "id": "eb2b2fac-10af-4d05-9d27-815bd6b2c4ce",
   "metadata": {
    "tags": []
   },
   "outputs": [],
   "source": [
    "spectral_norm(A, maxiter=10_000, atol=10**-2, rtol=10**-2)"
   ]
  },
  {
   "cell_type": "code",
   "execution_count": null,
   "id": "ab263fd6-f63c-4c54-ad4a-ba10a0fc90f9",
   "metadata": {
    "tags": []
   },
   "outputs": [],
   "source": [
    "torch.linalg.matrix_norm(A, ord=2)"
   ]
  },
  {
   "cell_type": "code",
   "execution_count": null,
   "id": "70b3a908-bb3a-4ac5-be2c-57e6724c126f",
   "metadata": {
    "tags": []
   },
   "outputs": [],
   "source": [
    "with open(\"op.cpp\", \"r\", encoding=\"utf8\") as file:\n",
    "    op_source = file.read()\n",
    "\n",
    "torch.utils.cpp_extension.load_inline(\n",
    "    name=\"op_with_autograd\",\n",
    "    cpp_sources=op_source,\n",
    "    extra_ldflags=[\"-lopencv_core\", \"-lopencv_imgproc\"],\n",
    "    is_python_module=False,\n",
    "    verbose=True,\n",
    ")\n",
    "\n",
    "print(torch.ops.custom.op_with_autograd)"
   ]
  },
  {
   "cell_type": "code",
   "execution_count": null,
   "id": "4408de3d-d5d2-487d-934d-cb20a474d6ee",
   "metadata": {
    "tags": []
   },
   "outputs": [],
   "source": [
    "op_with_autograd = torch.ops.custom.op_with_autograd\n",
    "\n",
    "a = torch.randn(3, 3).cuda()\n",
    "b = torch.tensor(3).cuda()\n",
    "c = torch.randn(3, 3).cuda()\n",
    "\n",
    "op_with_autograd(a, b, c)"
   ]
  },
  {
   "cell_type": "code",
   "execution_count": null,
   "id": "2b973983-fe66-4d8b-bfd1-74543f884430",
   "metadata": {
    "tags": []
   },
   "outputs": [],
   "source": [
    "import torch\n",
    "import torch.utils.cpp_extension\n",
    "\n",
    "# Load the custom module\n",
    "custom_module = torch.utils.cpp_extension.load(\n",
    "    name=\"AlexNet\",\n",
    "    sources=[\"custom_module.cpp\"],\n",
    "    is_python_module=False,\n",
    "    verbose=True,\n",
    "    build_directory=\"build\",\n",
    "    extra_cflags=[\"-O3\"],\n",
    ")"
   ]
  },
  {
   "cell_type": "code",
   "execution_count": null,
   "id": "466c2c62-e2d5-4aa6-aad0-60eb25b65950",
   "metadata": {
    "tags": []
   },
   "outputs": [],
   "source": [
    "dir(torch.ops.custom.CustomModule)"
   ]
  },
  {
   "cell_type": "code",
   "execution_count": null,
   "id": "b719c68f-e2c9-46fe-8297-fcb067510123",
   "metadata": {},
   "outputs": [],
   "source": []
  },
  {
   "cell_type": "code",
   "execution_count": null,
   "id": "74c11c5b-2295-4303-89d4-1e9da71dd5f6",
   "metadata": {
    "tags": []
   },
   "outputs": [],
   "source": [
    "torch.ops."
   ]
  },
  {
   "cell_type": "code",
   "execution_count": null,
   "id": "f1d368e6-d8fa-4864-a095-756efbd6b00a",
   "metadata": {},
   "outputs": [],
   "source": []
  },
  {
   "cell_type": "code",
   "execution_count": null,
   "id": "16d8d0ff-96ea-4e18-9a41-3a1788730269",
   "metadata": {
    "tags": []
   },
   "outputs": [],
   "source": [
    "# Instantiate the module\n",
    "model = custom_module.CustomModule()"
   ]
  },
  {
   "cell_type": "code",
   "execution_count": null,
   "id": "9a274efa-e33d-4649-887b-fc6af54ec74d",
   "metadata": {},
   "outputs": [],
   "source": []
  },
  {
   "cell_type": "code",
   "execution_count": null,
   "id": "6325da92-7380-46f8-b696-c53f84d57b85",
   "metadata": {
    "tags": []
   },
   "outputs": [],
   "source": []
  },
  {
   "cell_type": "markdown",
   "id": "5028e3a1-b5ba-4869-b7ff-e6828ab3a36b",
   "metadata": {},
   "source": [
    "# test custom op serialization"
   ]
  },
  {
   "cell_type": "code",
   "execution_count": null,
   "id": "e86326cd-4ead-440c-812f-55135acad528",
   "metadata": {
    "tags": []
   },
   "outputs": [],
   "source": [
    "class Foo(nn.Module):\n",
    "    def forward(self, x: Tensor, y: int, z: Tensor) -> Tensor:\n",
    "        return op_with_autograd(x, y, z)\n",
    "\n",
    "\n",
    "module = Foo()\n",
    "module(a, b, c)"
   ]
  },
  {
   "cell_type": "code",
   "execution_count": null,
   "id": "bc03727a-81c3-43a6-96fd-ba03ed3813a2",
   "metadata": {
    "tags": []
   },
   "outputs": [],
   "source": [
    "scripted = jit.script(module)\n",
    "scripted.save(\"scripted_module.pt\")\n",
    "scripted(a, b, c)"
   ]
  },
  {
   "cell_type": "code",
   "execution_count": null,
   "id": "b054b45f-4799-405b-81dd-f603f4f07417",
   "metadata": {
    "tags": []
   },
   "outputs": [],
   "source": [
    "loaded = jit.load(\"scripted_module.pt\")\n",
    "loaded(a, b, c)"
   ]
  },
  {
   "cell_type": "markdown",
   "id": "cd380609-5cb6-410a-8889-f4dcb50470a5",
   "metadata": {
    "tags": []
   },
   "source": [
    "## test backward"
   ]
  },
  {
   "cell_type": "code",
   "execution_count": null,
   "id": "fee0459c-131d-4cd1-8d05-6beb8fe777cd",
   "metadata": {},
   "outputs": [],
   "source": []
  },
  {
   "cell_type": "code",
   "execution_count": null,
   "id": "1130d4a6-393a-4f8d-8e39-95b6be4db332",
   "metadata": {},
   "outputs": [],
   "source": []
  },
  {
   "cell_type": "code",
   "execution_count": null,
   "id": "9c71bad5-0d84-4866-b2ee-12e0137b03ce",
   "metadata": {},
   "outputs": [],
   "source": []
  },
  {
   "cell_type": "code",
   "execution_count": null,
   "id": "2d0af1ca-ca57-4e4a-a4e7-1e51624a3870",
   "metadata": {},
   "outputs": [],
   "source": []
  },
  {
   "cell_type": "code",
   "execution_count": null,
   "id": "f26d0ea4-e339-454e-99d8-1facb5cd886c",
   "metadata": {},
   "outputs": [],
   "source": []
  },
  {
   "cell_type": "code",
   "execution_count": null,
   "id": "7f04d4cf-fe52-4623-9e98-9e4c46c65fc6",
   "metadata": {},
   "outputs": [],
   "source": []
  },
  {
   "cell_type": "code",
   "execution_count": null,
   "id": "e5dc6ac4-92db-48ee-88cf-4792d28404f7",
   "metadata": {},
   "outputs": [],
   "source": []
  },
  {
   "cell_type": "code",
   "execution_count": null,
   "id": "8f81fa09-a773-4030-9ee2-4bd4ba16af63",
   "metadata": {},
   "outputs": [],
   "source": []
  },
  {
   "cell_type": "code",
   "execution_count": null,
   "id": "6c509c77-625b-415e-88ee-a420b7cac5b2",
   "metadata": {
    "tags": []
   },
   "outputs": [],
   "source": [
    "import torch\n",
    "\n",
    "torch.ops.load_library(\"libcustom_ops.so\")"
   ]
  },
  {
   "cell_type": "code",
   "execution_count": null,
   "id": "b32cb224-73eb-49d3-82aa-5288c6cd9f12",
   "metadata": {
    "tags": []
   },
   "outputs": [],
   "source": [
    "torch.ops.custom.opa"
   ]
  },
  {
   "cell_type": "code",
   "execution_count": null,
   "id": "0d0997f0-db85-471f-8b4a-eb0ea8b3ebc4",
   "metadata": {
    "tags": []
   },
   "outputs": [],
   "source": [
    "torch.ops.loaded_libraries"
   ]
  },
  {
   "cell_type": "code",
   "execution_count": null,
   "id": "7ea76c20-23be-4b4d-989a-699a289a3d23",
   "metadata": {
    "tags": []
   },
   "outputs": [],
   "source": [
    "print(dir(torch.ops.my_ops))\n",
    "print(dir(torch.ops.custom))"
   ]
  },
  {
   "cell_type": "code",
   "execution_count": null,
   "id": "dfee2b25-204d-4a71-b3d3-97e86457c711",
   "metadata": {},
   "outputs": [],
   "source": [
    "import torch.utils.cpp_extension\n",
    "\n",
    "torch.utils.cpp_extension.load(\n",
    "    name=\"warp_perspective\",\n",
    "    sources=[\"op.cpp\"],\n",
    "    extra_ldflags=[\"-lopencv_core\", \"-lopencv_imgproc\"],\n",
    "    is_python_module=False,\n",
    "    verbose=True,\n",
    ")\n",
    "\n",
    "print(torch.ops.my_ops.warp_perspective)"
   ]
  },
  {
   "cell_type": "code",
   "execution_count": null,
   "id": "3ea637cd-2056-4731-aebf-efa2adf63006",
   "metadata": {
    "tags": []
   },
   "outputs": [],
   "source": []
  },
  {
   "cell_type": "code",
   "execution_count": null,
   "id": "e3941c38-964f-49f8-98e0-b26c0729023e",
   "metadata": {},
   "outputs": [],
   "source": []
  },
  {
   "cell_type": "code",
   "execution_count": null,
   "id": "cedd2a15-e8f2-4a09-bc66-f91915713b17",
   "metadata": {
    "tags": []
   },
   "outputs": [],
   "source": [
    "torch.ops.my_ops.op_with_autograd"
   ]
  },
  {
   "cell_type": "code",
   "execution_count": null,
   "id": "c169496f-f620-49d5-a29c-42508ff773e9",
   "metadata": {
    "tags": []
   },
   "outputs": [],
   "source": [
    "def f(x: Tensor) -> Tensor:\n",
    "    return torch.ops.my_ops.warp_perspective(x)"
   ]
  },
  {
   "cell_type": "code",
   "execution_count": null,
   "id": "e7fd99ab-0643-4b3f-bdda-20df599d3283",
   "metadata": {
    "tags": []
   },
   "outputs": [],
   "source": [
    "import torch\n",
    "import torch.utils.cpp_extension\n",
    "\n",
    "op_source = \"\"\"\n",
    "#include <torch/script.h>\n",
    "\n",
    "torch::Tensor warp_perspective(torch::Tensor image, torch::Tensor warp) {\n",
    "  return image.clone();\n",
    "}\n",
    "\n",
    "TORCH_LIBRARY(my_ops, m) {\n",
    "  m.def(\"warp_perspective\", &warp_perspective);\n",
    "}\n",
    "\"\"\"\n",
    "\n",
    "torch.utils.cpp_extension.load_inline(\n",
    "    name=\"warp_perspective\",\n",
    "    cpp_sources=op_source,\n",
    "    extra_ldflags=[\"-lopencv_core\", \"-lopencv_imgproc\"],\n",
    "    is_python_module=False,\n",
    "    verbose=True,\n",
    ")\n",
    "\n",
    "print(torch.ops.my_ops.warp_perspective)"
   ]
  },
  {
   "cell_type": "code",
   "execution_count": null,
   "id": "51399ca7-6ac4-486f-be14-0e70890cd8e2",
   "metadata": {
    "tags": []
   },
   "outputs": [],
   "source": [
    "print(torch.ops.my_ops.warp_perspective)"
   ]
  },
  {
   "cell_type": "code",
   "execution_count": null,
   "id": "1bb0fd2b-c03f-4590-8050-34f423f8f467",
   "metadata": {},
   "outputs": [],
   "source": [
    "dir(torch.ops.my_ops)"
   ]
  },
  {
   "cell_type": "code",
   "execution_count": null,
   "id": "c61dce2b-9a3c-4fc1-bbc5-43323d32ade0",
   "metadata": {
    "tags": []
   },
   "outputs": [],
   "source": [
    "import torch\n",
    "\n",
    "torch.ops.load_library(\"build/libwarp_perspective.so\")\n",
    "print(torch.ops.my_ops.warp_perspective)"
   ]
  },
  {
   "cell_type": "code",
   "execution_count": null,
   "id": "7e2fbf43-7273-4c8c-9758-d19a75699844",
   "metadata": {
    "tags": []
   },
   "outputs": [],
   "source": [
    "import torch.utils.cpp_extension\n",
    "\n",
    "torch.utils.cpp_extension.load(\n",
    "    name=\"warp_perspective\",\n",
    "    sources=[\"op.cpp\"],\n",
    "    extra_ldflags=[\"-lopencv_core\", \"-lopencv_imgproc\"],\n",
    "    is_python_module=False,\n",
    "    verbose=True,\n",
    ")\n",
    "\n",
    "print(torch.ops.my_ops.warp_perspective)"
   ]
  },
  {
   "cell_type": "code",
   "execution_count": null,
   "id": "bc20d7d5-e91b-45f8-b341-04cf9e4de663",
   "metadata": {},
   "outputs": [],
   "source": []
  },
  {
   "cell_type": "code",
   "execution_count": null,
   "id": "4cfe4819-e5b6-405e-b48e-e149d5b4ebba",
   "metadata": {},
   "outputs": [],
   "source": [
    "from setuptools import setup\n",
    "from torch.utils.cpp_extension import BuildExtension, CppExtension\n",
    "\n",
    "setup(\n",
    "    name=\"warp_perspective\",\n",
    "    ext_modules=[\n",
    "        CppExtension(\n",
    "            \"warp_perspective\",\n",
    "            [\"example_app/warp_perspective/op.cpp\"],\n",
    "            libraries=[\"opencv_core\", \"opencv_imgproc\"],\n",
    "        )\n",
    "    ],\n",
    "    cmdclass={\"build_ext\": BuildExtension.with_options(no_python_abi_suffix=True)},\n",
    ")"
   ]
  },
  {
   "cell_type": "code",
   "execution_count": null,
   "id": "bc433dc1-a2d0-4228-8ffa-e41b68cfd8a6",
   "metadata": {},
   "outputs": [],
   "source": []
  },
  {
   "cell_type": "code",
   "execution_count": null,
   "id": "69934209-ccf1-4e96-86d9-52011107da0b",
   "metadata": {
    "tags": []
   },
   "outputs": [],
   "source": [
    "def compute(x, y, z):\n",
    "    x = torch.ops.my_ops.warp_perspective(x, torch.eye(3))\n",
    "    return x.matmul(y) + torch.relu(z)"
   ]
  },
  {
   "cell_type": "code",
   "execution_count": null,
   "id": "bd388718-b6a6-4354-812f-a55bcd1f1490",
   "metadata": {
    "tags": []
   },
   "outputs": [],
   "source": [
    "inputs = [torch.randn(4, 8), torch.randn(8, 5), torch.randn(4, 5)]\n",
    "trace = torch.jit.trace(compute, inputs)\n",
    "print(trace.graph)"
   ]
  },
  {
   "cell_type": "code",
   "execution_count": null,
   "id": "13f304b5-0680-4282-8177-046d700f17dc",
   "metadata": {},
   "outputs": [],
   "source": []
  }
 ],
 "metadata": {
  "kernelspec": {
   "display_name": "Python 3 (ipykernel)",
   "language": "python",
   "name": "python3"
  },
  "language_info": {
   "codemirror_mode": {
    "name": "ipython",
    "version": 3
   },
   "file_extension": ".py",
   "mimetype": "text/x-python",
   "name": "python",
   "nbconvert_exporter": "python",
   "pygments_lexer": "ipython3",
   "version": "3.11.3"
  }
 },
 "nbformat": 4,
 "nbformat_minor": 5
}
