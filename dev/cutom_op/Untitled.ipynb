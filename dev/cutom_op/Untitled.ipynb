{
 "cells": [
  {
   "cell_type": "markdown",
   "metadata": {},
   "source": [
    "# Sample Template"
   ]
  },
  {
   "cell_type": "markdown",
   "metadata": {},
   "source": [
    "Here is some sample text, and a first block of code"
   ]
  },
  {
   "cell_type": "code",
   "execution_count": null,
   "metadata": {
    "execution": {
     "iopub.execute_input": "2023-04-16T12:12:22.762782Z",
     "iopub.status.busy": "2023-04-16T12:12:22.762344Z",
     "iopub.status.idle": "2023-04-16T12:12:23.241565Z",
     "shell.execute_reply": "2023-04-16T12:12:23.241024Z",
     "shell.execute_reply.started": "2023-04-16T12:12:22.762759Z"
    },
    "tags": []
   },
   "outputs": [],
   "source": [
    "import re\n",
    "\n",
    "text = r\"\"\"\n",
    "This is a text with some math blocks: $E=mc^2$, $g(x)=\\int_{-\\infty}^x f(t) dt$ and\n",
    "$ f(x) = \\{ x: \\text{if $x<0$} ] $, but we also have false positives like $ cd $\"\"\"\n",
    "\n",
    "regex = r\"\"\"\n",
    "(?<!\\$)     # Negative lookbehind assertion to exclude $\n",
    "(?P<dollar>\\$)   # Match and capture the first $\n",
    "(?!\\s)      # Negative lookahead assertion to exclude whitespace\n",
    "(?P<content>\n",
    "  (?:                   # Non-capturing group\n",
    "    [^{${]+             # Match any character except {, $ and newline\n",
    "    |                   # OR\n",
    "    \\{                  # Match the opening curly brace\n",
    "      (?:[^{}]+|        # Match any character except { and } OR\n",
    "        \\{(?:[^{}]+|\\{(?1)\\})*\\}  # Match balanced braces recursively\n",
    "      )*                # Match zero or more times\n",
    "      [^{}]*            # Match any character except { and } zero or more times\n",
    "    \\}                  # Match the closing curly brace\n",
    "  )+\n",
    ")\n",
    "\\s*         # Match any whitespace characters\n",
    "(?<!\\s)     # Negative lookbehind assertion to exclude whitespace\n",
    "(?P<right>\\$)    # Match and capture the second $\n",
    "(?!        # Negative lookahead assertion to exclude $\n",
    "  (?<=})   # Match only if the last matching group is not a closing curly brace\n",
    ")\n",
    "\"\"\"\n",
    "\n",
    "text = r\"The equation $E=mc^2$ is famous. But what about $$F=ma$$ or $g(x)=\\int_{-\\infty}^x f(t) dt$? Or $ f(x) = \\{ x: \\text{if $x<0$} ] $?\"\n",
    "\n",
    "matches = re.findall(regex, text, re.MULTILINE | re.DOTALL | re.VERBOSE)\n",
    "\n",
    "print(matches)"
   ]
  },
  {
   "cell_type": "code",
   "execution_count": null,
   "metadata": {
    "execution": {
     "iopub.execute_input": "2023-04-16T12:08:54.669490Z",
     "iopub.status.busy": "2023-04-16T12:08:54.668932Z",
     "iopub.status.idle": "2023-04-16T12:08:54.674319Z",
     "shell.execute_reply": "2023-04-16T12:08:54.673820Z",
     "shell.execute_reply.started": "2023-04-16T12:08:54.669466Z"
    },
    "tags": []
   },
   "outputs": [],
   "source": [
    "import re\n",
    "\n",
    "regex = r\"\"\"\n",
    "    (?<!\\$)        # Negative lookbehind for '$'\n",
    "    (?P<dollar>\\$) # Match the opening dollar sign and save it as a group named 'dollar'\n",
    "    (?!\\s)         # Negative lookahead for whitespace\n",
    "    (?P<content>   # Match the content between the dollar signs and save it as a group named 'content'\n",
    "        (?:        # Non-capturing group for the content options\n",
    "            [^{$]+ # Match any character that is not '{' or '$' one or more times\n",
    "            |      # or\n",
    "            \\{     # Match the opening curly brace\n",
    "                (?:          # Non-capturing group for nested curly braces\n",
    "                    [^{}]+   # Match any character that is not '{' or '}' one or more times\n",
    "                    |        # or\n",
    "                    \\{[^{}]*\\} # Match nested curly braces\n",
    "                )*           # Match the non-capturing group zero or more times\n",
    "            \\}     # Match the closing curly brace\n",
    "        )+          # Require the content to have at least one character\n",
    "    )              \n",
    "    \\s*            # Match any whitespace characters\n",
    "    (?<!\\s)        # Negative lookbehind for whitespace\n",
    "    (?P<right>\\$)  # Match the closing dollar sign and save it as a group named 'right'\n",
    "    (?!\\$)         # Negative lookahead for '$'\n",
    "\"\"\"\n",
    "\n",
    "# Compile the regex with the VERBOSE flag\n",
    "pattern = re.compile(regex, re.VERBOSE)\n",
    "\n",
    "# Test the regex\n",
    "text = r\"$ f(x) = \\{ x: \\text{if $x<0$} ] $   The equation $E=mc^2$ is famous. But what about $$F=ma$$ or $g(x)=\\int_{-\\infty}^x f(t) dt$?\"\n",
    "matches = pattern.findall(text)\n",
    "print(matches)"
   ]
  },
  {
   "cell_type": "code",
   "execution_count": null,
   "metadata": {},
   "outputs": [],
   "source": [
    "regex = r\"\"\"\n",
    "(?<!\\$)              # Negative lookbehind to ensure that there is no $ before the first $\n",
    "(?P<left>\\$)         # Capture the first $ in a named group \"dollar\"\n",
    "(?!\\s)               # Negative lookahead to ensure that there is no whitespace after the first $\n",
    "(?P<content>         # Capture the content of the math block in a named group \"content\"\n",
    "  (?:                # Non-capturing group for the content\n",
    "    [^{$]+           # Match any character that is not { or $\n",
    "    |                # OR\n",
    "    (?:(?<!\\\\)\\{     # Match an opening curly brace\n",
    "      (?:            # Non-capturing group for the nested content within curly braces\n",
    "        [^{}]+       # Match any character that is not { or }\n",
    "        |            # OR\n",
    "        \\{    # Match an opening curly brace\n",
    "          [^{}]*     # Match any characters that are not { or } zero or more times\n",
    "        \\}    # Match a closing curly brace\n",
    "      )*             # Match the nested content group zero or more times\n",
    "    (?<!\\\\)\\})       # Match a closing curly brace\n",
    "  )+                 # Match the non-capturing group one or more times\n",
    ")                    #\n",
    "(?<!\\s)              # Negative lookbehind to ensure that there is no whitespace before the final $\n",
    "(?P<right>\\$)        # Capture the final $ in a named group \"right\"\n",
    "(?!\\$)               # Negative lookahead to ensure that there is no $ after the final $\n",
    "\"\"\""
   ]
  },
  {
   "cell_type": "code",
   "execution_count": null,
   "metadata": {},
   "outputs": [],
   "source": []
  },
  {
   "cell_type": "code",
   "execution_count": null,
   "metadata": {
    "execution": {
     "iopub.execute_input": "2023-04-16T12:34:59.993248Z",
     "iopub.status.busy": "2023-04-16T12:34:59.992817Z",
     "iopub.status.idle": "2023-04-16T12:35:00.000552Z",
     "shell.execute_reply": "2023-04-16T12:34:59.999999Z",
     "shell.execute_reply.started": "2023-04-16T12:34:59.993224Z"
    },
    "tags": []
   },
   "outputs": [],
   "source": [
    "## MY SOLUTION\n",
    "\n",
    "import re\n",
    "\n",
    "regex = r\"\"\"\n",
    "(?<!\\$)                   # Negative lookbehind to ensure that there is no $ before the first $\n",
    "(?<!\\\\)                   # Negative lookbehind to ensure there is no \\ before the first $\n",
    "(?P<left>\\$)              # Capture the first $ in a named group \"dollar\"\n",
    "(?!\\$)                    # Negative lookahead to ensure that there is no $ after the first $\n",
    "(?!\\s)                    # Negative lookahead to ensure that there is no whitespace after the first $\n",
    "(?P<content>              # Capture the content of the math block in a named group \"content\"\n",
    "  (?:                     # Non-capturing group for the content\n",
    "    ([^{$]|\\\\\\{|\\\\\\$|)+   # Match any character that is not { or $, excluding '\\{' and '\\$'\n",
    "    |                     # OR\n",
    "    \\{                    # Match opening brace\n",
    "    ([^{]|)               # Match any characters, excluding curly brace, exclusing '\\{'\n",
    "    \\}                    # Match a closing curly brace\n",
    "\n",
    "    (\n",
    "    (?<!\\\\)\\{        # Match an opening curly brace, but not \\{\n",
    "      (?:            # Non-capturing group for the nested content within curly braces\n",
    "        [^{}]+       # Match any character that is not { or }\n",
    "        |            # OR\n",
    "        \\{           # Match an opening curly brace\n",
    "          [^{}]*     # Match any characters that are not { or } zero or more times\n",
    "        \\}           # Match a closing curly brace\n",
    "      )*             # Match the nested content group zero or more times\n",
    "    (?<!\\\\)\\}        # Match a closing curly brace, but not \\}\n",
    "    )\n",
    "  )+                 # Match the non-capturing group one or more times\n",
    ")                    #\n",
    "(?<!\\$)              # Negative lookbehind to ensure that there is no $ before the final $\n",
    "(?<!\\\\)              # Negative lookbehind to ensure there is no \\ before the final $\n",
    "(?<!\\s)              # Negative lookbehind to ensure that there is no whitespace before the final $\n",
    "(?P<right>\\$)        # Capture the final $ in a named group \"right\"\n",
    "(?!\\$)               # Negative lookahead to ensure that there is no $ after the final $\n",
    "\"\"\"\n",
    "\n",
    "\n",
    "# regex = r\"(?<!\\$)(?P<left>\\$)(?!\\s)(?P<content>(?:[^{$]+|\\{(?:[^{}]+|\\{[^{}]*\\})*\\})+)\\s*(?<!\\s)(?P<right>\\$)(?!\\$)\"\n",
    "\n",
    "\n",
    "# Compile the regex with the VERBOSE flag\n",
    "pattern = re.compile(regex, re.VERBOSE)\n",
    "\n",
    "# Test the regex\n",
    "\n",
    "text = r\"\"\"\n",
    "The equation $E=mc^2$ is famous. But what about $$F=ma$$ or $g(x)=\\int_{-\\infty}^x f(t) dt$?\n",
    "\n",
    "Here is some text with a math block: $x = \\frac{1}{2}$.\n",
    "\n",
    "Here is another math block with nested math:\n",
    "$f(x) = y \\text{ for $x \\in \\mathbb{R}$ and $y \\in \\{1,2,3\\}$}$\n",
    "\n",
    "Here is a code block: `$ cd ..`.\n",
    "\n",
    "multi-line example: $f(x)=\n",
    "y$\n",
    "\n",
    "$f(x) = \\{ x: \\text{if $x<0$} ]$\n",
    "\"\"\"\n",
    "\n",
    "matches = pattern.findall(text)\n",
    "print(matches)"
   ]
  },
  {
   "cell_type": "code",
   "execution_count": null,
   "metadata": {
    "execution": {
     "iopub.execute_input": "2023-04-16T12:06:55.299850Z",
     "iopub.status.busy": "2023-04-16T12:06:55.299242Z",
     "iopub.status.idle": "2023-04-16T12:06:55.303452Z",
     "shell.execute_reply": "2023-04-16T12:06:55.302927Z",
     "shell.execute_reply.started": "2023-04-16T12:06:55.299835Z"
    },
    "tags": []
   },
   "outputs": [],
   "source": [
    "import re\n",
    "\n",
    "regex = r\"\"\"\n",
    "    (?<!\\$)                    # Negative lookbehind for '$'\n",
    "    (?P<dollar>\\$)             # Match the opening dollar sign and save it as a group named 'dollar'\n",
    "    (?!\\s)                     # Negative lookahead for whitespace\n",
    "    (?P<content>               # Match the content between the dollar signs and save it as a group named 'content'\n",
    "        (?:                    # Non-capturing group for the content options\n",
    "            [^{$]+             # Match any character that is not '{' or '$' one or more times\n",
    "            |                  # or\n",
    "            (?<!\\\\)\\{          # Match the opening curly brace\n",
    "                (?:            # Non-capturing group for nested curly braces\n",
    "                    [^{}]+     # Match any character that is not '{' or '}' one or more times\n",
    "                    |          # or\n",
    "                    \\{[^{}]*\\} # Match nested curly braces\n",
    "                )*             # Match the non-capturing group zero or more times\n",
    "            (?<!\\\\)\\}          # Match the closing curly brace\n",
    "        )+                     # Require the content to have at least one character\n",
    "    )                          #\n",
    "    \\s*                        # Match any whitespace characters\n",
    "    (?<!\\s)                    # Negative lookbehind for whitespace\n",
    "    (?P<right>\\$)              # Match the closing dollar sign and save it as a group named 'right'\n",
    "    (?!\\$)                     # Negative lookahead for '$'\n",
    "\"\"\"\n",
    "\n",
    "# Compile the regex with the VERBOSE flag\n",
    "pattern = re.compile(regex, re.VERBOSE)\n",
    "\n",
    "# Test the regex\n",
    "# text = \"The equation $E=mc^2$ is famous. But what about $$F=ma$$ or $g(x)=\\int_{-\\infty}^x f(t) dt$?\"\n",
    "matches = pattern.findall(text)\n",
    "print(matches)"
   ]
  },
  {
   "cell_type": "code",
   "execution_count": null,
   "metadata": {
    "execution": {
     "iopub.execute_input": "2023-04-16T10:56:40.977733Z",
     "iopub.status.busy": "2023-04-16T10:56:40.977217Z",
     "iopub.status.idle": "2023-04-16T10:56:40.984450Z",
     "shell.execute_reply": "2023-04-16T10:56:40.983776Z",
     "shell.execute_reply.started": "2023-04-16T10:56:40.977710Z"
    },
    "tags": []
   },
   "outputs": [],
   "source": [
    "import re\n",
    "\n",
    "text = \"\"\"\n",
    "Here is some text with a math block: $x = \\frac{1}{2}$.\n",
    "\n",
    "Here is another math block with nested math:\n",
    "$f(x) = y \\text{ for $x \\in \\mathbb{R}$ and $y \\in \\{1,2,3\\}$}$\n",
    "\n",
    "Here is a code block: `$ cd ..`.\n",
    "\"\"\"\n",
    "\n",
    "MY_REGEX = (\n",
    "    r\"(?<!\\$)(?P<left>\\$)(?!\\s)\"  # match the leading dollar, but no double dollar.\n",
    "    r\"(?<!\\s)(?P<right>\\$)(?!\\$)\"  # match the end dollar, but no double dollar.\n",
    ")\n",
    "\n",
    "\n",
    "regex = (\n",
    "    r\"(?<!\\$)(?P<dollar>\\$)(?!\\s)\"\n",
    "    r\"(?P<content>(?:[^{$]+|\\{(?:[^{}]+|\\{[^{}]*\\})*\\})*)\\s*\"\n",
    "    r\"(?<!\\s)(?P=dollar)(?!\\$)\"\n",
    ")\n",
    "\n",
    "alt = (\n",
    "    r\"(?<!\\$)(?P<left>\\$)\"\n",
    "    r\"(?!\\s)(?P<content>(?:[^{$]+|\\{(?:[^{}]+|\\{[^{}]*\\})*\\})*)\\s*\"\n",
    "    r\"(?<!\\s)(?P<right>\\$)(?!\\$)\"\n",
    ")\n",
    "\n",
    "\n",
    "display\n",
    "\n",
    "pattern = re.compile(\n",
    "    regex,\n",
    "    re.DOTALL | re.MULTILINE,\n",
    ")\n",
    "matches = pattern.findall(text)\n",
    "\n",
    "for match in matches:\n",
    "    display(f\"{match[1]:s}\")  # Print the inner content of each math block"
   ]
  },
  {
   "cell_type": "code",
   "execution_count": null,
   "metadata": {},
   "outputs": [],
   "source": []
  },
  {
   "cell_type": "code",
   "execution_count": null,
   "metadata": {},
   "outputs": [],
   "source": []
  },
  {
   "cell_type": "code",
   "execution_count": null,
   "metadata": {
    "execution": {
     "iopub.execute_input": "2023-04-16T10:53:54.633257Z",
     "iopub.status.busy": "2023-04-16T10:53:54.632527Z",
     "iopub.status.idle": "2023-04-16T10:53:54.638338Z",
     "shell.execute_reply": "2023-04-16T10:53:54.637583Z",
     "shell.execute_reply.started": "2023-04-16T10:53:54.633222Z"
    },
    "tags": []
   },
   "outputs": [],
   "source": []
  },
  {
   "cell_type": "markdown",
   "metadata": {},
   "source": [
    "## A second heading"
   ]
  },
  {
   "cell_type": "markdown",
   "metadata": {},
   "source": [
    "and some more text"
   ]
  },
  {
   "cell_type": "code",
   "execution_count": null,
   "metadata": {
    "execution": {
     "iopub.execute_input": "2023-04-15T10:49:21.985939Z",
     "iopub.status.busy": "2023-04-15T10:49:21.985563Z",
     "iopub.status.idle": "2023-04-15T10:49:23.901624Z",
     "shell.execute_reply": "2023-04-15T10:49:23.901055Z",
     "shell.execute_reply.started": "2023-04-15T10:49:21.985916Z"
    },
    "tags": []
   },
   "outputs": [],
   "source": [
    "import jax.numpy as jnp\n",
    "import numpy as np\n",
    "from jax import vmap\n",
    "\n",
    "x = np.array([3, 4, 2])\n",
    "y = np.array([5, 2, 3, 6])\n",
    "\n",
    "print(np.multiply.outer(x, y))\n",
    "# [[15  6  9 18]\n",
    "#  [20  8 12 24]\n",
    "#  [10  4  6 12]]\n",
    "print(vmap(vmap(jnp.multiply, (None, 0)), (0, None))(x, y))\n",
    "# [[15  6  9 18]\n",
    "#  [20  8 12 24]\n",
    "#  [10  4  6 12]]"
   ]
  },
  {
   "cell_type": "code",
   "execution_count": null,
   "metadata": {
    "execution": {
     "iopub.execute_input": "2023-04-15T10:50:30.418965Z",
     "iopub.status.busy": "2023-04-15T10:50:30.418556Z",
     "iopub.status.idle": "2023-04-15T10:50:30.425154Z",
     "shell.execute_reply": "2023-04-15T10:50:30.424452Z",
     "shell.execute_reply.started": "2023-04-15T10:50:30.418941Z"
    },
    "tags": []
   },
   "outputs": [],
   "source": [
    "x = np.array([[1, 2, 3], [4, 5, 6]])\n",
    "y = np.array([[1, 2], [3, 4], [5, 6], [7, 8]])\n",
    "np.add.outer(x, y)"
   ]
  },
  {
   "cell_type": "code",
   "execution_count": null,
   "metadata": {},
   "outputs": [],
   "source": [
    "vmap(vmap(jnp.add, (None, None, 0)), (0, None, None))(x, y)"
   ]
  },
  {
   "cell_type": "code",
   "execution_count": null,
   "metadata": {
    "execution": {
     "iopub.execute_input": "2023-04-15T10:51:03.243310Z",
     "iopub.status.busy": "2023-04-15T10:51:03.243028Z",
     "iopub.status.idle": "2023-04-15T10:51:03.414242Z",
     "shell.execute_reply": "2023-04-15T10:51:03.413704Z",
     "shell.execute_reply.started": "2023-04-15T10:51:03.243288Z"
    },
    "tags": []
   },
   "outputs": [],
   "source": []
  },
  {
   "cell_type": "code",
   "execution_count": null,
   "metadata": {},
   "outputs": [],
   "source": []
  }
 ],
 "metadata": {
  "kernelspec": {
   "display_name": "Python 3 (ipykernel)",
   "language": "python",
   "name": "python3"
  },
  "language_info": {
   "codemirror_mode": {
    "name": "ipython",
    "version": 3
   },
   "file_extension": ".py",
   "mimetype": "text/x-python",
   "name": "python",
   "nbconvert_exporter": "python",
   "pygments_lexer": "ipython3",
   "version": "3.10.6"
  }
 },
 "nbformat": 4,
 "nbformat_minor": 4
}
