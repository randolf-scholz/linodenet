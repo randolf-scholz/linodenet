{
 "cells": [
  {
   "cell_type": "code",
   "execution_count": null,
   "id": "099707f5-24b6-4793-b304-0236641f27c0",
   "metadata": {
    "tags": []
   },
   "outputs": [],
   "source": [
    "import torch\n",
    "import torch.utils.cpp_extension\n",
    "from torch import Tensor, jit, nn\n",
    "\n",
    "torch.utils.cpp_extension.load(\n",
    "    name=\"op_with_autograd\",\n",
    "    sources=[\"op.cpp\"],\n",
    "    is_python_module=False,\n",
    "    verbose=True,\n",
    ")"
   ]
  },
  {
   "cell_type": "code",
   "execution_count": null,
   "id": "6325da92-7380-46f8-b696-c53f84d57b85",
   "metadata": {
    "tags": []
   },
   "outputs": [],
   "source": [
    "op_with_autograd = torch.ops.custom.op_with_autograd"
   ]
  },
  {
   "cell_type": "code",
   "execution_count": null,
   "id": "8b4223fe-f6a8-491f-97ad-7a5a802dcb28",
   "metadata": {
    "tags": []
   },
   "outputs": [],
   "source": [
    "dir(torch.optim.lr_scheduler.LRScheduler)"
   ]
  },
  {
   "cell_type": "code",
   "execution_count": null,
   "id": "a3e695c9-ac40-4261-a48e-096d6cc8e209",
   "metadata": {
    "tags": []
   },
   "outputs": [],
   "source": [
    "help(torch.optim.lr_scheduler.LRScheduler.get_last_lr)"
   ]
  },
  {
   "cell_type": "code",
   "execution_count": null,
   "id": "7ff6251a-9551-4d44-a9d4-9a9047a8f805",
   "metadata": {
    "tags": []
   },
   "outputs": [],
   "source": [
    "a = torch.randn(3, 3).cuda()\n",
    "b = torch.tensor(3).cuda()\n",
    "c = torch.randn(3, 3).cuda()"
   ]
  },
  {
   "cell_type": "code",
   "execution_count": null,
   "id": "bd17e24a-2611-4c22-8590-215e76e886eb",
   "metadata": {
    "tags": []
   },
   "outputs": [],
   "source": [
    "op_with_autograd(a, b, c)"
   ]
  },
  {
   "cell_type": "code",
   "execution_count": null,
   "id": "e86326cd-4ead-440c-812f-55135acad528",
   "metadata": {
    "tags": []
   },
   "outputs": [],
   "source": [
    "class Foo(nn.Module):\n",
    "    def forward(self, x: Tensor, y: int, z: Tensor) -> Tensor:\n",
    "        return op_with_autograd(x, y, z)\n",
    "\n",
    "\n",
    "module = Foo()\n",
    "module(a, b, c)"
   ]
  },
  {
   "cell_type": "code",
   "execution_count": null,
   "id": "bc03727a-81c3-43a6-96fd-ba03ed3813a2",
   "metadata": {
    "tags": []
   },
   "outputs": [],
   "source": [
    "scripted = jit.script(module)\n",
    "scripted.save(\"scripted_module.pt\")\n",
    "scripted(a, b, c)"
   ]
  },
  {
   "cell_type": "code",
   "execution_count": null,
   "id": "b054b45f-4799-405b-81dd-f603f4f07417",
   "metadata": {
    "tags": []
   },
   "outputs": [],
   "source": [
    "loaded = jit.load(\"scripted_module.pt\")\n",
    "loaded(a, b, c)"
   ]
  },
  {
   "cell_type": "code",
   "execution_count": null,
   "id": "c12c61d9-440d-4333-81f3-d5ece6cb32d5",
   "metadata": {
    "tags": []
   },
   "outputs": [],
   "source": []
  },
  {
   "cell_type": "code",
   "execution_count": null,
   "id": "e5dc6ac4-92db-48ee-88cf-4792d28404f7",
   "metadata": {},
   "outputs": [],
   "source": []
  },
  {
   "cell_type": "code",
   "execution_count": null,
   "id": "8f81fa09-a773-4030-9ee2-4bd4ba16af63",
   "metadata": {},
   "outputs": [],
   "source": []
  },
  {
   "cell_type": "code",
   "execution_count": null,
   "id": "6c509c77-625b-415e-88ee-a420b7cac5b2",
   "metadata": {
    "tags": []
   },
   "outputs": [],
   "source": [
    "import torch\n",
    "\n",
    "torch.ops.load_library(\"libcustom_ops.so\")"
   ]
  },
  {
   "cell_type": "code",
   "execution_count": null,
   "id": "b32cb224-73eb-49d3-82aa-5288c6cd9f12",
   "metadata": {
    "tags": []
   },
   "outputs": [],
   "source": [
    "torch.ops.custom.opa"
   ]
  },
  {
   "cell_type": "code",
   "execution_count": null,
   "id": "0d0997f0-db85-471f-8b4a-eb0ea8b3ebc4",
   "metadata": {
    "tags": []
   },
   "outputs": [],
   "source": [
    "torch.ops.loaded_libraries"
   ]
  },
  {
   "cell_type": "code",
   "execution_count": null,
   "id": "7ea76c20-23be-4b4d-989a-699a289a3d23",
   "metadata": {
    "tags": []
   },
   "outputs": [],
   "source": [
    "print(dir(torch.ops.my_ops))\n",
    "print(dir(torch.ops.custom))"
   ]
  },
  {
   "cell_type": "code",
   "execution_count": null,
   "id": "dfee2b25-204d-4a71-b3d3-97e86457c711",
   "metadata": {},
   "outputs": [],
   "source": [
    "import torch.utils.cpp_extension\n",
    "\n",
    "torch.utils.cpp_extension.load(\n",
    "    name=\"warp_perspective\",\n",
    "    sources=[\"op.cpp\"],\n",
    "    extra_ldflags=[\"-lopencv_core\", \"-lopencv_imgproc\"],\n",
    "    is_python_module=False,\n",
    "    verbose=True,\n",
    ")\n",
    "\n",
    "print(torch.ops.my_ops.warp_perspective)"
   ]
  },
  {
   "cell_type": "code",
   "execution_count": null,
   "id": "3ea637cd-2056-4731-aebf-efa2adf63006",
   "metadata": {
    "tags": []
   },
   "outputs": [],
   "source": []
  },
  {
   "cell_type": "code",
   "execution_count": null,
   "id": "e3941c38-964f-49f8-98e0-b26c0729023e",
   "metadata": {},
   "outputs": [],
   "source": []
  },
  {
   "cell_type": "code",
   "execution_count": null,
   "id": "cedd2a15-e8f2-4a09-bc66-f91915713b17",
   "metadata": {
    "tags": []
   },
   "outputs": [],
   "source": [
    "torch.ops.my_ops.op_with_autograd"
   ]
  },
  {
   "cell_type": "code",
   "execution_count": null,
   "id": "c169496f-f620-49d5-a29c-42508ff773e9",
   "metadata": {
    "tags": []
   },
   "outputs": [],
   "source": [
    "def f(x: Tensor) -> Tensor:\n",
    "    return torch.ops.my_ops.warp_perspective(x)"
   ]
  },
  {
   "cell_type": "code",
   "execution_count": null,
   "id": "e7fd99ab-0643-4b3f-bdda-20df599d3283",
   "metadata": {
    "tags": []
   },
   "outputs": [],
   "source": [
    "import torch\n",
    "import torch.utils.cpp_extension\n",
    "\n",
    "op_source = \"\"\"\n",
    "#include <torch/script.h>\n",
    "\n",
    "torch::Tensor warp_perspective(torch::Tensor image, torch::Tensor warp) {\n",
    "  return image.clone();\n",
    "}\n",
    "\n",
    "TORCH_LIBRARY(my_ops, m) {\n",
    "  m.def(\"warp_perspective\", &warp_perspective);\n",
    "}\n",
    "\"\"\"\n",
    "\n",
    "torch.utils.cpp_extension.load_inline(\n",
    "    name=\"warp_perspective\",\n",
    "    cpp_sources=op_source,\n",
    "    extra_ldflags=[\"-lopencv_core\", \"-lopencv_imgproc\"],\n",
    "    is_python_module=False,\n",
    "    verbose=True,\n",
    ")\n",
    "\n",
    "print(torch.ops.my_ops.warp_perspective)"
   ]
  },
  {
   "cell_type": "code",
   "execution_count": null,
   "id": "51399ca7-6ac4-486f-be14-0e70890cd8e2",
   "metadata": {
    "tags": []
   },
   "outputs": [],
   "source": [
    "print(torch.ops.my_ops.warp_perspective)"
   ]
  },
  {
   "cell_type": "code",
   "execution_count": null,
   "id": "1bb0fd2b-c03f-4590-8050-34f423f8f467",
   "metadata": {},
   "outputs": [],
   "source": [
    "dir(torch.ops.my_ops)"
   ]
  },
  {
   "cell_type": "code",
   "execution_count": null,
   "id": "c61dce2b-9a3c-4fc1-bbc5-43323d32ade0",
   "metadata": {
    "tags": []
   },
   "outputs": [],
   "source": [
    "import torch\n",
    "\n",
    "torch.ops.load_library(\"build/libwarp_perspective.so\")\n",
    "print(torch.ops.my_ops.warp_perspective)"
   ]
  },
  {
   "cell_type": "code",
   "execution_count": null,
   "id": "7e2fbf43-7273-4c8c-9758-d19a75699844",
   "metadata": {
    "tags": []
   },
   "outputs": [],
   "source": [
    "import torch.utils.cpp_extension\n",
    "\n",
    "torch.utils.cpp_extension.load(\n",
    "    name=\"warp_perspective\",\n",
    "    sources=[\"op.cpp\"],\n",
    "    extra_ldflags=[\"-lopencv_core\", \"-lopencv_imgproc\"],\n",
    "    is_python_module=False,\n",
    "    verbose=True,\n",
    ")\n",
    "\n",
    "print(torch.ops.my_ops.warp_perspective)"
   ]
  },
  {
   "cell_type": "code",
   "execution_count": null,
   "id": "bc20d7d5-e91b-45f8-b341-04cf9e4de663",
   "metadata": {},
   "outputs": [],
   "source": []
  },
  {
   "cell_type": "code",
   "execution_count": null,
   "id": "4cfe4819-e5b6-405e-b48e-e149d5b4ebba",
   "metadata": {},
   "outputs": [],
   "source": [
    "from setuptools import setup\n",
    "from torch.utils.cpp_extension import BuildExtension, CppExtension\n",
    "\n",
    "setup(\n",
    "    name=\"warp_perspective\",\n",
    "    ext_modules=[\n",
    "        CppExtension(\n",
    "            \"warp_perspective\",\n",
    "            [\"example_app/warp_perspective/op.cpp\"],\n",
    "            libraries=[\"opencv_core\", \"opencv_imgproc\"],\n",
    "        )\n",
    "    ],\n",
    "    cmdclass={\"build_ext\": BuildExtension.with_options(no_python_abi_suffix=True)},\n",
    ")"
   ]
  },
  {
   "cell_type": "code",
   "execution_count": null,
   "id": "bc433dc1-a2d0-4228-8ffa-e41b68cfd8a6",
   "metadata": {},
   "outputs": [],
   "source": []
  },
  {
   "cell_type": "code",
   "execution_count": null,
   "id": "69934209-ccf1-4e96-86d9-52011107da0b",
   "metadata": {
    "tags": []
   },
   "outputs": [],
   "source": [
    "def compute(x, y, z):\n",
    "    x = torch.ops.my_ops.warp_perspective(x, torch.eye(3))\n",
    "    return x.matmul(y) + torch.relu(z)"
   ]
  },
  {
   "cell_type": "code",
   "execution_count": null,
   "id": "bd388718-b6a6-4354-812f-a55bcd1f1490",
   "metadata": {
    "tags": []
   },
   "outputs": [],
   "source": [
    "inputs = [torch.randn(4, 8), torch.randn(8, 5), torch.randn(4, 5)]\n",
    "trace = torch.jit.trace(compute, inputs)\n",
    "print(trace.graph)"
   ]
  },
  {
   "cell_type": "code",
   "execution_count": null,
   "id": "13f304b5-0680-4282-8177-046d700f17dc",
   "metadata": {},
   "outputs": [],
   "source": []
  }
 ],
 "metadata": {
  "kernelspec": {
   "display_name": "Python 3 (ipykernel)",
   "language": "python",
   "name": "python3"
  },
  "language_info": {
   "codemirror_mode": {
    "name": "ipython",
    "version": 3
   },
   "file_extension": ".py",
   "mimetype": "text/x-python",
   "name": "python",
   "nbconvert_exporter": "python",
   "pygments_lexer": "ipython3",
   "version": "3.11.3"
  }
 },
 "nbformat": 4,
 "nbformat_minor": 5
}
