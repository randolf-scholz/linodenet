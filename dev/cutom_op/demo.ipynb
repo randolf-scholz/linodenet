{
 "cells": [
  {
   "cell_type": "code",
   "execution_count": null,
   "id": "7e8d3f80-3e04-4770-94fc-219424459014",
   "metadata": {
    "execution": {
     "iopub.execute_input": "2023-04-14T18:47:10.327262Z",
     "iopub.status.busy": "2023-04-14T18:47:10.327154Z",
     "iopub.status.idle": "2023-04-14T18:47:11.757961Z",
     "shell.execute_reply": "2023-04-14T18:47:11.757503Z",
     "shell.execute_reply.started": "2023-04-14T18:47:10.327251Z"
    },
    "tags": []
   },
   "outputs": [],
   "source": [
    "import torch\n",
    "import torch.utils.cpp_extension\n",
    "from torch import Tensor, jit, nn\n",
    "\n",
    "torch.utils.cpp_extension.load(\n",
    "    name=\"op_with_autograd\",\n",
    "    sources=[\"op.cpp\"],\n",
    "    is_python_module=False,\n",
    "    verbose=True,\n",
    ")"
   ]
  },
  {
   "cell_type": "code",
   "execution_count": null,
   "id": "4408de3d-d5d2-487d-934d-cb20a474d6ee",
   "metadata": {
    "execution": {
     "iopub.execute_input": "2023-04-14T18:47:16.645857Z",
     "iopub.status.busy": "2023-04-14T18:47:16.645567Z",
     "iopub.status.idle": "2023-04-14T18:47:16.844939Z",
     "shell.execute_reply": "2023-04-14T18:47:16.844316Z",
     "shell.execute_reply.started": "2023-04-14T18:47:16.645844Z"
    },
    "tags": []
   },
   "outputs": [],
   "source": [
    "op_with_autograd = torch.ops.custom.op_with_autograd\n",
    "\n",
    "a = torch.randn(3, 3).cuda()\n",
    "b = torch.tensor(3).cuda()\n",
    "c = torch.randn(3, 3).cuda()\n",
    "\n",
    "op_with_autograd(a, b, c)"
   ]
  },
  {
   "cell_type": "code",
   "execution_count": null,
   "id": "2b973983-fe66-4d8b-bfd1-74543f884430",
   "metadata": {
    "execution": {
     "iopub.execute_input": "2023-04-14T20:34:03.983056Z",
     "iopub.status.busy": "2023-04-14T20:34:03.982362Z",
     "iopub.status.idle": "2023-04-14T20:34:14.475672Z",
     "shell.execute_reply": "2023-04-14T20:34:14.475110Z",
     "shell.execute_reply.started": "2023-04-14T20:34:03.983029Z"
    },
    "tags": []
   },
   "outputs": [],
   "source": [
    "import torch\n",
    "import torch.utils.cpp_extension\n",
    "\n",
    "# Load the custom module\n",
    "custom_module = torch.utils.cpp_extension.load(\n",
    "    name=\"AlexNet\",\n",
    "    sources=[\"custom_module.cpp\"],\n",
    "    is_python_module=False,\n",
    "    verbose=True,\n",
    "    build_directory=\"build\",\n",
    "    extra_cflags=[\"-O3\"],\n",
    ")"
   ]
  },
  {
   "cell_type": "code",
   "execution_count": null,
   "id": "466c2c62-e2d5-4aa6-aad0-60eb25b65950",
   "metadata": {
    "execution": {
     "iopub.execute_input": "2023-04-14T18:46:46.692270Z",
     "iopub.status.busy": "2023-04-14T18:46:46.691436Z",
     "iopub.status.idle": "2023-04-14T18:46:46.862973Z",
     "shell.execute_reply": "2023-04-14T18:46:46.862348Z",
     "shell.execute_reply.started": "2023-04-14T18:46:46.692236Z"
    },
    "tags": []
   },
   "outputs": [],
   "source": [
    "dir(torch.ops.custom.CustomModule)"
   ]
  },
  {
   "cell_type": "code",
   "execution_count": null,
   "id": "b719c68f-e2c9-46fe-8297-fcb067510123",
   "metadata": {},
   "outputs": [],
   "source": []
  },
  {
   "cell_type": "code",
   "execution_count": null,
   "id": "74c11c5b-2295-4303-89d4-1e9da71dd5f6",
   "metadata": {
    "execution": {
     "iopub.execute_input": "2023-04-14T18:38:00.478654Z",
     "iopub.status.busy": "2023-04-14T18:38:00.477946Z",
     "iopub.status.idle": "2023-04-14T18:38:00.504559Z",
     "shell.execute_reply": "2023-04-14T18:38:00.503517Z",
     "shell.execute_reply.started": "2023-04-14T18:38:00.478618Z"
    },
    "tags": []
   },
   "outputs": [],
   "source": [
    "torch.ops."
   ]
  },
  {
   "cell_type": "code",
   "execution_count": null,
   "id": "f1d368e6-d8fa-4864-a095-756efbd6b00a",
   "metadata": {},
   "outputs": [],
   "source": []
  },
  {
   "cell_type": "code",
   "execution_count": null,
   "id": "16d8d0ff-96ea-4e18-9a41-3a1788730269",
   "metadata": {
    "execution": {
     "iopub.execute_input": "2023-04-14T18:04:56.280381Z",
     "iopub.status.busy": "2023-04-14T18:04:56.279699Z",
     "iopub.status.idle": "2023-04-14T18:05:03.187672Z",
     "shell.execute_reply": "2023-04-14T18:05:03.186619Z",
     "shell.execute_reply.started": "2023-04-14T18:04:56.280357Z"
    },
    "tags": []
   },
   "outputs": [],
   "source": [
    "# Instantiate the module\n",
    "model = custom_module.CustomModule()"
   ]
  },
  {
   "cell_type": "code",
   "execution_count": null,
   "id": "9a274efa-e33d-4649-887b-fc6af54ec74d",
   "metadata": {},
   "outputs": [],
   "source": []
  },
  {
   "cell_type": "code",
   "execution_count": null,
   "id": "6325da92-7380-46f8-b696-c53f84d57b85",
   "metadata": {
    "execution": {
     "iopub.execute_input": "2023-04-14T09:22:46.716689Z",
     "iopub.status.busy": "2023-04-14T09:22:46.716310Z",
     "iopub.status.idle": "2023-04-14T09:22:46.721830Z",
     "shell.execute_reply": "2023-04-14T09:22:46.721421Z",
     "shell.execute_reply.started": "2023-04-14T09:22:46.716670Z"
    },
    "tags": []
   },
   "outputs": [],
   "source": []
  },
  {
   "cell_type": "markdown",
   "id": "5028e3a1-b5ba-4869-b7ff-e6828ab3a36b",
   "metadata": {},
   "source": [
    "# test custom op serialization"
   ]
  },
  {
   "cell_type": "code",
   "execution_count": null,
   "id": "e86326cd-4ead-440c-812f-55135acad528",
   "metadata": {
    "execution": {
     "iopub.execute_input": "2023-04-14T09:22:33.555564Z",
     "iopub.status.busy": "2023-04-14T09:22:33.555347Z",
     "iopub.status.idle": "2023-04-14T09:22:35.235250Z",
     "shell.execute_reply": "2023-04-14T09:22:35.234701Z",
     "shell.execute_reply.started": "2023-04-14T09:22:33.555550Z"
    },
    "tags": []
   },
   "outputs": [],
   "source": [
    "class Foo(nn.Module):\n",
    "    def forward(self, x: Tensor, y: int, z: Tensor) -> Tensor:\n",
    "        return op_with_autograd(x, y, z)\n",
    "\n",
    "\n",
    "module = Foo()\n",
    "module(a, b, c)"
   ]
  },
  {
   "cell_type": "code",
   "execution_count": null,
   "id": "bc03727a-81c3-43a6-96fd-ba03ed3813a2",
   "metadata": {
    "execution": {
     "iopub.execute_input": "2023-04-14T09:22:35.236490Z",
     "iopub.status.busy": "2023-04-14T09:22:35.236313Z",
     "iopub.status.idle": "2023-04-14T09:22:35.304758Z",
     "shell.execute_reply": "2023-04-14T09:22:35.304273Z",
     "shell.execute_reply.started": "2023-04-14T09:22:35.236477Z"
    },
    "tags": []
   },
   "outputs": [],
   "source": [
    "scripted = jit.script(module)\n",
    "scripted.save(\"scripted_module.pt\")\n",
    "scripted(a, b, c)"
   ]
  },
  {
   "cell_type": "code",
   "execution_count": null,
   "id": "b054b45f-4799-405b-81dd-f603f4f07417",
   "metadata": {
    "execution": {
     "iopub.execute_input": "2023-04-14T09:22:35.305804Z",
     "iopub.status.busy": "2023-04-14T09:22:35.305552Z",
     "iopub.status.idle": "2023-04-14T09:22:35.315486Z",
     "shell.execute_reply": "2023-04-14T09:22:35.315051Z",
     "shell.execute_reply.started": "2023-04-14T09:22:35.305791Z"
    },
    "tags": []
   },
   "outputs": [],
   "source": [
    "loaded = jit.load(\"scripted_module.pt\")\n",
    "loaded(a, b, c)"
   ]
  },
  {
   "cell_type": "markdown",
   "id": "cd380609-5cb6-410a-8889-f4dcb50470a5",
   "metadata": {
    "tags": []
   },
   "source": [
    "## test backward"
   ]
  },
  {
   "cell_type": "code",
   "execution_count": null,
   "id": "fee0459c-131d-4cd1-8d05-6beb8fe777cd",
   "metadata": {},
   "outputs": [],
   "source": []
  },
  {
   "cell_type": "code",
   "execution_count": null,
   "id": "1130d4a6-393a-4f8d-8e39-95b6be4db332",
   "metadata": {},
   "outputs": [],
   "source": []
  },
  {
   "cell_type": "code",
   "execution_count": null,
   "id": "9c71bad5-0d84-4866-b2ee-12e0137b03ce",
   "metadata": {},
   "outputs": [],
   "source": []
  },
  {
   "cell_type": "code",
   "execution_count": null,
   "id": "2d0af1ca-ca57-4e4a-a4e7-1e51624a3870",
   "metadata": {},
   "outputs": [],
   "source": []
  },
  {
   "cell_type": "code",
   "execution_count": null,
   "id": "f26d0ea4-e339-454e-99d8-1facb5cd886c",
   "metadata": {},
   "outputs": [],
   "source": []
  },
  {
   "cell_type": "code",
   "execution_count": null,
   "id": "7f04d4cf-fe52-4623-9e98-9e4c46c65fc6",
   "metadata": {},
   "outputs": [],
   "source": []
  },
  {
   "cell_type": "code",
   "execution_count": null,
   "id": "e5dc6ac4-92db-48ee-88cf-4792d28404f7",
   "metadata": {},
   "outputs": [],
   "source": []
  },
  {
   "cell_type": "code",
   "execution_count": null,
   "id": "8f81fa09-a773-4030-9ee2-4bd4ba16af63",
   "metadata": {},
   "outputs": [],
   "source": []
  },
  {
   "cell_type": "code",
   "execution_count": null,
   "id": "6c509c77-625b-415e-88ee-a420b7cac5b2",
   "metadata": {
    "tags": []
   },
   "outputs": [],
   "source": [
    "import torch\n",
    "\n",
    "torch.ops.load_library(\"libcustom_ops.so\")"
   ]
  },
  {
   "cell_type": "code",
   "execution_count": null,
   "id": "b32cb224-73eb-49d3-82aa-5288c6cd9f12",
   "metadata": {
    "tags": []
   },
   "outputs": [],
   "source": [
    "torch.ops.custom.opa"
   ]
  },
  {
   "cell_type": "code",
   "execution_count": null,
   "id": "0d0997f0-db85-471f-8b4a-eb0ea8b3ebc4",
   "metadata": {
    "tags": []
   },
   "outputs": [],
   "source": [
    "torch.ops.loaded_libraries"
   ]
  },
  {
   "cell_type": "code",
   "execution_count": null,
   "id": "7ea76c20-23be-4b4d-989a-699a289a3d23",
   "metadata": {
    "tags": []
   },
   "outputs": [],
   "source": [
    "print(dir(torch.ops.my_ops))\n",
    "print(dir(torch.ops.custom))"
   ]
  },
  {
   "cell_type": "code",
   "execution_count": null,
   "id": "dfee2b25-204d-4a71-b3d3-97e86457c711",
   "metadata": {},
   "outputs": [],
   "source": [
    "import torch.utils.cpp_extension\n",
    "\n",
    "torch.utils.cpp_extension.load(\n",
    "    name=\"warp_perspective\",\n",
    "    sources=[\"op.cpp\"],\n",
    "    extra_ldflags=[\"-lopencv_core\", \"-lopencv_imgproc\"],\n",
    "    is_python_module=False,\n",
    "    verbose=True,\n",
    ")\n",
    "\n",
    "print(torch.ops.my_ops.warp_perspective)"
   ]
  },
  {
   "cell_type": "code",
   "execution_count": null,
   "id": "3ea637cd-2056-4731-aebf-efa2adf63006",
   "metadata": {
    "tags": []
   },
   "outputs": [],
   "source": []
  },
  {
   "cell_type": "code",
   "execution_count": null,
   "id": "e3941c38-964f-49f8-98e0-b26c0729023e",
   "metadata": {},
   "outputs": [],
   "source": []
  },
  {
   "cell_type": "code",
   "execution_count": null,
   "id": "cedd2a15-e8f2-4a09-bc66-f91915713b17",
   "metadata": {
    "tags": []
   },
   "outputs": [],
   "source": [
    "torch.ops.my_ops.op_with_autograd"
   ]
  },
  {
   "cell_type": "code",
   "execution_count": null,
   "id": "c169496f-f620-49d5-a29c-42508ff773e9",
   "metadata": {
    "tags": []
   },
   "outputs": [],
   "source": [
    "def f(x: Tensor) -> Tensor:\n",
    "    return torch.ops.my_ops.warp_perspective(x)"
   ]
  },
  {
   "cell_type": "code",
   "execution_count": null,
   "id": "e7fd99ab-0643-4b3f-bdda-20df599d3283",
   "metadata": {
    "tags": []
   },
   "outputs": [],
   "source": [
    "import torch\n",
    "import torch.utils.cpp_extension\n",
    "\n",
    "op_source = \"\"\"\n",
    "#include <torch/script.h>\n",
    "\n",
    "torch::Tensor warp_perspective(torch::Tensor image, torch::Tensor warp) {\n",
    "  return image.clone();\n",
    "}\n",
    "\n",
    "TORCH_LIBRARY(my_ops, m) {\n",
    "  m.def(\"warp_perspective\", &warp_perspective);\n",
    "}\n",
    "\"\"\"\n",
    "\n",
    "torch.utils.cpp_extension.load_inline(\n",
    "    name=\"warp_perspective\",\n",
    "    cpp_sources=op_source,\n",
    "    extra_ldflags=[\"-lopencv_core\", \"-lopencv_imgproc\"],\n",
    "    is_python_module=False,\n",
    "    verbose=True,\n",
    ")\n",
    "\n",
    "print(torch.ops.my_ops.warp_perspective)"
   ]
  },
  {
   "cell_type": "code",
   "execution_count": null,
   "id": "51399ca7-6ac4-486f-be14-0e70890cd8e2",
   "metadata": {
    "tags": []
   },
   "outputs": [],
   "source": [
    "print(torch.ops.my_ops.warp_perspective)"
   ]
  },
  {
   "cell_type": "code",
   "execution_count": null,
   "id": "1bb0fd2b-c03f-4590-8050-34f423f8f467",
   "metadata": {},
   "outputs": [],
   "source": [
    "dir(torch.ops.my_ops)"
   ]
  },
  {
   "cell_type": "code",
   "execution_count": null,
   "id": "c61dce2b-9a3c-4fc1-bbc5-43323d32ade0",
   "metadata": {
    "tags": []
   },
   "outputs": [],
   "source": [
    "import torch\n",
    "\n",
    "torch.ops.load_library(\"build/libwarp_perspective.so\")\n",
    "print(torch.ops.my_ops.warp_perspective)"
   ]
  },
  {
   "cell_type": "code",
   "execution_count": null,
   "id": "7e2fbf43-7273-4c8c-9758-d19a75699844",
   "metadata": {
    "tags": []
   },
   "outputs": [],
   "source": [
    "import torch.utils.cpp_extension\n",
    "\n",
    "torch.utils.cpp_extension.load(\n",
    "    name=\"warp_perspective\",\n",
    "    sources=[\"op.cpp\"],\n",
    "    extra_ldflags=[\"-lopencv_core\", \"-lopencv_imgproc\"],\n",
    "    is_python_module=False,\n",
    "    verbose=True,\n",
    ")\n",
    "\n",
    "print(torch.ops.my_ops.warp_perspective)"
   ]
  },
  {
   "cell_type": "code",
   "execution_count": null,
   "id": "bc20d7d5-e91b-45f8-b341-04cf9e4de663",
   "metadata": {},
   "outputs": [],
   "source": []
  },
  {
   "cell_type": "code",
   "execution_count": null,
   "id": "4cfe4819-e5b6-405e-b48e-e149d5b4ebba",
   "metadata": {},
   "outputs": [],
   "source": [
    "from setuptools import setup\n",
    "from torch.utils.cpp_extension import BuildExtension, CppExtension\n",
    "\n",
    "setup(\n",
    "    name=\"warp_perspective\",\n",
    "    ext_modules=[\n",
    "        CppExtension(\n",
    "            \"warp_perspective\",\n",
    "            [\"example_app/warp_perspective/op.cpp\"],\n",
    "            libraries=[\"opencv_core\", \"opencv_imgproc\"],\n",
    "        )\n",
    "    ],\n",
    "    cmdclass={\"build_ext\": BuildExtension.with_options(no_python_abi_suffix=True)},\n",
    ")"
   ]
  },
  {
   "cell_type": "code",
   "execution_count": null,
   "id": "bc433dc1-a2d0-4228-8ffa-e41b68cfd8a6",
   "metadata": {},
   "outputs": [],
   "source": []
  },
  {
   "cell_type": "code",
   "execution_count": null,
   "id": "69934209-ccf1-4e96-86d9-52011107da0b",
   "metadata": {
    "tags": []
   },
   "outputs": [],
   "source": [
    "def compute(x, y, z):\n",
    "    x = torch.ops.my_ops.warp_perspective(x, torch.eye(3))\n",
    "    return x.matmul(y) + torch.relu(z)"
   ]
  },
  {
   "cell_type": "code",
   "execution_count": null,
   "id": "bd388718-b6a6-4354-812f-a55bcd1f1490",
   "metadata": {
    "tags": []
   },
   "outputs": [],
   "source": [
    "inputs = [torch.randn(4, 8), torch.randn(8, 5), torch.randn(4, 5)]\n",
    "trace = torch.jit.trace(compute, inputs)\n",
    "print(trace.graph)"
   ]
  },
  {
   "cell_type": "code",
   "execution_count": null,
   "id": "13f304b5-0680-4282-8177-046d700f17dc",
   "metadata": {},
   "outputs": [],
   "source": []
  }
 ],
 "metadata": {
  "kernelspec": {
   "display_name": "Python 3 (ipykernel)",
   "language": "python",
   "name": "python3"
  },
  "language_info": {
   "codemirror_mode": {
    "name": "ipython",
    "version": 3
   },
   "file_extension": ".py",
   "mimetype": "text/x-python",
   "name": "python",
   "nbconvert_exporter": "python",
   "pygments_lexer": "ipython3",
   "version": "3.10.6"
  }
 },
 "nbformat": 4,
 "nbformat_minor": 5
}
