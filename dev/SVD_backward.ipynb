{
 "cells": [
  {
   "cell_type": "code",
   "execution_count": null,
   "metadata": {
    "execution": {
     "iopub.execute_input": "2023-05-16T10:52:06.512787Z",
     "iopub.status.busy": "2023-05-16T10:52:06.512539Z",
     "iopub.status.idle": "2023-05-16T10:52:07.695065Z",
     "shell.execute_reply": "2023-05-16T10:52:07.694498Z",
     "shell.execute_reply.started": "2023-05-16T10:52:06.512768Z"
    },
    "tags": []
   },
   "outputs": [],
   "source": [
    "%config InteractiveShell.ast_node_interactivity='last_expr_or_assign'  # always print last expr.\n",
    "\n",
    "from itertools import product\n",
    "\n",
    "import jax\n",
    "import jax.numpy as jnp\n",
    "import torch\n",
    "from torch import Tensor, dot, eye, jit, outer, tensordot\n",
    "from torch.linalg import lstsq, solve\n",
    "from tqdm.autonotebook import tqdm"
   ]
  },
  {
   "cell_type": "markdown",
   "metadata": {
    "tags": []
   },
   "source": [
    "# Torch"
   ]
  },
  {
   "cell_type": "code",
   "execution_count": null,
   "metadata": {
    "execution": {
     "iopub.execute_input": "2023-05-16T20:37:22.766648Z",
     "iopub.status.busy": "2023-05-16T20:37:22.766402Z",
     "iopub.status.idle": "2023-05-16T20:37:22.771114Z",
     "shell.execute_reply": "2023-05-16T20:37:22.770728Z",
     "shell.execute_reply.started": "2023-05-16T20:37:22.766635Z"
    },
    "tags": []
   },
   "outputs": [],
   "source": [
    "m, n = 64, 32\n",
    "A0 = torch.randn(m, n)\n",
    "print(f\"{torch.linalg.cond(A0)=}\")\n",
    "xi = torch.randn(1)\n",
    "phi = torch.randn(m)\n",
    "psi = torch.randn(n)\n",
    "U, S, V = torch.linalg.svd(A0)\n",
    "u, s, v = U[:, 0], S[0], V[0, :]\n",
    "R = xi * s + u.dot(phi) + v.dot(psi)\n",
    "print(f\"f(A)={R}\")"
   ]
  },
  {
   "cell_type": "markdown",
   "metadata": {},
   "source": [
    "## numerical gradient"
   ]
  },
  {
   "cell_type": "code",
   "execution_count": null,
   "metadata": {
    "execution": {
     "iopub.execute_input": "2023-05-16T20:37:23.450007Z",
     "iopub.status.busy": "2023-05-16T20:37:23.449567Z",
     "iopub.status.idle": "2023-05-16T20:37:23.456232Z",
     "shell.execute_reply": "2023-05-16T20:37:23.455660Z",
     "shell.execute_reply.started": "2023-05-16T20:37:23.449981Z"
    },
    "tags": []
   },
   "outputs": [],
   "source": [
    "eps = 10**-5\n",
    "E = eps * torch.randn(m, n)\n",
    "\n",
    "UE, SE, VE = torch.linalg.svd(A0 + E)\n",
    "ue, se, ve = UE[:, 0], SE[0], VE[0, :]\n",
    "F2 = xi * se + ue.dot(phi) + ve.dot(psi)\n",
    "print(f\"f(A+∆A) = {F2}\")"
   ]
  },
  {
   "cell_type": "code",
   "execution_count": null,
   "metadata": {
    "execution": {
     "iopub.execute_input": "2023-05-16T20:37:23.629292Z",
     "iopub.status.busy": "2023-05-16T20:37:23.628802Z",
     "iopub.status.idle": "2023-05-16T20:37:23.636430Z",
     "shell.execute_reply": "2023-05-16T20:37:23.635786Z",
     "shell.execute_reply.started": "2023-05-16T20:37:23.629269Z"
    },
    "tags": []
   },
   "outputs": [],
   "source": [
    "%%script echo skipping\n",
    "\n",
    "@jit.script\n",
    "def g_value(A: Tensor, outer_grad: tuple[Tensor, Tensor, Tensor]) -> Tensor:\n",
    "    xi, phi, psi = outer_grad\n",
    "    UE, SE, VE = torch.linalg.svd(A)\n",
    "    ue, se, ve = UE[:, 0], SE[0], VE[0, :]\n",
    "    RE = xi * se + ue.dot(phi) + ve.dot(psi)\n",
    "    return RE\n",
    "\n",
    "G_numerical = torch.zeros((m, n))\n",
    "X = torch.zeros((m, n))\n",
    "\n",
    "for i, j in tqdm(product(range(m), range(n))):\n",
    "    X[i, j] = 1\n",
    "    GL = g_value(A0 + eps*X, (xi, phi, psi))\n",
    "    GR = g_value(A0 - eps*X, (xi, phi, psi))\n",
    "    G_numerical[i, j] = (GL - GR) / (2*eps)\n",
    "    X[i, j] = 0"
   ]
  },
  {
   "cell_type": "markdown",
   "metadata": {
    "tags": []
   },
   "source": [
    "## Torch autograd"
   ]
  },
  {
   "cell_type": "code",
   "execution_count": null,
   "metadata": {
    "execution": {
     "iopub.execute_input": "2023-05-16T20:37:24.195047Z",
     "iopub.status.busy": "2023-05-16T20:37:24.194791Z",
     "iopub.status.idle": "2023-05-16T20:37:24.200726Z",
     "shell.execute_reply": "2023-05-16T20:37:24.200362Z",
     "shell.execute_reply.started": "2023-05-16T20:37:24.195032Z"
    },
    "tags": []
   },
   "outputs": [],
   "source": [
    "device = torch.device(\"cpu\")\n",
    "A = torch.nn.Parameter(A0.clone().to(device))\n",
    "xi = xi.to(device)\n",
    "phi = phi.to(device)\n",
    "psi = psi.to(device)\n",
    "\n",
    "U, S, V = torch.linalg.svd(A)\n",
    "u, s, v = U[:, 0], S[0], V[0, :]\n",
    "r = xi * s + phi.dot(u) + psi.dot(v)\n",
    "r.backward()\n",
    "print(r)\n",
    "G_torch = A.grad.clone().detach().cpu()\n",
    "print(G_torch)\n",
    "diff_y = abs(F2 - r.cpu() - tensordot(G_torch, E)).item()\n",
    "print(f\"|f(A+∆A) - f(A) - ∇f(A)∆A|={diff_y/eps}\")\n",
    "# assert torch.allclose(A.grad, torch.outer(u, v))"
   ]
  },
  {
   "cell_type": "markdown",
   "metadata": {},
   "source": [
    "# Jax variant"
   ]
  },
  {
   "cell_type": "code",
   "execution_count": null,
   "metadata": {
    "execution": {
     "iopub.execute_input": "2023-05-16T20:37:24.961758Z",
     "iopub.status.busy": "2023-05-16T20:37:24.961486Z",
     "iopub.status.idle": "2023-05-16T20:37:24.967442Z",
     "shell.execute_reply": "2023-05-16T20:37:24.967117Z",
     "shell.execute_reply.started": "2023-05-16T20:37:24.961746Z"
    },
    "tags": []
   },
   "outputs": [],
   "source": [
    "%%script echo skipping\n",
    "\n",
    "device = torch.device(\"cpu\")\n",
    "xi = xi.to(device)\n",
    "phi = phi.to(device)\n",
    "psi = psi.to(device)\n",
    "\n",
    "\n",
    "def svd_grad(X, xi, phi, psi):\n",
    "    U, S, V = jnp.linalg.svd(X, full_matrices=False, compute_uv=True)\n",
    "    u, s, v = U[:, 0], S[0], V[0, :]\n",
    "    return xi.item() * s + u.dot(phi) + v.dot(psi)\n",
    "\n",
    "\n",
    "f = jax.value_and_grad(svd_grad)\n",
    "\n",
    "value, G_jax = f(A0.numpy(), xi.numpy(), phi.numpy(), psi.numpy())\n",
    "print(value)\n",
    "print(G_jax)\n",
    "err_grad = jnp.linalg.norm(G_jax - G_torch.numpy()) / jnp.linalg.norm(G_torch.numpy())\n",
    "print(f\"diff to torch {err_grad:.4%}\")\n",
    "diff_y = abs(F2.numpy() - value - (G_jax * E.numpy()).sum()).item()\n",
    "print(f\"|f(A+∆A) - f(A) - ∇f(A)∆A|={diff_y}\")"
   ]
  },
  {
   "cell_type": "markdown",
   "metadata": {},
   "source": [
    "## manual computation"
   ]
  },
  {
   "cell_type": "code",
   "execution_count": null,
   "metadata": {
    "execution": {
     "iopub.execute_input": "2023-05-16T20:37:25.448996Z",
     "iopub.status.busy": "2023-05-16T20:37:25.448529Z",
     "iopub.status.idle": "2023-05-16T20:37:25.464128Z",
     "shell.execute_reply": "2023-05-16T20:37:25.463644Z",
     "shell.execute_reply.started": "2023-05-16T20:37:25.448972Z"
    },
    "tags": []
   },
   "outputs": [],
   "source": [
    "device = torch.device(\"cuda\")\n",
    "\n",
    "A = torch.nn.Parameter(A0.clone()).to(device)\n",
    "xi = xi.to(device)\n",
    "phi = phi.to(device)\n",
    "psi = psi.to(device)\n",
    "\n",
    "U, S, V = torch.linalg.svd(A)\n",
    "u, s, v = U[:, 0], S[0], V[0, :]\n",
    "r = xi * s + phi.dot(u) + psi.dot(v)\n",
    "\n",
    "I_m = eye(m, device=device)\n",
    "I_n = eye(n, device=device)\n",
    "\n",
    "K = torch.cat(\n",
    "    [\n",
    "        torch.cat([s * I_m, -A], dim=-1),\n",
    "        torch.cat([-A.T, s * I_n], dim=-1),\n",
    "    ],\n",
    "    dim=0,\n",
    ")\n",
    "print(torch.linalg.cond(K))\n",
    "# x = torch.linalg.solve(K, torch.cat([phi, psi]))\n",
    "x = torch.linalg.lstsq(K, torch.cat([phi, psi]))[0]\n",
    "p = x[:m]\n",
    "q = x[m:]\n",
    "\n",
    "g_sigma = xi * outer(u, v)\n",
    "g_u = outer(p - dot(u, p) * u, v)\n",
    "g_v = outer(u, q - dot(q, v) * v)\n",
    "G = (g_sigma + g_u + g_v).cpu()\n",
    "\n",
    "print(G)\n",
    "err_grad = (G - G_torch).norm() / G_torch.norm()\n",
    "print(f\"diff to torch {err_grad:.4%}\")\n",
    "diff_y = abs(F2 - r.cpu() - tensordot(G, E)).item()\n",
    "print(f\"|f(A+∆A) - f(A) - ∇f(A)∆A|={diff_y/eps}\")"
   ]
  },
  {
   "cell_type": "code",
   "execution_count": null,
   "metadata": {
    "execution": {
     "iopub.execute_input": "2023-05-16T21:13:20.470067Z",
     "iopub.status.busy": "2023-05-16T21:13:20.469758Z",
     "iopub.status.idle": "2023-05-16T21:13:20.491794Z",
     "shell.execute_reply": "2023-05-16T21:13:20.491240Z",
     "shell.execute_reply.started": "2023-05-16T21:13:20.470053Z"
    },
    "tags": []
   },
   "outputs": [],
   "source": [
    "PB = torch.eye(m + n, device=device)\n",
    "PB[:m, :m] -= outer(u, u)\n",
    "PB[m:, m:] -= outer(v, v)\n",
    "z = torch.cat([u, -v])\n",
    "L = K - s * outer(z, z)"
   ]
  },
  {
   "cell_type": "code",
   "execution_count": null,
   "metadata": {
    "execution": {
     "iopub.execute_input": "2023-05-16T21:13:51.926926Z",
     "iopub.status.busy": "2023-05-16T21:13:51.926731Z",
     "iopub.status.idle": "2023-05-16T21:13:51.962472Z",
     "shell.execute_reply": "2023-05-16T21:13:51.962059Z",
     "shell.execute_reply.started": "2023-05-16T21:13:51.926913Z"
    },
    "tags": []
   },
   "outputs": [],
   "source": [
    "Kp = K.pinverse()\n",
    "Lp = L.pinverse()\n",
    "\n",
    "torch.linalg.cond(K), torch.linalg.cond(PB @ K), torch.linalg.cond(L)"
   ]
  },
  {
   "cell_type": "code",
   "execution_count": null,
   "metadata": {
    "execution": {
     "iopub.execute_input": "2023-05-16T21:13:53.191581Z",
     "iopub.status.busy": "2023-05-16T21:13:53.191300Z",
     "iopub.status.idle": "2023-05-16T21:13:53.196515Z",
     "shell.execute_reply": "2023-05-16T21:13:53.196001Z",
     "shell.execute_reply.started": "2023-05-16T21:13:53.191568Z"
    },
    "tags": []
   },
   "outputs": [],
   "source": [
    "(Lp - Kp) / outer(z, z)"
   ]
  },
  {
   "cell_type": "code",
   "execution_count": null,
   "metadata": {
    "execution": {
     "iopub.execute_input": "2023-05-16T20:37:41.572055Z",
     "iopub.status.busy": "2023-05-16T20:37:41.571404Z",
     "iopub.status.idle": "2023-05-16T20:37:41.584642Z",
     "shell.execute_reply": "2023-05-16T20:37:41.584170Z",
     "shell.execute_reply.started": "2023-05-16T20:37:41.572031Z"
    },
    "tags": []
   },
   "outputs": [],
   "source": [
    "Kp = K.pinverse()\n",
    "Lp = L.pinverse()"
   ]
  },
  {
   "cell_type": "code",
   "execution_count": null,
   "metadata": {
    "execution": {
     "iopub.execute_input": "2023-05-16T21:14:29.017338Z",
     "iopub.status.busy": "2023-05-16T21:14:29.016859Z",
     "iopub.status.idle": "2023-05-16T21:14:29.021917Z",
     "shell.execute_reply": "2023-05-16T21:14:29.021545Z",
     "shell.execute_reply.started": "2023-05-16T21:14:29.017315Z"
    },
    "tags": []
   },
   "outputs": [],
   "source": [
    "1 - s * z.T @ Kp @ z"
   ]
  },
  {
   "cell_type": "code",
   "execution_count": null,
   "metadata": {
    "execution": {
     "iopub.execute_input": "2023-05-16T20:37:43.419897Z",
     "iopub.status.busy": "2023-05-16T20:37:43.419611Z",
     "iopub.status.idle": "2023-05-16T20:37:43.424225Z",
     "shell.execute_reply": "2023-05-16T20:37:43.423908Z",
     "shell.execute_reply.started": "2023-05-16T20:37:43.419885Z"
    },
    "tags": []
   },
   "outputs": [],
   "source": [
    "Kp - outer(z, z) / (4 * s)"
   ]
  },
  {
   "cell_type": "markdown",
   "metadata": {},
   "source": [
    "## Augmented K matrix  !!! ONLY CORRECT APPROACH !!!"
   ]
  },
  {
   "cell_type": "code",
   "execution_count": null,
   "metadata": {
    "execution": {
     "iopub.execute_input": "2023-05-16T10:55:12.662300Z",
     "iopub.status.busy": "2023-05-16T10:55:12.661540Z",
     "iopub.status.idle": "2023-05-16T10:55:12.709949Z",
     "shell.execute_reply": "2023-05-16T10:55:12.709344Z",
     "shell.execute_reply.started": "2023-05-16T10:55:12.662274Z"
    },
    "tags": []
   },
   "outputs": [],
   "source": [
    "device = torch.device(\"cuda\")\n",
    "\n",
    "A = torch.nn.Parameter(A0.clone()).to(device)\n",
    "xi = xi.to(device)\n",
    "phi = phi.to(device)\n",
    "psi = psi.to(device)\n",
    "\n",
    "U, S, V = torch.linalg.svd(A)\n",
    "u, s, v = U[:, 0], S[0], V[0, :]\n",
    "r = xi * s + phi.dot(u) + psi.dot(v)\n",
    "\n",
    "I_m = eye(m, device=device)\n",
    "I_n = eye(n, device=device)\n",
    "O_m = torch.zeros(m, device=device)\n",
    "O_n = torch.zeros(n, device=device)\n",
    "\n",
    "K = torch.cat(\n",
    "    [\n",
    "        torch.cat([s * I_m, -A], dim=-1),\n",
    "        torch.cat([-A.T, s * I_n], dim=-1),\n",
    "        torch.cat([u, O_n], dim=0).unsqueeze(0),\n",
    "        torch.cat([O_m, v], dim=0).unsqueeze(0),\n",
    "    ],\n",
    "    dim=0,\n",
    ")\n",
    "c = torch.cat([phi, psi])\n",
    "print(torch.linalg.cond(K))\n",
    "# x = torch.linalg.solve(K, torch.cat([phi, psi]))\n",
    "x = torch.linalg.lstsq(K.T, c)[0]\n",
    "p = x[:m]\n",
    "q = x[m : m + n]\n",
    "λ = x[-2]\n",
    "μ = x[-1]\n",
    "print(s, λ, μ)\n",
    "g_sigma = xi * outer(u, v)\n",
    "g_u = outer(p - dot(u, p) * u, v)\n",
    "g_v = outer(u, q - dot(q, v) * v)\n",
    "G = (g_sigma + g_u + g_v).cpu()\n",
    "\n",
    "print(G)\n",
    "err_grad = (G - G_torch).norm() / G_torch.norm()\n",
    "print(f\"diff to torch {err_grad:.4%}\")\n",
    "diff_y = abs(F2 - r.cpu() - tensordot(G, E)).item()\n",
    "print(f\"|f(A+∆A) - f(A) - ∇f(A)∆A|={diff_y}\")"
   ]
  },
  {
   "cell_type": "code",
   "execution_count": null,
   "metadata": {
    "execution": {
     "iopub.execute_input": "2023-05-16T10:54:14.835394Z",
     "iopub.status.busy": "2023-05-16T10:54:14.835088Z",
     "iopub.status.idle": "2023-05-16T10:54:14.857364Z",
     "shell.execute_reply": "2023-05-16T10:54:14.856942Z",
     "shell.execute_reply.started": "2023-05-16T10:54:14.835378Z"
    },
    "tags": []
   },
   "outputs": [],
   "source": [
    "(K.T @ x - c).norm()"
   ]
  },
  {
   "cell_type": "markdown",
   "metadata": {},
   "source": [
    "## manual computation Block inversion"
   ]
  },
  {
   "cell_type": "code",
   "execution_count": null,
   "metadata": {
    "execution": {
     "iopub.execute_input": "2023-05-16T02:06:19.177028Z",
     "iopub.status.busy": "2023-05-16T02:06:19.176631Z",
     "iopub.status.idle": "2023-05-16T02:06:19.199736Z",
     "shell.execute_reply": "2023-05-16T02:06:19.199015Z",
     "shell.execute_reply.started": "2023-05-16T02:06:19.177005Z"
    },
    "tags": []
   },
   "outputs": [],
   "source": [
    "device = torch.device(\"cuda\")\n",
    "\n",
    "A = torch.nn.Parameter(A0.clone()).to(device)\n",
    "xi = xi.to(device)\n",
    "phi = phi.to(device)\n",
    "psi = psi.to(device)\n",
    "\n",
    "U, S, V = torch.linalg.svd(A)\n",
    "u, s, v = U[:, 0], S[0], V[0, :]\n",
    "r = xi * s + phi.dot(u) + psi.dot(v)\n",
    "\n",
    "I_m = eye(m, device=device)\n",
    "I_n = eye(n, device=device)\n",
    "\n",
    "P = s**2 * I_m - A @ A.T\n",
    "Q = s**2 * I_n - A.T @ A\n",
    "\n",
    "driver = \"gels\"\n",
    "\n",
    "x = lstsq(P, s * phi, driver=driver)[0]\n",
    "y = lstsq(P, A.mv(psi), driver=driver)[0]\n",
    "w = lstsq(Q, A.T.mv(phi), driver=driver)[0]\n",
    "z = lstsq(Q, s * psi, driver=driver)[0]\n",
    "\n",
    "p = x + y\n",
    "q = w + z\n",
    "\n",
    "g_sigma = xi * outer(u, v)\n",
    "g_u = outer(p - dot(u, p) * u, v)\n",
    "g_v = outer(u, q - dot(q, v) * v)\n",
    "G = (g_sigma + g_u + g_v).cpu()\n",
    "\n",
    "print(G)\n",
    "err_grad = (G - G_torch).norm() / G_torch.norm()\n",
    "print(f\"diff to torch {err_grad:.4%}\")\n",
    "diff_y = abs(F2 - r.cpu() - tensordot(G, E)).item()\n",
    "print(f\"|f(A+∆A) - f(A) - ∇f(A)∆A|={diff_y/eps}\")"
   ]
  },
  {
   "cell_type": "code",
   "execution_count": null,
   "metadata": {
    "execution": {
     "iopub.execute_input": "2023-05-16T00:30:10.367803Z",
     "iopub.status.busy": "2023-05-16T00:30:10.367693Z",
     "iopub.status.idle": "2023-05-16T00:30:10.371420Z",
     "shell.execute_reply": "2023-05-16T00:30:10.370798Z",
     "shell.execute_reply.started": "2023-05-16T00:30:10.367791Z"
    },
    "tags": []
   },
   "outputs": [],
   "source": [
    "print(\n",
    "    dx := (P @ x - s * phi).norm().item(),\n",
    "    dy := (P @ y - A.mv(psi)).norm().item(),\n",
    "    dw := (Q @ w - A.T.mv(phi)).norm().item(),\n",
    "    dz := (Q @ z - s * psi).norm().item(),\n",
    "    sep=\"\\n\",\n",
    ")"
   ]
  },
  {
   "cell_type": "markdown",
   "metadata": {
    "tags": []
   },
   "source": [
    "## manual Backward mixed approach"
   ]
  },
  {
   "cell_type": "code",
   "execution_count": null,
   "metadata": {
    "execution": {
     "iopub.execute_input": "2023-05-16T09:36:32.054382Z",
     "iopub.status.busy": "2023-05-16T09:36:32.053690Z",
     "iopub.status.idle": "2023-05-16T09:36:32.140198Z",
     "shell.execute_reply": "2023-05-16T09:36:32.139712Z",
     "shell.execute_reply.started": "2023-05-16T09:36:32.054337Z"
    },
    "tags": []
   },
   "outputs": [],
   "source": [
    "device = torch.device(\"cuda\")\n",
    "\n",
    "A = torch.nn.Parameter(A0.clone()).to(device)\n",
    "xi = xi.to(device)\n",
    "phi = phi.to(device)\n",
    "psi = psi.to(device)\n",
    "\n",
    "U, S, V = torch.linalg.svd(A)\n",
    "u, s, v = U[:, 0], S[0], V[0, :]\n",
    "r = xi * s + phi.dot(u) + psi.dot(v)\n",
    "\n",
    "I_m = eye(m, device=device)\n",
    "I_n = eye(n, device=device)\n",
    "O_m = torch.zeros(m, device=device)\n",
    "O_n = torch.zeros(n, device=device)\n",
    "\n",
    "H = torch.cat([A.T, s**2 * I_m], dim=0)\n",
    "h = torch.cat([-psi, O_m], dim=0)\n",
    "J = torch.cat([A, s**2 * I_n], dim=0)\n",
    "j = torch.cat([-phi, O_n], dim=0)\n",
    "\n",
    "x = solve(s**2 * I_m - A @ A.T, s * phi)\n",
    "y = lstsq(H, h)[0]\n",
    "w = lstsq(J, j)[0]\n",
    "z = solve(s**2 * I_n - A.T @ A, s * psi)\n",
    "\n",
    "print(\n",
    "    torch.linalg.cond(K),\n",
    "    torch.linalg.cond(torch.cat([A.T, s**2 * I_m], dim=0)),\n",
    "    torch.linalg.cond(torch.cat([A, s**2 * I_n], dim=0)),\n",
    ")\n",
    "\n",
    "p = x + y\n",
    "q = w + z\n",
    "\n",
    "g_sigma = xi * outer(u, v)\n",
    "g_u = outer(p - dot(u, p) * u, v)\n",
    "g_v = outer(u, q - dot(q, v) * v)\n",
    "G = (g_sigma + g_u + g_v).cpu()\n",
    "\n",
    "print(G)\n",
    "err_grad = (G - G_torch).norm() / G_torch.norm()\n",
    "print(f\"diff to torch {err_grad:.4%}\")\n",
    "diff_y = abs(F2 - r.cpu() - tensordot(G, E)).item()\n",
    "print(f\"|f(A+∆A) - f(A) - ∇f(A)∆A|={diff_y}\")"
   ]
  },
  {
   "cell_type": "code",
   "execution_count": null,
   "metadata": {
    "execution": {
     "iopub.execute_input": "2023-05-16T09:36:33.185359Z",
     "iopub.status.busy": "2023-05-16T09:36:33.185069Z",
     "iopub.status.idle": "2023-05-16T09:36:33.189150Z",
     "shell.execute_reply": "2023-05-16T09:36:33.188768Z",
     "shell.execute_reply.started": "2023-05-16T09:36:33.185345Z"
    },
    "tags": []
   },
   "outputs": [],
   "source": [
    "print(\n",
    "    dx := ((s**2 * I_m - A @ A.T) @ x - s * phi).norm().item(),\n",
    "    dy := (H @ y - h).norm().item(),\n",
    "    dw := (J @ w - j).norm().item(),\n",
    "    dz := ((s**2 * I_n - A.T @ A) @ z - s * psi).norm().item(),\n",
    "    sep=\"\\n\",\n",
    ")"
   ]
  },
  {
   "cell_type": "markdown",
   "metadata": {},
   "source": [
    "## manual Backward substitution"
   ]
  },
  {
   "cell_type": "code",
   "execution_count": null,
   "metadata": {
    "execution": {
     "iopub.execute_input": "2023-05-16T00:07:11.312335Z",
     "iopub.status.busy": "2023-05-16T00:07:11.312164Z",
     "iopub.status.idle": "2023-05-16T00:07:11.356278Z",
     "shell.execute_reply": "2023-05-16T00:07:11.355665Z",
     "shell.execute_reply.started": "2023-05-16T00:07:11.312323Z"
    },
    "tags": []
   },
   "outputs": [],
   "source": [
    "device = torch.device(\"cuda\")\n",
    "\n",
    "A = torch.nn.Parameter(A0.clone()).to(device)\n",
    "xi = xi.to(device)\n",
    "phi = phi.to(device)\n",
    "psi = psi.to(device)\n",
    "\n",
    "U, S, V = torch.linalg.svd(A)\n",
    "u, s, v = U[:, 0], S[0], V[0, :]\n",
    "r = xi * s + phi.dot(u) + psi.dot(v)\n",
    "\n",
    "I_m = eye(m, device=device)\n",
    "I_n = eye(n, device=device)\n",
    "O_m = torch.zeros(m, device=device)\n",
    "O_n = torch.zeros(n, device=device)\n",
    "\n",
    "P = torch.cat([A.T, s**2 * I_m], dim=0)\n",
    "Q = torch.cat([A, s**2 * I_n], dim=0)\n",
    "\n",
    "Y = torch.cat(\n",
    "    [\n",
    "        torch.stack([-s * phi, -phi], dim=-1),\n",
    "        torch.zeros((n, 2), device=device),\n",
    "    ],\n",
    "    dim=0,\n",
    ")\n",
    "Z = torch.cat(\n",
    "    [\n",
    "        torch.stack([-psi, -s * psi], dim=-1),\n",
    "        torch.zeros((m, 2), device=device),\n",
    "    ],\n",
    "    dim=0,\n",
    ")\n",
    "\n",
    "mu, w = lstsq(Q, Y)[0].T\n",
    "y, nu = lstsq(P, Z)[0].T\n",
    "x = lstsq(A.T, mu)[0]\n",
    "z = lstsq(A, nu)[0]\n",
    "\n",
    "p = x + y\n",
    "q = w + z\n",
    "\n",
    "g_sigma = xi * outer(u, v)\n",
    "g_u = outer(p - dot(u, p) * u, v)\n",
    "g_v = outer(u, q - dot(q, v) * v)\n",
    "G = (g_sigma + g_u + g_v).cpu()\n",
    "\n",
    "print(G)\n",
    "err_grad = (G - G_torch).norm() / G_torch.norm()\n",
    "print(f\"diff to torch {err_grad:.4%}\")\n",
    "diff_y = abs(F2 - r.cpu() - tensordot(G, E)).item()\n",
    "print(f\"|f(A+∆A) - f(A) - ∇f(A)∆A|={diff_y}\")"
   ]
  },
  {
   "cell_type": "code",
   "execution_count": null,
   "metadata": {
    "execution": {
     "iopub.execute_input": "2023-05-16T00:07:11.357139Z",
     "iopub.status.busy": "2023-05-16T00:07:11.356884Z",
     "iopub.status.idle": "2023-05-16T00:07:11.361050Z",
     "shell.execute_reply": "2023-05-16T00:07:11.360606Z",
     "shell.execute_reply.started": "2023-05-16T00:07:11.357121Z"
    },
    "tags": []
   },
   "outputs": [],
   "source": [
    "print(\n",
    "    dx := (A.T @ x - mu).norm().item(),\n",
    "    dz := (A @ z - nu).norm().item(),\n",
    "    dmu := (Q @ mu - Y[:, 0]).norm().item(),\n",
    "    dnu := (P @ nu - Z[:, 1]).norm().item(),\n",
    "    dw := (P @ w - Y[:, 1]).norm().item(),\n",
    "    dy := (Q @ y - Z[:, 0]).norm().item(),\n",
    "    sep=\"\\n\",\n",
    ")"
   ]
  },
  {
   "cell_type": "markdown",
   "metadata": {},
   "source": [
    "## manual Forward substitution"
   ]
  },
  {
   "cell_type": "code",
   "execution_count": null,
   "metadata": {
    "execution": {
     "iopub.execute_input": "2023-05-16T00:07:11.361669Z",
     "iopub.status.busy": "2023-05-16T00:07:11.361554Z",
     "iopub.status.idle": "2023-05-16T00:07:11.405251Z",
     "shell.execute_reply": "2023-05-16T00:07:11.404790Z",
     "shell.execute_reply.started": "2023-05-16T00:07:11.361657Z"
    },
    "tags": []
   },
   "outputs": [],
   "source": [
    "device = torch.device(\"cuda\")\n",
    "A = torch.nn.Parameter(A0.clone()).to(device)\n",
    "xi = xi.to(device)\n",
    "phi = phi.to(device)\n",
    "psi = psi.to(device)\n",
    "\n",
    "U, S, V = torch.linalg.svd(A)\n",
    "u, s, v = U[:, 0], S[0], V[0, :]\n",
    "r = xi * s + phi.dot(u) + psi.dot(v)\n",
    "\n",
    "I_m = eye(m, device=device)\n",
    "I_n = eye(n, device=device)\n",
    "\n",
    "mu = lstsq(A, s * phi)[0]\n",
    "nu = lstsq(A.T, s * psi)[0]\n",
    "\n",
    "P = torch.cat([A.T, s**2 * I_m], dim=0)\n",
    "Q = torch.cat([A, s**2 * I_n], dim=0)\n",
    "\n",
    "Y = torch.cat(\n",
    "    [\n",
    "        torch.stack([-mu, -psi], dim=-1),\n",
    "        torch.zeros((m, 2), device=device),\n",
    "    ],\n",
    "    dim=0,\n",
    ")\n",
    "Z = torch.cat(\n",
    "    [\n",
    "        torch.stack([-phi, -nu], dim=-1),\n",
    "        torch.zeros((n, 2), device=device),\n",
    "    ],\n",
    "    dim=0,\n",
    ")\n",
    "\n",
    "x = lstsq(P, Y)[0]\n",
    "y = lstsq(Q, Z)[0]\n",
    "\n",
    "p = x.sum(dim=-1)\n",
    "q = y.sum(dim=-1)\n",
    "\n",
    "g_sigma = xi * outer(u, v)\n",
    "g_u = outer(p - dot(u, p) * u, v)\n",
    "g_v = outer(u, q - dot(q, v) * v)\n",
    "G = (g_sigma + g_u + g_v).cpu()\n",
    "\n",
    "print(G)\n",
    "err_grad = (G - G_torch).norm() / G_torch.norm()\n",
    "print(f\"diff to torch {err_grad:.4%}\")\n",
    "diff_y = abs(F2 - r.cpu() - tensordot(G, E)).item()\n",
    "print(f\"|f(A+∆A) - f(A) - ∇f(A)∆A|={diff_y}\")"
   ]
  },
  {
   "cell_type": "code",
   "execution_count": null,
   "metadata": {
    "execution": {
     "iopub.execute_input": "2023-05-16T00:07:11.405888Z",
     "iopub.status.busy": "2023-05-16T00:07:11.405772Z",
     "iopub.status.idle": "2023-05-16T00:07:11.409413Z",
     "shell.execute_reply": "2023-05-16T00:07:11.409046Z",
     "shell.execute_reply.started": "2023-05-16T00:07:11.405876Z"
    },
    "tags": []
   },
   "outputs": [],
   "source": [
    "print(\n",
    "    dmu := (A @ mu - s * phi).norm().item(),\n",
    "    dnu := (A.T @ nu - s * psi).norm().item(),\n",
    "    dp := (P @ x - Y).norm().item(),\n",
    "    dq := (Q @ y - Z).norm().item(),\n",
    "    sep=\"\\n\",\n",
    ")"
   ]
  },
  {
   "cell_type": "code",
   "execution_count": null,
   "metadata": {},
   "outputs": [],
   "source": []
  },
  {
   "cell_type": "code",
   "execution_count": null,
   "metadata": {},
   "outputs": [],
   "source": []
  },
  {
   "cell_type": "code",
   "execution_count": null,
   "metadata": {},
   "outputs": [],
   "source": []
  }
 ],
 "metadata": {
  "kernelspec": {
   "display_name": "Python 3 (ipykernel)",
   "language": "python",
   "name": "python3"
  },
  "language_info": {
   "codemirror_mode": {
    "name": "ipython",
    "version": 3
   },
   "file_extension": ".py",
   "mimetype": "text/x-python",
   "name": "python",
   "nbconvert_exporter": "python",
   "pygments_lexer": "ipython3",
   "version": "3.10.6"
  }
 },
 "nbformat": 4,
 "nbformat_minor": 4
}
