{
 "cells": [
  {
   "cell_type": "code",
   "execution_count": null,
   "metadata": {
    "execution": {
     "iopub.execute_input": "2023-05-15T07:35:35.618011Z",
     "iopub.status.busy": "2023-05-15T07:35:35.617740Z",
     "iopub.status.idle": "2023-05-15T07:35:36.810868Z",
     "shell.execute_reply": "2023-05-15T07:35:36.810332Z",
     "shell.execute_reply.started": "2023-05-15T07:35:35.617981Z"
    },
    "tags": []
   },
   "outputs": [],
   "source": [
    "%config InteractiveShell.ast_node_interactivity='last_expr_or_assign'  # always print last expr.\n",
    "\n",
    "import jax\n",
    "import jax.numpy as jnp\n",
    "import torch\n",
    "from torch import dot, eye, outer, tensordot\n",
    "from torch.linalg import lstsq, solve"
   ]
  },
  {
   "cell_type": "markdown",
   "metadata": {
    "tags": []
   },
   "source": [
    "# Torch"
   ]
  },
  {
   "cell_type": "code",
   "execution_count": null,
   "metadata": {
    "execution": {
     "iopub.execute_input": "2023-05-15T07:35:36.812254Z",
     "iopub.status.busy": "2023-05-15T07:35:36.811909Z",
     "iopub.status.idle": "2023-05-15T07:35:36.872834Z",
     "shell.execute_reply": "2023-05-15T07:35:36.871698Z",
     "shell.execute_reply.started": "2023-05-15T07:35:36.812240Z"
    },
    "tags": []
   },
   "outputs": [],
   "source": [
    "m, n = 512, 512\n",
    "A0 = torch.randn(m, n)\n",
    "print(f\"{torch.linalg.cond(A0)=}\")\n",
    "xi = torch.randn(1)\n",
    "phi = torch.randn(m)\n",
    "psi = torch.randn(n)\n",
    "U, S, V = torch.linalg.svd(A0)\n",
    "u, s, v = U[:, 0], S[0], V[0, :]\n",
    "F = xi * s + u.dot(phi) + v.dot(psi)\n",
    "print(f\"f(A)={F}\")"
   ]
  },
  {
   "cell_type": "markdown",
   "metadata": {},
   "source": [
    "## numerical gradient"
   ]
  },
  {
   "cell_type": "code",
   "execution_count": null,
   "metadata": {
    "execution": {
     "iopub.execute_input": "2023-05-15T07:35:36.873735Z",
     "iopub.status.busy": "2023-05-15T07:35:36.873467Z",
     "iopub.status.idle": "2023-05-15T07:35:36.911461Z",
     "shell.execute_reply": "2023-05-15T07:35:36.911082Z",
     "shell.execute_reply.started": "2023-05-15T07:35:36.873708Z"
    },
    "tags": []
   },
   "outputs": [],
   "source": [
    "eps = 10**-3\n",
    "E = eps * torch.randn(m, n)\n",
    "\n",
    "UE, SE, VE = torch.linalg.svd(A0 + E)\n",
    "ue, se, ve = UE[:, 0], SE[0], VE[0, :]\n",
    "F2 = xi * se + ue.dot(phi) + ve.dot(psi)\n",
    "print(f\"f(A+∆A) = {F2}\")"
   ]
  },
  {
   "cell_type": "markdown",
   "metadata": {},
   "source": [
    "## Torch autograd"
   ]
  },
  {
   "cell_type": "code",
   "execution_count": null,
   "metadata": {
    "execution": {
     "iopub.execute_input": "2023-05-15T07:35:36.912111Z",
     "iopub.status.busy": "2023-05-15T07:35:36.911986Z",
     "iopub.status.idle": "2023-05-15T07:35:37.800846Z",
     "shell.execute_reply": "2023-05-15T07:35:37.800412Z",
     "shell.execute_reply.started": "2023-05-15T07:35:36.912099Z"
    },
    "tags": []
   },
   "outputs": [],
   "source": [
    "device = torch.device(\"cuda\")\n",
    "A = torch.nn.Parameter(A0.clone().to(device))\n",
    "xi = xi.to(device)\n",
    "phi = phi.to(device)\n",
    "psi = psi.to(device)\n",
    "\n",
    "U, S, V = torch.linalg.svd(A)\n",
    "u, s, v = U[:, 0], S[0], V[0, :]\n",
    "r = xi * s + phi.dot(u) + psi.dot(v)\n",
    "r.backward()\n",
    "print(r)\n",
    "G_torch = A.grad.clone().detach().cpu()\n",
    "print(G_torch)\n",
    "diff_y = abs(F2 - r.cpu() - tensordot(G_torch, E)).item()\n",
    "print(f\"|f(A+∆A) - f(A) - ∇f(A)∆A|={diff_y}\")\n",
    "# assert torch.allclose(A.grad, torch.outer(u, v))"
   ]
  },
  {
   "cell_type": "markdown",
   "metadata": {},
   "source": [
    "# Jax variant"
   ]
  },
  {
   "cell_type": "code",
   "execution_count": null,
   "metadata": {
    "execution": {
     "iopub.execute_input": "2023-05-15T07:35:37.801475Z",
     "iopub.status.busy": "2023-05-15T07:35:37.801367Z",
     "iopub.status.idle": "2023-05-15T07:35:39.673583Z",
     "shell.execute_reply": "2023-05-15T07:35:39.672842Z",
     "shell.execute_reply.started": "2023-05-15T07:35:37.801464Z"
    },
    "tags": []
   },
   "outputs": [],
   "source": [
    "device = torch.device(\"cpu\")\n",
    "xi = xi.to(device)\n",
    "phi = phi.to(device)\n",
    "psi = psi.to(device)\n",
    "\n",
    "\n",
    "def svd_grad(X, xi, phi, psi):\n",
    "    U, S, V = jnp.linalg.svd(X, full_matrices=False, compute_uv=True)\n",
    "    u, s, v = U[:, 0], S[0], V[0, :]\n",
    "    return xi.item() * s + u.dot(phi) + v.dot(psi)\n",
    "\n",
    "\n",
    "f = jax.value_and_grad(svd_grad)\n",
    "\n",
    "value, G_jax = f(A0.numpy(), xi.numpy(), phi.numpy(), psi.numpy())\n",
    "print(value)\n",
    "print(G_jax)\n",
    "diff = jnp.linalg.norm(G_jax - G_torch.numpy())\n",
    "print(f\"diff to torch {diff}\")\n",
    "diff_y = abs(F2.numpy() - value - (G_jax * E.numpy()).sum()).item()\n",
    "print(f\"|f(A+∆A) - f(A) - ∇f(A)∆A|={diff_y}\")"
   ]
  },
  {
   "cell_type": "markdown",
   "metadata": {},
   "source": [
    "## manual computation"
   ]
  },
  {
   "cell_type": "code",
   "execution_count": null,
   "metadata": {
    "execution": {
     "iopub.execute_input": "2023-05-15T07:35:39.674731Z",
     "iopub.status.busy": "2023-05-15T07:35:39.674503Z",
     "iopub.status.idle": "2023-05-15T07:35:39.796897Z",
     "shell.execute_reply": "2023-05-15T07:35:39.796380Z",
     "shell.execute_reply.started": "2023-05-15T07:35:39.674709Z"
    },
    "tags": []
   },
   "outputs": [],
   "source": [
    "device = torch.device(\"cuda\")\n",
    "\n",
    "A = torch.nn.Parameter(A0.clone()).to(device)\n",
    "xi = xi.to(device)\n",
    "phi = phi.to(device)\n",
    "psi = psi.to(device)\n",
    "\n",
    "U, S, V = torch.linalg.svd(A)\n",
    "u, s, v = U[:, 0], S[0], V[0, :]\n",
    "r = xi * s + phi.dot(u) + psi.dot(v)\n",
    "\n",
    "I_m = eye(m, device=device)\n",
    "I_n = eye(n, device=device)\n",
    "\n",
    "K = torch.cat(\n",
    "    [\n",
    "        torch.cat([s * I_m, -A], dim=-1),\n",
    "        torch.cat([-A.T, s * I_n], dim=-1),\n",
    "    ],\n",
    "    dim=0,\n",
    ")\n",
    "print(torch.linalg.cond(K))\n",
    "# x = torch.linalg.solve(K, torch.cat([phi, psi]))\n",
    "x = torch.linalg.lstsq(K, torch.cat([phi, psi]))[0]\n",
    "p = x[:m]\n",
    "q = x[m:]\n",
    "\n",
    "g_sigma = xi * outer(u, v)\n",
    "g_u = outer(p - dot(u, p) * u, v)\n",
    "g_v = outer(u, q - dot(q, v) * v)\n",
    "G = (g_sigma + g_u + g_v).cpu()\n",
    "\n",
    "print(G)\n",
    "diff = (G - G_torch).norm()\n",
    "print(f\"diff to torch {diff}\")\n",
    "diff_y = abs(F2 - r.cpu() - tensordot(G, E)).item()\n",
    "print(f\"|f(A+∆A) - f(A) - ∇f(A)∆A|={diff_y}\")"
   ]
  },
  {
   "cell_type": "code",
   "execution_count": null,
   "metadata": {
    "execution": {
     "iopub.execute_input": "2023-05-15T07:35:39.798657Z",
     "iopub.status.busy": "2023-05-15T07:35:39.798503Z",
     "iopub.status.idle": "2023-05-15T07:35:39.804663Z",
     "shell.execute_reply": "2023-05-15T07:35:39.804155Z",
     "shell.execute_reply.started": "2023-05-15T07:35:39.798641Z"
    },
    "tags": []
   },
   "outputs": [],
   "source": [
    "(K @ x - torch.cat([phi, psi])).norm()"
   ]
  },
  {
   "cell_type": "markdown",
   "metadata": {},
   "source": [
    "## manual computation Block inversion"
   ]
  },
  {
   "cell_type": "code",
   "execution_count": null,
   "metadata": {
    "execution": {
     "iopub.execute_input": "2023-05-15T07:35:39.805800Z",
     "iopub.status.busy": "2023-05-15T07:35:39.805256Z",
     "iopub.status.idle": "2023-05-15T07:35:39.848056Z",
     "shell.execute_reply": "2023-05-15T07:35:39.847433Z",
     "shell.execute_reply.started": "2023-05-15T07:35:39.805781Z"
    },
    "tags": []
   },
   "outputs": [],
   "source": [
    "device = torch.device(\"cuda\")\n",
    "\n",
    "A = torch.nn.Parameter(A0.clone()).to(device)\n",
    "xi = xi.to(device)\n",
    "phi = phi.to(device)\n",
    "psi = psi.to(device)\n",
    "\n",
    "U, S, V = torch.linalg.svd(A)\n",
    "u, s, v = U[:, 0], S[0], V[0, :]\n",
    "r = xi * s + phi.dot(u) + psi.dot(v)\n",
    "\n",
    "I_m = eye(m, device=device)\n",
    "I_n = eye(n, device=device)\n",
    "\n",
    "P = s**2 * I_m - A @ A.T\n",
    "Q = s**2 * I_n - A.T @ A\n",
    "\n",
    "driver = \"gels\"\n",
    "\n",
    "x = lstsq(P, s * phi, driver=driver)[0]\n",
    "y = lstsq(P, A.mv(psi), driver=driver)[0]\n",
    "w = lstsq(Q, A.T.mv(phi), driver=driver)[0]\n",
    "z = lstsq(Q, s * psi, driver=driver)[0]\n",
    "\n",
    "p = x + y\n",
    "q = w + z\n",
    "\n",
    "g_sigma = xi * outer(u, v)\n",
    "g_u = outer(p - dot(u, p) * u, v)\n",
    "g_v = outer(u, q - dot(q, v) * v)\n",
    "G = g_sigma + g_u + g_v\n",
    "\n",
    "print(G)\n",
    "diff = (G - G_torch.to(device)).norm()\n",
    "print(f\"diff to torch {diff}\")\n",
    "diff_y = abs(F2.to(device) - r - tensordot(G, E.to(device))).item()\n",
    "print(f\"|f(A+∆A) - f(A) - ∇f(A)∆A|={diff_y}\")"
   ]
  },
  {
   "cell_type": "code",
   "execution_count": null,
   "metadata": {
    "execution": {
     "iopub.execute_input": "2023-05-15T07:35:39.848849Z",
     "iopub.status.busy": "2023-05-15T07:35:39.848650Z",
     "iopub.status.idle": "2023-05-15T07:35:39.852499Z",
     "shell.execute_reply": "2023-05-15T07:35:39.852030Z",
     "shell.execute_reply.started": "2023-05-15T07:35:39.848836Z"
    },
    "tags": []
   },
   "outputs": [],
   "source": [
    "print(\n",
    "    dx := (P @ x - s * phi).norm().item(),\n",
    "    dy := (P @ y - A.mv(psi)).norm().item(),\n",
    "    dw := (Q @ w - A.T.mv(phi)).norm().item(),\n",
    "    dz := (Q @ z - s * psi).norm().item(),\n",
    ")"
   ]
  },
  {
   "cell_type": "markdown",
   "metadata": {
    "tags": []
   },
   "source": [
    "## manual Backward mixed approach"
   ]
  },
  {
   "cell_type": "code",
   "execution_count": null,
   "metadata": {
    "execution": {
     "iopub.execute_input": "2023-05-15T07:35:39.853264Z",
     "iopub.status.busy": "2023-05-15T07:35:39.853018Z",
     "iopub.status.idle": "2023-05-15T07:35:39.898571Z",
     "shell.execute_reply": "2023-05-15T07:35:39.898162Z",
     "shell.execute_reply.started": "2023-05-15T07:35:39.853252Z"
    },
    "tags": []
   },
   "outputs": [],
   "source": [
    "device = torch.device(\"cuda\")\n",
    "\n",
    "A = torch.nn.Parameter(A0.clone()).to(device)\n",
    "xi = xi.to(device)\n",
    "phi = phi.to(device)\n",
    "psi = psi.to(device)\n",
    "\n",
    "U, S, V = torch.linalg.svd(A)\n",
    "u, s, v = U[:, 0], S[0], V[0, :]\n",
    "r = xi * s + phi.dot(u) + psi.dot(v)\n",
    "\n",
    "I_m = eye(m, device=device)\n",
    "I_n = eye(n, device=device)\n",
    "O_m = torch.zeros(m, device=device)\n",
    "O_n = torch.zeros(n, device=device)\n",
    "\n",
    "x = lstsq(s**2 * I_m - A @ A.T, s * phi, driver=driver)[0]\n",
    "y = lstsq(\n",
    "    torch.cat([A.T, s**2 * I_m], dim=0), torch.cat([-psi, O_m], dim=0), driver=driver\n",
    ")[0]\n",
    "w = lstsq(\n",
    "    torch.cat([A, s**2 * I_n], dim=0), torch.cat([-phi, O_n], dim=0), driver=driver\n",
    ")[0]\n",
    "z = lstsq(s**2 * I_n - A.T @ A, s * psi, driver=driver)[0]\n",
    "\n",
    "p = x + y\n",
    "q = w + z\n",
    "\n",
    "g_sigma = xi * outer(u, v)\n",
    "g_u = outer(p - dot(u, p) * u, v)\n",
    "g_v = outer(u, q - dot(q, v) * v)\n",
    "G = (g_sigma + g_u + g_v).cpu()\n",
    "\n",
    "print(G)\n",
    "diff = (G - G_torch).norm()\n",
    "print(f\"diff to torch {diff}\")\n",
    "diff_y = abs(F2 - r.cpu() - tensordot(G, E)).item()\n",
    "print(f\"|f(A+∆A) - f(A) - ∇f(A)∆A|={diff_y}\")"
   ]
  },
  {
   "cell_type": "code",
   "execution_count": null,
   "metadata": {
    "execution": {
     "iopub.execute_input": "2023-05-15T07:35:39.899225Z",
     "iopub.status.busy": "2023-05-15T07:35:39.899098Z",
     "iopub.status.idle": "2023-05-15T07:35:39.905468Z",
     "shell.execute_reply": "2023-05-15T07:35:39.903949Z",
     "shell.execute_reply.started": "2023-05-15T07:35:39.899212Z"
    },
    "tags": []
   },
   "outputs": [],
   "source": [
    "print(\n",
    "    dx := ((s**2 * I_m - A @ A.T) @ x - s * phi).norm().item(),\n",
    "    dy := (torch.cat([A.T, s**2 * I_m]) @ y - torch.cat([-psi, O_m])).norm().item(),\n",
    "    dw := (torch.cat([A, s**2 * I_n]) @ w - torch.cat([-phi, O_n])).norm().item(),\n",
    "    dz := ((s**2 * I_n - A.T @ A) @ z - s * psi).norm().item(),\n",
    ")"
   ]
  },
  {
   "cell_type": "markdown",
   "metadata": {},
   "source": [
    "## manual Backward substitution"
   ]
  },
  {
   "cell_type": "code",
   "execution_count": null,
   "metadata": {
    "execution": {
     "iopub.execute_input": "2023-05-15T07:35:39.906703Z",
     "iopub.status.busy": "2023-05-15T07:35:39.906238Z",
     "iopub.status.idle": "2023-05-15T07:35:39.963339Z",
     "shell.execute_reply": "2023-05-15T07:35:39.962761Z",
     "shell.execute_reply.started": "2023-05-15T07:35:39.906682Z"
    },
    "tags": []
   },
   "outputs": [],
   "source": [
    "device = torch.device(\"cuda\")\n",
    "\n",
    "A = torch.nn.Parameter(A0.clone()).to(device)\n",
    "xi = xi.to(device)\n",
    "phi = phi.to(device)\n",
    "psi = psi.to(device)\n",
    "\n",
    "U, S, V = torch.linalg.svd(A)\n",
    "u, s, v = U[:, 0], S[0], V[0, :]\n",
    "r = xi * s + phi.dot(u) + psi.dot(v)\n",
    "\n",
    "I_m = eye(m, device=device)\n",
    "I_n = eye(n, device=device)\n",
    "O_m = torch.zeros(m, device=device)\n",
    "O_n = torch.zeros(n, device=device)\n",
    "\n",
    "P = torch.cat([A.T, s**2 * I_m], dim=0)\n",
    "Q = torch.cat([A, s**2 * I_n], dim=0)\n",
    "\n",
    "Y = torch.cat(\n",
    "    [\n",
    "        torch.stack([-s * phi, -phi], dim=-1),\n",
    "        torch.zeros((n, 2), device=device),\n",
    "    ],\n",
    "    dim=0,\n",
    ")\n",
    "Z = torch.cat(\n",
    "    [\n",
    "        torch.stack([-psi, -s * psi], dim=-1),\n",
    "        torch.zeros((m, 2), device=device),\n",
    "    ],\n",
    "    dim=0,\n",
    ")\n",
    "\n",
    "mu, w = lstsq(Q, Y)[0].T\n",
    "y, nu = lstsq(P, Z)[0].T\n",
    "x = lstsq(A.T, mu)[0]\n",
    "z = lstsq(A, nu)[0]\n",
    "\n",
    "p = x + y\n",
    "q = w + z\n",
    "\n",
    "g_sigma = xi * outer(u, v)\n",
    "g_u = outer(p - dot(u, p) * u, v)\n",
    "g_v = outer(u, q - dot(q, v) * v)\n",
    "G = (g_sigma + g_u + g_v).cpu()\n",
    "\n",
    "print(G)\n",
    "diff = (G - G_torch).norm()\n",
    "print(f\"diff to torch {diff}\")\n",
    "diff_y = abs(F2 - r.cpu() - tensordot(G, E)).item()\n",
    "print(f\"|f(A+∆A) - f(A) - ∇f(A)∆A|={diff_y}\")"
   ]
  },
  {
   "cell_type": "code",
   "execution_count": null,
   "metadata": {
    "execution": {
     "iopub.execute_input": "2023-05-15T07:35:39.965213Z",
     "iopub.status.busy": "2023-05-15T07:35:39.964053Z",
     "iopub.status.idle": "2023-05-15T07:35:39.976606Z",
     "shell.execute_reply": "2023-05-15T07:35:39.974260Z",
     "shell.execute_reply.started": "2023-05-15T07:35:39.965183Z"
    },
    "tags": []
   },
   "outputs": [],
   "source": [
    "print(\n",
    "    dx := (A.T @ x - mu).norm().item(),\n",
    "    dz := (A @ z - nu).norm().item(),\n",
    "    dmu := (Q @ mu - Y[:, 0]).norm().item(),\n",
    "    dnu := (P @ nu - Z[:, 1]).norm().item(),\n",
    "    dw := (P @ w - Y[:, 1]).norm().item(),\n",
    "    dy := (Q @ y - Z[:, 0]).norm().item(),\n",
    "    sep=\"\\n\",\n",
    ")"
   ]
  },
  {
   "cell_type": "markdown",
   "metadata": {},
   "source": [
    "## manual Forward substitution"
   ]
  },
  {
   "cell_type": "code",
   "execution_count": null,
   "metadata": {
    "execution": {
     "iopub.execute_input": "2023-05-15T07:35:39.978215Z",
     "iopub.status.busy": "2023-05-15T07:35:39.977899Z",
     "iopub.status.idle": "2023-05-15T07:35:40.030215Z",
     "shell.execute_reply": "2023-05-15T07:35:40.029665Z",
     "shell.execute_reply.started": "2023-05-15T07:35:39.978197Z"
    },
    "tags": []
   },
   "outputs": [],
   "source": [
    "device = torch.device(\"cuda\")\n",
    "A = torch.nn.Parameter(A0.clone()).to(device)\n",
    "xi = xi.to(device)\n",
    "phi = phi.to(device)\n",
    "psi = psi.to(device)\n",
    "\n",
    "U, S, V = torch.linalg.svd(A)\n",
    "u, s, v = U[:, 0], S[0], V[0, :]\n",
    "r = xi * s + phi.dot(u) + psi.dot(v)\n",
    "\n",
    "I_m = eye(m, device=device)\n",
    "I_n = eye(n, device=device)\n",
    "\n",
    "mu = lstsq(A, s * phi)[0]\n",
    "nu = lstsq(A.T, s * psi)[0]\n",
    "\n",
    "P = torch.cat([A.T, s**2 * I_m], dim=0)\n",
    "Q = torch.cat([A, s**2 * I_n], dim=0)\n",
    "\n",
    "Y = torch.cat(\n",
    "    [\n",
    "        torch.stack([-mu, -psi], dim=-1),\n",
    "        torch.zeros((m, 2), device=device),\n",
    "    ],\n",
    "    dim=0,\n",
    ")\n",
    "Z = torch.cat(\n",
    "    [\n",
    "        torch.stack([-phi, -nu], dim=-1),\n",
    "        torch.zeros((n, 2), device=device),\n",
    "    ],\n",
    "    dim=0,\n",
    ")\n",
    "\n",
    "x = lstsq(P, Y)[0]\n",
    "y = lstsq(Q, Z)[0]\n",
    "\n",
    "p = x.sum(dim=-1)\n",
    "q = y.sum(dim=-1)\n",
    "\n",
    "g_sigma = xi * outer(u, v)\n",
    "g_u = outer(p - dot(u, p) * u, v)\n",
    "g_v = outer(u, q - dot(q, v) * v)\n",
    "G = (g_sigma + g_u + g_v).cpu()\n",
    "\n",
    "print(G)\n",
    "diff = (G - G_torch).norm()\n",
    "print(f\"diff to torch {diff}\")\n",
    "diff_y = abs(F2 - r.cpu() - tensordot(G, E)).item()\n",
    "print(f\"|f(A+∆A) - f(A) - ∇f(A)∆A|={diff_y}\")"
   ]
  },
  {
   "cell_type": "code",
   "execution_count": null,
   "metadata": {
    "execution": {
     "iopub.execute_input": "2023-05-15T07:35:40.031108Z",
     "iopub.status.busy": "2023-05-15T07:35:40.030909Z",
     "iopub.status.idle": "2023-05-15T07:35:40.035290Z",
     "shell.execute_reply": "2023-05-15T07:35:40.034693Z",
     "shell.execute_reply.started": "2023-05-15T07:35:40.031092Z"
    },
    "tags": []
   },
   "outputs": [],
   "source": [
    "print(\n",
    "    dmu := (A @ mu - s * phi).norm().item(),\n",
    "    dnu := (A.T @ nu - s * psi).norm().item(),\n",
    "    dp := (P @ x - Y).norm().item(),\n",
    "    dq := (Q @ y - Z).norm().item(),\n",
    ")"
   ]
  },
  {
   "cell_type": "code",
   "execution_count": null,
   "metadata": {
    "execution": {
     "iopub.execute_input": "2023-05-15T07:35:40.036388Z",
     "iopub.status.busy": "2023-05-15T07:35:40.036055Z",
     "iopub.status.idle": "2023-05-15T07:35:40.250922Z",
     "shell.execute_reply": "2023-05-15T07:35:40.250154Z",
     "shell.execute_reply.started": "2023-05-15T07:35:40.036372Z"
    },
    "tags": []
   },
   "outputs": [],
   "source": [
    "P @ p - Y"
   ]
  },
  {
   "cell_type": "code",
   "execution_count": null,
   "metadata": {
    "execution": {
     "iopub.status.busy": "2023-05-15T07:35:40.251435Z",
     "iopub.status.idle": "2023-05-15T07:35:40.251625Z",
     "shell.execute_reply": "2023-05-15T07:35:40.251547Z",
     "shell.execute_reply.started": "2023-05-15T07:35:40.251538Z"
    },
    "tags": []
   },
   "outputs": [],
   "source": [
    "Y.shape"
   ]
  },
  {
   "cell_type": "code",
   "execution_count": null,
   "metadata": {},
   "outputs": [],
   "source": []
  }
 ],
 "metadata": {
  "kernelspec": {
   "display_name": "Python 3 (ipykernel)",
   "language": "python",
   "name": "python3"
  },
  "language_info": {
   "codemirror_mode": {
    "name": "ipython",
    "version": 3
   },
   "file_extension": ".py",
   "mimetype": "text/x-python",
   "name": "python",
   "nbconvert_exporter": "python",
   "pygments_lexer": "ipython3",
   "version": "3.10.6"
  }
 },
 "nbformat": 4,
 "nbformat_minor": 4
}
