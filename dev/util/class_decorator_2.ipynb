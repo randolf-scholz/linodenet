{
 "cells": [
  {
   "cell_type": "markdown",
   "metadata": {},
   "source": [
    "# Title"
   ]
  },
  {
   "cell_type": "code",
   "execution_count": null,
   "metadata": {},
   "outputs": [],
   "source": [
    "%config InteractiveShell.ast_node_interactivity='last_expr_or_assign'  # always print last expr.\n",
    "%config InlineBackend.figure_format = 'svg'\n",
    "%load_ext autoreload\n",
    "%autoreload 2\n",
    "%matplotlib inline"
   ]
  },
  {
   "cell_type": "code",
   "execution_count": null,
   "metadata": {},
   "outputs": [],
   "source": [
    "import numpy as np\n",
    "import matplotlib.pyplot as plt\n",
    "\n",
    "np.set_printoptions(precision=4, floatmode=\"fixed\", suppress=True)\n",
    "rng = np.random.default_rng()"
   ]
  },
  {
   "cell_type": "code",
   "execution_count": null,
   "metadata": {},
   "outputs": [],
   "source": [
    "r\"\"\"Module Docstring.\"\"\"\n",
    "\n",
    "\n",
    "from functools import wraps\n",
    "\n",
    "\n",
    "class A:\n",
    "    pass\n",
    "\n",
    "\n",
    "class B:\n",
    "    pass\n",
    "\n",
    "\n",
    "def func(cl: A) -> B:\n",
    "    print(f\"Replacing {cl=}\")\n",
    "    return B()\n",
    "\n",
    "\n",
    "def wrapfunc(other):\n",
    "    def autodeco(func):\n",
    "        @wraps(func)\n",
    "        def wrapper(*args, **kwargs):\n",
    "            return other(func(*args, **kwargs))\n",
    "\n",
    "        return wrapper\n",
    "\n",
    "    return autodeco\n",
    "\n",
    "\n",
    "def autofunc(basecls: type[A]) -> type[B]:\n",
    "\n",
    "    assert issubclass(basecls, A)\n",
    "\n",
    "    @wraps(basecls, updated=())\n",
    "    class WrappedClass(B):\n",
    "        def __new__(cls, *args, **kwargs):\n",
    "            instance = basecls()\n",
    "            return func(instance)\n",
    "\n",
    "    return WrappedClass\n",
    "\n",
    "\n",
    "def autofuncb(basecls: type[A]) -> type[B]:\n",
    "\n",
    "    basecls.__new__ = wrapfunc(func)(basecls.__new__)\n",
    "    # @wraps(basecls, updated=())\n",
    "    # class WrappedClass(basecls):  # type: ignore\n",
    "    #\n",
    "    #     def __new__(cls, *args, **kwargs):\n",
    "    #         instance = basecls()\n",
    "    #         return func(instance)\n",
    "\n",
    "    return basecls\n",
    "\n",
    "\n",
    "class C(A):\n",
    "    pass\n",
    "\n",
    "\n",
    "instc: B = func(C())\n",
    "\n",
    "\n",
    "@autofunc\n",
    "class D(A):\n",
    "    pass\n",
    "\n",
    "\n",
    "instd: B = D()\n",
    "\n",
    "\n",
    "@autofuncb\n",
    "class E(A):\n",
    "    pass\n",
    "\n",
    "\n",
    "inste: B = E()"
   ]
  },
  {
   "cell_type": "code",
   "execution_count": null,
   "metadata": {},
   "outputs": [],
   "source": [
    "B"
   ]
  },
  {
   "cell_type": "code",
   "execution_count": null,
   "metadata": {},
   "outputs": [],
   "source": []
  }
 ],
 "metadata": {
  "kernelspec": {
   "display_name": "Python 3 (ipykernel)",
   "language": "python",
   "name": "python3"
  },
  "language_info": {
   "codemirror_mode": {
    "name": "ipython",
    "version": 3
   },
   "file_extension": ".py",
   "mimetype": "text/x-python",
   "name": "python",
   "nbconvert_exporter": "python",
   "pygments_lexer": "ipython3",
   "version": "3.9.7"
  }
 },
 "nbformat": 4,
 "nbformat_minor": 4
}
