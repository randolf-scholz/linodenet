{
 "cells": [
  {
   "cell_type": "markdown",
   "metadata": {},
   "source": [
    "# Title"
   ]
  },
  {
   "cell_type": "code",
   "execution_count": null,
   "metadata": {},
   "outputs": [],
   "source": [
    "%config InteractiveShell.ast_node_interactivity='last_expr_or_assign'  # always print last expr.\n",
    "%config InlineBackend.figure_format = 'svg'\n",
    "%load_ext autoreload\n",
    "%autoreload 2\n",
    "%matplotlib inline"
   ]
  },
  {
   "cell_type": "code",
   "execution_count": null,
   "metadata": {},
   "outputs": [],
   "source": [
    "import numpy as np\n",
    "import matplotlib.pyplot as plt\n",
    "\n",
    "np.set_printoptions(precision=4, floatmode=\"fixed\", suppress=True)\n",
    "rng = np.random.default_rng()"
   ]
  },
  {
   "cell_type": "code",
   "execution_count": null,
   "metadata": {},
   "outputs": [],
   "source": [
    "class AutoJit(object):\n",
    "    def __init__(self, arg):\n",
    "        self.arg = arg\n",
    "\n",
    "    def __call__(self, cls):\n",
    "        class Wrapped(cls):\n",
    "            classattr = self.arg\n",
    "\n",
    "            def new_method(self, value):\n",
    "                return value * 2\n",
    "\n",
    "        return Wrapped"
   ]
  },
  {
   "cell_type": "code",
   "execution_count": null,
   "metadata": {},
   "outputs": [],
   "source": [
    "import torch\n",
    "from torch import Tensor, nn, jit\n",
    "\n",
    "\n",
    "class MyModule(nn.Module):\n",
    "    a: Tensor\n",
    "\n",
    "    def __init__(self, a: float = 1.0):\n",
    "        super().__init__()\n",
    "        self.a = torch.tensor(a)\n",
    "\n",
    "    def forward(self, x: Tensor) -> Tensor:\n",
    "        return self.a * x"
   ]
  },
  {
   "cell_type": "code",
   "execution_count": null,
   "metadata": {},
   "outputs": [],
   "source": [
    "import functools\n",
    "from functools import wraps\n",
    "\n",
    "\n",
    "def autojit(cls):\n",
    "\n",
    "    print(cls)\n",
    "\n",
    "    @functools.wraps(cls, updated=())\n",
    "    class Wrapper(cls):\n",
    "        print(cls)\n",
    "\n",
    "        def __new__(cls, *args, **kwargs):\n",
    "            print(args, kwargs, cls)\n",
    "\n",
    "            instance = super().__new__(cls, *args, *kwargs)\n",
    "\n",
    "            print(type(instance))\n",
    "            return jit.script(instance(*args, **kwargs))\n",
    "\n",
    "        def __init__(self, *args, **kwargs):\n",
    "            super().__init__(*args, **kwargs)\n",
    "\n",
    "    return Wrapper"
   ]
  },
  {
   "cell_type": "code",
   "execution_count": null,
   "metadata": {},
   "outputs": [],
   "source": [
    "def append_func(other):\n",
    "    def decorator(func):\n",
    "        @wraps(func)\n",
    "        def wrapper(*args, **kwargs):\n",
    "            return other(func(*args, **kwargs))\n",
    "\n",
    "        return wrapper\n",
    "\n",
    "    return decorator\n",
    "\n",
    "\n",
    "def prepend_func(other):\n",
    "    def decorator(func):\n",
    "        @wraps(func)\n",
    "        def wrapper(*args, **kwargs):\n",
    "            return func(other(*args, **kwargs))\n",
    "\n",
    "        return wrapper\n",
    "\n",
    "    return decorator\n",
    "\n",
    "\n",
    "@append_func(lambda x: 2 * x)\n",
    "def f(x):\n",
    "    return x + 1\n",
    "\n",
    "\n",
    "@prepend_func(lambda x: 2 * x)\n",
    "def g(x):\n",
    "    return x + 1\n",
    "\n",
    "\n",
    "f(1), g(1)"
   ]
  },
  {
   "cell_type": "code",
   "execution_count": null,
   "metadata": {},
   "outputs": [],
   "source": []
  },
  {
   "cell_type": "code",
   "execution_count": null,
   "metadata": {},
   "outputs": [],
   "source": [
    "def patched_jit(obj):\n",
    "\n",
    "    if isinstance(obj, type):\n",
    "\n",
    "        @functools.wraps(obj, updated=())\n",
    "        class WrappedClass(obj):\n",
    "            def __new__(cls, *args, **kwargs):\n",
    "                instance = obj(*args, **kwargs)\n",
    "                return jit.script(instance)\n",
    "\n",
    "        return WrappedClass\n",
    "\n",
    "    return jit.script(obj)"
   ]
  },
  {
   "cell_type": "code",
   "execution_count": null,
   "metadata": {},
   "outputs": [],
   "source": []
  },
  {
   "cell_type": "code",
   "execution_count": null,
   "metadata": {},
   "outputs": [],
   "source": [
    "def autojit(class_):\n",
    "    @functools.wraps(class_, updated=())\n",
    "    class WrappedClass(class_):\n",
    "        def __new__(cls, *args, **kwargs):\n",
    "            # create object from base class\n",
    "            instance = class_(*args, **kwargs)\n",
    "            return jit.script(instance)\n",
    "\n",
    "    return WrappedClass"
   ]
  },
  {
   "cell_type": "code",
   "execution_count": null,
   "metadata": {},
   "outputs": [],
   "source": [
    "@jit.script\n",
    "class MyModule(nn.Module):\n",
    "    a: Tensor\n",
    "\n",
    "    def __init__(self, a: float = 1.0):\n",
    "        super().__init__()\n",
    "        self.a = torch.tensor(a)\n",
    "\n",
    "    def forward(self, x: Tensor) -> Tensor:\n",
    "        return self.a * x\n",
    "\n",
    "\n",
    "MyModule(a=1.3)"
   ]
  },
  {
   "cell_type": "code",
   "execution_count": null,
   "metadata": {},
   "outputs": [],
   "source": [
    "def decorator(class_):\n",
    "    @functools.wraps(class_, updated=())\n",
    "    def has_method(cls, meth):\n",
    "        # (FIXME:the check bellow does not take in account other applications of this decorator)\n",
    "        return any(meth in ancestor.__dict__ for ancestor in cls.__mro__[:-1])\n",
    "\n",
    "    def has_new(cls):\n",
    "        return has_method(cls, \"__new__\")\n",
    "\n",
    "    def has_init(cls):\n",
    "        return has_method(cls, \"__init__\")\n",
    "\n",
    "    class Wrapper(class_):\n",
    "        def __new__(cls, *args, **kwargs):\n",
    "            print(\"Wrapper.__new__\", cls, args, kwargs)\n",
    "            if (args or kwargs) and not has_new(cls) and has_init(cls):\n",
    "                args, kwargs = (), {}\n",
    "            obj = super().__new__(cls)\n",
    "            # ...\n",
    "            return obj\n",
    "\n",
    "        def __init__(self, *args, **kwargs):\n",
    "            print(\"Wrapper.__init__\", self, args, kwargs)\n",
    "            functools.update_wrapper(self, class_)\n",
    "            cls = self.__class__\n",
    "            if (args or kwargs) and not has_init(cls) and has_new(cls):\n",
    "                args, kwargs = (), {}\n",
    "            super().__init__(*args, **kwargs)\n",
    "\n",
    "    return Wrapper"
   ]
  },
  {
   "cell_type": "code",
   "execution_count": null,
   "metadata": {},
   "outputs": [],
   "source": []
  },
  {
   "cell_type": "code",
   "execution_count": null,
   "metadata": {},
   "outputs": [],
   "source": []
  },
  {
   "cell_type": "code",
   "execution_count": null,
   "metadata": {},
   "outputs": [],
   "source": [
    "@autojit\n",
    "class MyModule(nn.Module):\n",
    "    a: Tensor\n",
    "\n",
    "    def __init__(self, a: float = 1.0):\n",
    "        super().__init__()\n",
    "        self.a = torch.tensor(a)\n",
    "\n",
    "    def forward(self, x: Tensor) -> Tensor:\n",
    "        return self.a * x\n",
    "\n",
    "\n",
    "MyModule(a=1.3)"
   ]
  },
  {
   "cell_type": "code",
   "execution_count": null,
   "metadata": {},
   "outputs": [],
   "source": [
    "class AutoJit(object):\n",
    "    def __init__(self, arg):\n",
    "        self.arg = arg\n",
    "\n",
    "    def __call__(self, cls):\n",
    "        class Wrapped(cls):\n",
    "            classattr = self.arg\n",
    "\n",
    "            def new_method(self, value):\n",
    "                return value * 2\n",
    "\n",
    "        return Wrapped"
   ]
  },
  {
   "cell_type": "code",
   "execution_count": null,
   "metadata": {},
   "outputs": [],
   "source": []
  },
  {
   "cell_type": "code",
   "execution_count": null,
   "metadata": {},
   "outputs": [],
   "source": []
  },
  {
   "cell_type": "code",
   "execution_count": null,
   "metadata": {},
   "outputs": [],
   "source": []
  },
  {
   "cell_type": "code",
   "execution_count": null,
   "metadata": {},
   "outputs": [],
   "source": [
    "from functools import wraps\n",
    "\n",
    "\n",
    "def autofunc(basecls):\n",
    "    @wraps(basecls, updated=())\n",
    "    class WrappedClass(basecls):  # type: ignore\n",
    "        def __new__(cls, *args, **kwargs):\n",
    "            instance = basecls(*args, **kwargs)\n",
    "            return func(instance)\n",
    "\n",
    "    return WrappedClass\n",
    "\n",
    "\n",
    "class A:\n",
    "    pass\n",
    "\n",
    "\n",
    "class B:\n",
    "    pass"
   ]
  }
 ],
 "metadata": {
  "kernelspec": {
   "display_name": "Python 3 (ipykernel)",
   "language": "python",
   "name": "python3"
  },
  "language_info": {
   "codemirror_mode": {
    "name": "ipython",
    "version": 3
   },
   "file_extension": ".py",
   "mimetype": "text/x-python",
   "name": "python",
   "nbconvert_exporter": "python",
   "pygments_lexer": "ipython3",
   "version": "3.9.7"
  }
 },
 "nbformat": 4,
 "nbformat_minor": 4
}
