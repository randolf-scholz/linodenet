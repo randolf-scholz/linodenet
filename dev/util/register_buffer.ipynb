{
 "cells": [
  {
   "cell_type": "markdown",
   "metadata": {},
   "source": [
    "# Problem\n",
    "\n",
    "We want to inspect parts of the model of interest and possibly use them for things like additional losses etc."
   ]
  },
  {
   "cell_type": "code",
   "execution_count": 1,
   "metadata": {},
   "outputs": [],
   "source": [
    "%config InteractiveShell.ast_node_interactivity='last_expr_or_assign'  # always print last expr.\n",
    "%config InlineBackend.figure_format = 'svg'\n",
    "%load_ext autoreload\n",
    "%autoreload 2\n",
    "%matplotlib inline"
   ]
  },
  {
   "cell_type": "code",
   "execution_count": 2,
   "metadata": {},
   "outputs": [],
   "source": [
    "import torch\n",
    "from torch import nn, jit, Tensor\n",
    "from typing import NamedTuple, Union, TypeVar, Final\n",
    "\n",
    "from linodenet.models import LinearContraction, LinODEnet"
   ]
  },
  {
   "cell_type": "code",
   "execution_count": 3,
   "metadata": {},
   "outputs": [],
   "source": [
    "model = LinearContraction(3, 4)"
   ]
  },
  {
   "cell_type": "code",
   "execution_count": 4,
   "metadata": {},
   "outputs": [],
   "source": [
    "model.c\n",
    "_ = model(torch.randn(3))"
   ]
  },
  {
   "cell_type": "code",
   "execution_count": 5,
   "metadata": {},
   "outputs": [],
   "source": [
    "f = lambda _, x: x"
   ]
  },
  {
   "cell_type": "code",
   "execution_count": 6,
   "metadata": {},
   "outputs": [],
   "source": [
    "model.c"
   ]
  },
  {
   "cell_type": "code",
   "execution_count": 7,
   "metadata": {},
   "outputs": [],
   "source": [
    "model = LinODEnet(7, 8)\n",
    "\n",
    "init = (torch.randn(10), torch.randn(10, 7))\n",
    "\n",
    "_ = model(*init)"
   ]
  },
  {
   "cell_type": "code",
   "execution_count": 8,
   "metadata": {},
   "outputs": [],
   "source": [
    "model.encoder.blocks[0].bottleneck[0].c"
   ]
  },
  {
   "cell_type": "code",
   "execution_count": 10,
   "metadata": {},
   "outputs": [],
   "source": [
    "dict(model.named_buffers(recurse=True))"
   ]
  },
  {
   "cell_type": "code",
   "execution_count": 5,
   "metadata": {
    "tags": []
   },
   "outputs": [],
   "source": [
    "import logging\n",
    "from math import sqrt\n",
    "from typing import Any, Final, Optional\n",
    "\n",
    "import torch\n",
    "from torch import Tensor, jit, nn\n",
    "from torch.linalg import matrix_norm, vector_norm\n",
    "from torch.nn import functional\n",
    "\n",
    "\n",
    "class LinearContraction(nn.Module):\n",
    "    r\"\"\"A linear layer `f(x) = A⋅x` satisfying the contraction property `‖f(x)-f(y)‖_2 ≤ ‖x-y‖_2`.\n",
    "\n",
    "    This is achieved by normalizing the weight matrix by\n",
    "    `A' = A⋅\\min(\\tfrac{c}{‖A‖_2}, 1)`, where `c<1` is a hyperparameter.\n",
    "\n",
    "    Attributes\n",
    "    ----------\n",
    "    input_size:  int\n",
    "        The dimensionality of the input space.\n",
    "    output_size: int\n",
    "        The dimensionality of the output space.\n",
    "    c: Tensor\n",
    "        The regularization hyperparameter\n",
    "    weight: Tensor\n",
    "        The weight matrix\n",
    "    bias: Tensor or None\n",
    "        The bias Tensor if present, else None.\n",
    "    \"\"\"\n",
    "\n",
    "    input_size: Final[int]\n",
    "    output_size: Final[int]\n",
    "\n",
    "    J: nn.Module\n",
    "    # C: Tensor\n",
    "    # ONE: Tensor\n",
    "    # spectral_norm: Tensor\n",
    "    #\n",
    "    # weight: Tensor\n",
    "    # bias: Optional[Tensor]\n",
    "\n",
    "    def __init__(\n",
    "        self, input_size: int, output_size: int, c: float = 0.97, bias: bool = True\n",
    "    ):\n",
    "        super().__init__()\n",
    "        self.input_size = input_size\n",
    "        self.output_size = output_size\n",
    "\n",
    "        self.weight = nn.Parameter(Tensor(output_size, input_size))\n",
    "        if bias:\n",
    "            self.bias = nn.Parameter(Tensor(output_size))\n",
    "        else:\n",
    "            self.register_parameter(\"bias\", None)\n",
    "        self.reset_parameters()\n",
    "        J = nn.Linear(3, 4)\n",
    "        # self.spectral_norm = matrix_norm(self.weight, ord=2)\n",
    "        self.register_buffer(\"ONE\", torch.tensor(1.0))\n",
    "        self.register_buffer(\"C\", torch.tensor(float(c)))\n",
    "        self.register_buffer(\"spectral_norm\", matrix_norm(self.weight, ord=2))\n",
    "\n",
    "    def reset_parameters(self) -> None:\n",
    "        r\"\"\"Reset both weight matrix and bias vector.\"\"\"\n",
    "        nn.init.kaiming_uniform_(self.weight, a=sqrt(5))\n",
    "        if self.bias is not None:\n",
    "            bound = 1 / sqrt(self.input_size)\n",
    "            nn.init.uniform_(self.bias, -bound, bound)\n",
    "\n",
    "    # def extra_repr(self) -> str:\n",
    "    #     return \"input_size={}, output_size={}, bias={}\".format(\n",
    "    #         self.input_size, self.output_size, self.bias is not None\n",
    "    #     )\n",
    "\n",
    "    @jit.export\n",
    "    def forward(self, x: Tensor) -> Tensor:\n",
    "        r\"\"\"Signature: `[...,n] ⟶ [...,n]`.\n",
    "\n",
    "        Parameters\n",
    "        ----------\n",
    "        x: Tensor\n",
    "\n",
    "        Returns\n",
    "        -------\n",
    "        Tensor\n",
    "        \"\"\"\n",
    "        # σ_max, _ = torch.lobpcg(self.weight.T @ self.weight, largest=True)\n",
    "        # σ_max = torch.linalg.norm(self.weight, ord=2)\n",
    "        # σ_max = spectral_norm(self.weight)\n",
    "        # σ_max = torch.linalg.svdvals(self.weight)[0]\n",
    "        self.spectral_norm = matrix_norm(self.weight, ord=2)\n",
    "        fac = torch.minimum(self.C / self.spectral_norm, self.ONE)\n",
    "        return functional.linear(x, fac * self.weight, self.bias)"
   ]
  },
  {
   "cell_type": "code",
   "execution_count": 6,
   "metadata": {},
   "outputs": [],
   "source": [
    "jit.script(LinearContraction(13, 17))"
   ]
  },
  {
   "cell_type": "code",
   "execution_count": 14,
   "metadata": {},
   "outputs": [],
   "source": [
    "import torch\n",
    "from torch import nn, jit, Tensor\n",
    "from typing import NamedTuple, Union, TypeVar, Final\n",
    "\n",
    "dtypes = TypeVar(\"dtypes\")\n",
    "\n",
    "sigtype = Union[tuple[dtypes, ...], list[tuple[dtypes, ...]]]\n",
    "\n",
    "\n",
    "class Signature(NamedTuple):\n",
    "    inputs: sigtype[Union[type[...], str, int]]\n",
    "    outputs: sigtype[Union[type[...], str, int]]\n",
    "\n",
    "\n",
    "class M(nn.Module):\n",
    "    # a: Final[type[Ellipsis]] = ...\n",
    "    ZERO: Tensor\n",
    "\n",
    "    \"\"\"DemO\"\"\"\n",
    "\n",
    "    def __init__(self, input_size, hidden_size, output_size):\n",
    "\n",
    "        super().__init__()\n",
    "        self.A = nn.Linear(input_size, hidden_size)\n",
    "        self.B = nn.Linear(hidden_size, output_size)\n",
    "        # z = torch.tensor(float('nan'))\n",
    "        self.register_buffer(\"ZERO\", torch.tensor(()))\n",
    "        self.register_buffer(\"weightx\", self.A.weight)\n",
    "        self.register_buffer(\"z\", torch.tensor(()))\n",
    "\n",
    "    def forward(self, x):\n",
    "        self.z = self.A(x)\n",
    "        y = self.B(self.z)\n",
    "        return y\n",
    "\n",
    "\n",
    "model = jit.script(M(3, 4, 5))\n",
    "\n",
    "model.z"
   ]
  },
  {
   "cell_type": "code",
   "execution_count": 16,
   "metadata": {},
   "outputs": [],
   "source": [
    "model.state_dict()"
   ]
  },
  {
   "cell_type": "code",
   "execution_count": 10,
   "metadata": {},
   "outputs": [],
   "source": [
    "Signature(\n",
    "    inputs=[(..., \"S\"), (..., \"S\", 5)],\n",
    "    outputs=(..., \"S\", 5),\n",
    ")"
   ]
  },
  {
   "cell_type": "code",
   "execution_count": 170,
   "metadata": {},
   "outputs": [],
   "source": [
    "help(Ellipsis)"
   ]
  },
  {
   "cell_type": "code",
   "execution_count": 145,
   "metadata": {},
   "outputs": [],
   "source": [
    "model.a"
   ]
  },
  {
   "cell_type": "code",
   "execution_count": 108,
   "metadata": {},
   "outputs": [],
   "source": [
    "y = model(torch.randn(4, 3))"
   ]
  },
  {
   "cell_type": "code",
   "execution_count": 109,
   "metadata": {},
   "outputs": [],
   "source": [
    "model.z"
   ]
  },
  {
   "cell_type": "code",
   "execution_count": 110,
   "metadata": {},
   "outputs": [],
   "source": [
    "y"
   ]
  },
  {
   "cell_type": "code",
   "execution_count": 111,
   "metadata": {},
   "outputs": [],
   "source": []
  },
  {
   "cell_type": "code",
   "execution_count": 118,
   "metadata": {},
   "outputs": [],
   "source": [
    "from torch.optim import SGD\n",
    "\n",
    "optim = SGD(model.parameters(), 0.1)"
   ]
  },
  {
   "cell_type": "code",
   "execution_count": 121,
   "metadata": {},
   "outputs": [],
   "source": []
  },
  {
   "cell_type": "code",
   "execution_count": 131,
   "metadata": {},
   "outputs": [],
   "source": [
    "model.zero_grad()\n",
    "loss = torch.sum(model(torch.randn(4, 3))) + torch.sum(model.z)\n",
    "loss.backward()\n",
    "optim.step()\n",
    "model.A.weight"
   ]
  },
  {
   "cell_type": "code",
   "execution_count": 94,
   "metadata": {},
   "outputs": [],
   "source": [
    "model(torch.randn(2, 3))\n",
    "model.z"
   ]
  },
  {
   "cell_type": "code",
   "execution_count": null,
   "metadata": {},
   "outputs": [],
   "source": []
  },
  {
   "cell_type": "code",
   "execution_count": 84,
   "metadata": {},
   "outputs": [],
   "source": [
    "dict(model.named_buffers())"
   ]
  },
  {
   "cell_type": "code",
   "execution_count": 79,
   "metadata": {},
   "outputs": [],
   "source": [
    "dict(model._buffers)"
   ]
  },
  {
   "cell_type": "code",
   "execution_count": 72,
   "metadata": {},
   "outputs": [],
   "source": [
    "dir(model)"
   ]
  },
  {
   "cell_type": "code",
   "execution_count": 55,
   "metadata": {},
   "outputs": [],
   "source": []
  },
  {
   "cell_type": "code",
   "execution_count": 31,
   "metadata": {},
   "outputs": [],
   "source": [
    "M()"
   ]
  },
  {
   "cell_type": "code",
   "execution_count": 2,
   "metadata": {},
   "outputs": [],
   "source": [
    "import torchinfo\n",
    "from linodenet.models import LinODEnet"
   ]
  },
  {
   "cell_type": "code",
   "execution_count": 3,
   "metadata": {},
   "outputs": [],
   "source": [
    "model = LinODEnet(10, 10, Encoder_cfg={\"nblocks\": 2}, Decoder_cfg={\"nblocks\": 2})\n",
    "torchinfo.summary(model)"
   ]
  },
  {
   "cell_type": "code",
   "execution_count": 6,
   "metadata": {},
   "outputs": [],
   "source": [
    "dir(model)"
   ]
  },
  {
   "cell_type": "code",
   "execution_count": 4,
   "metadata": {},
   "outputs": [],
   "source": [
    "[key for key in model.state_dict().keys() if \"spectral_norm\" in key]"
   ]
  },
  {
   "cell_type": "code",
   "execution_count": 10,
   "metadata": {},
   "outputs": [],
   "source": [
    "?model.buffers"
   ]
  },
  {
   "cell_type": "code",
   "execution_count": 5,
   "metadata": {},
   "outputs": [],
   "source": [
    "import torch\n",
    "from torch import nn"
   ]
  },
  {
   "cell_type": "code",
   "execution_count": 6,
   "metadata": {},
   "outputs": [],
   "source": [
    "blocks = nn.Sequential(nn.Linear(3, 4), nn.Linear(4, 5), nn.Linear(5, 6))\n",
    "blocks"
   ]
  },
  {
   "cell_type": "code",
   "execution_count": 8,
   "metadata": {},
   "outputs": [],
   "source": [
    "blocks[::-1]"
   ]
  },
  {
   "cell_type": "code",
   "execution_count": 24,
   "metadata": {},
   "outputs": [],
   "source": [
    "blocks[::-1]"
   ]
  },
  {
   "cell_type": "code",
   "execution_count": 9,
   "metadata": {},
   "outputs": [],
   "source": [
    " =2 "
   ]
  },
  {
   "cell_type": "code",
   "execution_count": 12,
   "metadata": {},
   "outputs": [],
   "source": [
    "def f(x):\n",
    "    return 2 * x + 1"
   ]
  },
  {
   "cell_type": "code",
   "execution_count": 20,
   "metadata": {},
   "outputs": [],
   "source": []
  },
  {
   "cell_type": "code",
   "execution_count": 1,
   "metadata": {},
   "outputs": [],
   "source": [
    "import numpy as np\n",
    "import numba\n",
    "import torch"
   ]
  },
  {
   "cell_type": "code",
   "execution_count": 20,
   "metadata": {},
   "outputs": [],
   "source": [
    "@torch.jit.script\n",
    "# @numba.njit\n",
    "def g() -> float:\n",
    "    x: float = 0.0\n",
    "    y: float = 1.0\n",
    "    for k in range(10000):\n",
    "        y, x = y + 1.0, y\n",
    "    return y"
   ]
  },
  {
   "cell_type": "code",
   "execution_count": 21,
   "metadata": {},
   "outputs": [],
   "source": [
    "%%timeit\n",
    "g()"
   ]
  },
  {
   "cell_type": "code",
   "execution_count": 22,
   "metadata": {},
   "outputs": [],
   "source": [
    "@torch.jit.script\n",
    "# @numba.njit\n",
    "def h() -> float:\n",
    "    x: float = 0.0\n",
    "    y: float = 1.0\n",
    "    for k in range(10000):\n",
    "        x = y\n",
    "        y = y + 1.0\n",
    "    return y"
   ]
  },
  {
   "cell_type": "code",
   "execution_count": 23,
   "metadata": {},
   "outputs": [],
   "source": [
    "%%timeit\n",
    "h()"
   ]
  },
  {
   "cell_type": "code",
   "execution_count": null,
   "metadata": {},
   "outputs": [],
   "source": []
  }
 ],
 "metadata": {
  "kernelspec": {
   "display_name": "Python 3 (ipykernel)",
   "language": "python",
   "name": "python3"
  },
  "language_info": {
   "codemirror_mode": {
    "name": "ipython",
    "version": 3
   },
   "file_extension": ".py",
   "mimetype": "text/x-python",
   "name": "python",
   "nbconvert_exporter": "python",
   "pygments_lexer": "ipython3",
   "version": "3.9.7"
  }
 },
 "nbformat": 4,
 "nbformat_minor": 4
}
