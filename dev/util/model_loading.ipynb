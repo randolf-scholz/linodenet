{
 "cells": [
  {
   "cell_type": "markdown",
   "metadata": {},
   "source": [
    "# Title"
   ]
  },
  {
   "cell_type": "code",
   "execution_count": 1,
   "metadata": {},
   "outputs": [],
   "source": [
    "%config InteractiveShell.ast_node_interactivity='last_expr_or_assign'  # always print last expr.\n",
    "%config InlineBackend.figure_format = 'svg'\n",
    "%load_ext autoreload\n",
    "%autoreload 2\n",
    "%matplotlib inline"
   ]
  },
  {
   "cell_type": "code",
   "execution_count": 2,
   "metadata": {},
   "outputs": [],
   "source": [
    "import numpy as np\n",
    "import matplotlib.pyplot as plt\n",
    "\n",
    "np.set_printoptions(precision=4, floatmode=\"fixed\", suppress=True)\n",
    "rng = np.random.default_rng()"
   ]
  },
  {
   "cell_type": "code",
   "execution_count": 3,
   "metadata": {},
   "outputs": [],
   "source": [
    "from pathlib import Path\n",
    "\n",
    "path = Path.cwd().joinpath(\"models\")\n",
    "path.mkdir(exist_ok=True)"
   ]
  },
  {
   "cell_type": "code",
   "execution_count": 4,
   "metadata": {},
   "outputs": [],
   "source": [
    "import torch\n",
    "from linodenet.models import LinODECell as Model\n",
    "\n",
    "model = Model(32)\n",
    "filepath = path.joinpath(f\"{Model.__name__}.pt\")\n",
    "# torch.jit.save(model, filepath)"
   ]
  },
  {
   "cell_type": "code",
   "execution_count": 11,
   "metadata": {},
   "outputs": [],
   "source": [
    "model2 = torch.jit.load(filepath)"
   ]
  },
  {
   "cell_type": "code",
   "execution_count": null,
   "metadata": {},
   "outputs": [],
   "source": [
    "?torch.jit.load"
   ]
  },
  {
   "cell_type": "markdown",
   "metadata": {},
   "source": [
    "## Test without Initialization / Regularization"
   ]
  },
  {
   "cell_type": "code",
   "execution_count": 26,
   "metadata": {},
   "outputs": [],
   "source": [
    "import logging\n",
    "from typing import Any, Final, Optional, Union, Callable\n",
    "\n",
    "import torch\n",
    "from torch import Tensor, jit, nn\n",
    "\n",
    "from linodenet.initializations import INITIALIZATIONS, Initialization, gaussian\n",
    "from linodenet.models.iResNet import iResNet\n",
    "from linodenet.projections import PROJECTIONS, Projection\n",
    "from linodenet.util import deep_dict_update\n",
    "\n",
    "__logger__ = logging.getLogger(__name__)\n",
    "\n",
    "__all__: Final[list[str]] = [\n",
    "    \"ConcatEmbedding\",\n",
    "    \"ConcatProjection\",\n",
    "    \"LinODE\",\n",
    "    \"LinODECell\",\n",
    "    \"LinODEnet\",\n",
    "]\n",
    "\n",
    "\n",
    "class LinODECell(nn.Module):\n",
    "    r\"\"\"Linear System module, solves `ẋ = Ax`, i.e. `x̂ = e^{A\\Delta t}x`.\n",
    "\n",
    "    Parameters\n",
    "    ----------\n",
    "    input_size: int\n",
    "    kernel_initialization: Union[Tensor, Callable[int, Tensor]]\n",
    "\n",
    "    Attributes\n",
    "    ----------\n",
    "    input_size:  int\n",
    "        The dimensionality of the input space.\n",
    "    output_size: int\n",
    "        The dimensionality of the output space.\n",
    "    kernel: Tensor\n",
    "        The system matrix\n",
    "    kernel_initialization: Callable[[], Tensor]\n",
    "        Parameter-less function that draws a initial system matrix\n",
    "    kernel_projection: Callable[[Tensor], Tensor]\n",
    "        Regularization function for the kernel\n",
    "    \"\"\"\n",
    "\n",
    "    input_size: Final[int]\n",
    "    output_size: Final[int]\n",
    "\n",
    "    kernel: Tensor\n",
    "    # kernel_initialization: Callable[[], Tensor]\n",
    "    kernel_projection: Projection\n",
    "\n",
    "    def __init__(\n",
    "        self,\n",
    "        input_size: int,\n",
    "        kernel_initialization: Optional[Union[str, Tensor, Initialization]] = None,\n",
    "        kernel_projection: Optional[Union[str, Projection]] = None,\n",
    "    ):\n",
    "        super().__init__()\n",
    "        self.input_size = input_size\n",
    "        self.output_size = input_size\n",
    "\n",
    "        def kernel_initialization_dispatch():\n",
    "            if kernel_initialization is None:\n",
    "                return lambda: gaussian(input_size)\n",
    "            if kernel_initialization in INITIALIZATIONS:\n",
    "                _init = INITIALIZATIONS[kernel_initialization]\n",
    "                return lambda: _init(input_size)\n",
    "            if callable(kernel_initialization):\n",
    "                assert Tensor(kernel_initialization(input_size)).shape == (\n",
    "                    input_size,\n",
    "                    input_size,\n",
    "                )\n",
    "                return lambda: Tensor(kernel_initialization(input_size))\n",
    "            if isinstance(kernel_initialization, Tensor):\n",
    "                assert kernel_initialization.shape == (input_size, input_size)\n",
    "                return lambda: kernel_initialization\n",
    "            assert Tensor(kernel_initialization).shape == (input_size, input_size)\n",
    "            return lambda: Tensor(kernel_initialization)\n",
    "\n",
    "        # this looks funny, but it needs to be written that way to be compatible with torchscript\n",
    "        def kernel_regularization_dispatch():\n",
    "            if kernel_projection is None:\n",
    "                _kernel_regularization = PROJECTIONS[\"identity\"]\n",
    "            elif kernel_projection in PROJECTIONS:\n",
    "                _kernel_regularization = PROJECTIONS[kernel_projection]\n",
    "            elif callable(kernel_projection):\n",
    "                _kernel_regularization = kernel_projection\n",
    "            else:\n",
    "                raise NotImplementedError(f\"{kernel_projection=} unknown\")\n",
    "            return _kernel_regularization\n",
    "\n",
    "        self._kernel_initialization = kernel_initialization_dispatch()\n",
    "        self._kernel_regularization = kernel_regularization_dispatch()\n",
    "        self.kernel = nn.Parameter(self._kernel_initialization())\n",
    "\n",
    "    def kernel_initialization(self) -> Tensor:\n",
    "        r\"\"\"Draw an initial kernel matrix (random or static).\"\"\"\n",
    "        return self._kernel_initialization()\n",
    "\n",
    "    @jit.export\n",
    "    def kernel_regularization(self, w: Tensor) -> Tensor:\n",
    "        r\"\"\"Regularize the Kernel, e.g. by projecting onto skew-symmetric matrices.\"\"\"\n",
    "        return self._kernel_regularization(w)\n",
    "\n",
    "    @jit.export\n",
    "    def forward(self, t: Tensor, x0: Tensor) -> Tensor:\n",
    "        # TODO: optimize if clauses away by changing definition in constructor.\n",
    "        r\"\"\"Signature: `[...,]×[...,d] ⟶ [...,d]`.\n",
    "\n",
    "        Parameters\n",
    "        ----------\n",
    "        Δt: Tensor, shape=(...,)\n",
    "            The time difference `t_1 - t_0` between `x_0` and `x̂`.\n",
    "        x0:  Tensor, shape=(...,DIM)\n",
    "            Time observed value at `t_0`\n",
    "\n",
    "        Returns\n",
    "        -------\n",
    "        xhat:  Tensor, shape=(...,DIM)\n",
    "            The predicted value at `t_1`\n",
    "        \"\"\"\n",
    "        A = self.kernel_regularization(self.kernel)\n",
    "        At = torch.einsum(\"kl, ... -> ...kl\", A, t)\n",
    "        expAt = torch.matrix_exp(At)\n",
    "        xhat = torch.einsum(\"...kl, ...l -> ...k\", expAt, x0)\n",
    "        return xhat"
   ]
  },
  {
   "cell_type": "code",
   "execution_count": 27,
   "metadata": {},
   "outputs": [],
   "source": [
    "from pathlib import Path\n",
    "\n",
    "path = Path.cwd().joinpath(\"models\")\n",
    "path.mkdir(exist_ok=True)"
   ]
  },
  {
   "cell_type": "code",
   "execution_count": 28,
   "metadata": {},
   "outputs": [],
   "source": [
    "model = jit.script(LinODECell(32))\n",
    "filepath = path.joinpath(f\"{LinODECell.__name__}.pt\")\n",
    "torch.jit.save(model, filepath)\n",
    "model2 = torch.jit.load(filepath)"
   ]
  },
  {
   "cell_type": "code",
   "execution_count": 48,
   "metadata": {},
   "outputs": [],
   "source": [
    "class MyModule(torch.jit.ScriptModule):\n",
    "\n",
    "    my_constant: Final[int]\n",
    "    kernel: Tensor\n",
    "\n",
    "    def __init__(self, input_size):\n",
    "        super(MyModule, self).__init__()\n",
    "        self.my_constant = 2\n",
    "        self.kernel = nn.Parameter(gaussian(input_size))\n",
    "\n",
    "    def forward(self, x):\n",
    "        return torch.matrix_exp(self.kernel @ x)"
   ]
  },
  {
   "cell_type": "code",
   "execution_count": 49,
   "metadata": {},
   "outputs": [],
   "source": [
    "model = torch.jit.script(MyModule(10))\n",
    "filepath = path.joinpath(f\"test_model.pt\")\n",
    "torch.jit.save(model, filepath)\n",
    "model2 = torch.jit.load(filepath)\n",
    "\n",
    "\n",
    "# torch.jit.save(model, path)"
   ]
  },
  {
   "cell_type": "code",
   "execution_count": 89,
   "metadata": {},
   "outputs": [],
   "source": [
    "from typing import List"
   ]
  },
  {
   "cell_type": "code",
   "execution_count": 90,
   "metadata": {},
   "outputs": [],
   "source": [
    "class LSTMLayer(torch.nn.Module):\n",
    "    def __init__(self, cell, *cell_args):\n",
    "        super(LSTMLayer, self).__init__()\n",
    "        self.cell = cell(*cell_args)\n",
    "\n",
    "    # @jit.export\n",
    "    def forward(self, input, state):\n",
    "        # type: (Tensor, Tuple[Tensor, Tensor]) -> Tuple[Tensor, Tuple[Tensor, Tensor]]\n",
    "        inputs = input.unbind(0)\n",
    "        outputs = torch.jit.annotate(List[Tensor], [])\n",
    "        for i in range(len(inputs)):\n",
    "            out, state = self.cell(inputs[i], state)\n",
    "            outputs += [out]\n",
    "        return torch.stack(outputs), state"
   ]
  },
  {
   "cell_type": "code",
   "execution_count": 92,
   "metadata": {},
   "outputs": [],
   "source": [
    "model = LSTMLayer(torch.nn.RNNCell, 10, 12)\n",
    "model(torch.randn(7, 10), torch.randn(7, 12))"
   ]
  },
  {
   "cell_type": "code",
   "execution_count": 69,
   "metadata": {},
   "outputs": [],
   "source": [
    "model = torch.jit.script(LSTMLayer(torch.nn.RNNCell, 10, 12))\n",
    "filepath = path.joinpath(f\"test_model.pt\")\n",
    "torch.jit.save(model, filepath)\n",
    "model2 = torch.jit.load(filepath)"
   ]
  },
  {
   "cell_type": "code",
   "execution_count": 84,
   "metadata": {},
   "outputs": [],
   "source": []
  },
  {
   "cell_type": "code",
   "execution_count": null,
   "metadata": {},
   "outputs": [],
   "source": []
  },
  {
   "cell_type": "code",
   "execution_count": null,
   "metadata": {},
   "outputs": [],
   "source": [
    "class ExampleNoUnicode(nn.Module)"
   ]
  }
 ],
 "metadata": {
  "kernelspec": {
   "display_name": "Python 3 (ipykernel)",
   "language": "python",
   "name": "python3"
  },
  "language_info": {
   "codemirror_mode": {
    "name": "ipython",
    "version": 3
   },
   "file_extension": ".py",
   "mimetype": "text/x-python",
   "name": "python",
   "nbconvert_exporter": "python",
   "pygments_lexer": "ipython3",
   "version": "3.9.7"
  }
 },
 "nbformat": 4,
 "nbformat_minor": 4
}
