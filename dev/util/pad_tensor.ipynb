{
 "cells": [
  {
   "cell_type": "code",
   "execution_count": null,
   "metadata": {
    "execution": {
     "iopub.execute_input": "2022-09-25T23:37:34.164861Z",
     "iopub.status.busy": "2022-09-25T23:37:34.164670Z",
     "iopub.status.idle": "2022-09-25T23:37:34.613871Z",
     "shell.execute_reply": "2022-09-25T23:37:34.613535Z",
     "shell.execute_reply.started": "2022-09-25T23:37:34.164826Z"
    }
   },
   "outputs": [],
   "source": [
    "import torch\n",
    "from torch import Tensor, jit, nn"
   ]
  },
  {
   "cell_type": "code",
   "execution_count": null,
   "metadata": {
    "execution": {
     "iopub.execute_input": "2022-09-25T23:51:14.446524Z",
     "iopub.status.busy": "2022-09-25T23:51:14.446311Z",
     "iopub.status.idle": "2022-09-25T23:51:14.449937Z",
     "shell.execute_reply": "2022-09-25T23:51:14.449617Z",
     "shell.execute_reply.started": "2022-09-25T23:51:14.446511Z"
    }
   },
   "outputs": [],
   "source": [
    "X = torch.randn(16, 10, 3)\n",
    "T = torch.randn(16, 10)\n",
    "\n",
    "\n",
    "pad_dim = list(X.shape[:-2]) + [1]\n",
    "padding = torch.zeros(pad_dim, device=T.device, dtype=T.dtype)\n",
    "DT = torch.diff(T, prepend=padding, dim=-1)  # (..., LEN) → (..., LEN)"
   ]
  },
  {
   "cell_type": "code",
   "execution_count": null,
   "metadata": {
    "execution": {
     "iopub.execute_input": "2022-09-25T23:52:35.352981Z",
     "iopub.status.busy": "2022-09-25T23:52:35.352633Z",
     "iopub.status.idle": "2022-09-25T23:52:35.356956Z",
     "shell.execute_reply": "2022-09-25T23:52:35.356519Z",
     "shell.execute_reply.started": "2022-09-25T23:52:35.352968Z"
    },
    "tags": []
   },
   "outputs": [],
   "source": [
    "torch.diff(pad(T, 1, value=0.0, prepend=True))"
   ]
  },
  {
   "cell_type": "code",
   "execution_count": null,
   "metadata": {
    "execution": {
     "iopub.execute_input": "2022-09-25T23:51:17.893499Z",
     "iopub.status.busy": "2022-09-25T23:51:17.893199Z",
     "iopub.status.idle": "2022-09-25T23:51:17.897044Z",
     "shell.execute_reply": "2022-09-25T23:51:17.896698Z",
     "shell.execute_reply.started": "2022-09-25T23:51:17.893486Z"
    }
   },
   "outputs": [],
   "source": [
    "DT"
   ]
  },
  {
   "cell_type": "code",
   "execution_count": null,
   "metadata": {
    "execution": {
     "iopub.execute_input": "2022-09-25T23:52:21.260093Z",
     "iopub.status.busy": "2022-09-25T23:52:21.259553Z",
     "iopub.status.idle": "2022-09-25T23:52:21.269610Z",
     "shell.execute_reply": "2022-09-25T23:52:21.269202Z",
     "shell.execute_reply.started": "2022-09-25T23:52:21.260077Z"
    },
    "tags": []
   },
   "outputs": [],
   "source": [
    "@jit.script\n",
    "def pad(\n",
    "    x: Tensor,\n",
    "    pad_width: int,\n",
    "    value: float = float(\"nan\"),\n",
    "    dim: int = -1,\n",
    "    prepend: bool = False,\n",
    ") -> Tensor:\n",
    "\n",
    "    shape = list(x.shape)\n",
    "    shape[dim] = pad_width\n",
    "\n",
    "    z = torch.full(shape, value, dtype=x.dtype, device=x.device)\n",
    "    if prepend:\n",
    "        return torch.cat((z, x), dim=dim)\n",
    "    return torch.cat((x, z), dim=dim)\n",
    "\n",
    "\n",
    "x = torch.randn(10, 5, 3)\n",
    "pad(x, 3, dim=1, prepend=True)"
   ]
  },
  {
   "cell_type": "code",
   "execution_count": null,
   "metadata": {},
   "outputs": [],
   "source": []
  }
 ],
 "metadata": {
  "kernelspec": {
   "display_name": "Python 3 (ipykernel)",
   "language": "python",
   "name": "python3"
  },
  "language_info": {
   "codemirror_mode": {
    "name": "ipython",
    "version": 3
   },
   "file_extension": ".py",
   "mimetype": "text/x-python",
   "name": "python",
   "nbconvert_exporter": "python",
   "pygments_lexer": "ipython3",
   "version": "3.10.6"
  }
 },
 "nbformat": 4,
 "nbformat_minor": 4
}
