{
 "cells": [
  {
   "cell_type": "code",
   "execution_count": null,
   "metadata": {},
   "outputs": [],
   "source": [
    "%config InteractiveShell.ast_node_interactivity='last_expr_or_assign'\n",
    "%load_ext autoreload\n",
    "%autoreload 2"
   ]
  },
  {
   "cell_type": "code",
   "execution_count": null,
   "metadata": {},
   "outputs": [],
   "source": [
    "from collections.abc import Sequence\n",
    "from math import prod, sqrt\n",
    "from typing import Optional, Protocol, Union, runtime_checkable\n",
    "\n",
    "import torch\n",
    "import torch.linalg\n",
    "from numpy.typing import NDArray\n",
    "from scipy import stats\n",
    "from torch import BoolTensor, Tensor, jit, nn\n",
    "from torch.optim import SGD\n",
    "import linodenet\n",
    "from linodenet.constants import TRUE\n",
    "from linodenet.parametrize import *\n",
    "from linodenet.projections import functional as projections\n",
    "from linodenet.types import Device, Dtype, Shape\n",
    "from linodenet.testing import check_jit_serialization"
   ]
  },
  {
   "cell_type": "code",
   "execution_count": null,
   "metadata": {},
   "outputs": [],
   "source": [
    "import torch\n",
    "import torch.nn as nn\n",
    "import torch.nn.utils.parametrize as P"
   ]
  },
  {
   "cell_type": "code",
   "execution_count": null,
   "metadata": {},
   "outputs": [],
   "source": [
    "U = torch.randn(5, 5)\n",
    "x = torch.randn(5)"
   ]
  },
  {
   "cell_type": "code",
   "execution_count": null,
   "metadata": {},
   "outputs": [],
   "source": [
    "torch.einsum(\"ij, k -> ik\", U, x)"
   ]
  },
  {
   "cell_type": "code",
   "execution_count": null,
   "metadata": {},
   "outputs": [],
   "source": [
    "from collections.abc import Mapping, Sized\n",
    "\n",
    "\n",
    "class Foo(Sized):\n",
    "    def __iter__(self): ...\n",
    "\n",
    "    def __len__(self): ...\n",
    "\n",
    "\n",
    "class Bar(Foo, Mapping):\n",
    "    def __getitem__(self, key): ...\n",
    "\n",
    "\n",
    "hash(Foo())  # ✔\n",
    "hash(Bar())  # ✘ TypeError: unhashable type: 'Bar'"
   ]
  },
  {
   "cell_type": "code",
   "execution_count": null,
   "metadata": {},
   "outputs": [],
   "source": [
    "bool((torch.linalg.matrix_rank(torch.randn(7, 5, 5)) <= 6).all())"
   ]
  },
  {
   "cell_type": "code",
   "execution_count": null,
   "metadata": {},
   "outputs": [],
   "source": [
    "Bar.__eq__"
   ]
  },
  {
   "cell_type": "code",
   "execution_count": null,
   "metadata": {},
   "outputs": [],
   "source": [
    "Bar.mro()"
   ]
  },
  {
   "cell_type": "code",
   "execution_count": null,
   "metadata": {},
   "outputs": [],
   "source": [
    "class RankOne(nn.Module):\n",
    "    def forward(self, x, y):\n",
    "        # Form a rank 1 matrix multiplying two vectors\n",
    "        return x.unsqueeze(-1) @ y.unsqueeze(-2)\n",
    "\n",
    "    def right_inverse(self, Z):\n",
    "        # Project Z onto the rank 1 matrices\n",
    "        U, S, Vh = torch.linalg.svd(Z, full_matrices=False)\n",
    "        # Return rescaled singular vectors\n",
    "        s0_sqrt = S[0].sqrt().unsqueeze(-1)\n",
    "        return U[..., :, 0] * s0_sqrt, Vh[..., 0, :] * s0_sqrt\n",
    "\n",
    "\n",
    "model = nn.Linear(4, 4)\n",
    "print(hash(model))\n",
    "print(dict(model.named_parameters()))\n",
    "linear_rank_one = P.register_parametrization(model, \"weight\", RankOne())\n",
    "print(hash(linear_rank_one))\n",
    "\n",
    "print(torch.linalg.matrix_rank(linear_rank_one.weight).item())"
   ]
  },
  {
   "cell_type": "code",
   "execution_count": null,
   "metadata": {},
   "outputs": [],
   "source": [
    "dict(linear_rank_one.named_parameters())"
   ]
  },
  {
   "cell_type": "code",
   "execution_count": null,
   "metadata": {},
   "outputs": [],
   "source": []
  },
  {
   "cell_type": "code",
   "execution_count": null,
   "metadata": {},
   "outputs": [],
   "source": [
    "B, N, M = 7, 3, 5\n",
    "inputs = torch.randn(B, N)\n",
    "targets = torch.randn(B, M)\n",
    "model = nn.Linear(in_features=N, out_features=M, bias=False)"
   ]
  },
  {
   "cell_type": "code",
   "execution_count": null,
   "metadata": {},
   "outputs": [],
   "source": [
    "# register_parametrization(model, \"weight\", UpperTriangular)\n",
    "param = UpperTriangular(model.weight)\n",
    "delattr(model, \"weight\")\n",
    "model.register_buffer(\"weight\", param.cached_parameter)\n",
    "model.register_module(\"weight_parametrization\", param)\n",
    "model.register_parameter(\"weight_original\", param.original_parameter)\n",
    "dict(model.named_parameters())"
   ]
  },
  {
   "cell_type": "code",
   "execution_count": null,
   "metadata": {},
   "outputs": [],
   "source": [
    "scripted = jit.script(model)\n",
    "dict(scripted.named_parameters())"
   ]
  },
  {
   "cell_type": "code",
   "execution_count": null,
   "metadata": {},
   "outputs": [],
   "source": [
    "loaded = check_jit_serialization(scripted)\n",
    "loaded.weight_parametrization.update_parametrization()\n",
    "optim = SGD(loaded.parameters(), lr=0.1)\n",
    "dict(loaded.named_parameters())"
   ]
  },
  {
   "cell_type": "code",
   "execution_count": null,
   "metadata": {},
   "outputs": [],
   "source": [
    "with torch.no_grad():\n",
    "    original_loss = (loaded(inputs) - targets).norm()\n",
    "    print(original_loss)\n",
    "\n",
    "loaded.weight, loaded.weight_original, loaded.weight_parametrization"
   ]
  },
  {
   "cell_type": "code",
   "execution_count": null,
   "metadata": {},
   "outputs": [],
   "source": [
    "loaded.zero_grad(set_to_none=True)\n",
    "loss = (loaded(inputs) - targets).norm()\n",
    "print(loss)\n",
    "loss.backward()\n",
    "optim.step()\n",
    "loaded.weight_parametrization.update_parametrization()"
   ]
  },
  {
   "cell_type": "code",
   "execution_count": null,
   "metadata": {},
   "outputs": [],
   "source": [
    "dict(loaded.named_parameters())"
   ]
  },
  {
   "cell_type": "code",
   "execution_count": null,
   "metadata": {},
   "outputs": [],
   "source": [
    "loss < original_loss"
   ]
  },
  {
   "cell_type": "code",
   "execution_count": null,
   "metadata": {},
   "outputs": [],
   "source": []
  }
 ],
 "metadata": {
  "kernelspec": {
   "display_name": "Python 3 (ipykernel)",
   "language": "python",
   "name": "python3"
  },
  "language_info": {
   "codemirror_mode": {
    "name": "ipython",
    "version": 3
   },
   "file_extension": ".py",
   "mimetype": "text/x-python",
   "name": "python",
   "nbconvert_exporter": "python",
   "pygments_lexer": "ipython3",
   "version": "3.11.6"
  }
 },
 "nbformat": 4,
 "nbformat_minor": 4
}
