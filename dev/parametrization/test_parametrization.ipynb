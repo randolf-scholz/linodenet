{
 "cells": [
  {
   "cell_type": "code",
   "execution_count": 1,
   "metadata": {
    "execution": {
     "iopub.execute_input": "2023-08-25T08:52:26.531234Z",
     "iopub.status.busy": "2023-08-25T08:52:26.530735Z",
     "iopub.status.idle": "2023-08-25T08:52:33.387887Z",
     "shell.execute_reply": "2023-08-25T08:52:33.387471Z",
     "shell.execute_reply.started": "2023-08-25T08:52:26.531217Z"
    },
    "tags": []
   },
   "outputs": [
    {
     "name": "stderr",
     "output_type": "stream",
     "text": [
      "No CUDA runtime is found, using CUDA_HOME='/usr/local/cuda-12.2'\n",
      "/home/rscholz/.pyenv/versions/3.11.3/envs/kiwi/lib/python3.11/site-packages/torch/jit/annotations.py:310: UserWarning: TorchScript will treat type annotations of Tensor dtype-specific subtypes as if they are normal Tensors. dtype constraints are not enforced in compilation either.\n",
      "  warnings.warn(\"TorchScript will treat type annotations of Tensor \"\n"
     ]
    }
   ],
   "source": [
    "%config InteractiveShell.ast_node_interactivity='last_expr_or_assign'\n",
    "%load_ext autoreload\n",
    "%autoreload 2\n",
    "\n",
    "import logging\n",
    "\n",
    "logging.basicConfig(level=logging.INFO)\n",
    "\n",
    "from abc import ABC, abstractmethod\n",
    "from contextlib import AbstractContextManager\n",
    "from typing import Protocol, runtime_checkable\n",
    "\n",
    "import torch\n",
    "from torch import Tensor, nn\n",
    "\n",
    "from linodenet.lib import singular_triplet"
   ]
  },
  {
   "cell_type": "code",
   "execution_count": 42,
   "metadata": {
    "execution": {
     "iopub.execute_input": "2023-08-25T15:59:36.473496Z",
     "iopub.status.busy": "2023-08-25T15:59:36.473254Z",
     "iopub.status.idle": "2023-08-25T15:59:36.489333Z",
     "shell.execute_reply": "2023-08-25T15:59:36.488820Z",
     "shell.execute_reply.started": "2023-08-25T15:59:36.473485Z"
    },
    "tags": []
   },
   "outputs": [],
   "source": [
    "from torch.nn.functional import hardsigmoid, hardtanh"
   ]
  },
  {
   "cell_type": "code",
   "execution_count": 217,
   "metadata": {
    "execution": {
     "iopub.execute_input": "2023-08-25T17:20:16.379520Z",
     "iopub.status.busy": "2023-08-25T17:20:16.379226Z",
     "iopub.status.idle": "2023-08-25T17:20:16.404669Z",
     "shell.execute_reply": "2023-08-25T17:20:16.404098Z",
     "shell.execute_reply.started": "2023-08-25T17:20:16.379507Z"
    },
    "tags": []
   },
   "outputs": [],
   "source": [
    "def s(x):\n",
    "    return hardsigmoid(x * 3 + 1)\n",
    "\n",
    "\n",
    "def g(x, a=1):\n",
    "    zero = torch.zeros_like(x)\n",
    "    ones = torch.ones_like(x)\n",
    "    z = (1 + x / a) ** 2\n",
    "    return torch.where(x >= -a, torch.minimum(z, ones), zero)\n",
    "\n",
    "\n",
    "def g(x: Tensor, a: float = 3) -> Tensor:\n",
    "    zero = torch.zeros_like(x)\n",
    "    ones = torch.ones_like(x)\n",
    "    y = torch.maximum(1 + x / a, zero)\n",
    "    z = torch.minimum(y**2, ones)\n",
    "    return z\n",
    "\n",
    "\n",
    "def h(x, a=1):\n",
    "    zero = torch.zeros_like(x)\n",
    "    ones = torch.ones_like(x)\n",
    "    z = (1 - 2 * x / a) * (1 + x / a) ** 2\n",
    "    return torch.where(x >= -a, torch.where(x <= 0, z, ones), zero)\n",
    "\n",
    "\n",
    "def h(x, a=1, b=0):\n",
    "    zero = torch.zeros_like(x)\n",
    "    ones = torch.ones_like(x)\n",
    "    z = torch.maximum(1 + x / a, zero)\n",
    "    z = torch.minimum(z**2, ones)\n",
    "\n",
    "    y = torch.maximum(x * (1 - 2 * b / a) + b, zero)\n",
    "    y = torch.minimum(y, x + b)\n",
    "    return y * z - b * ones"
   ]
  },
  {
   "cell_type": "code",
   "execution_count": 218,
   "metadata": {
    "execution": {
     "iopub.execute_input": "2023-08-25T17:20:16.919202Z",
     "iopub.status.busy": "2023-08-25T17:20:16.918997Z",
     "iopub.status.idle": "2023-08-25T17:20:17.097296Z",
     "shell.execute_reply": "2023-08-25T17:20:17.096812Z",
     "shell.execute_reply.started": "2023-08-25T17:20:16.919190Z"
    },
    "tags": []
   },
   "outputs": [
    {
     "data": {
      "text/plain": [
       "[<matplotlib.lines.Line2D at 0x7f6c6b5cbd90>]"
      ]
     },
     "execution_count": 218,
     "metadata": {},
     "output_type": "execute_result"
    },
    {
     "data": {
      "image/png": "[encoded data removed]",
      "text/plain": [
       "<Figure size 600x600 with 1 Axes>"
      ]
     },
     "metadata": {},
     "output_type": "display_data"
    }
   ],
   "source": [
    "x = torch.linspace(-2, 0.7, 1000)\n",
    "fig, ax = plt.subplots(figsize=(6, 6))\n",
    "\n",
    "a, b = 0.3, 0.1\n",
    "ax.plot(x, x * s(x))\n",
    "ax.plot(x, x * g(x, a))\n",
    "ax.plot(x, h(x, a, b))"
   ]
  },
  {
   "cell_type": "code",
   "execution_count": 126,
   "metadata": {
    "execution": {
     "iopub.execute_input": "2023-08-25T16:40:26.539030Z",
     "iopub.status.busy": "2023-08-25T16:40:26.538789Z",
     "iopub.status.idle": "2023-08-25T16:40:26.565502Z",
     "shell.execute_reply": "2023-08-25T16:40:26.564726Z",
     "shell.execute_reply.started": "2023-08-25T16:40:26.539006Z"
    },
    "tags": []
   },
   "outputs": [
    {
     "ename": "SyntaxError",
     "evalue": "invalid syntax (1267470311.py, line 1)",
     "output_type": "error",
     "traceback": [
      "\u001b[0;36m  Cell \u001b[0;32mIn[126], line 1\u001b[0;36m\u001b[0m\n\u001b[0;31m    plot x*hardsigmoid(x+1)\u001b[0m\n\u001b[0m         ^\u001b[0m\n\u001b[0;31mSyntaxError\u001b[0m\u001b[0;31m:\u001b[0m invalid syntax\n"
     ]
    }
   ],
   "source": [
    "plot x*hardsigmoid(x+1)"
   ]
  },
  {
   "cell_type": "code",
   "execution_count": null,
   "metadata": {},
   "outputs": [],
   "source": []
  },
  {
   "cell_type": "code",
   "execution_count": null,
   "metadata": {},
   "outputs": [],
   "source": []
  },
  {
   "cell_type": "code",
   "execution_count": 2,
   "metadata": {
    "execution": {
     "iopub.execute_input": "2023-08-25T08:52:33.388749Z",
     "iopub.status.busy": "2023-08-25T08:52:33.388579Z",
     "iopub.status.idle": "2023-08-25T08:52:33.409762Z",
     "shell.execute_reply": "2023-08-25T08:52:33.409324Z",
     "shell.execute_reply.started": "2023-08-25T08:52:33.388737Z"
    },
    "tags": []
   },
   "outputs": [],
   "source": [
    "import torch\n",
    "from torch import Tensor, nn\n",
    "from torch.nn import functional as F\n",
    "from torchinfo import summary\n",
    "\n",
    "from linodenet.testing import test_model"
   ]
  },
  {
   "cell_type": "code",
   "execution_count": 22,
   "metadata": {
    "execution": {
     "iopub.execute_input": "2023-08-25T08:55:19.094084Z",
     "iopub.status.busy": "2023-08-25T08:55:19.093904Z",
     "iopub.status.idle": "2023-08-25T08:55:19.110102Z",
     "shell.execute_reply": "2023-08-25T08:55:19.109621Z",
     "shell.execute_reply.started": "2023-08-25T08:55:19.094072Z"
    },
    "tags": []
   },
   "outputs": [],
   "source": [
    "class parametrize(nn.Module):\n",
    "    weight: Tensor\n",
    "\n",
    "    def __init__(self, weight: Tensor) -> None:\n",
    "        super().__init__()\n",
    "        self.weight = weight\n",
    "\n",
    "\n",
    "class Foo(nn.Module):\n",
    "    def __init__(self) -> None:\n",
    "        super().__init__()\n",
    "        m, n = 4, 3\n",
    "        self.weight = nn.Parameter(torch.empty(4, 3))\n",
    "        self.weight = parametrize(self.weight).weight\n",
    "\n",
    "    def forward(self, x: Tensor) -> Tensor:\n",
    "        return F.linear(x, self.weight)"
   ]
  },
  {
   "cell_type": "code",
   "execution_count": 32,
   "metadata": {
    "execution": {
     "iopub.execute_input": "2023-08-25T09:15:27.174425Z",
     "iopub.status.busy": "2023-08-25T09:15:27.173993Z",
     "iopub.status.idle": "2023-08-25T09:15:27.192016Z",
     "shell.execute_reply": "2023-08-25T09:15:27.191480Z",
     "shell.execute_reply.started": "2023-08-25T09:15:27.174398Z"
    },
    "tags": []
   },
   "outputs": [],
   "source": [
    "import torch\n",
    "from torch import Tensor, jit, nn\n",
    "from torch.nn.utils import parametrize as torch_parametrize\n",
    "\n",
    "from linodenet.testing import test_model"
   ]
  },
  {
   "cell_type": "code",
   "execution_count": 33,
   "metadata": {
    "execution": {
     "iopub.execute_input": "2023-08-25T09:15:30.970478Z",
     "iopub.status.busy": "2023-08-25T09:15:30.969922Z",
     "iopub.status.idle": "2023-08-25T09:15:30.996830Z",
     "shell.execute_reply": "2023-08-25T09:15:30.996152Z",
     "shell.execute_reply.started": "2023-08-25T09:15:30.970460Z"
    },
    "tags": []
   },
   "outputs": [
    {
     "data": {
      "text/plain": [
       "RecursiveScriptModule(\n",
       "  original_name=ParametrizedLinear\n",
       "  (parametrizations): RecursiveScriptModule(\n",
       "    original_name=ModuleDict\n",
       "    (weight): RecursiveScriptModule(\n",
       "      original_name=ParametrizationList\n",
       "      (0): RecursiveScriptModule(original_name=Symmetric)\n",
       "    )\n",
       "  )\n",
       ")"
      ]
     },
     "execution_count": 33,
     "metadata": {},
     "output_type": "execute_result"
    }
   ],
   "source": [
    "    class Symmetric(nn.Module):\n",
    "        def forward(self, X):\n",
    "            return X.triu() + X.triu(1).transpose(-1, -2)\n",
    "\n",
    "\n",
    "    model = nn.Linear(5, 5)\n",
    "\n",
    "    torch_parametrize.register_parametrization(model, \"weight\", Symmetric())\n",
    "\n",
    "    scripted = jit.script(model)"
   ]
  },
  {
   "cell_type": "code",
   "execution_count": 38,
   "metadata": {
    "execution": {
     "iopub.execute_input": "2023-08-25T09:16:41.938234Z",
     "iopub.status.busy": "2023-08-25T09:16:41.937968Z",
     "iopub.status.idle": "2023-08-25T09:16:41.955630Z",
     "shell.execute_reply": "2023-08-25T09:16:41.955235Z",
     "shell.execute_reply.started": "2023-08-25T09:16:41.938210Z"
    },
    "tags": []
   },
   "outputs": [
    {
     "name": "stdout",
     "output_type": "stream",
     "text": [
      "<class 'torch.jit.Error'>\n"
     ]
    }
   ],
   "source": [
    "inputs = torch.randn(7, 5)\n",
    "\n",
    "try:\n",
    "    scripted_outputs = scripted(inputs)\n",
    "except Exception as exc:\n",
    "    print(f\"{type(exc)}\")"
   ]
  },
  {
   "cell_type": "code",
   "execution_count": 27,
   "metadata": {
    "execution": {
     "iopub.execute_input": "2023-08-25T09:12:10.689188Z",
     "iopub.status.busy": "2023-08-25T09:12:10.688631Z",
     "iopub.status.idle": "2023-08-25T09:12:10.724993Z",
     "shell.execute_reply": "2023-08-25T09:12:10.724531Z",
     "shell.execute_reply.started": "2023-08-25T09:12:10.689170Z"
    },
    "tags": []
   },
   "outputs": [
    {
     "data": {
      "text/plain": [
       "RecursiveScriptModule(\n",
       "  original_name=ParametrizedLinear\n",
       "  (parametrizations): RecursiveScriptModule(\n",
       "    original_name=ModuleDict\n",
       "    (weight): RecursiveScriptModule(\n",
       "      original_name=ParametrizationList\n",
       "      (0): RecursiveScriptModule(original_name=Symmetric)\n",
       "    )\n",
       "  )\n",
       ")"
      ]
     },
     "execution_count": 27,
     "metadata": {},
     "output_type": "execute_result"
    }
   ],
   "source": [
    "scripted_model = torch.jit.script(model)"
   ]
  },
  {
   "cell_type": "code",
   "execution_count": 39,
   "metadata": {
    "execution": {
     "iopub.execute_input": "2023-08-25T09:17:26.433918Z",
     "iopub.status.busy": "2023-08-25T09:17:26.433276Z",
     "iopub.status.idle": "2023-08-25T09:17:26.471592Z",
     "shell.execute_reply": "2023-08-25T09:17:26.471109Z",
     "shell.execute_reply.started": "2023-08-25T09:17:26.433881Z"
    },
    "tags": []
   },
   "outputs": [
    {
     "ename": "AttributeError",
     "evalue": "'function' object has no attribute 'Error'",
     "output_type": "error",
     "traceback": [
      "\u001b[0;31m---------------------------------------------------------------------------\u001b[0m",
      "\u001b[0;31mAttributeError\u001b[0m                            Traceback (most recent call last)",
      "Cell \u001b[0;32mIn[39], line 1\u001b[0m\n\u001b[0;32m----> 1\u001b[0m \u001b[43mjit\u001b[49m\u001b[38;5;241;43m.\u001b[39;49m\u001b[43mscript\u001b[49m\u001b[38;5;241;43m.\u001b[39;49m\u001b[43mError\u001b[49m\n",
      "\u001b[0;31mAttributeError\u001b[0m: 'function' object has no attribute 'Error'"
     ]
    }
   ],
   "source": [
    "jit.script.Error"
   ]
  },
  {
   "cell_type": "code",
   "execution_count": 23,
   "metadata": {
    "execution": {
     "iopub.execute_input": "2023-08-25T08:55:19.448174Z",
     "iopub.status.busy": "2023-08-25T08:55:19.447968Z",
     "iopub.status.idle": "2023-08-25T08:55:19.464724Z",
     "shell.execute_reply": "2023-08-25T08:55:19.463987Z",
     "shell.execute_reply.started": "2023-08-25T08:55:19.448162Z"
    },
    "tags": []
   },
   "outputs": [
    {
     "data": {
      "text/plain": [
       "tensor([[-0.2711,  0.7241,  0.1464],\n",
       "        [ 0.3789,  1.3858,  0.0362],\n",
       "        [ 0.9076,  0.2596,  0.4451],\n",
       "        [-0.6789, -0.6455, -0.3894],\n",
       "        [ 2.0242,  0.1960, -2.1489],\n",
       "        [-0.1782, -0.9948, -2.1928],\n",
       "        [-1.1146,  1.4594, -0.4790]])"
      ]
     },
     "execution_count": 23,
     "metadata": {},
     "output_type": "execute_result"
    }
   ],
   "source": [
    "x = torch.randn(7, 3)"
   ]
  },
  {
   "cell_type": "code",
   "execution_count": 24,
   "metadata": {
    "execution": {
     "iopub.execute_input": "2023-08-25T08:55:19.649456Z",
     "iopub.status.busy": "2023-08-25T08:55:19.649062Z",
     "iopub.status.idle": "2023-08-25T08:55:19.668551Z",
     "shell.execute_reply": "2023-08-25T08:55:19.668074Z",
     "shell.execute_reply.started": "2023-08-25T08:55:19.649425Z"
    },
    "tags": []
   },
   "outputs": [],
   "source": [
    "from copy import deepcopy"
   ]
  },
  {
   "cell_type": "code",
   "execution_count": 25,
   "metadata": {
    "execution": {
     "iopub.execute_input": "2023-08-25T08:55:20.025634Z",
     "iopub.status.busy": "2023-08-25T08:55:20.025181Z",
     "iopub.status.idle": "2023-08-25T08:55:20.041649Z",
     "shell.execute_reply": "2023-08-25T08:55:20.041090Z",
     "shell.execute_reply.started": "2023-08-25T08:55:20.025598Z"
    },
    "tags": []
   },
   "outputs": [],
   "source": [
    "reference_model = nn.Linear(4, 3)\n",
    "inputs = torch.randn(2, 4)\n",
    "model = deepcopy(reference_model)\n",
    "model.weight = parametrize(model.weight).weight"
   ]
  },
  {
   "cell_type": "code",
   "execution_count": 17,
   "metadata": {
    "execution": {
     "iopub.execute_input": "2023-08-25T08:55:00.659687Z",
     "iopub.status.busy": "2023-08-25T08:55:00.659114Z",
     "iopub.status.idle": "2023-08-25T08:55:00.731525Z",
     "shell.execute_reply": "2023-08-25T08:55:00.731037Z",
     "shell.execute_reply.started": "2023-08-25T08:55:00.659663Z"
    },
    "tags": []
   },
   "outputs": [
    {
     "name": "stderr",
     "output_type": "stream",
     "text": [
      "INFO:linodenet.testing._testing.Linear:>>> Reference model forward/backward ✔ \n",
      "INFO:linodenet.testing._testing.Linear:>>> Moved model/tensors to Device ✔ \n",
      "INFO:linodenet.testing._testing.Linear:>>> Forward ✔ \n",
      "INFO:linodenet.testing._testing.Linear:>>> Backward ✔ \n",
      "INFO:linodenet.testing._testing.Linear:>>> JIT-compilation ✔ \n",
      "INFO:linodenet.testing._testing.Linear@JIT:>>> Moved model/tensors to Device ✔ \n",
      "INFO:linodenet.testing._testing.Linear@JIT:>>> Forward ✔ \n",
      "INFO:linodenet.testing._testing.Linear@JIT:>>> Backward ✔ \n",
      "INFO:linodenet.testing._testing.Linear:>>> JIT-saving ✔ \n",
      "INFO:linodenet.testing._testing.Linear:>>> JIT-loading ✔ \n",
      "INFO:linodenet.testing._testing.Linear@JIT:>>> Moved model/tensors to Device ✔ \n",
      "INFO:linodenet.testing._testing.Linear@JIT:>>> Forward ✔ \n",
      "INFO:linodenet.testing._testing.Linear@JIT:>>> Backward ✔ \n"
     ]
    }
   ],
   "source": [
    "test_model(model, inputs=inputs, reference_model=reference_model, test_jit=True)"
   ]
  },
  {
   "cell_type": "code",
   "execution_count": 13,
   "metadata": {
    "execution": {
     "iopub.execute_input": "2023-08-25T08:38:39.218249Z",
     "iopub.status.busy": "2023-08-25T08:38:39.218068Z",
     "iopub.status.idle": "2023-08-25T08:38:39.223994Z",
     "shell.execute_reply": "2023-08-25T08:38:39.223649Z",
     "shell.execute_reply.started": "2023-08-25T08:38:39.218238Z"
    },
    "tags": []
   },
   "outputs": [
    {
     "data": {
      "text/plain": [
       "=================================================================\n",
       "Layer (type:depth-idx)                   Param #\n",
       "=================================================================\n",
       "Foo                                      12\n",
       "=================================================================\n",
       "Total params: 12\n",
       "Trainable params: 12\n",
       "Non-trainable params: 0\n",
       "================================================================="
      ]
     },
     "execution_count": 13,
     "metadata": {},
     "output_type": "execute_result"
    }
   ],
   "source": [
    "summary(Foo())"
   ]
  },
  {
   "cell_type": "code",
   "execution_count": null,
   "metadata": {},
   "outputs": [],
   "source": []
  },
  {
   "cell_type": "code",
   "execution_count": null,
   "metadata": {},
   "outputs": [],
   "source": [
    "class Foo"
   ]
  },
  {
   "cell_type": "code",
   "execution_count": null,
   "metadata": {},
   "outputs": [],
   "source": []
  },
  {
   "cell_type": "code",
   "execution_count": 33,
   "metadata": {
    "execution": {
     "iopub.execute_input": "2023-08-24T17:07:25.747113Z",
     "iopub.status.busy": "2023-08-24T17:07:25.746912Z",
     "iopub.status.idle": "2023-08-24T17:07:25.749757Z",
     "shell.execute_reply": "2023-08-24T17:07:25.749475Z",
     "shell.execute_reply.started": "2023-08-24T17:07:25.747100Z"
    },
    "tags": []
   },
   "outputs": [
    {
     "data": {
      "text/plain": [
       "<torch.jit.ScriptFunction at 0x7f265d948d70>"
      ]
     },
     "execution_count": 33,
     "metadata": {},
     "output_type": "execute_result"
    }
   ],
   "source": [
    "foo"
   ]
  },
  {
   "cell_type": "code",
   "execution_count": null,
   "metadata": {},
   "outputs": [],
   "source": []
  },
  {
   "cell_type": "code",
   "execution_count": null,
   "metadata": {},
   "outputs": [],
   "source": []
  },
  {
   "cell_type": "code",
   "execution_count": null,
   "metadata": {},
   "outputs": [],
   "source": []
  },
  {
   "cell_type": "code",
   "execution_count": 2,
   "metadata": {
    "execution": {
     "iopub.execute_input": "2023-08-24T16:43:08.801315Z",
     "iopub.status.busy": "2023-08-24T16:43:08.801135Z",
     "iopub.status.idle": "2023-08-24T16:43:08.863987Z",
     "shell.execute_reply": "2023-08-24T16:43:08.863533Z",
     "shell.execute_reply.started": "2023-08-24T16:43:08.801301Z"
    },
    "tags": []
   },
   "outputs": [
    {
     "name": "stderr",
     "output_type": "stream",
     "text": [
      "INFO:linodenet.testing._testing.Linear:>>> Moved model/tensors to Device ✔ \n",
      "INFO:linodenet.testing._testing.Linear:>>> Forward ✔ \n",
      "INFO:linodenet.testing._testing.Linear:>>> Backward ✔ \n",
      "INFO:linodenet.testing._testing.Linear:>>> JIT-compilation ✔ \n",
      "INFO:linodenet.testing._testing.Linear@JIT:>>> Moved model/tensors to Device ✔ \n",
      "INFO:linodenet.testing._testing.Linear@JIT:>>> Forward ✔ \n",
      "INFO:linodenet.testing._testing.Linear@JIT:>>> Backward ✔ \n",
      "INFO:linodenet.testing._testing.Linear:>>> JIT-saving ✔ \n",
      "INFO:linodenet.testing._testing.Linear:>>> JIT-loading ✔ \n",
      "INFO:linodenet.testing._testing.Linear@JIT:>>> Moved model/tensors to Device ✔ \n",
      "INFO:linodenet.testing._testing.Linear@JIT:>>> Forward ✔ \n",
      "INFO:linodenet.testing._testing.Linear@JIT:>>> Backward ✔ \n"
     ]
    }
   ],
   "source": [
    "import torch\n",
    "from torch import jit, nn\n",
    "\n",
    "from linodenet.testing import test_model\n",
    "\n",
    "A = nn.Linear(4, 4)\n",
    "P = nn.Linear(4, 4)\n",
    "X = torch.randn(3, 4)\n",
    "A.weight = P.weight\n",
    "scripted = jit.script(A)\n",
    "scripted(X)\n",
    "\n",
    "test_model(A, inputs=X, test_jit=True)"
   ]
  },
  {
   "cell_type": "code",
   "execution_count": null,
   "metadata": {},
   "outputs": [],
   "source": []
  },
  {
   "cell_type": "code",
   "execution_count": null,
   "metadata": {},
   "outputs": [],
   "source": []
  },
  {
   "cell_type": "code",
   "execution_count": null,
   "metadata": {
    "tags": []
   },
   "outputs": [],
   "source": [
    "m, n = 5, 3\n",
    "A = torch.randn(m, n)"
   ]
  },
  {
   "cell_type": "code",
   "execution_count": null,
   "metadata": {
    "tags": []
   },
   "outputs": [],
   "source": [
    "A.layout"
   ]
  },
  {
   "cell_type": "code",
   "execution_count": null,
   "metadata": {},
   "outputs": [],
   "source": []
  },
  {
   "cell_type": "code",
   "execution_count": null,
   "metadata": {
    "tags": []
   },
   "outputs": [],
   "source": [
    "class Parametrization(nn.Module):\n",
    "    \"\"\"A parametrized tensor.\"\"\"\n",
    "\n",
    "    parametrized_tensors: dict[str, Tensor]\n",
    "    cached_tensors: dict[str, Tensor]\n",
    "\n",
    "    @torch.no_grad()\n",
    "    def register_parametrization(self, name: str, param: nn.Parameter) -> None:\n",
    "        \"\"\"Register a parametrization.\"\"\"\n",
    "        if not isinstance(param, nn.Parameter):\n",
    "            raise ValueError(f\"Given tensor is not a nn.Parameter!\")\n",
    "\n",
    "        # create the cached tensor.\n",
    "        self.register_cached_tensor(f\"cached_{name}\", torch.empty_like(param))\n",
    "\n",
    "        # register the parametrization.\n",
    "        self.parametrized_tensors[name] = param\n",
    "\n",
    "    @torch.no_grad()\n",
    "    def register_cached_tensor(self, name: str, tensor: Tensor) -> None:\n",
    "        \"\"\"Register a cached tensor.\"\"\"\n",
    "        if name in self.cached_tensors:\n",
    "            raise ValueError(f\"Cache with {name=!r} already registered!\")\n",
    "        if name in self.named_buffers():\n",
    "            raise ValueError(f\"Buffer with {name=!r} already taken!\")\n",
    "\n",
    "        self.register_buffer(name, tensor)\n",
    "        self.cached_tensors[name] = getattr(self, name)\n",
    "\n",
    "    def recompute_cache(self) -> None:\n",
    "        # Compute the cached weight matrix\n",
    "        new_tensors = self.forward()\n",
    "\n",
    "        # copy the new tensors into the cache\n",
    "        for key, tensor in new_tensors.items():\n",
    "            self.cached_tensors[key].copy_(tensor)\n",
    "\n",
    "    @torch.no_grad()\n",
    "    def projection(self) -> None:\n",
    "        # update the cached weight matrix\n",
    "        self.recompute_cache()\n",
    "\n",
    "        # copy the cached values into the parametrized tensors\n",
    "        for key, tensor in self.parametrized_tensors.items():\n",
    "            tensor.copy_(self.cached_tensors[key])\n",
    "\n",
    "    def reset_cache(self) -> None:\n",
    "        # apply projection step.\n",
    "        self.projection()\n",
    "\n",
    "        # reengage the autograd engine\n",
    "        # detach() is necessary to avoid \"Trying to backward through the graph a second time\" error\n",
    "        for key, tensor in self.cached_tensors.items():\n",
    "            tensor.detach_()\n",
    "\n",
    "        # recompute the cache\n",
    "        # Note: we need the second run to set up the gradients\n",
    "        self.recompute_cache()\n",
    "\n",
    "    def reset_cache_expanded(self) -> None:\n",
    "        # apply projection step.\n",
    "        with torch.no_grad():\n",
    "            # update the cached weight matrix\n",
    "            new_tensors = self.forward()\n",
    "\n",
    "            if new_tensors.keys() != self.cached_tensors.keys():\n",
    "                raise ValueError(\n",
    "                    f\"{new_tensors.keys()=} != {self.cached_tensors.keys()=}\"\n",
    "                )\n",
    "\n",
    "            # copy the new tensors into the cache\n",
    "            for key, tensor in new_tensors.items():\n",
    "                self.cached_tensors[key].copy_(tensor)\n",
    "\n",
    "        # copy the cached values into the parametrized tensors\n",
    "        for key, tensor in self.parametrized_tensors.items():\n",
    "            tensor.copy_(self.cached_tensors[key])\n",
    "\n",
    "        # reengage the autograd engine\n",
    "        # detach() is necessary to avoid \"Trying to backward through the graph a second time\" error\n",
    "        for key, tensor in self.cached_tensors.items():\n",
    "            tensor.detach_()\n",
    "\n",
    "        # recompute the cache\n",
    "        # Note: we need the second run to set up the gradients\n",
    "        # Compute the cached weight matrix\n",
    "        new_tensors = self.forward()\n",
    "\n",
    "        # copy the new tensors into the cache\n",
    "        for key, tensor in new_tensors.items():\n",
    "            self.cached_tensors[key].copy_(tensor)\n",
    "\n",
    "\n",
    "class SpectralNormalization(Parametrization):\n",
    "    \"\"\"Spectral normalization.\"\"\"\n",
    "\n",
    "    # constants\n",
    "    GAMMA: Tensor\n",
    "    ONE: Tensor\n",
    "\n",
    "    # cached\n",
    "    u: Tensor\n",
    "    v: Tensor\n",
    "    sigma: Tensor\n",
    "\n",
    "    # parametrized\n",
    "    weight: Tensor\n",
    "\n",
    "    def __init__(self, weight: nn.Parameter, /, gamma: float = 1.0) -> None:\n",
    "        super().__init__()\n",
    "\n",
    "        assert len(weight.shape) == 2\n",
    "        m, n = weight.shape\n",
    "\n",
    "        options = {\n",
    "            \"dtype\": weight.dtype,\n",
    "            \"device\": weight.device,\n",
    "            \"layout\": weight.layout,\n",
    "        }\n",
    "\n",
    "        # parametrized and cached\n",
    "        self.register_parametrization(\"weight\", weight)\n",
    "        self.register_cached_tensor(\"u\", torch.empty(m, **options))\n",
    "        self.register_cached_tensor(\"v\", torch.empty(n, **options))\n",
    "        self.register_cached_tensor(\"sigma\", torch.empty(1, **options))\n",
    "\n",
    "        # constants\n",
    "        self.register_buffer(\"ONE\", torch.empty(1, **options))\n",
    "        self.register_buffer(\"GAMMA\", torch.empty(gamma, **options))\n",
    "\n",
    "    def forward(self) -> dict[str, Tensor]:\n",
    "        sigma, u, v = singular_triplet(self.weight, u0=self.u, v0=self.v)\n",
    "        gamma = torch.minimum(self.ONE, self.GAMMA / sigma)\n",
    "        weight = gamma * self.weight\n",
    "        return {\"weight\": weight, \"u\": u, \"v\": v, \"sigma\": sigma}\n",
    "\n",
    "\n",
    "def reset_all_caches(module: nn.Module) -> None:\n",
    "    \"\"\"Reset all caches in a module.\"\"\"\n",
    "    for submodule in module.modules():\n",
    "        if isinstance(submodule, ParametrizationABC):\n",
    "            submodule.reset_cache()\n",
    "\n",
    "\n",
    "class reset_caches(AbstractContextManager):\n",
    "    \"\"\"reset_caches context manager.\"\"\"\n",
    "\n",
    "    def __init__(self, module: nn.Module) -> None:\n",
    "        self.module = module\n",
    "\n",
    "    def __enter__(self):\n",
    "        reset_all_caches(self.module)\n",
    "        return self.module\n",
    "\n",
    "    def __exit__(self, exc_type, exc_val, exc_tb):\n",
    "        reset_all_caches(self.module)\n",
    "        return False"
   ]
  },
  {
   "cell_type": "code",
   "execution_count": 2,
   "metadata": {
    "execution": {
     "iopub.execute_input": "2023-08-24T16:38:56.147590Z",
     "iopub.status.busy": "2023-08-24T16:38:56.147502Z",
     "iopub.status.idle": "2023-08-24T16:38:56.202157Z",
     "shell.execute_reply": "2023-08-24T16:38:56.201716Z",
     "shell.execute_reply.started": "2023-08-24T16:38:56.147579Z"
    },
    "tags": []
   },
   "outputs": [
    {
     "data": {
      "text/plain": [
       "tensor([[-0.9288,  0.0188, -1.2009, -0.3212],\n",
       "        [ 0.0135, -1.1136,  0.8689,  0.0364],\n",
       "        [ 0.4995, -0.8022,  1.0950,  0.1541]], grad_fn=<AddmmBackward0>)"
      ]
     },
     "execution_count": 2,
     "metadata": {},
     "output_type": "execute_result"
    }
   ],
   "source": []
  },
  {
   "cell_type": "code",
   "execution_count": 3,
   "metadata": {
    "execution": {
     "iopub.execute_input": "2023-08-24T16:38:57.840951Z",
     "iopub.status.busy": "2023-08-24T16:38:57.840518Z",
     "iopub.status.idle": "2023-08-24T16:38:57.844021Z",
     "shell.execute_reply": "2023-08-24T16:38:57.843733Z",
     "shell.execute_reply.started": "2023-08-24T16:38:57.840933Z"
    },
    "tags": []
   },
   "outputs": [],
   "source": []
  },
  {
   "cell_type": "code",
   "execution_count": 8,
   "metadata": {
    "execution": {
     "iopub.execute_input": "2023-08-24T16:41:29.560655Z",
     "iopub.status.busy": "2023-08-24T16:41:29.560429Z",
     "iopub.status.idle": "2023-08-24T16:41:29.604799Z",
     "shell.execute_reply": "2023-08-24T16:41:29.604301Z",
     "shell.execute_reply.started": "2023-08-24T16:41:29.560636Z"
    },
    "tags": []
   },
   "outputs": [
    {
     "name": "stderr",
     "output_type": "stream",
     "text": [
      "INFO:linodenet.testing._testing.Linear:>>> Moved model/tensors to Device ✔ \n",
      "INFO:linodenet.testing._testing.Linear:>>> Forward ✔ \n",
      "INFO:linodenet.testing._testing.Linear:>>> Backward ✔ \n",
      "INFO:linodenet.testing._testing.Linear:>>> JIT-compilation ✔ \n",
      "INFO:linodenet.testing._testing.Linear@JIT:>>> Moved model/tensors to Device ✔ \n",
      "INFO:linodenet.testing._testing.Linear@JIT:>>> Forward ✔ \n"
     ]
    },
    {
     "ename": "AssertionError",
     "evalue": "",
     "output_type": "error",
     "traceback": [
      "\u001b[0;31m---------------------------------------------------------------------------\u001b[0m",
      "\u001b[0;31mAssertionError\u001b[0m                            Traceback (most recent call last)",
      "Cell \u001b[0;32mIn[8], line 1\u001b[0m\n\u001b[0;32m----> 1\u001b[0m \u001b[43mtest_model\u001b[49m\u001b[43m(\u001b[49m\u001b[43mA\u001b[49m\u001b[43m,\u001b[49m\u001b[43m \u001b[49m\u001b[43minputs\u001b[49m\u001b[38;5;241;43m=\u001b[39;49m\u001b[43mX\u001b[49m\u001b[43m,\u001b[49m\u001b[43m \u001b[49m\u001b[43mtest_jit\u001b[49m\u001b[38;5;241;43m=\u001b[39;49m\u001b[38;5;28;43;01mTrue\u001b[39;49;00m\u001b[43m)\u001b[49m\n",
      "File \u001b[0;32m~/Projects/KIWI/linodenet/src/linodenet/testing/_testing.py:179\u001b[0m, in \u001b[0;36mtest_model\u001b[0;34m(model, inputs, reference_outputs, reference_gradients, logger, device, test_jit)\u001b[0m\n\u001b[1;32m    175\u001b[0m logger\u001b[38;5;241m.\u001b[39minfo(\u001b[38;5;124m\"\u001b[39m\u001b[38;5;124m>>> JIT-compilation ✔ \u001b[39m\u001b[38;5;124m\"\u001b[39m)\n\u001b[1;32m    176\u001b[0m \u001b[38;5;66;03m# endregion check forward pass ---------------------------------------------\u001b[39;00m\n\u001b[1;32m    177\u001b[0m \n\u001b[1;32m    178\u001b[0m \u001b[38;5;66;03m# region check scripted forward/backward pass ------------------------------\u001b[39;00m\n\u001b[0;32m--> 179\u001b[0m \u001b[43mtest_model\u001b[49m\u001b[43m(\u001b[49m\n\u001b[1;32m    180\u001b[0m \u001b[43m    \u001b[49m\u001b[43mscripted_model\u001b[49m\u001b[43m,\u001b[49m\n\u001b[1;32m    181\u001b[0m \u001b[43m    \u001b[49m\u001b[43minputs\u001b[49m\u001b[38;5;241;43m=\u001b[39;49m\u001b[43minputs\u001b[49m\u001b[43m,\u001b[49m\n\u001b[1;32m    182\u001b[0m \u001b[43m    \u001b[49m\u001b[43mreference_outputs\u001b[49m\u001b[38;5;241;43m=\u001b[39;49m\u001b[43mreference_outputs\u001b[49m\u001b[43m,\u001b[49m\n\u001b[1;32m    183\u001b[0m \u001b[43m    \u001b[49m\u001b[43mreference_gradients\u001b[49m\u001b[38;5;241;43m=\u001b[39;49m\u001b[43mreference_gradients\u001b[49m\u001b[43m,\u001b[49m\n\u001b[1;32m    184\u001b[0m \u001b[43m    \u001b[49m\u001b[43mlogger\u001b[49m\u001b[38;5;241;43m=\u001b[39;49m\u001b[43m__logger__\u001b[49m\u001b[38;5;241;43m.\u001b[39;49m\u001b[43mgetChild\u001b[49m\u001b[43m(\u001b[49m\u001b[38;5;124;43mf\u001b[39;49m\u001b[38;5;124;43m\"\u001b[39;49m\u001b[38;5;132;43;01m{\u001b[39;49;00m\u001b[43mmodel_name\u001b[49m\u001b[38;5;132;43;01m}\u001b[39;49;00m\u001b[38;5;124;43m@JIT\u001b[39;49m\u001b[38;5;124;43m\"\u001b[39;49m\u001b[43m)\u001b[49m\u001b[43m,\u001b[49m\n\u001b[1;32m    185\u001b[0m \u001b[43m\u001b[49m\u001b[43m)\u001b[49m\n\u001b[1;32m    186\u001b[0m \u001b[38;5;66;03m# endregion check scripted forward/backward pass ---------------------------\u001b[39;00m\n\u001b[1;32m    187\u001b[0m \n\u001b[1;32m    188\u001b[0m \u001b[38;5;66;03m# region check model saving/loading ----------------------------------------\u001b[39;00m\n\u001b[1;32m    189\u001b[0m \u001b[38;5;28;01mwith\u001b[39;00m tempfile\u001b[38;5;241m.\u001b[39mTemporaryFile() \u001b[38;5;28;01mas\u001b[39;00m file:\n",
      "File \u001b[0;32m~/Projects/KIWI/linodenet/src/linodenet/testing/_testing.py:160\u001b[0m, in \u001b[0;36mtest_model\u001b[0;34m(model, inputs, reference_outputs, reference_gradients, logger, device, test_jit)\u001b[0m\n\u001b[1;32m    158\u001b[0m     reference_gradients \u001b[38;5;241m=\u001b[39m gradients\n\u001b[1;32m    159\u001b[0m \u001b[38;5;28;01melse\u001b[39;00m:\n\u001b[0;32m--> 160\u001b[0m     \u001b[43massert_close\u001b[49m\u001b[43m(\u001b[49m\u001b[43mgradients\u001b[49m\u001b[43m,\u001b[49m\u001b[43m \u001b[49m\u001b[43mreference_gradients\u001b[49m\u001b[43m)\u001b[49m\n\u001b[1;32m    162\u001b[0m logger\u001b[38;5;241m.\u001b[39minfo(\u001b[38;5;124m\"\u001b[39m\u001b[38;5;124m>>> Backward ✔ \u001b[39m\u001b[38;5;124m\"\u001b[39m)\n\u001b[1;32m    163\u001b[0m \u001b[38;5;66;03m# endregion check backward pass --------------------------------------------\u001b[39;00m\n\u001b[1;32m    164\u001b[0m \n\u001b[1;32m    165\u001b[0m \u001b[38;5;66;03m# terminate if not testing JIT\u001b[39;00m\n",
      "File \u001b[0;32m~/Projects/KIWI/linodenet/src/linodenet/testing/_testing.py:91\u001b[0m, in \u001b[0;36massert_close\u001b[0;34m(values, reference, rtol, atol)\u001b[0m\n\u001b[1;32m     89\u001b[0m     \u001b[38;5;28;01massert\u001b[39;00m \u001b[38;5;28misinstance\u001b[39m(reference, Iterable)\n\u001b[1;32m     90\u001b[0m     \u001b[38;5;28;01mfor\u001b[39;00m output, target \u001b[38;5;129;01min\u001b[39;00m \u001b[38;5;28mzip\u001b[39m(values, reference, strict\u001b[38;5;241m=\u001b[39m\u001b[38;5;28;01mTrue\u001b[39;00m):\n\u001b[0;32m---> 91\u001b[0m         \u001b[43massert_close\u001b[49m\u001b[43m(\u001b[49m\u001b[43moutput\u001b[49m\u001b[43m,\u001b[49m\u001b[43m \u001b[49m\u001b[43mtarget\u001b[49m\u001b[43m,\u001b[49m\u001b[43m \u001b[49m\u001b[43mrtol\u001b[49m\u001b[38;5;241;43m=\u001b[39;49m\u001b[43mrtol\u001b[49m\u001b[43m,\u001b[49m\u001b[43m \u001b[49m\u001b[43matol\u001b[49m\u001b[38;5;241;43m=\u001b[39;49m\u001b[43matol\u001b[49m\u001b[43m)\u001b[49m\n\u001b[1;32m     92\u001b[0m \u001b[38;5;28;01mcase\u001b[39;00m\u001b[38;5;250m \u001b[39m\u001b[38;5;28;01m_\u001b[39;00m:\n\u001b[1;32m     93\u001b[0m     \u001b[38;5;28;01mraise\u001b[39;00m \u001b[38;5;167;01mTypeError\u001b[39;00m(\u001b[38;5;124mf\u001b[39m\u001b[38;5;124m\"\u001b[39m\u001b[38;5;124mUnsupported type \u001b[39m\u001b[38;5;132;01m{\u001b[39;00m\u001b[38;5;28mtype\u001b[39m(values)\u001b[38;5;132;01m}\u001b[39;00m\u001b[38;5;124m for `outputs`!\u001b[39m\u001b[38;5;124m\"\u001b[39m)\n",
      "File \u001b[0;32m~/Projects/KIWI/linodenet/src/linodenet/testing/_testing.py:82\u001b[0m, in \u001b[0;36massert_close\u001b[0;34m(values, reference, rtol, atol)\u001b[0m\n\u001b[1;32m     80\u001b[0m \u001b[38;5;28;01mcase\u001b[39;00m Tensor():\n\u001b[1;32m     81\u001b[0m     \u001b[38;5;28;01massert\u001b[39;00m \u001b[38;5;28misinstance\u001b[39m(reference, Tensor)\n\u001b[0;32m---> 82\u001b[0m     \u001b[38;5;28;01massert\u001b[39;00m torch\u001b[38;5;241m.\u001b[39mallclose(values, reference, rtol\u001b[38;5;241m=\u001b[39mrtol, atol\u001b[38;5;241m=\u001b[39matol)\n\u001b[1;32m     83\u001b[0m \u001b[38;5;28;01mcase\u001b[39;00m Mapping():\n\u001b[1;32m     84\u001b[0m     \u001b[38;5;28;01massert\u001b[39;00m \u001b[38;5;28misinstance\u001b[39m(reference, Mapping)\n",
      "\u001b[0;31mAssertionError\u001b[0m: "
     ]
    }
   ],
   "source": []
  },
  {
   "cell_type": "code",
   "execution_count": null,
   "metadata": {},
   "outputs": [],
   "source": []
  },
  {
   "cell_type": "code",
   "execution_count": 14,
   "metadata": {
    "execution": {
     "iopub.execute_input": "2023-08-24T16:05:48.593827Z",
     "iopub.status.busy": "2023-08-24T16:05:48.593665Z",
     "iopub.status.idle": "2023-08-24T16:05:48.597290Z",
     "shell.execute_reply": "2023-08-24T16:05:48.596863Z",
     "shell.execute_reply.started": "2023-08-24T16:05:48.593816Z"
    },
    "tags": []
   },
   "outputs": [
    {
     "data": {
      "text/plain": [
       "device(type='cpu')"
      ]
     },
     "execution_count": 14,
     "metadata": {},
     "output_type": "execute_result"
    }
   ],
   "source": [
    "next(t.device for t in A.parameters())"
   ]
  },
  {
   "cell_type": "code",
   "execution_count": null,
   "metadata": {},
   "outputs": [],
   "source": []
  }
 ],
 "metadata": {
  "kernelspec": {
   "display_name": "Python 3 (ipykernel)",
   "language": "python",
   "name": "python3"
  },
  "language_info": {
   "codemirror_mode": {
    "name": "ipython",
    "version": 3
   },
   "file_extension": ".py",
   "mimetype": "text/x-python",
   "name": "python",
   "nbconvert_exporter": "python",
   "pygments_lexer": "ipython3",
   "version": "3.11.3"
  }
 },
 "nbformat": 4,
 "nbformat_minor": 4
}
