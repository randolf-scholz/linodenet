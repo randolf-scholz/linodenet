{
 "cells": [
  {
   "cell_type": "code",
   "execution_count": null,
   "metadata": {
    "tags": []
   },
   "outputs": [],
   "source": [
    "%config InteractiveShell.ast_node_interactivity='last_expr_or_assign'\n",
    "%load_ext autoreload\n",
    "%autoreload 2\n",
    "\n",
    "import logging\n",
    "\n",
    "logging.basicConfig(level=logging.INFO)\n",
    "\n",
    "from abc import ABC, abstractmethod\n",
    "from contextlib import AbstractContextManager\n",
    "from typing import Protocol, runtime_checkable\n",
    "\n",
    "import torch\n",
    "from torch import Tensor, jit, nn, tensor\n",
    "from torch.linalg import matrix_norm\n",
    "\n",
    "# from linodenet.lib import singular_triplet\n",
    "from torchinfo import summary\n",
    "\n",
    "# from linodenet.parametrize import Parametrization, SpectralNormalization"
   ]
  },
  {
   "cell_type": "code",
   "execution_count": null,
   "metadata": {},
   "outputs": [],
   "source": [
    "import torch\n",
    "from torch import jit, Tensor\n",
    "from typing import Final"
   ]
  },
  {
   "cell_type": "code",
   "execution_count": null,
   "metadata": {},
   "outputs": [],
   "source": [
    "EPS = {\n",
    "    torch.bfloat16: 2**-8,\n",
    "    torch.float16: 2**-11,\n",
    "    torch.float32: 2**-24,\n",
    "    torch.float64: 2**-53,\n",
    "}\n",
    "\n",
    "\n",
    "@jit.script\n",
    "def relative_error(xhat: Tensor, x_true: Tensor) -> Tensor:\n",
    "    eps: float = {\n",
    "        torch.bfloat16: 2**-8,\n",
    "        torch.float16: 2**-11,\n",
    "        torch.float32: 2**-24,\n",
    "        torch.float64: 2**-53,\n",
    "    }[xhat.dtype]\n",
    "    return torch.abs(xhat - x_true) / (torch.abs(x_true) + eps)\n",
    "\n",
    "\n",
    "relative_error(torch.randn(5), torch.randn(5))"
   ]
  },
  {
   "cell_type": "code",
   "execution_count": null,
   "metadata": {},
   "outputs": [],
   "source": [
    "torch.randn(5).abs()"
   ]
  },
  {
   "cell_type": "code",
   "execution_count": null,
   "metadata": {
    "tags": []
   },
   "outputs": [],
   "source": [
    "import linodenet"
   ]
  },
  {
   "cell_type": "code",
   "execution_count": null,
   "metadata": {
    "tags": []
   },
   "outputs": [],
   "source": [
    "B, M, N = 4, 3, 3\n",
    "x = torch.randn(B, M)\n",
    "\n",
    "# setup reference model\n",
    "reference_model = nn.Linear(M, N, bias=False)\n",
    "symmetrized_weight = symmetric(reference_model.weight)\n",
    "reference_model.weight = nn.Parameter(symmetrized_weight)\n",
    "assert is_symmetric(reference_model.weight)\n",
    "\n",
    "# setup vanilla model\n",
    "model = nn.Linear(M, N, bias=False)\n",
    "with torch.no_grad():\n",
    "    model.weight.copy_(reference_model.weight)\n",
    "\n",
    "# check compatibility\n",
    "check_model(model, input_args=(x,), reference_model=reference_model, test_jit=True)\n",
    "\n",
    "# now, parametrize\n",
    "weight = model.weight\n",
    "param = Parametrize(weight, symmetric)\n",
    "param.zero_grad(set_to_none=True)\n",
    "model.weight = param.parametrized_tensor\n",
    "model.param = param\n",
    "\n",
    "# check compatibility\n",
    "check_model(model, input_args=(x,), reference_model=reference_model, test_jit=True)"
   ]
  },
  {
   "cell_type": "code",
   "execution_count": null,
   "metadata": {
    "tags": []
   },
   "outputs": [],
   "source": [
    "m, n = 5, 5\n",
    "tensor = torch.randn(m, n)\n",
    "weight = nn.Parameter(tensor)\n",
    "param = Parametrize(weight, symmetric)\n",
    "param.zero_grad(set_to_none=True)"
   ]
  },
  {
   "cell_type": "code",
   "execution_count": null,
   "metadata": {
    "tags": []
   },
   "outputs": [],
   "source": [
    "model = nn.Linear(m, n)\n",
    "weight = model.weight\n",
    "param = Parametrize(weight, symmetric)\n",
    "param.zero_grad(set_to_none=True)\n",
    "model.weight = param.parametrized_tensor\n",
    "model.param = param\n",
    "summary(model)"
   ]
  },
  {
   "cell_type": "code",
   "execution_count": null,
   "metadata": {
    "tags": []
   },
   "outputs": [],
   "source": []
  },
  {
   "cell_type": "code",
   "execution_count": null,
   "metadata": {
    "tags": []
   },
   "outputs": [],
   "source": [
    "model = nn.Linear(m, n, bias=False)\n",
    "with torch.no_grad():\n",
    "    model.weight.copy_(reference_model.weight)"
   ]
  },
  {
   "cell_type": "code",
   "execution_count": null,
   "metadata": {
    "tags": []
   },
   "outputs": [],
   "source": [
    "x = torch.randn(7, m)\n",
    "check_model(model, input_args=(x,), reference_model=reference_model, test_jit=True)"
   ]
  },
  {
   "cell_type": "markdown",
   "metadata": {},
   "source": [
    "## now, parametrize"
   ]
  },
  {
   "cell_type": "code",
   "execution_count": null,
   "metadata": {},
   "outputs": [],
   "source": [
    "im"
   ]
  },
  {
   "cell_type": "code",
   "execution_count": null,
   "metadata": {},
   "outputs": [],
   "source": []
  },
  {
   "cell_type": "code",
   "execution_count": null,
   "metadata": {},
   "outputs": [],
   "source": []
  },
  {
   "cell_type": "code",
   "execution_count": null,
   "metadata": {
    "tags": []
   },
   "outputs": [],
   "source": [
    "weight = model.weight\n",
    "param = Parametrize(weight, symmetric)\n",
    "param.zero_grad(set_to_none=True)\n",
    "model.weight = param.parametrized_tensor\n",
    "model.param = param\n",
    "check_model(model, input_args=(x,), reference_model=reference_model, test_jit=True)"
   ]
  }
 ],
 "metadata": {
  "kernelspec": {
   "display_name": "Python 3 (ipykernel)",
   "language": "python",
   "name": "python3"
  },
  "language_info": {
   "codemirror_mode": {
    "name": "ipython",
    "version": 3
   },
   "file_extension": ".py",
   "mimetype": "text/x-python",
   "name": "python",
   "nbconvert_exporter": "python",
   "pygments_lexer": "ipython3",
   "version": "3.11.6"
  }
 },
 "nbformat": 4,
 "nbformat_minor": 4
}
