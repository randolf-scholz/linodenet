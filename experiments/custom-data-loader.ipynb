{
 "cells": [
  {
   "cell_type": "markdown",
   "id": "4340cc9c-9439-4ce3-8f20-397e5506884f",
   "metadata": {},
   "source": [
    "# DataLoader:\n",
    "\n",
    "\n",
    "- should be able to handle: real data, categorical data.\n",
    "- pytorch-forecasting: batching only by sequence length => lacks batching by time interval (e.g. \"get all time steps within the last 60 minutes\")"
   ]
  },
  {
   "cell_type": "code",
   "execution_count": 1,
   "id": "3eb16a14-223f-4cbf-a08f-83a1649d9d96",
   "metadata": {},
   "outputs": [],
   "source": [
    "%load_ext autoreload\n",
    "%autoreload 2"
   ]
  },
  {
   "cell_type": "code",
   "execution_count": 2,
   "id": "5ce25be9-0756-4d2d-93a9-e2030d819ed8",
   "metadata": {},
   "outputs": [],
   "source": [
    "import torch\n",
    "import numpy as np\n",
    "import pandas as pd\n",
    "from pandas import DataFrame, Series, Timestamp, Timedelta, DatetimeIndex\n",
    "from pandas.tseries.offsets import DateOffset\n",
    "\n",
    "pd.set_option('display.max_rows', 5)"
   ]
  },
  {
   "cell_type": "code",
   "execution_count": 3,
   "id": "93cf478a-2645-412d-8e8b-6a79fd0ac23f",
   "metadata": {},
   "outputs": [],
   "source": [
    "from tsdm.datasets import Electricity\n",
    "\n",
    "X = Electricity.dataset\n",
    "X"
   ]
  },
  {
   "cell_type": "code",
   "execution_count": 4,
   "id": "666be7f4-9955-4750-8426-24661617572e",
   "metadata": {},
   "outputs": [],
   "source": [
    "from tsdm.util import time2int, make_dense_triplets\n",
    "\n",
    "df = make_dense_triplets(X).reset_index()\n",
    "df"
   ]
  },
  {
   "cell_type": "code",
   "execution_count": 5,
   "id": "77bd85b7-e25f-4781-808c-294808ecdfca",
   "metadata": {},
   "outputs": [],
   "source": [
    "split_dates = [Timestamp(\"2014-09-01\"), Timestamp(\"2014-03-31\"), X.index[-1]-DateOffset(days=7)]\n",
    "assert Series(split_dates).isin(X.index).all()\n",
    "split = split_dates[-1]\n",
    "\n",
    "X_TRAIN = X.loc[:split].copy()\n",
    "X_TEST  = X.loc[split:].copy()\n",
    "X_TRAIN"
   ]
  },
  {
   "cell_type": "markdown",
   "id": "b3a372ef-45e7-4465-8998-51aeab62582a",
   "metadata": {},
   "source": [
    "# Pre-processing"
   ]
  },
  {
   "cell_type": "markdown",
   "id": "d4ea3202-ebd3-465b-93a9-79bccb90d593",
   "metadata": {},
   "source": [
    "## Option 1: aggregation via sum /mean"
   ]
  },
  {
   "cell_type": "code",
   "execution_count": 6,
   "id": "9c2edc34-b8ca-451b-8d28-1185ec338312",
   "metadata": {},
   "outputs": [],
   "source": [
    "X_TRAIN.resample('1H').sum()\n",
    "X_TEST.resample('1H').mean()"
   ]
  },
  {
   "cell_type": "markdown",
   "id": "3d4f54a1-4d0f-4cfb-9d29-06025f344c60",
   "metadata": {},
   "source": [
    "## Option 2: Normalization"
   ]
  },
  {
   "cell_type": "code",
   "execution_count": 7,
   "id": "da5dd5b0-6a7f-4a49-b897-fa4631acf8f5",
   "metadata": {},
   "outputs": [],
   "source": [
    "from sklearn.preprocessing import StandardScaler, MinMaxScaler\n",
    "X_TRAIN = X.loc[:split].copy()\n",
    "X_TEST  = X.loc[split:].copy()\n",
    "\n",
    "scaler = MinMaxScaler()\n",
    "scaler.fit(X_TRAIN)\n",
    "X_TRAIN.loc[:] = scaler.transform(X_TRAIN)\n",
    "X_TEST.loc[:] = scaler.transform(X_TEST)\n",
    "X_TRAIN"
   ]
  },
  {
   "cell_type": "code",
   "execution_count": 8,
   "id": "beb903d1-fd68-40a2-bd47-715135356947",
   "metadata": {},
   "outputs": [],
   "source": [
    "h_train = np.timedelta64(7, 'D')\n",
    "h_pred = np.timedelta64(24, 'h')\n",
    "\n",
    "lower = X.index[0]\n",
    "upper = X.index[-1] - h_train - h_pred\n",
    "mask = (X.index >= lower) & (X.index <= upper)\n",
    "t_range = X.index[mask]\n",
    "BATCHSIZE = 3\n",
    "\n",
    "ini = np.random.choice(t_range)\n",
    "mid = ini + h_train\n",
    "end = ini + h_train + h_pred\n",
    "train_mask = (X.index >= ini) & (X.index < mid)\n",
    "train_time = X.index[train_mask]\n",
    "train_data = X.loc[train_time]\n",
    "valid_mask = (X.index >= mid) & (X.index < end)\n",
    "valid_time = X.index[valid_mask]\n",
    "valid_data = X.loc[valid_time]"
   ]
  }
 ],
 "metadata": {
  "kernelspec": {
   "display_name": "Python 3",
   "language": "python",
   "name": "python3"
  },
  "language_info": {
   "codemirror_mode": {
    "name": "ipython",
    "version": 3
   },
   "file_extension": ".py",
   "mimetype": "text/x-python",
   "name": "python",
   "nbconvert_exporter": "python",
   "pygments_lexer": "ipython3",
   "version": "3.9.4"
  }
 },
 "nbformat": 4,
 "nbformat_minor": 5
}
