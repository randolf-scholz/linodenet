{
 "cells": [
  {
   "cell_type": "code",
   "execution_count": null,
   "id": "de3c04ec-9727-464e-953f-0ae954415170",
   "metadata": {},
   "outputs": [],
   "source": []
  },
  {
   "cell_type": "markdown",
   "id": "4340cc9c-9439-4ce3-8f20-397e5506884f",
   "metadata": {},
   "source": [
    "## Train Test Split"
   ]
  },
  {
   "cell_type": "code",
   "execution_count": 5,
   "id": "5ce25be9-0756-4d2d-93a9-e2030d819ed8",
   "metadata": {},
   "outputs": [],
   "source": [
    "from pandas import DataFrame, Series, Timestamp, Timedelta, DatetimeIndex\n",
    "from pandas.tseries.offsets import DateOffset"
   ]
  },
  {
   "cell_type": "code",
   "execution_count": 6,
   "id": "77bd85b7-e25f-4781-808c-294808ecdfca",
   "metadata": {},
   "outputs": [],
   "source": [
    "split_dates = [Timestamp(\"2014-09-01\"), Timestamp(\"2014-03-31\"), X.index[-1]-DateOffset(days=7)]\n",
    "assert Series(split_dates).isin(X.index).all()\n",
    "split = split_dates[-1]\n",
    "\n",
    "X_TRAIN = X.loc[:split].copy()\n",
    "X_TEST  = X.loc[split:].copy()\n",
    "X_TRAIN"
   ]
  },
  {
   "cell_type": "markdown",
   "id": "b3a372ef-45e7-4465-8998-51aeab62582a",
   "metadata": {},
   "source": [
    "# Pre-processing"
   ]
  },
  {
   "cell_type": "markdown",
   "id": "d4ea3202-ebd3-465b-93a9-79bccb90d593",
   "metadata": {},
   "source": [
    "## Option 1: aggregation via sum /mean"
   ]
  },
  {
   "cell_type": "code",
   "execution_count": 7,
   "id": "9c2edc34-b8ca-451b-8d28-1185ec338312",
   "metadata": {},
   "outputs": [],
   "source": [
    "X_TRAIN.resample('1H').sum()\n",
    "X_TEST.resample('1H').mean()"
   ]
  },
  {
   "cell_type": "markdown",
   "id": "3d4f54a1-4d0f-4cfb-9d29-06025f344c60",
   "metadata": {},
   "source": [
    "## Option 2: Normalization"
   ]
  },
  {
   "cell_type": "code",
   "execution_count": 8,
   "id": "da5dd5b0-6a7f-4a49-b897-fa4631acf8f5",
   "metadata": {},
   "outputs": [],
   "source": [
    "from sklearn.preprocessing import StandardScaler, MinMaxScaler\n",
    "X_TRAIN = X.loc[:split].copy()\n",
    "X_TEST  = X.loc[split:].copy()\n",
    "\n",
    "scaler = MinMaxScaler()\n",
    "scaler.fit(X_TRAIN)\n",
    "X_TRAIN.loc[:] = scaler.transform(X_TRAIN)\n",
    "X_TEST.loc[:] = scaler.transform(X_TEST)\n",
    "X_TRAIN"
   ]
  },
  {
   "cell_type": "code",
   "execution_count": 9,
   "id": "c7b3f5ce-12ef-4750-88cb-e4d4031c6a55",
   "metadata": {},
   "outputs": [],
   "source": [
    "h_train = np.timedelta64(7, 'D')"
   ]
  },
  {
   "cell_type": "code",
   "execution_count": 10,
   "id": "ddc225a4-7746-4e21-8f27-c747613bce3d",
   "metadata": {},
   "outputs": [],
   "source": [
    "h_pred = np.timedelta64(24, 'h')"
   ]
  },
  {
   "cell_type": "code",
   "execution_count": null,
   "id": "beb903d1-fd68-40a2-bd47-715135356947",
   "metadata": {},
   "outputs": [],
   "source": [
    "lower = X.index[0]\n",
    "upper = X.index[-1] - h_train - h_pred\n",
    "mask = (X.index >= lower) & (X.index <= upper)\n",
    "t_range = X.index[mask]\n",
    "BATCHSIZE = 3\n",
    "\n",
    "\n",
    "ini = np.random.choice(t_range)\n",
    "mid = start + h_train\n",
    "end = start + h_train + h_pred\n",
    "train_mask = (X.index >= ini) & (X.index < mid)\n",
    "train_time = X.index[train_mask]\n",
    "train_data = X.loc[train_time]\n",
    "valid_mask = (X.index >= mid) & (X.index < end)\n",
    "valid_time = X.index[valid_mask]\n",
    "valid_data = X.loc[valid_time]\n",
    "\n",
    "\n"
   ]
  },
  {
   "cell_type": "code",
   "execution_count": null,
   "id": "9c6ee600-3f48-467b-b081-4c0369785be1",
   "metadata": {},
   "outputs": [],
   "source": [
    "from torch.utils.data import Dataset, DataLoader, SequentialSampler"
   ]
  },
  {
   "cell_type": "code",
   "execution_count": null,
   "id": "e2171353-9a2f-40e2-9259-6bf3c46181c9",
   "metadata": {},
   "outputs": [],
   "source": [
    "# TODO: test model with list comprehension vs model with batched tensor."
   ]
  },
  {
   "cell_type": "code",
   "execution_count": null,
   "id": "8fc1f1b6-0de7-436c-b698-fa4dc0eb2136",
   "metadata": {},
   "outputs": [],
   "source": [
    "X.loc[train_time]"
   ]
  },
  {
   "cell_type": "code",
   "execution_count": null,
   "id": "b7aa4e1d-1b54-4b4e-8981-1950e982d39a",
   "metadata": {},
   "outputs": [],
   "source": [
    "time_range = X_TRAIN.index"
   ]
  },
  {
   "cell_type": "code",
   "execution_count": null,
   "id": "d96b4268-0e6f-4bb0-b1f2-8feccda374a9",
   "metadata": {},
   "outputs": [],
   "source": []
  }
 ],
 "metadata": {
  "kernelspec": {
   "display_name": "Python 3",
   "language": "python",
   "name": "python3"
  },
  "language_info": {
   "codemirror_mode": {
    "name": "ipython",
    "version": 3
   },
   "file_extension": ".py",
   "mimetype": "text/x-python",
   "name": "python",
   "nbconvert_exporter": "python",
   "pygments_lexer": "ipython3",
   "version": "3.9.4"
  }
 },
 "nbformat": 4,
 "nbformat_minor": 5
}
