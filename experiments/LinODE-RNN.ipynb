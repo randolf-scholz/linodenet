{
  "cells": [
    {
      "cell_type": "markdown",
      "id": "39292b04-30c3-49c2-8715-9b0a966e0737",
      "metadata": {},
      "source": [
        "# Optimizing Performance by using torchscript to jit-compile ODE model\n",
        "\n",
        "We make use of the details provided at https://pytorch.org/blog/optimizing-cuda-rnn-with-torchscript/"
      ]
    },
    {
      "cell_type": "code",
      "execution_count": 1,
      "id": "64443b5e-7410-4344-9b40-1cdc71d500f9",
      "metadata": {},
      "outputs": [],
      "source": [
        "%config InlineBackend.figure_format = 'retina'"
      ]
    },
    {
      "cell_type": "code",
      "execution_count": 2,
      "id": "331c37ea-d9d5-4457-9ff1-23159c5dde43",
      "metadata": {
        "tags": []
      },
      "outputs": [],
      "source": [
        "import pandas\n",
        "import torch\n",
        "import torchdiffeq\n",
        "from torch import Tensor, nn, jit, optim\n",
        "from torch.nn import GRUCell\n",
        "import numpy as np\n",
        "from opt_einsum import contract\n",
        "from tqdm.auto import trange\n",
        "from typing import Union, Callable\n",
        "from scipy import stats\n",
        "import matplotlib.pyplot as plt\n",
        "from scipy.integrate import odeint\n",
        "from typing import Final"
      ]
    },
    {
      "cell_type": "code",
      "execution_count": 3,
      "id": "dacb010c-87fb-42c2-90f5-7bd2bdadaebf",
      "metadata": {},
      "outputs": [],
      "source": [
        "import tsdm\n",
        "from tsdm.util import deep_dict_update\n",
        "from linodenet.models import (\n",
        "    LinODEnet,\n",
        "    LinODE,\n",
        "    LinODECell,\n",
        "    iResNet,\n",
        "    iResNetBlock,\n",
        "    LinearContraction,\n",
        ")\n",
        "from linodenet import init"
      ]
    },
    {
      "cell_type": "code",
      "execution_count": 4,
      "id": "5a771014-73ce-4f47-b225-a3e990289a13",
      "metadata": {},
      "outputs": [],
      "source": [
        "b, n, k, l = 20, 5, 7, 3\n",
        "X = torch.randn(b, k)\n",
        "T = torch.randn(b)\n",
        "\u0394T = torch.diff(T)"
      ]
    },
    {
      "cell_type": "code",
      "execution_count": 5,
      "id": "3f386121-a360-43f7-a1c0-3acc72e3a7e7",
      "metadata": {},
      "outputs": [],
      "source": [
        "model = LinearContraction(k, l)\n",
        "model(X).shape"
      ]
    },
    {
      "cell_type": "code",
      "execution_count": 6,
      "id": "dc125445-9029-4c03-9822-880b0fb28891",
      "metadata": {},
      "outputs": [],
      "source": [
        "model = iResNetBlock(k)\n",
        "model(X).shape"
      ]
    },
    {
      "cell_type": "code",
      "execution_count": 11,
      "id": "f9c568d9-f956-4f1d-94f4-0f8733847e29",
      "metadata": {},
      "outputs": [],
      "source": [
        "model = iResNet(k)\n",
        "model(X).shape\n",
        "torch.linalg.norm(model(model.inverse(X)) - X)"
      ]
    },
    {
      "cell_type": "code",
      "execution_count": 8,
      "id": "ad0cb095-af20-4285-a66e-0062da279f4b",
      "metadata": {},
      "outputs": [],
      "source": [
        "model = GRUCell(2 * k, k)\n",
        "x = X[[0]]\n",
        "mask = torch.isnan(x)\n",
        "c = torch.cat([x, mask], dim=-1)\n",
        "x.shape, c.shape"
      ]
    },
    {
      "cell_type": "code",
      "execution_count": 9,
      "id": "bbdd74a7-8aa8-4e1a-bac2-6fe3d84c5246",
      "metadata": {},
      "outputs": [],
      "source": [
        "model = LinODECell(k)\n",
        "model(\u0394T[0], X[0])"
      ]
    },
    {
      "cell_type": "code",
      "execution_count": 14,
      "id": "0c9ec345-0a27-4f61-9744-6c4991d6d066",
      "metadata": {},
      "outputs": [],
      "source": [
        "model = LinODE(k)\n",
        "model(X[0], \u0394T).shape"
      ]
    },
    {
      "cell_type": "code",
      "execution_count": 13,
      "id": "a2db7f25-28a4-4570-997a-d228d3333937",
      "metadata": {},
      "outputs": [],
      "source": [
        "model = LinODEnet(k, 2 * k)\n",
        "model(T, X).shape"
      ]
    },
    {
      "cell_type": "code",
      "execution_count": 11,
      "id": "8c1fea0c-6916-4b5d-9f45-f0f47efe7e23",
      "metadata": {},
      "outputs": [],
      "source": [
        "X.shape, T.shape\n",
        "x0 = torch.where(torch.isnan(X[0]), torch.zeros(1), X[0])\n",
        "x0.shape"
      ]
    },
    {
      "cell_type": "code",
      "execution_count": 12,
      "id": "5016e0d4-bafa-4b53-967e-5f638869aeeb",
      "metadata": {},
      "outputs": [],
      "source": [
        "model = LinODE_RNN(input_size=10, hidden_size=20)\n",
        "model(T, X)"
      ]
    },
    {
      "cell_type": "code",
      "execution_count": 69,
      "id": "93977ebc-5702-49db-a91b-d03aee2219e1",
      "metadata": {},
      "outputs": [],
      "source": [
        "df = tsdm.load_dataset(\"electricity\")\n",
        "\u0394T = np.diff(df.index)\n",
        "\u0394t = \u0394T[0].astype(\"timedelta64[m]\")\n",
        "assert np.all(\u0394T == \u0394t)\n",
        "N, M = df.shape\n",
        "# remove first year from the data (useless zeros)\n",
        "span = np.timedelta64(365, \"D\") // \u0394t - 1\n",
        "df = df.iloc[span:]"
      ]
    },
    {
      "cell_type": "code",
      "execution_count": 70,
      "id": "71aaadbc-a808-4c5e-86db-1b31ee6c6c3e",
      "metadata": {},
      "outputs": [],
      "source": [
        "time = df.index\n",
        "\n",
        "time[0], time[-1]"
      ]
    },
    {
      "cell_type": "code",
      "execution_count": 75,
      "id": "4fa2b5c2-0223-4c91-aab1-b614ff48f93a",
      "metadata": {},
      "outputs": [],
      "source": [
        "pandas."
      ]
    },
    {
      "cell_type": "code",
      "execution_count": 78,
      "id": "c49b7398-653a-445f-976d-597b150e9926",
      "metadata": {},
      "outputs": [],
      "source": [
        "from pandas import DataFrame, Timestamp, Timedelta\n",
        "from pandas.tseries.offsets import DateOffset"
      ]
    },
    {
      "cell_type": "code",
      "execution_count": 79,
      "id": "2abd45a7-68c9-41a8-8429-3d97204b2fea",
      "metadata": {},
      "outputs": [],
      "source": [
        "df.index[0] - Timestamp(\"2014-03-31\")"
      ]
    },
    {
      "cell_type": "code",
      "execution_count": null,
      "id": "251b62a0-64b5-4ce3-8261-650ecb4a637b",
      "metadata": {},
      "outputs": [],
      "source": [
        "# see N-BEATS paper\n",
        "split_dates = [Timestamp(\"2014-09-01\"), Timestamp(\"2014-03-31\"), df.index[0]-DateOffset(days=7)]\n",
        "\n",
        "2014_09_01\n",
        "date_7d\n",
        "\n",
        "\n",
        "\n",
        "X_TEST = df.loc[]\n"
      ]
    },
    {
      "cell_type": "code",
      "execution_count": 34,
      "id": "ae0b0c79-48de-475e-a1bc-2ae466d72f17",
      "metadata": {},
      "outputs": [],
      "source": [
        "final_time = time[-1]\n",
        "final_time, final_time - DateOffset(months=1)"
      ]
    },
    {
      "cell_type": "code",
      "execution_count": 15,
      "id": "6dddb4b9-d15f-4bde-b975-a3e2973792ae",
      "metadata": {},
      "outputs": [],
      "source": [
        "X = torch.tensor(df.values)"
      ]
    },
    {
      "cell_type": "code",
      "execution_count": 16,
      "id": "c60b45b3-de5a-4fb0-86e4-178c0e7723e7",
      "metadata": {},
      "outputs": [],
      "source": [
        "LEN = 100"
      ]
    },
    {
      "cell_type": "code",
      "execution_count": 17,
      "id": "ae4013ea-8463-4eb1-b06c-9b77ff8961ff",
      "metadata": {},
      "outputs": [],
      "source": [
        "model = LinODE_RNN(input_size=370, hidden_size=400)\n",
        "optimizer = optim.Adamax(model.parameters(), lr=0.001)"
      ]
    },
    {
      "cell_type": "code",
      "execution_count": 18,
      "id": "2b657392-f3df-44b6-9fab-121c04901329",
      "metadata": {},
      "outputs": [],
      "source": [
        "for n in (pbar := trange(1000)):\n",
        "    optimizer.zero_grad()\n",
        "\n",
        "    pbar.set_postfix({key: float(val) for key, val in train_res.items()})\n",
        "    train_res[\"loss\"].backward()\n",
        "    optimizer.step()"
      ]
    },
    {
      "cell_type": "code",
      "execution_count": 135,
      "id": "ed8bebb4-83a5-4b21-97b1-31b1e953ed64",
      "metadata": {},
      "outputs": [],
      "source": [
        "n = 1000\n",
        "x = np.random.randn(n)\n",
        "for k in range(5):\n",
        "    A = np.eye(n) + np.random.normal(loc=0, scale=1 / n, size=(n, n))\n",
        "    y = A @ x\n",
        "    print(f\"{y.mean():.6f}  {y.std():.6f}\")"
      ]
    },
    {
      "cell_type": "code",
      "execution_count": 144,
      "id": "675ba302-5f5e-4a58-8ece-08cd96ccf416",
      "metadata": {},
      "outputs": [],
      "source": [
        "SHAPE = (5, 5, 5, 5)\n",
        "DIM = 5"
      ]
    },
    {
      "cell_type": "code",
      "execution_count": null,
      "id": "36446f7e-220c-491f-ae22-2728aacacf04",
      "metadata": {},
      "outputs": [],
      "source": []
    },
    {
      "cell_type": "code",
      "execution_count": null,
      "id": "5118c4f1-0c1d-4182-86a6-8b8b8618d4a9",
      "metadata": {},
      "outputs": [],
      "source": []
    }
  ],
  "metadata": {
    "kernelspec": {
      "display_name": "Python 3",
      "language": "python",
      "name": "python3"
    },
    "language_info": {
      "codemirror_mode": {
        "name": "ipython",
        "version": 3
      },
      "file_extension": ".py",
      "mimetype": "text/x-python",
      "name": "python",
      "nbconvert_exporter": "python",
      "pygments_lexer": "ipython3",
      "version": "3.9.4"
    }
  },
  "nbformat": 4,
  "nbformat_minor": 5
}
