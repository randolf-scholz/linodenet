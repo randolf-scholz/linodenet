{
 "cells": [
  {
   "cell_type": "markdown",
   "metadata": {},
   "source": [
    "# Singular Triplet via Riemannian optimization\n",
    "\n",
    "\n",
    "Exponential map on the n-sphere: $\\gamma(t) = \\cos(\\|\\vec{v}\\|t) \\vec{p} + \\sin(\\|\\vec{v}\\|t) \\frac{\\vec{v}}{\\|\\vec{v}\\|}$  (see: https://math.stackexchange.com/a/1930880/99220)\n",
    "\n",
    "Exponential map on the product manifold: $\\exp_{U×V} = \\expᵤ × \\expᵥ$  (https://math.stackexchange.com/q/2354500/99220)\n",
    "\n",
    "\n",
    "Therefore, on the (m,n)-torus $𝕋_{m,n} = 𝕊_m×𝕊_n$, we should have:\n",
    "\n",
    "\n",
    "The exponential map at point $\\vec{p}=(\\vec{u}, \\vec{v})$ in direction $\\vec{g}=(\\vec{g}ᵤ, \\vec{g}ᵥ$\n",
    "\n",
    "Is given by: \n",
    "\n",
    "$$γ(t) = \\begin{pmatrix} \n",
    "    \\cos(\\|\\vec{g}ᵤ\\|t) \\vec{u} + \\sin(\\|\\vec{g}ᵤ\\|t) \\frac{\\vec{g}ᵤ}{\\|\\vec{g}ᵤ\\|} \n",
    "    \\\\ \\cos(\\|\\vec{g}ᵥ\\|t) \\vec{v} + \\sin(\\|\\vec{g}ᵥ\\|t) \\frac{\\vec{g}ᵥ}{\\|\\vec{g}ᵥ\\|}\n",
    "\\end{pmatrix}$$"
   ]
  },
  {
   "cell_type": "markdown",
   "metadata": {
    "collapsed": false
   },
   "source": [
    "## Application to maximal singular triplet\n",
    "\n",
    "recall that we want to find the optimum of\n",
    "\n",
    "$$\\max_{\\vec{u}, \\vec{v}} \\vec{u}ᵀ A \\vec{v} \\qquad{s.t.}\\qquad  ‖u‖=1 ‖v‖=1$$\n",
    "\n",
    "Which can be rephrased as\n",
    "\n",
    "$$\\max_{\\vec{u}, \\vec{v}} \\vec{u}ᵀ A \\vec{v} \\qquad{s.t.}\\qquad (u,v)∈𝕋_{m,n} $$"
   ]
  },
  {
   "cell_type": "code",
   "execution_count": 1,
   "metadata": {},
   "outputs": [],
   "source": [
    "%config InteractiveShell.ast_node_interactivity='last_expr_or_assign'"
   ]
  },
  {
   "cell_type": "code",
   "execution_count": 2,
   "metadata": {},
   "outputs": [],
   "source": [
    "import torch\n",
    "import matplotlib.pyplot as plt\n",
    "import numpy as np\n",
    "import math\n",
    "\n",
    "M, N = 8, 4\n",
    "torch.manual_seed(0)\n",
    "A = torch.randn(M, N) / torch.sqrt(torch.tensor(N))\n",
    "\n",
    "\n",
    "def outer(t, x):\n",
    "    \"\"\"Outer product of a tensor and a vector.\"\"\"\n",
    "    return torch.einsum(\"..., d -> ...d\", t, x)\n",
    "\n",
    "\n",
    "def exp_map_torus(t, u, v, gu, gv):\n",
    "    \"\"\"Exponential map on the (m,n)-torus 𝕋_{m,n} = 𝕊_m×𝕊_n.\"\"\"\n",
    "    sigmaᵤ = gu.norm(dim=-1, keepdim=True)\n",
    "    sigmaᵥ = gv.norm(dim=-1, keepdim=True)\n",
    "    t = torch.as_tensor(t, dtype=torch.float32, device=u.device)\n",
    "\n",
    "    return (\n",
    "        outer(t, sigmaᵤ).cos() * u + outer(t, sigmaᵤ).sin() * gu / sigmaᵤ,\n",
    "        outer(t, sigmaᵥ).cos() * v + outer(t, sigmaᵥ).sin() * gv / sigmaᵥ,\n",
    "    )\n",
    "\n",
    "\n",
    "def get_tangent(u, v):\n",
    "    \"\"\"compute the gradient at (u,v) and return the tangent vector.\"\"\"\n",
    "    gᵤ = A @ v\n",
    "    gᵥ = A.T @ u\n",
    "\n",
    "    # orthogonalize\n",
    "    gᵤ -= u.dot(gᵤ) * u\n",
    "    gᵥ -= v.dot(gᵥ) * v\n",
    "\n",
    "    assert torch.allclose(\n",
    "        u.dot(gᵤ), torch.zeros_like(u), atol=1e-6\n",
    "    ), f\"u is not orthogonal to gᵤ {u.dot(gᵤ)}\"\n",
    "    assert torch.allclose(\n",
    "        v.dot(gᵥ), torch.zeros_like(v), atol=1e-6\n",
    "    ), f\"v is not orthogonal to gᵥ {v.dot(gᵥ)}\"\n",
    "\n",
    "    return gᵤ, gᵥ\n",
    "\n",
    "\n",
    "def get_exponential_map(u, v):\n",
    "    \"\"\"Exponential map on the (m,n)-torus 𝕋_{m,n} = 𝕊_m×𝕊_n.\"\"\"\n",
    "    gᵤ, gᵥ = get_tangent(u, v)\n",
    "    print(f\"Wavelength ωᵤ: {2*torch.pi / gᵤ.norm():.4f}\")\n",
    "    print(f\"Wavelength ωᵥ: {2*torch.pi / gᵥ.norm():.4f}\")\n",
    "    return lambda t: exp_map_torus(t, u, v, gᵤ, gᵥ)\n",
    "\n",
    "\n",
    "def get_wavelength(u, v):\n",
    "    gᵤ, gᵥ = get_tangent(u, v)\n",
    "    return 2 * torch.pi / gᵤ.norm(), 2 * torch.pi / gᵥ.norm()\n",
    "\n",
    "\n",
    "def get_sol(u, v):\n",
    "    \"\"\"Get optimal t value for both u and v (independently).\"\"\"\n",
    "    # $λ=‖gᵤ‖$, $a≔uᵀ A v=σᵤ$ and $b≔\\frac{gᵤᵀ A v}{λ}$\n",
    "    gᵤ, gᵥ = get_tangent(u, v)\n",
    "    λᵤ = gᵤ.norm()\n",
    "    aᵤ = u.dot(A.mv(v))\n",
    "    bᵤ = gᵤ.dot(A.mv(v)) / λᵤ\n",
    "    τᵤ = torch.atan2(bᵤ, aᵤ) / λᵤ\n",
    "    λᵥ = gᵥ.norm()\n",
    "    aᵥ = v.dot(A.t().mv(u))\n",
    "    bᵥ = gᵥ.dot(A.t().mv(u)) / λᵥ\n",
    "    τᵥ = torch.atan2(bᵥ, aᵥ) / λᵥ\n",
    "    print(f\"Phase      τᵤ: {τᵤ:.4f}\")\n",
    "    print(f\"Phase      τᵥ: {τᵥ:.4f}\")\n",
    "    return τᵤ, τᵥ\n",
    "\n",
    "\n",
    "def value(u, v):\n",
    "    return torch.einsum(\"...m, mn, ...n -> ...\", u, A, v)"
   ]
  },
  {
   "cell_type": "code",
   "execution_count": 3,
   "metadata": {},
   "outputs": [
    {
     "data": {
      "text/plain": [
       "tensor([ 0.0968,  0.6379, -0.6513, -0.3993])"
      ]
     },
     "execution_count": 3,
     "metadata": {},
     "output_type": "execute_result"
    }
   ],
   "source": [
    "# initial guess\n",
    "u = torch.randn(M)\n",
    "v = torch.randn(N)\n",
    "u /= u.norm()\n",
    "v /= v.norm()"
   ]
  },
  {
   "cell_type": "code",
   "execution_count": 4,
   "metadata": {},
   "outputs": [
    {
     "name": "stdout",
     "output_type": "stream",
     "text": [
      "Wavelength ωᵤ: 3.8813\n",
      "Wavelength ωᵥ: 8.0626\n",
      "Phase      τᵤ: 1.0248\n",
      "Phase      τᵥ: 2.2489\n"
     ]
    },
    {
     "data": {
      "text/plain": [
       "[<matplotlib.lines.Line2D at 0x7f552fcaf5e0>]"
      ]
     },
     "execution_count": 4,
     "metadata": {},
     "output_type": "execute_result"
    },
    {
     "data": {
      "image/png": "[encoded data removed]",
      "text/plain": [
       "<Figure size 800x400 with 1 Axes>"
      ]
     },
     "metadata": {},
     "output_type": "display_data"
    }
   ],
   "source": [
    "# update u only\n",
    "t = torch.linspace(-1, 10, steps=1000)\n",
    "func = get_exponential_map(u, v)\n",
    "\n",
    "u_new, v_new = func(t)\n",
    "z = value(u_new, v)\n",
    "λᵤ, λᵥ = get_wavelength(u, v)\n",
    "τᵤ, τᵥ = get_sol(u, v)\n",
    "u1, _ = func(τᵤ)\n",
    "u2, _ = func(τᵤ + λᵤ / 2)\n",
    "\n",
    "# make figure\n",
    "fig, ax = plt.subplots(figsize=(8, 4))\n",
    "ax.plot(t, z)\n",
    "_ = ax.plot([0, λᵤ], [0, 0], \"-rx\")\n",
    "_ = ax.plot(τᵤ, value(u1, v), \"-go\")\n",
    "_ = ax.plot(τᵤ + λᵤ / 2, value(u2, v), \"-ro\")"
   ]
  },
  {
   "cell_type": "code",
   "execution_count": 5,
   "metadata": {},
   "outputs": [
    {
     "name": "stdout",
     "output_type": "stream",
     "text": [
      "Wavelength ωᵤ: 3.8813\n",
      "Wavelength ωᵥ: 8.0626\n",
      "Phase      τᵤ: 1.0248\n",
      "Phase      τᵥ: 2.2489\n"
     ]
    },
    {
     "data": {
      "text/plain": [
       "[<matplotlib.lines.Line2D at 0x7f55269a8e20>]"
      ]
     },
     "execution_count": 5,
     "metadata": {},
     "output_type": "execute_result"
    },
    {
     "data": {
      "image/png": "[encoded data removed]",
      "text/plain": [
       "<Figure size 800x400 with 1 Axes>"
      ]
     },
     "metadata": {},
     "output_type": "display_data"
    }
   ],
   "source": [
    "# update v only\n",
    "t = torch.linspace(-1, 10, steps=1000)\n",
    "func = get_exponential_map(u, v)\n",
    "u_new, v_new = func(t)\n",
    "z = value(u, v_new)\n",
    "λᵤ, λᵥ = get_wavelength(u, v)\n",
    "τᵤ, τᵥ = get_sol(u, v)\n",
    "_, v1 = func(τᵥ)\n",
    "_, v2 = func(τᵥ + λᵥ / 2)\n",
    "\n",
    "# make figure\n",
    "fig, ax = plt.subplots(figsize=(8, 4))\n",
    "ax.plot(t, z)\n",
    "_ = ax.plot([0, λᵥ], [0, 0], \"-rx\")\n",
    "_ = ax.plot(τᵥ, value(u, v1), \"-go\")\n",
    "_ = ax.plot(τᵥ + λᵥ / 2, value(u, v2), \"-ro\")"
   ]
  },
  {
   "cell_type": "code",
   "execution_count": 6,
   "metadata": {},
   "outputs": [
    {
     "name": "stdout",
     "output_type": "stream",
     "text": [
      "Wavelength ωᵤ: 3.8813\n",
      "Wavelength ωᵥ: 8.0626\n"
     ]
    },
    {
     "data": {
      "text/plain": [
       "[<matplotlib.lines.Line2D at 0x7f55269ec430>]"
      ]
     },
     "execution_count": 6,
     "metadata": {},
     "output_type": "execute_result"
    },
    {
     "data": {
      "image/png": "[encoded data removed]",
      "text/plain": [
       "<Figure size 800x400 with 1 Axes>"
      ]
     },
     "metadata": {},
     "output_type": "display_data"
    }
   ],
   "source": [
    "# update both\n",
    "t = torch.linspace(-1, 10, steps=1000)\n",
    "func = get_exponential_map(u, v)\n",
    "z = value(*func(t))\n",
    "fig, ax = plt.subplots(figsize=(8, 4))\n",
    "_ = ax.plot(t, z)\n",
    "_ = ax.plot(τᵤ, value(u1, v), \"-go\")\n",
    "_ = ax.plot(τᵤ + λᵤ / 2, value(u2, v), \"-ro\")\n",
    "_ = ax.plot(τᵥ, value(u, v1), \"-go\")\n",
    "_ = ax.plot(τᵥ + λᵥ / 2, value(u, v2), \"-ro\")"
   ]
  },
  {
   "cell_type": "markdown",
   "metadata": {},
   "source": [
    "## Idea combined descent\n",
    "\n",
    "As the discussion of coordinate descent shows, we can find the solution sets:\n",
    "\n",
    "$$ t₁^* = τ₁ + ω₁ℤ  \\qquad t₂^* = τ₂ +ω₂ℤ $$\n",
    "\n",
    "Generally, $ω₁$ and $ω₂$ will not be rational multiples of each other, so we cannot find a common multiple of $ω₁$ and $ω₂$.\n",
    "However, we can find *approximate* least common multiples, i.e. we want to find integers $k₁$ and $k₂$ such that\n",
    "\n",
    "$$ τ₁ + ω₁k₁ ≈ τ₂ + k₂ω₂ $$\n",
    "\n",
    "or equivalently:\n",
    "\n",
    "$$ k₁ω₁ + k₂ω₂ ≈ δ = τ₁ - τ₂$$\n",
    "\n",
    "To make the problem well-posed, we need to constrain the magnitude of $k₁$ and $k₂$."
   ]
  },
  {
   "cell_type": "code",
   "execution_count": 7,
   "metadata": {},
   "outputs": [
    {
     "name": "stdout",
     "output_type": "stream",
     "text": [
      "tensor(3663.9202) tensor(7611.1387)\n"
     ]
    }
   ],
   "source": [
    "def best_rational_approx(x: float) -> tuple[int, int]:\n",
    "    \"\"\"Returns the best rational approximation of x with denominator <= 100.\"\"\"\n",
    "    x = float(x)\n",
    "    best = (0, 1)\n",
    "    for q in range(1, 100):\n",
    "        p = round(q * x)\n",
    "        if abs(x - p / q) < abs(x - best[0] / best[1]):\n",
    "            best = (p, q)\n",
    "    return best\n",
    "\n",
    "\n",
    "best_rational_approx(6.0479)\n",
    "\n",
    "\n",
    "def lcm_rational(x: float, y: float) -> tuple[int, int]:\n",
    "    \"\"\"Returns the least common multiple of the denominators of x and y.\"\"\"\n",
    "    x = float(x)\n",
    "    y = float(y)\n",
    "    _, q1 = best_rational_approx(x)\n",
    "    _, q2 = best_rational_approx(y)\n",
    "    return (q1 * q2) // math.gcd(q1, q2)\n",
    "\n",
    "\n",
    "num = lcm_rational(λᵤ, λᵥ)\n",
    "print(num * λᵤ, num * λᵥ)"
   ]
  },
  {
   "cell_type": "code",
   "execution_count": 8,
   "metadata": {},
   "outputs": [],
   "source": [
    "def best_rational_approx(x: float, d_max: int = 1000) -> tuple[int, int]:\n",
    "    \"\"\"Returns the best rational approximation of x with denominator <= d_max.\"\"\"\n",
    "    x = float(x)\n",
    "    pstar, qstar = (0, 1)\n",
    "    approx = pstar / qstar\n",
    "    for q in range(1, d_max):\n",
    "        p = round(q * x)\n",
    "        if abs(x - p / q) < abs(x - approx):\n",
    "            pstar, qstar = p, q\n",
    "            approx = pstar / qstar\n",
    "\n",
    "    approx = pstar / qstar\n",
    "    relerr = abs(x - approx) / abs(x)\n",
    "    print(\n",
    "        f\"approximation of {x:.4f} is {pstar}/{qstar}≈{approx:.4f}\",\n",
    "        f\"relative error: {relerr:.3e}\",\n",
    "    )\n",
    "    return pstar, qstar"
   ]
  },
  {
   "cell_type": "code",
   "execution_count": 9,
   "metadata": {},
   "outputs": [
    {
     "name": "stdout",
     "output_type": "stream",
     "text": [
      "approximation of 3.1709 is 130/41≈3.1707 relative error: 4.439e-05\n",
      "approximation of 6.5869 is 303/46≈6.5870 relative error: 5.505e-06\n"
     ]
    },
    {
     "data": {
      "text/plain": [
       "(tensor(-18658876.), tensor(18657950.))"
      ]
     },
     "execution_count": 9,
     "metadata": {},
     "output_type": "execute_result"
    }
   ],
   "source": [
    "# get time\n",
    "γ = max(τu, τv) - min(τu, τv)\n",
    "# consider normalized equation (ω₁/γ)k₁+(ω₂/γ)k₂=1\n",
    "p1, q1 = best_rational_approx(λᵤ / γ, 80)\n",
    "p2, q2 = best_rational_approx(λᵥ / γ, 80)\n",
    "c = math.lcm(q1, q2)\n",
    "\n",
    "\n",
    "def isolve(a, b, c):\n",
    "    \"\"\"Jim Carlson's solution to the linear diophantine equation ax+by=c\"\"\"\n",
    "    q, r = divmod(a, b)\n",
    "\n",
    "    if not r:\n",
    "        return 0, c // b\n",
    "\n",
    "    u, v = isolve(b, r, c)\n",
    "    return v, u - q * v\n",
    "\n",
    "\n",
    "k1, k2 = isolve(p1 * (c // q1), p2 * (c // q2), c)\n",
    "λᵤ * k1 + τᵤ, λᵥ * k2 + τᵥ"
   ]
  },
  {
   "cell_type": "code",
   "execution_count": 10,
   "metadata": {},
   "outputs": [
    {
     "name": "stdout",
     "output_type": "stream",
     "text": [
      "12423*t_0 - 4807414\n"
     ]
    }
   ],
   "source": [
    "import sympy as sp\n",
    "from sympy.solvers.diophantine.diophantine import diop_linear\n",
    "\n",
    "# solve linear diofantine equation\n",
    "k1, k2, t = sp.symbols(\"k1 k2 t\", integer=True)\n",
    "# sol = sp.solve(p1*k1/q1 + p2*k2/q2 -1, k1, k2)\n",
    "\n",
    "sol = diop_linear((k1 * p1) * (c // q1) + (k2 * p2) * (c // q2) - c, param=t)\n",
    "print(sol[0].subs(t, 1))"
   ]
  },
  {
   "cell_type": "code",
   "execution_count": 11,
   "metadata": {},
   "outputs": [
    {
     "data": {
      "text/latex": [
       "$\\displaystyle 5980 k_{1} + 12423 k_{2} - 1886$"
      ],
      "text/plain": [
       "5980*k1 + 12423*k2 - 1886"
      ]
     },
     "execution_count": 11,
     "metadata": {},
     "output_type": "execute_result"
    }
   ],
   "source": [
    "(k1 * p1) * (c // q1) + (k2 * p2) * (c // q2) - c"
   ]
  },
  {
   "cell_type": "code",
   "execution_count": 12,
   "metadata": {},
   "outputs": [
    {
     "data": {
      "text/plain": [
       "(-94, 46)"
      ]
     },
     "execution_count": 12,
     "metadata": {},
     "output_type": "execute_result"
    }
   ],
   "source": [
    "def solve_diophantine_approx(\n",
    "    w1: float, w2: float, c: float, bound: int = 100\n",
    ") -> tuple[int, int]:\n",
    "    \"\"\"Find integers k1, k2 such that k1*w1 + k2*w2 ≈ c.\"\"\"\n",
    "    w1 = float(w1)\n",
    "    w2 = float(w2)\n",
    "    c = float(c)\n",
    "    best = (0, 1)\n",
    "    for k1 in range(-bound, bound):\n",
    "        for k2 in range(-bound, bound):\n",
    "            if abs(k1 * w1 + k2 * w2 - c) < abs(best[0] * w1 + best[1] * w2 - c):\n",
    "                best = (k1, k2)\n",
    "    return best\n",
    "\n",
    "\n",
    "solve_diophantine_approx(λᵤ, λᵥ, 6.0479)"
   ]
  },
  {
   "cell_type": "markdown",
   "metadata": {},
   "source": [
    "## Idea: Coordinate Descent\n",
    "\n",
    "The advantage of only updating u or only updating v is that, since we know the frequency, it allows us to constrain to a finite interval.\n",
    "Moreover, we can prove that within this interval, since we are dealing with a sine-wave, there is precisely one global maximum and one global minimum.\n",
    "\n",
    "We are lucky: there is an analytic solution to the global maximum of the function, which is given by the following formula. Assuming $gᵤ∈𝕋𝕊$ is the normalized tangent vector,\n",
    "i.e. $⟨eᵤ∣u⟩=0$ and $‖eᵤ‖=1$, then the global maximum is given by\n",
    "\n",
    "$\\providecommand{\\sign}{\\operatorname{sign}}$\n",
    "$$\\begin{aligned}\n",
    "    \\max_t u(t)ᵀ A v \n",
    "       &= (\\cos(λt) u + \\sin(λt) eᵤ)^⊤ Av\n",
    "    \\\\ &= (uᵀ A v)\\cos(λt) + (eᵤᵀ A v)\\sin(λt) \n",
    "    \\\\ &= a\\cos(λt) + b\\sin(λt)\n",
    "\\end{aligned}$$\n",
    "\n",
    "Where $λ=‖gᵤ‖$, $a≔uᵀ A v$ and $b≔(eᵤᵀ A v)$. \n",
    "\n",
    "There are two critical points:\n",
    "\n",
    "$$t_{1,2}^* = \\{\\tfrac{1}{λ}\\arctan(\\tfrac{b}{a})，\\tfrac{1}{λ}\\arctan(\\tfrac{b}{a}) + \\tfrac{π}{λ}\\}$$\n",
    "\n",
    "which gives the function values\n",
    "\n",
    "$$ f(t_{1,2}^*) = \\{\\sign(a) \\sqrt{a² + b²}, - \\sign(a) \\sqrt{a² + b²}\\}$$\n",
    "\n",
    "In particular, if $a>0$, then $t_1^*$ is the global maximum, and $t_2^*$ is the global minimum, else vice versa. The coefficients $\\cos(λt)$ and $\\sin(λt)$ are then given by\n",
    "\n",
    "$$\\begin{aligned}\n",
    "    \\cos(λt_1^*) &= +\\sign(a)\\frac{a}{\\sqrt{a² + b²}} \n",
    "    &\\qquad \\sin(λt_1^*) &= +\\sign(a)\\frac{b}{\\sqrt{a² + b²}} \n",
    "    \\\\ \\cos(λt_2^*) &= -\\sign(a)\\frac{a}{\\sqrt{a² + b²}}\n",
    "    &\\qquad \\sin(λt_2^*) &= -\\sign(a)\\frac{b}{\\sqrt{a² + b²}}\n",
    "\\end{aligned}$$\n",
    "\n",
    "\n",
    "In particular, since $t^* ≔ t_1^*$ if $a>0$ and $t^*≔t_2^*$ if $a<0$ it follows that\n",
    "\n",
    "$$\\left.\\begin{aligned}\n",
    "    \\cos(λt^*) &= \\frac{a}{\\sqrt{a² + b²}} \n",
    "    \\\\\\sin(λt^*) &= \\frac{b}{\\sqrt{a² + b²}}\n",
    "\\end{aligned}\\right\\rbrace \n",
    "⟹ u(t^*) = \\frac{a}{\\sqrt{a² + b²}}u + \\frac{b}{\\sqrt{a² + b²}}\\frac{g_u}{‖g_u‖}\n",
    "$$\n",
    "\n",
    "-----\n",
    "\n",
    "Note that if we replace $\\arctan(b/a)$ with the atan2 function, we can avoid the sign (essentially hiding it inside atan2), and we get the two solutions \n",
    "\n",
    "$$ f(t_{1,2}^*) = ±\\sqrt{a² + b²}$$\n",
    "\n",
    "Thus $t^*≔t_1^*$ is always the global maximum when using atan2.\n",
    "\n",
    "The coefficients $\\cos(λt^*)$ and $\\sin(λt^*)$ are then given by\n",
    "\n",
    "$$\\begin{aligned}\n",
    "    \\cos(λt^*) &= \\frac{a}{\\sqrt{a² + b²}}\n",
    "    &\\qquad \\sin(λt^*) &= \\frac{b}{\\sqrt{a² + b²}}\n",
    "\\end{aligned}$$\n",
    "\n",
    "which agrees with the previous result."
   ]
  },
  {
   "cell_type": "markdown",
   "metadata": {},
   "source": [
    "### Resubstitute\n",
    "\n",
    "Plugging the values $λ=‖gᵤ‖$, $a≔uᵀ A v=σᵤ$ and $b≔eᵤᵀAv=ρᵤ$, where $eᵤ = \\frac{gᵤ}{‖gᵤ‖}$ and $gᵤ=Av-σᵤu$, back in gives, with some simplification:\n",
    "\n",
    "$$\\begin{aligned}\n",
    "    u(t^*) &= &= \\frac{σᵤ}{\\sqrt{σᵤ² + ρᵤ²}}u + \\frac{ρᵤ}{\\sqrt{σᵤ² + ρᵤ²}}eᵤ\n",
    "\\end{aligned}$$\n",
    "\n",
    "Since we are using floating point numbers and need to ensure normality, we can use the following formula:\n",
    "\n",
    "$$\\begin{aligned}\n",
    "    u(t^*) &= σᵤu + ρᵤeᵤ\n",
    "    & u(t^*) &= u(t^*)/‖u(t^*)‖\n",
    "\\end{aligned}$$\n",
    "\n",
    "Note that \n",
    "\n",
    "$$\\begin{aligned}\n",
    " ρᵤ = eᵤᵀ A v = \\tfrac{1}{‖gᵤ‖} gᵤᵀAv = \\tfrac{1}{‖gᵤ‖}(Av - σᵤ u)ᵀAv = \\tfrac{‖Av‖² - σᵤ²}{‖gᵤ‖}\n",
    "\\end{aligned}$$\n",
    "\n",
    "Thus\n",
    "\n",
    "$$\\begin{aligned}\n",
    " ρᵤeᵤ = \\tfrac{‖Av‖² - σᵤ²}{‖gᵤ‖}\\frac{gᵤ}{‖gᵤ‖} = \\frac{‖Av‖² - σᵤ²}{‖gᵤ‖²}gᵤ\n",
    "\\end{aligned}$$\n",
    "\n",
    "There is an issue here: since the gradient converges to zero, we are potentially dividing by zero. Fortunately, the formula simplifies:\n",
    "\n",
    "$$\n",
    "\\frac{‖Av‖² - σᵤ²}{‖gᵤ‖²}\n",
    "= \\frac{‖Av‖² - σᵤ²}{‖Av - σᵤu‖²}\n",
    "= \\frac{‖Av‖² - σᵤ²}{‖Av‖² - 2⟨Av∣σᵤu⟩ + σᵤ²}\n",
    "= \\frac{‖Av‖² - σᵤ²}{‖Av‖² - σᵤ²}\n",
    "= 1\n",
    "$$\n",
    "\n",
    "Therefore, the update formula is given by\n",
    "\n",
    "$$\n",
    "\\boxed{u' = \\frac{σᵤ}{\\sqrt{1+σᵤ²}}u + \\frac{1}{\\sqrt{1+σᵤ²}}gᵤ}\n",
    "$$\n",
    "\n",
    "Moreover, we can first compute $u' = σᵤu + gᵤ$ and then normalize it.\n",
    "Since $gᵤ=Av-σᵤu$, we have $u' = σᵤu + Av - σᵤu = Av$.\n",
    "\n",
    "$$\\boxed{u' = \\operatorname{normalize}(Av)$$\n",
    "\n",
    "Therefore, the power-iteration is precisely Riemannian coordinate descent!\n",
    "\n",
    "\n",
    "which allows us to save a matrix-vector multiplication. However, this may be less numerically stable.\n",
    "\n",
    "Moreover, the stopping criterion is given by\n",
    "\n",
    "$$ ‖gᵤ‖ < α + βσᵤ ⟺ ρᵤ < α + βσᵤ $$\n",
    "\n",
    "Note: both $σᵤ>0$ and $ρᵤ>0$ are guaranteed mathematically, but might need special attention numerically.\n",
    "\n",
    "$$\\begin{aligned}\n",
    "    ρᵤ &= \\frac{‖Av‖² - σᵤ²}{‖gᵤ‖} \n",
    "    \\\\ &= \\frac{‖Av‖² - σᵤ²}{‖Av - σᵤ u‖}\n",
    "    \\\\ &= \\frac{‖dᵤ‖² - uᵀAv²}{‖Av - uᵀAv u‖}\n",
    "\\end{aligned}$$\n",
    "\n",
    "\n",
    "<!-- \n",
    "$$\\begin{aligned}\n",
    "    \\cos(λt^*) &= \\frac{a}{\\sqrt{a² + b²}} &&= \\frac{λσᵤ}{\\sqrt{(λσᵤ)² + (gᵤᵀ A v)²}}\n",
    "    \\\\ \\sin(λt^*) &= \\frac{b}{\\sqrt{a² + b²}} &&= \\frac{gᵤᵀ A v}{\\sqrt{(λσᵤ)² + (gᵤᵀ A v)²}}\n",
    "\\end{aligned}$$\n",
    "\n",
    "Note that\n",
    "\n",
    "$$\\begin{aligned}\n",
    " gᵤᵀ A v = (Av - σᵤ u)ᵀ Av = ‖Av‖² - σᵤ² = ‖dᵤ‖² - σᵤ²\n",
    "\\end{aligned}$$\n",
    "\n",
    "In particular: $\\frac{gᵤᵀ A v}{‖gᵤ‖} = \\frac{‖dᵤ‖²-σᵤ² }{‖dᵤ-σᵤ u‖}$\n",
    "\n",
    "\n",
    "With some calculation:\n",
    "\n",
    "$$ \\sqrt{(λσᵤ)² + (gᵤᵀ A v)²} = ‖Av‖\\sqrt{‖Av‖²+σᵤ²} $$ -->\n"
   ]
  },
  {
   "cell_type": "markdown",
   "metadata": {},
   "source": [
    "## Pseudocode\n",
    "\n",
    "```pseudo\n",
    "for k in range(1, max_iter):\n",
    "    { # update u\n",
    "        # compute gradient\n",
    "        dᵤ = A v\n",
    "        # compute tangent vector\n",
    "        σᵤ = ⟨u∣dᵤ⟩\n",
    "        eᵤ = dᵤ - σᵤ⋅u\n",
    "        λᵤ = ‖gᵤ‖\n",
    "        eᵤ = gᵤ/λᵤ\n",
    "        ρᵤ = ⟨eᵤ∣dᵤ⟩\n",
    "        # compute coefficients\n",
    "        γᵤ = sqrt(σᵤ² + ρᵤ²)\n",
    "        # update u\n",
    "        u = (σᵤ/γᵤ) u + (ρᵤ/γᵤ) gᵤ\n",
    "        # ensure norm is 1 (optional?!)\n",
    "        u = u / ‖u‖\n",
    "        converged = λᵤ < α + βσᵤ\n",
    "    }\n",
    "    { # update v\n",
    "        # compute gradient\n",
    "        dᵥ = Aᵀ u\n",
    "        # compute tangent vector\n",
    "        σᵥ = vᵀ dᵥ\n",
    "        gᵥ = dᵥ - σᵥ⋅v\n",
    "        # compute coefficients\n",
    "        a = uᵀ A v  # identical to σᵥ!\n",
    "        b = uᵀ A gᵥ\n",
    "        c = sqrt(a² + b²)\n",
    "        # update v\n",
    "        v = (a/c) v + (b/c) gᵥ\n",
    "        # ensure norm is 1\n",
    "        v = v / ‖v‖\n",
    "        converged &= ‖gᵥ‖< α+βσᵥ\n",
    "    }\n",
    "    if converged:\n",
    "        break\n",
    "```"
   ]
  },
  {
   "cell_type": "markdown",
   "metadata": {},
   "source": [
    "\n",
    "## Convergence\n",
    "\n",
    "Note that as $gᵤ = Av - u (uᵀ Av) = Av - σu$ goes to zero, then b→0, and thus $t^*→0$.\n",
    "\n",
    "Testing convergence should be done by checking the norm of the gradient:\n",
    "\n",
    "$$ ‖∇f(x)‖ ≤ α + β‖f(x)‖ $$\n",
    "\n",
    "This termination criteration comes from the Polyak-Łojasiewicz (PL) condition, which states that for a function $f$ to be PL, there must exist constants $μ>0$ such that\n",
    "\n",
    "$$ \\frac{1}{2}‖∇f(x)‖² ≥ μ(f(x)-f(x^*)) $$\n",
    "\n",
    "Roughly, on a global scale the function must be bounded quadratic.\n",
    "\n",
    "## Coordinate invariant stopping criterion\n",
    "\n",
    "The stopping criterion should be scale invariant, i.e. if we changed units, say from meters to kilometers, then the stopping criterion should not change. In other words, it ought to be invariant under the transformation $f → λ⋅f$ for any $λ>0$. In particular, the naive gradient stopping criterion $‖∇f(x)‖<ε$ is not invariant! Instead, we can consider the following stopping criterion:\n",
    "\n",
    "$$ ‖∇f(x)‖ < β |f(x)| $$\n",
    "\n",
    "Which is invariant.  However, note that this is only reasonable to do if $f$ is non-negative, since otherwise we could just make $f$ arbitrarily negative, and then the stopping criterion would be trivially satisfied.\n",
    "\n",
    "In this case it simplifies to\n",
    "\n",
    "$$ ‖∇f(x)‖ < β f(x) $$\n",
    "\n",
    "For some small constant $β>0$. However, also this variant has a deficit: if $∇f(x)$ decays not fast enough as $x→0$, then the stopping criterion will not be satisfied. For example, if $f(x)=x²$, it becomes $2|x| < β x²$, which, for small enough $x$, is never satisfiable.\n",
    "\n",
    "Therefore, one can consider adding an absolute tolerance, i.e. the stopping criterion becomes\n",
    "\n",
    "$$ ‖∇f(x)‖ < α + β f(x) $$\n",
    "\n",
    "For some small positive constants $α$ and $β$.\n"
   ]
  },
  {
   "cell_type": "markdown",
   "metadata": {},
   "source": [
    "\n",
    "In case of the singular triplet, the tangent-gradient vectors are given by\n",
    "\n",
    "$$\\begin{aligned}\n",
    "    gᵤ &= Av - u (uᵀ Av) = Av - σu\n",
    "    \\\\ gᵥ &= Aᵀ u - v (vᵀ Aᵀ u) = Aᵀ u - σv\n",
    "\\end{aligned}$$\n",
    "\n",
    "So the stopping criterion becomes\n",
    "\n",
    "$$ ‖(Av - σu, Aᵀ u - σv)‖ < α + β σ $$\n",
    "\n",
    "which is however awkward to use. Instead, we can test two separate stopping criteria:\n",
    "\n",
    "$$\\begin{aligned}\n",
    "       ‖Av - σu‖    &< α + β σ\n",
    "    \\\\ ‖Aᵀ u - σv‖ &< α + β σ\n",
    "\\end{aligned}$$\n",
    "\n",
    "Now, plugging in the iterates, we get\n",
    "\n",
    "$$\\begin{aligned}\n",
    "       ‖gᵤ‖ &< α + β σᵤ\n",
    "    \\\\ ‖gᵥ‖ &< α + β σᵥ\n",
    "\\end{aligned}$$\n",
    "\n",
    "On a whole, this means that the algorithm only needs ~(2m+2n) memory.\n",
    "\n",
    "\n"
   ]
  },
  {
   "cell_type": "markdown",
   "metadata": {},
   "source": [
    "## Simplifications\n",
    "\n",
    "1. $a=σᵤ$ and $b=‖Av‖²-σᵤ²=‖dᵤ‖²-σᵤ²=ρᵤ²-σᵤ²$, hence $c=\\sqrt{σᵤ² + (‖dᵤ‖²-σᵤ²)} = ‖dᵤ‖$\n",
    "\n",
    "```pseudo\n",
    "for k in range(1, max_iter):\n",
    "    { # update u\n",
    "        # compute gradient\n",
    "        dᵤ = A v\n",
    "        # compute tangent vector\n",
    "        σᵤ = uᵀ dᵤ\n",
    "        gᵤ = dᵤ - σᵤ ⋅ u \n",
    "        # compute coefficients\n",
    "        a = uᵀ A v\n",
    "        b = gᵤᵀ A v \n",
    "        c = ‖dᵤ‖\n",
    "        # update u\n",
    "        u = (a/c) u + (b/c) gᵤ\n",
    "        # ensure norm is 1\n",
    "        u = u / ‖u‖\n",
    "    }\n",
    "    { # update v\n",
    "        # compute gradient\n",
    "        dᵥ = Aᵀ u\n",
    "        # compute tangent vector\n",
    "        σᵥ = vᵀ dᵥ\n",
    "        gᵥ = dᵥ - σᵥ⋅v\n",
    "        # compute coefficients\n",
    "        a = uᵀ A v  # identical to σᵥ!\n",
    "        b = uᵀ A gᵥ\n",
    "        c = sqrt(a² + b²)\n",
    "        # update v\n",
    "        v = (a/c) v + (b/c) gᵥ\n",
    "        # ensure norm is 1\n",
    "        v = v / ‖v‖\n",
    "    }\n",
    "    if ‖gᵤ‖< α+βσᵤ and ‖gᵥ‖< α+βσᵥ:\n",
    "        break\n",
    "```\n"
   ]
  }
 ],
 "metadata": {
  "kernelspec": {
   "display_name": "Python 3 (ipykernel)",
   "language": "python",
   "name": "python3"
  },
  "language_info": {
   "codemirror_mode": {
    "name": "ipython",
    "version": 3
   },
   "file_extension": ".py",
   "mimetype": "text/x-python",
   "name": "python",
   "nbconvert_exporter": "python",
   "pygments_lexer": "ipython3",
   "version": "3.10.11"
  }
 },
 "nbformat": 4,
 "nbformat_minor": 4
}
