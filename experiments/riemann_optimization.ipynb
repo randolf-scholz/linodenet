{
  "cells": [
    {
      "cell_type": "markdown",
      "metadata": {},
      "source": [
        "# Singular Triplet via Riemannian optimization\n",
        "\n",
        "\n",
        "Exponential map on the n-sphere: $\\gamma(t) = \\cos(\\|\\vec{v}\\|t) \\vec{p} + \\sin(\\|\\vec{v}\\|t) \\frac{\\vec{v}}{\\|\\vec{v}\\|}$  (see: https://math.stackexchange.com/a/1930880/99220)\n",
        "\n",
        "Exponential map on the product manifold: $\\exp_{U\u00d7V} = \\exp\u1d64 \u00d7 \\exp\u1d65$  (https://math.stackexchange.com/q/2354500/99220)\n",
        "\n",
        "\n",
        "Therefore, on the (m,n)-torus $\ud835\udd4b_{m,n} = \ud835\udd4a_m\u00d7\ud835\udd4a_n$, we should have:\n",
        "\n",
        "\n",
        "The exponential map at point $\\vec{p}=(\\vec{u}, \\vec{v})$ in direction $\\vec{g}=(\\vec{g}\u1d64, \\vec{g}\u1d65$\n",
        "\n",
        "Is given by: \n",
        "\n",
        "$$\u03b3(t) = \\begin{pmatrix} \n",
        "    \\cos(\\|\\vec{g}\u1d64\\|t) \\vec{u} + \\sin(\\|\\vec{g}\u1d64\\|t) \\frac{\\vec{g}\u1d64}{\\|\\vec{g}\u1d64\\|} \n",
        "    \\\\ \\cos(\\|\\vec{g}\u1d65\\|t) \\vec{v} + \\sin(\\|\\vec{g}\u1d65\\|t) \\frac{\\vec{g}\u1d65}{\\|\\vec{g}\u1d65\\|}\n",
        "\\end{pmatrix}$$"
      ]
    },
    {
      "cell_type": "markdown",
      "metadata": {
        "collapsed": false
      },
      "source": [
        "## Application to maximal singular triplet\n",
        "\n",
        "recall that we want to find the optimum of\n",
        "\n",
        "$$\\max_{\\vec{u}, \\vec{v}} \\vec{u}\u1d40 A \\vec{v} \\qquad{s.t.}\\qquad  \u2016u\u2016=1 \u2016v\u2016=1$$\n",
        "\n",
        "Which can be rephrased as\n",
        "\n",
        "$$\\max_{\\vec{u}, \\vec{v}} \\vec{u}\u1d40 A \\vec{v} \\qquad{s.t.}\\qquad (u,v)\u2208\ud835\udd4b_{m,n} $$"
      ]
    },
    {
      "cell_type": "code",
      "execution_count": 1,
      "metadata": {},
      "outputs": [],
      "source": [
        "%config InteractiveShell.ast_node_interactivity='last_expr_or_assign'"
      ]
    },
    {
      "cell_type": "code",
      "execution_count": 2,
      "metadata": {},
      "outputs": [],
      "source": [
        "import torch\n",
        "import matplotlib.pyplot as plt\n",
        "import numpy as np\n",
        "import math\n",
        "\n",
        "M, N = 8, 4\n",
        "torch.manual_seed(0)\n",
        "A = torch.randn(M, N) / torch.sqrt(torch.tensor(N))\n",
        "\n",
        "\n",
        "def outer(t, x):\n",
        "    \"\"\"Outer product of a tensor and a vector.\"\"\"\n",
        "    return torch.einsum(\"..., d -> ...d\", t, x)\n",
        "\n",
        "\n",
        "def exp_map_torus(t, u, v, gu, gv):\n",
        "    \"\"\"Exponential map on the (m,n)-torus \ud835\udd4b_{m,n} = \ud835\udd4a_m\u00d7\ud835\udd4a_n.\"\"\"\n",
        "    sigma\u1d64 = gu.norm(dim=-1, keepdim=True)\n",
        "    sigma\u1d65 = gv.norm(dim=-1, keepdim=True)\n",
        "    t = torch.as_tensor(t, dtype=torch.float32, device=u.device)\n",
        "\n",
        "    return (\n",
        "        outer(t, sigma\u1d64).cos() * u + outer(t, sigma\u1d64).sin() * gu / sigma\u1d64,\n",
        "        outer(t, sigma\u1d65).cos() * v + outer(t, sigma\u1d65).sin() * gv / sigma\u1d65,\n",
        "    )\n",
        "\n",
        "\n",
        "def get_tangent(u, v):\n",
        "    \"\"\"compute the gradient at (u,v) and return the tangent vector.\"\"\"\n",
        "    g\u1d64 = A @ v\n",
        "    g\u1d65 = A.T @ u\n",
        "\n",
        "    # orthogonalize\n",
        "    g\u1d64 -= u.dot(g\u1d64) * u\n",
        "    g\u1d65 -= v.dot(g\u1d65) * v\n",
        "\n",
        "    assert torch.allclose(\n",
        "        u.dot(g\u1d64), torch.zeros_like(u), atol=1e-6\n",
        "    ), f\"u is not orthogonal to g\u1d64 {u.dot(g\u1d64)}\"\n",
        "    assert torch.allclose(\n",
        "        v.dot(g\u1d65), torch.zeros_like(v), atol=1e-6\n",
        "    ), f\"v is not orthogonal to g\u1d65 {v.dot(g\u1d65)}\"\n",
        "\n",
        "    return g\u1d64, g\u1d65\n",
        "\n",
        "\n",
        "def get_exponential_map(u, v):\n",
        "    \"\"\"Exponential map on the (m,n)-torus \ud835\udd4b_{m,n} = \ud835\udd4a_m\u00d7\ud835\udd4a_n.\"\"\"\n",
        "    g\u1d64, g\u1d65 = get_tangent(u, v)\n",
        "    print(f\"Wavelength \u03c9\u1d64: {2*torch.pi / g\u1d64.norm():.4f}\")\n",
        "    print(f\"Wavelength \u03c9\u1d65: {2*torch.pi / g\u1d65.norm():.4f}\")\n",
        "    return lambda t: exp_map_torus(t, u, v, g\u1d64, g\u1d65)\n",
        "\n",
        "\n",
        "def get_wavelength(u, v):\n",
        "    g\u1d64, g\u1d65 = get_tangent(u, v)\n",
        "    return 2 * torch.pi / g\u1d64.norm(), 2 * torch.pi / g\u1d65.norm()\n",
        "\n",
        "\n",
        "def get_sol(u, v):\n",
        "    \"\"\"Get optimal t value for both u and v (independently).\"\"\"\n",
        "    # $\u03bb=\u2016g\u1d64\u2016$, $a\u2254u\u1d40 A v=\u03c3\u1d64$ and $b\u2254\\frac{g\u1d64\u1d40 A v}{\u03bb}$\n",
        "    g\u1d64, g\u1d65 = get_tangent(u, v)\n",
        "    \u03bb\u1d64 = g\u1d64.norm()\n",
        "    a\u1d64 = u.dot(A.mv(v))\n",
        "    b\u1d64 = g\u1d64.dot(A.mv(v)) / \u03bb\u1d64\n",
        "    \u03c4\u1d64 = torch.atan2(b\u1d64, a\u1d64) / \u03bb\u1d64\n",
        "    \u03bb\u1d65 = g\u1d65.norm()\n",
        "    a\u1d65 = v.dot(A.t().mv(u))\n",
        "    b\u1d65 = g\u1d65.dot(A.t().mv(u)) / \u03bb\u1d65\n",
        "    \u03c4\u1d65 = torch.atan2(b\u1d65, a\u1d65) / \u03bb\u1d65\n",
        "    print(f\"Phase      \u03c4\u1d64: {\u03c4\u1d64:.4f}\")\n",
        "    print(f\"Phase      \u03c4\u1d65: {\u03c4\u1d65:.4f}\")\n",
        "    return \u03c4\u1d64, \u03c4\u1d65\n",
        "\n",
        "\n",
        "def value(u, v):\n",
        "    return torch.einsum(\"...m, mn, ...n -> ...\", u, A, v)"
      ]
    },
    {
      "cell_type": "code",
      "execution_count": 3,
      "metadata": {},
      "outputs": [
        {
          "data": {
            "text/plain": [
              "tensor([ 0.0968,  0.6379, -0.6513, -0.3993])"
            ]
          },
          "execution_count": 3,
          "metadata": {},
          "output_type": "execute_result"
        }
      ],
      "source": [
        "# initial guess\n",
        "u = torch.randn(M)\n",
        "v = torch.randn(N)\n",
        "u /= u.norm()\n",
        "v /= v.norm()"
      ]
    },
    {
      "cell_type": "code",
      "execution_count": 4,
      "metadata": {},
      "outputs": [
        {
          "name": "stdout",
          "output_type": "stream",
          "text": [
            "Wavelength \u03c9\u1d64: 3.8813\n",
            "Wavelength \u03c9\u1d65: 8.0626\n",
            "Phase      \u03c4\u1d64: 1.0248\n",
            "Phase      \u03c4\u1d65: 2.2489\n"
          ]
        },
        {
          "data": {
            "text/plain": [
              "[<matplotlib.lines.Line2D at 0x7f3ac6670550>]"
            ]
          },
          "execution_count": 4,
          "metadata": {},
          "output_type": "execute_result"
        },
        {
          "data": {
            "image/png": "[encoded data removed]",
            "text/plain": [
              "<Figure size 800x400 with 1 Axes>"
            ]
          },
          "metadata": {},
          "output_type": "display_data"
        }
      ],
      "source": [
        "# update u only\n",
        "t = torch.linspace(-1, 10, steps=1000)\n",
        "func = get_exponential_map(u, v)\n",
        "\n",
        "u_new, v_new = func(t)\n",
        "z = value(u_new, v)\n",
        "\u03bb\u1d64, \u03bb\u1d65 = get_wavelength(u, v)\n",
        "\u03c4\u1d64, \u03c4\u1d65 = get_sol(u, v)\n",
        "u1, _ = func(\u03c4\u1d64)\n",
        "u2, _ = func(\u03c4\u1d64 + \u03bb\u1d64 / 2)\n",
        "\n",
        "# make figure\n",
        "fig, ax = plt.subplots(figsize=(8, 4))\n",
        "ax.plot(t, z)\n",
        "_ = ax.plot([0, \u03bb\u1d64], [0, 0], \"-rx\")\n",
        "_ = ax.plot(\u03c4\u1d64, value(u1, v), \"-go\")\n",
        "_ = ax.plot(\u03c4\u1d64 + \u03bb\u1d64 / 2, value(u2, v), \"-ro\")"
      ]
    },
    {
      "cell_type": "code",
      "execution_count": 5,
      "metadata": {},
      "outputs": [
        {
          "name": "stdout",
          "output_type": "stream",
          "text": [
            "Wavelength \u03c9\u1d64: 3.8813\n",
            "Wavelength \u03c9\u1d65: 8.0626\n",
            "Phase      \u03c4\u1d64: 1.0248\n",
            "Phase      \u03c4\u1d65: 2.2489\n"
          ]
        },
        {
          "data": {
            "text/plain": [
              "[<matplotlib.lines.Line2D at 0x7f3ac4511f10>]"
            ]
          },
          "execution_count": 5,
          "metadata": {},
          "output_type": "execute_result"
        },
        {
          "data": {
            "image/png": "[encoded data removed]",
            "text/plain": [
              "<Figure size 800x400 with 1 Axes>"
            ]
          },
          "metadata": {},
          "output_type": "display_data"
        }
      ],
      "source": [
        "# update v only\n",
        "t = torch.linspace(-1, 10, steps=1000)\n",
        "func = get_exponential_map(u, v)\n",
        "u_new, v_new = func(t)\n",
        "z = value(u, v_new)\n",
        "\u03bb\u1d64, \u03bb\u1d65 = get_wavelength(u, v)\n",
        "\u03c4\u1d64, \u03c4\u1d65 = get_sol(u, v)\n",
        "_, v1 = func(\u03c4\u1d65)\n",
        "_, v2 = func(\u03c4\u1d65 + \u03bb\u1d65 / 2)\n",
        "\n",
        "# make figure\n",
        "fig, ax = plt.subplots(figsize=(8, 4))\n",
        "ax.plot(t, z)\n",
        "_ = ax.plot([0, \u03bb\u1d65], [0, 0], \"-rx\")\n",
        "_ = ax.plot(\u03c4\u1d65, value(u, v1), \"-go\")\n",
        "_ = ax.plot(\u03c4\u1d65 + \u03bb\u1d65 / 2, value(u, v2), \"-ro\")"
      ]
    },
    {
      "cell_type": "code",
      "execution_count": 9,
      "metadata": {},
      "outputs": [
        {
          "data": {
            "text/plain": [
              "(tensor(1.0248), tensor(2.2489), tensor(2.9655), tensor(6.2802))"
            ]
          },
          "execution_count": 9,
          "metadata": {},
          "output_type": "execute_result"
        }
      ],
      "source": [
        "\u03c4\u1d64, \u03c4\u1d65, \u03c4\u1d64 + \u03bb\u1d64 / 2, \u03c4\u1d65 + \u03bb\u1d65 / 2"
      ]
    },
    {
      "cell_type": "code",
      "execution_count": 6,
      "metadata": {},
      "outputs": [
        {
          "name": "stdout",
          "output_type": "stream",
          "text": [
            "Wavelength \u03c9\u1d64: 3.8813\n",
            "Wavelength \u03c9\u1d65: 8.0626\n"
          ]
        },
        {
          "data": {
            "text/plain": [
              "[<matplotlib.lines.Line2D at 0x7f3ac43b3050>]"
            ]
          },
          "execution_count": 6,
          "metadata": {},
          "output_type": "execute_result"
        },
        {
          "data": {
            "image/png": "[encoded data removed]",
            "text/plain": [
              "<Figure size 800x400 with 1 Axes>"
            ]
          },
          "metadata": {},
          "output_type": "display_data"
        }
      ],
      "source": [
        "# update both\n",
        "t = torch.linspace(-1, 10, steps=1000)\n",
        "func = get_exponential_map(u, v)\n",
        "z = value(*func(t))\n",
        "fig, ax = plt.subplots(figsize=(8, 4))\n",
        "_ = ax.plot(t, z)\n",
        "_ = ax.plot(\u03c4\u1d64, value(u1, v), \"-go\")\n",
        "_ = ax.plot(\u03c4\u1d64 + \u03bb\u1d64 / 2, value(u2, v), \"-ro\")\n",
        "_ = ax.plot(\u03c4\u1d65, value(u, v1), \"-go\")\n",
        "_ = ax.plot(\u03c4\u1d65 + \u03bb\u1d65 / 2, value(u, v2), \"-ro\")"
      ]
    },
    {
      "cell_type": "markdown",
      "metadata": {},
      "source": [
        "## Idea combined descent\n",
        "\n",
        "As the discussion of coordinate descent shows, we can find the solution sets:\n",
        "\n",
        "$$ t\u2081^* = \u03c4\u2081 + \u03c9\u2081\u2124  \\qquad t\u2082^* = \u03c4\u2082 +\u03c9\u2082\u2124 $$\n",
        "\n",
        "Generally, $\u03c9\u2081$ and $\u03c9\u2082$ will not be rational multiples of each other, so we cannot find a common multiple of $\u03c9\u2081$ and $\u03c9\u2082$.\n",
        "However, we can find *approximate* least common multiples, i.e. we want to find integers $k\u2081$ and $k\u2082$ such that\n",
        "\n",
        "$$ \u03c4\u2081 + \u03c9\u2081k\u2081 \u2248 \u03c4\u2082 + k\u2082\u03c9\u2082 $$\n",
        "\n",
        "or equivalently:\n",
        "\n",
        "$$ k\u2081\u03c9\u2081 + k\u2082\u03c9\u2082 \u2248 \u03b4 = \u03c4\u2081 - \u03c4\u2082$$\n",
        "\n",
        "To make the problem well-posed, we need to constrain the magnitude of $k\u2081$ and $k\u2082$."
      ]
    },
    {
      "cell_type": "code",
      "execution_count": 7,
      "metadata": {},
      "outputs": [
        {
          "name": "stdout",
          "output_type": "stream",
          "text": [
            "tensor(3663.9202) tensor(7611.1387)\n"
          ]
        }
      ],
      "source": [
        "def best_rational_approx(x: float) -> tuple[int, int]:\n",
        "    \"\"\"Returns the best rational approximation of x with denominator <= 100.\"\"\"\n",
        "    x = float(x)\n",
        "    best = (0, 1)\n",
        "    for q in range(1, 100):\n",
        "        p = round(q * x)\n",
        "        if abs(x - p / q) < abs(x - best[0] / best[1]):\n",
        "            best = (p, q)\n",
        "    return best\n",
        "\n",
        "\n",
        "best_rational_approx(6.0479)\n",
        "\n",
        "\n",
        "def lcm_rational(x: float, y: float) -> tuple[int, int]:\n",
        "    \"\"\"Returns the least common multiple of the denominators of x and y.\"\"\"\n",
        "    x = float(x)\n",
        "    y = float(y)\n",
        "    _, q1 = best_rational_approx(x)\n",
        "    _, q2 = best_rational_approx(y)\n",
        "    return (q1 * q2) // math.gcd(q1, q2)\n",
        "\n",
        "\n",
        "num = lcm_rational(\u03bb\u1d64, \u03bb\u1d65)\n",
        "print(num * \u03bb\u1d64, num * \u03bb\u1d65)"
      ]
    },
    {
      "cell_type": "code",
      "execution_count": 8,
      "metadata": {},
      "outputs": [],
      "source": [
        "def best_rational_approx(x: float, d_max: int = 1000) -> tuple[int, int]:\n",
        "    \"\"\"Returns the best rational approximation of x with denominator <= d_max.\"\"\"\n",
        "    x = float(x)\n",
        "    pstar, qstar = (0, 1)\n",
        "    approx = pstar / qstar\n",
        "    for q in range(1, d_max):\n",
        "        p = round(q * x)\n",
        "        if abs(x - p / q) < abs(x - approx):\n",
        "            pstar, qstar = p, q\n",
        "            approx = pstar / qstar\n",
        "\n",
        "    approx = pstar / qstar\n",
        "    relerr = abs(x - approx) / abs(x)\n",
        "    print(\n",
        "        f\"approximation of {x:.4f} is {pstar}/{qstar}\u2248{approx:.4f}\",\n",
        "        f\"relative error: {relerr:.3e}\",\n",
        "    )\n",
        "    return pstar, qstar"
      ]
    },
    {
      "cell_type": "code",
      "execution_count": 9,
      "metadata": {},
      "outputs": [
        {
          "name": "stdout",
          "output_type": "stream",
          "text": [
            "approximation of 3.1709 is 130/41\u22483.1707 relative error: 4.439e-05\n",
            "approximation of 6.5869 is 303/46\u22486.5870 relative error: 5.505e-06\n"
          ]
        },
        {
          "data": {
            "text/plain": [
              "(tensor(-18658876.), tensor(18657950.))"
            ]
          },
          "execution_count": 9,
          "metadata": {},
          "output_type": "execute_result"
        }
      ],
      "source": [
        "# get time\n",
        "\u03b3 = max(\u03c4u, \u03c4v) - min(\u03c4u, \u03c4v)\n",
        "# consider normalized equation (\u03c9\u2081/\u03b3)k\u2081+(\u03c9\u2082/\u03b3)k\u2082=1\n",
        "p1, q1 = best_rational_approx(\u03bb\u1d64 / \u03b3, 80)\n",
        "p2, q2 = best_rational_approx(\u03bb\u1d65 / \u03b3, 80)\n",
        "c = math.lcm(q1, q2)\n",
        "\n",
        "\n",
        "def isolve(a, b, c):\n",
        "    \"\"\"Jim Carlson's solution to the linear diophantine equation ax+by=c\"\"\"\n",
        "    q, r = divmod(a, b)\n",
        "\n",
        "    if not r:\n",
        "        return 0, c // b\n",
        "\n",
        "    u, v = isolve(b, r, c)\n",
        "    return v, u - q * v\n",
        "\n",
        "\n",
        "k1, k2 = isolve(p1 * (c // q1), p2 * (c // q2), c)\n",
        "\u03bb\u1d64 * k1 + \u03c4\u1d64, \u03bb\u1d65 * k2 + \u03c4\u1d65"
      ]
    },
    {
      "cell_type": "code",
      "execution_count": 10,
      "metadata": {},
      "outputs": [
        {
          "name": "stdout",
          "output_type": "stream",
          "text": [
            "12423*t_0 - 4807414\n"
          ]
        }
      ],
      "source": [
        "import sympy as sp\n",
        "from sympy.solvers.diophantine.diophantine import diop_linear\n",
        "\n",
        "# solve linear diofantine equation\n",
        "k1, k2, t = sp.symbols(\"k1 k2 t\", integer=True)\n",
        "# sol = sp.solve(p1*k1/q1 + p2*k2/q2 -1, k1, k2)\n",
        "\n",
        "sol = diop_linear((k1 * p1) * (c // q1) + (k2 * p2) * (c // q2) - c, param=t)\n",
        "print(sol[0].subs(t, 1))"
      ]
    },
    {
      "cell_type": "code",
      "execution_count": 11,
      "metadata": {},
      "outputs": [
        {
          "data": {
            "text/latex": [
              "$\\displaystyle 5980 k_{1} + 12423 k_{2} - 1886$"
            ],
            "text/plain": [
              "5980*k1 + 12423*k2 - 1886"
            ]
          },
          "execution_count": 11,
          "metadata": {},
          "output_type": "execute_result"
        }
      ],
      "source": [
        "(k1 * p1) * (c // q1) + (k2 * p2) * (c // q2) - c"
      ]
    },
    {
      "cell_type": "code",
      "execution_count": 12,
      "metadata": {},
      "outputs": [
        {
          "data": {
            "text/plain": [
              "(-94, 46)"
            ]
          },
          "execution_count": 12,
          "metadata": {},
          "output_type": "execute_result"
        }
      ],
      "source": [
        "def solve_diophantine_approx(\n",
        "    w1: float, w2: float, c: float, bound: int = 100\n",
        ") -> tuple[int, int]:\n",
        "    \"\"\"Find integers k1, k2 such that k1*w1 + k2*w2 \u2248 c.\"\"\"\n",
        "    w1 = float(w1)\n",
        "    w2 = float(w2)\n",
        "    c = float(c)\n",
        "    best = (0, 1)\n",
        "    for k1 in range(-bound, bound):\n",
        "        for k2 in range(-bound, bound):\n",
        "            if abs(k1 * w1 + k2 * w2 - c) < abs(best[0] * w1 + best[1] * w2 - c):\n",
        "                best = (k1, k2)\n",
        "    return best\n",
        "\n",
        "\n",
        "solve_diophantine_approx(\u03bb\u1d64, \u03bb\u1d65, 6.0479)"
      ]
    },
    {
      "cell_type": "markdown",
      "metadata": {},
      "source": [
        "## Idea: Coordinate Descent\n",
        "\n",
        "The advantage of only updating u or only updating v is that, since we know the frequency, it allows us to constrain to a finite interval.\n",
        "Moreover, we can prove that within this interval, since we are dealing with a sine-wave, there is precisely one global maximum and one global minimum.\n",
        "\n",
        "We are lucky: there is an analytic solution to the global maximum of the function, which is given by the following formula. Assuming $g\u1d64\u2208\ud835\udd4b\ud835\udd4a$ is the normalized tangent vector,\n",
        "i.e. $\u27e8e\u1d64\u2223u\u27e9=0$ and $\u2016e\u1d64\u2016=1$, then the global maximum is given by\n",
        "\n",
        "$\\providecommand{\\sign}{\\operatorname{sign}}$\n",
        "$$\\begin{aligned}\n",
        "    \\max_t u(t)\u1d40 A v \n",
        "       &= (\\cos(\u03bbt) u + \\sin(\u03bbt) e\u1d64)^\u22a4 Av\n",
        "    \\\\ &= (u\u1d40 A v)\\cos(\u03bbt) + (e\u1d64\u1d40 A v)\\sin(\u03bbt) \n",
        "    \\\\ &= a\\cos(\u03bbt) + b\\sin(\u03bbt)\n",
        "\\end{aligned}$$\n",
        "\n",
        "Where $\u03bb=\u2016g\u1d64\u2016$, $a\u2254u\u1d40 A v$ and $b\u2254(e\u1d64\u1d40 A v)$. \n",
        "\n",
        "There are two critical points:\n",
        "\n",
        "$$t_{1,2}^* = \\{\\tfrac{1}{\u03bb}\\arctan(\\tfrac{b}{a})\uff0c\\tfrac{1}{\u03bb}\\arctan(\\tfrac{b}{a}) + \\tfrac{\u03c0}{\u03bb}\\}$$\n",
        "\n",
        "which gives the function values\n",
        "\n",
        "$$ f(t_{1,2}^*) = \\{\\sign(a) \\sqrt{a\u00b2 + b\u00b2}, - \\sign(a) \\sqrt{a\u00b2 + b\u00b2}\\}$$\n",
        "\n",
        "In particular, if $a>0$, then $t_1^*$ is the global maximum, and $t_2^*$ is the global minimum, else vice versa. The coefficients $\\cos(\u03bbt)$ and $\\sin(\u03bbt)$ are then given by\n",
        "\n",
        "$$\\begin{aligned}\n",
        "    \\cos(\u03bbt_1^*) &= +\\sign(a)\\frac{a}{\\sqrt{a\u00b2 + b\u00b2}} \n",
        "    &\\qquad \\sin(\u03bbt_1^*) &= +\\sign(a)\\frac{b}{\\sqrt{a\u00b2 + b\u00b2}} \n",
        "    \\\\ \\cos(\u03bbt_2^*) &= -\\sign(a)\\frac{a}{\\sqrt{a\u00b2 + b\u00b2}}\n",
        "    &\\qquad \\sin(\u03bbt_2^*) &= -\\sign(a)\\frac{b}{\\sqrt{a\u00b2 + b\u00b2}}\n",
        "\\end{aligned}$$\n",
        "\n",
        "\n",
        "In particular, since $t^* \u2254 t_1^*$ if $a>0$ and $t^*\u2254t_2^*$ if $a<0$ it follows that\n",
        "\n",
        "$$\\left.\\begin{aligned}\n",
        "    \\cos(\u03bbt^*) &= \\frac{a}{\\sqrt{a\u00b2 + b\u00b2}} \n",
        "    \\\\\\sin(\u03bbt^*) &= \\frac{b}{\\sqrt{a\u00b2 + b\u00b2}}\n",
        "\\end{aligned}\\right\\rbrace \n",
        "\u27f9 u(t^*) = \\frac{a}{\\sqrt{a\u00b2 + b\u00b2}}u + \\frac{b}{\\sqrt{a\u00b2 + b\u00b2}}\\frac{g_u}{\u2016g_u\u2016}\n",
        "$$\n",
        "\n",
        "-----\n",
        "\n",
        "Note that if we replace $\\arctan(b/a)$ with the atan2 function, we can avoid the sign (essentially hiding it inside atan2), and we get the two solutions \n",
        "\n",
        "$$ f(t_{1,2}^*) = \u00b1\\sqrt{a\u00b2 + b\u00b2}$$\n",
        "\n",
        "Thus $t^*\u2254t_1^*$ is always the global maximum when using atan2.\n",
        "\n",
        "The coefficients $\\cos(\u03bbt^*)$ and $\\sin(\u03bbt^*)$ are then given by\n",
        "\n",
        "$$\\begin{aligned}\n",
        "    \\cos(\u03bbt^*) &= \\frac{a}{\\sqrt{a\u00b2 + b\u00b2}}\n",
        "    &\\qquad \\sin(\u03bbt^*) &= \\frac{b}{\\sqrt{a\u00b2 + b\u00b2}}\n",
        "\\end{aligned}$$\n",
        "\n",
        "which agrees with the previous result."
      ]
    },
    {
      "cell_type": "markdown",
      "metadata": {},
      "source": [
        "### Resubstitute\n",
        "\n",
        "Plugging the values $\u03bb=\u2016g\u1d64\u2016$, $a\u2254u\u1d40 A v=\u03c3\u1d64$ and $b\u2254e\u1d64\u1d40Av=\u03c1\u1d64$, where $e\u1d64 = \\frac{g\u1d64}{\u2016g\u1d64\u2016}$ and $g\u1d64=Av-\u03c3\u1d64u$, back in gives, with some simplification:\n",
        "\n",
        "$$\\begin{aligned}\n",
        "    u(t^*) &= &= \\frac{\u03c3\u1d64}{\\sqrt{\u03c3\u1d64\u00b2 + \u03c1\u1d64\u00b2}}u + \\frac{\u03c1\u1d64}{\\sqrt{\u03c3\u1d64\u00b2 + \u03c1\u1d64\u00b2}}e\u1d64\n",
        "\\end{aligned}$$\n",
        "\n",
        "Since we are using floating point numbers and need to ensure normality, we can use the following formula:\n",
        "\n",
        "$$\\begin{aligned}\n",
        "    u(t^*) &= \u03c3\u1d64u + \u03c1\u1d64e\u1d64\n",
        "    & u(t^*) &= u(t^*)/\u2016u(t^*)\u2016\n",
        "\\end{aligned}$$\n",
        "\n",
        "Note that \n",
        "\n",
        "$$\\begin{aligned}\n",
        " \u03c1\u1d64 = e\u1d64\u1d40 A v = \\tfrac{1}{\u2016g\u1d64\u2016} g\u1d64\u1d40Av = \\tfrac{1}{\u2016g\u1d64\u2016}(Av - \u03c3\u1d64 u)\u1d40Av = \\tfrac{\u2016Av\u2016\u00b2 - \u03c3\u1d64\u00b2}{\u2016g\u1d64\u2016}\n",
        "\\end{aligned}$$\n",
        "\n",
        "Thus\n",
        "\n",
        "$$\\begin{aligned}\n",
        " \u03c1\u1d64e\u1d64 = \\tfrac{\u2016Av\u2016\u00b2 - \u03c3\u1d64\u00b2}{\u2016g\u1d64\u2016}\\frac{g\u1d64}{\u2016g\u1d64\u2016} = \\frac{\u2016Av\u2016\u00b2 - \u03c3\u1d64\u00b2}{\u2016g\u1d64\u2016\u00b2}g\u1d64\n",
        "\\end{aligned}$$\n",
        "\n",
        "There is an issue here: since the gradient converges to zero, we are potentially dividing by zero. Fortunately, the formula simplifies:\n",
        "\n",
        "$$\n",
        "\\frac{\u2016Av\u2016\u00b2 - \u03c3\u1d64\u00b2}{\u2016g\u1d64\u2016\u00b2}\n",
        "= \\frac{\u2016Av\u2016\u00b2 - \u03c3\u1d64\u00b2}{\u2016Av - \u03c3\u1d64u\u2016\u00b2}\n",
        "= \\frac{\u2016Av\u2016\u00b2 - \u03c3\u1d64\u00b2}{\u2016Av\u2016\u00b2 - 2\u27e8Av\u2223\u03c3\u1d64u\u27e9 + \u03c3\u1d64\u00b2}\n",
        "= \\frac{\u2016Av\u2016\u00b2 - \u03c3\u1d64\u00b2}{\u2016Av\u2016\u00b2 - \u03c3\u1d64\u00b2}\n",
        "= 1\n",
        "$$\n",
        "\n",
        "Therefore, the update formula is given by\n",
        "\n",
        "$$\n",
        "\\boxed{u' = \\frac{\u03c3\u1d64}{\\sqrt{1+\u03c3\u1d64\u00b2}}u + \\frac{1}{\\sqrt{1+\u03c3\u1d64\u00b2}}g\u1d64}\n",
        "$$\n",
        "\n",
        "Moreover, we can first compute $u' = \u03c3\u1d64u + g\u1d64$ and then normalize it.\n",
        "Since $g\u1d64=Av-\u03c3\u1d64u$, we have $u' = \u03c3\u1d64u + Av - \u03c3\u1d64u = Av$.\n",
        "\n",
        "$$\\boxed{u' = \\operatorname{normalize}(Av)$$\n",
        "\n",
        "Therefore, the power-iteration is precisely Riemannian coordinate descent!\n",
        "\n",
        "\n",
        "which allows us to save a matrix-vector multiplication. However, this may be less numerically stable.\n",
        "\n",
        "Moreover, the stopping criterion is given by\n",
        "\n",
        "$$ \u2016g\u1d64\u2016 < \u03b1 + \u03b2\u03c3\u1d64 \u27fa \u03c1\u1d64 < \u03b1 + \u03b2\u03c3\u1d64 $$\n",
        "\n",
        "Note: both $\u03c3\u1d64>0$ and $\u03c1\u1d64>0$ are guaranteed mathematically, but might need special attention numerically.\n",
        "\n",
        "$$\\begin{aligned}\n",
        "    \u03c1\u1d64 &= \\frac{\u2016Av\u2016\u00b2 - \u03c3\u1d64\u00b2}{\u2016g\u1d64\u2016} \n",
        "    \\\\ &= \\frac{\u2016Av\u2016\u00b2 - \u03c3\u1d64\u00b2}{\u2016Av - \u03c3\u1d64 u\u2016}\n",
        "    \\\\ &= \\frac{\u2016d\u1d64\u2016\u00b2 - u\u1d40Av\u00b2}{\u2016Av - u\u1d40Av u\u2016}\n",
        "\\end{aligned}$$\n",
        "\n",
        "\n",
        "<!-- \n",
        "$$\\begin{aligned}\n",
        "    \\cos(\u03bbt^*) &= \\frac{a}{\\sqrt{a\u00b2 + b\u00b2}} &&= \\frac{\u03bb\u03c3\u1d64}{\\sqrt{(\u03bb\u03c3\u1d64)\u00b2 + (g\u1d64\u1d40 A v)\u00b2}}\n",
        "    \\\\ \\sin(\u03bbt^*) &= \\frac{b}{\\sqrt{a\u00b2 + b\u00b2}} &&= \\frac{g\u1d64\u1d40 A v}{\\sqrt{(\u03bb\u03c3\u1d64)\u00b2 + (g\u1d64\u1d40 A v)\u00b2}}\n",
        "\\end{aligned}$$\n",
        "\n",
        "Note that\n",
        "\n",
        "$$\\begin{aligned}\n",
        " g\u1d64\u1d40 A v = (Av - \u03c3\u1d64 u)\u1d40 Av = \u2016Av\u2016\u00b2 - \u03c3\u1d64\u00b2 = \u2016d\u1d64\u2016\u00b2 - \u03c3\u1d64\u00b2\n",
        "\\end{aligned}$$\n",
        "\n",
        "In particular: $\\frac{g\u1d64\u1d40 A v}{\u2016g\u1d64\u2016} = \\frac{\u2016d\u1d64\u2016\u00b2-\u03c3\u1d64\u00b2 }{\u2016d\u1d64-\u03c3\u1d64 u\u2016}$\n",
        "\n",
        "\n",
        "With some calculation:\n",
        "\n",
        "$$ \\sqrt{(\u03bb\u03c3\u1d64)\u00b2 + (g\u1d64\u1d40 A v)\u00b2} = \u2016Av\u2016\\sqrt{\u2016Av\u2016\u00b2+\u03c3\u1d64\u00b2} $$ -->\n"
      ]
    },
    {
      "cell_type": "markdown",
      "metadata": {},
      "source": [
        "## Pseudocode\n",
        "\n",
        "```pseudo\n",
        "for k in range(1, max_iter):\n",
        "    { # update u\n",
        "        # compute gradient\n",
        "        d\u1d64 = A v\n",
        "        # compute tangent vector\n",
        "        \u03c3\u1d64 = \u27e8u\u2223d\u1d64\u27e9\n",
        "        e\u1d64 = d\u1d64 - \u03c3\u1d64\u22c5u\n",
        "        \u03bb\u1d64 = \u2016g\u1d64\u2016\n",
        "        e\u1d64 = g\u1d64/\u03bb\u1d64\n",
        "        \u03c1\u1d64 = \u27e8e\u1d64\u2223d\u1d64\u27e9\n",
        "        # compute coefficients\n",
        "        \u03b3\u1d64 = sqrt(\u03c3\u1d64\u00b2 + \u03c1\u1d64\u00b2)\n",
        "        # update u\n",
        "        u = (\u03c3\u1d64/\u03b3\u1d64) u + (\u03c1\u1d64/\u03b3\u1d64) g\u1d64\n",
        "        # ensure norm is 1 (optional?!)\n",
        "        u = u / \u2016u\u2016\n",
        "        converged = \u03bb\u1d64 < \u03b1 + \u03b2\u03c3\u1d64\n",
        "    }\n",
        "    { # update v\n",
        "        # compute gradient\n",
        "        d\u1d65 = A\u1d40 u\n",
        "        # compute tangent vector\n",
        "        \u03c3\u1d65 = v\u1d40 d\u1d65\n",
        "        g\u1d65 = d\u1d65 - \u03c3\u1d65\u22c5v\n",
        "        # compute coefficients\n",
        "        a = u\u1d40 A v  # identical to \u03c3\u1d65!\n",
        "        b = u\u1d40 A g\u1d65\n",
        "        c = sqrt(a\u00b2 + b\u00b2)\n",
        "        # update v\n",
        "        v = (a/c) v + (b/c) g\u1d65\n",
        "        # ensure norm is 1\n",
        "        v = v / \u2016v\u2016\n",
        "        converged &= \u2016g\u1d65\u2016< \u03b1+\u03b2\u03c3\u1d65\n",
        "    }\n",
        "    if converged:\n",
        "        break\n",
        "```"
      ]
    },
    {
      "cell_type": "markdown",
      "metadata": {},
      "source": [
        "\n",
        "## Convergence\n",
        "\n",
        "Note that as $g\u1d64 = Av - u (u\u1d40 Av) = Av - \u03c3u$ goes to zero, then b\u21920, and thus $t^*\u21920$.\n",
        "\n",
        "Testing convergence should be done by checking the norm of the gradient:\n",
        "\n",
        "$$ \u2016\u2207f(x)\u2016 \u2264 \u03b1 + \u03b2\u2016f(x)\u2016 $$\n",
        "\n",
        "This termination criteration comes from the Polyak-\u0141ojasiewicz (PL) condition, which states that for a function $f$ to be PL, there must exist constants $\u03bc>0$ such that\n",
        "\n",
        "$$ \\frac{1}{2}\u2016\u2207f(x)\u2016\u00b2 \u2265 \u03bc(f(x)-f(x^*)) $$\n",
        "\n",
        "Roughly, on a global scale the function must be bounded quadratic.\n",
        "\n",
        "## Coordinate invariant stopping criterion\n",
        "\n",
        "The stopping criterion should be scale invariant, i.e. if we changed units, say from meters to kilometers, then the stopping criterion should not change. In other words, it ought to be invariant under the transformation $f \u2192 \u03bb\u22c5f$ for any $\u03bb>0$. In particular, the naive gradient stopping criterion $\u2016\u2207f(x)\u2016<\u03b5$ is not invariant! Instead, we can consider the following stopping criterion:\n",
        "\n",
        "$$ \u2016\u2207f(x)\u2016 < \u03b2 |f(x)| $$\n",
        "\n",
        "Which is invariant.  However, note that this is only reasonable to do if $f$ is non-negative, since otherwise we could just make $f$ arbitrarily negative, and then the stopping criterion would be trivially satisfied.\n",
        "\n",
        "In this case it simplifies to\n",
        "\n",
        "$$ \u2016\u2207f(x)\u2016 < \u03b2 f(x) $$\n",
        "\n",
        "For some small constant $\u03b2>0$. However, also this variant has a deficit: if $\u2207f(x)$ decays not fast enough as $x\u21920$, then the stopping criterion will not be satisfied. For example, if $f(x)=x\u00b2$, it becomes $2|x| < \u03b2 x\u00b2$, which, for small enough $x$, is never satisfiable.\n",
        "\n",
        "Therefore, one can consider adding an absolute tolerance, i.e. the stopping criterion becomes\n",
        "\n",
        "$$ \u2016\u2207f(x)\u2016 < \u03b1 + \u03b2 f(x) $$\n",
        "\n",
        "For some small positive constants $\u03b1$ and $\u03b2$.\n"
      ]
    },
    {
      "cell_type": "markdown",
      "metadata": {},
      "source": [
        "\n",
        "In case of the singular triplet, the tangent-gradient vectors are given by\n",
        "\n",
        "$$\\begin{aligned}\n",
        "    g\u1d64 &= Av - u (u\u1d40 Av) = Av - \u03c3u\n",
        "    \\\\ g\u1d65 &= A\u1d40 u - v (v\u1d40 A\u1d40 u) = A\u1d40 u - \u03c3v\n",
        "\\end{aligned}$$\n",
        "\n",
        "So the stopping criterion becomes\n",
        "\n",
        "$$ \u2016(Av - \u03c3u, A\u1d40 u - \u03c3v)\u2016 < \u03b1 + \u03b2 \u03c3 $$\n",
        "\n",
        "which is however awkward to use. Instead, we can test two separate stopping criteria:\n",
        "\n",
        "$$\\begin{aligned}\n",
        "       \u2016Av - \u03c3u\u2016    &< \u03b1 + \u03b2 \u03c3\n",
        "    \\\\ \u2016A\u1d40 u - \u03c3v\u2016 &< \u03b1 + \u03b2 \u03c3\n",
        "\\end{aligned}$$\n",
        "\n",
        "Now, plugging in the iterates, we get\n",
        "\n",
        "$$\\begin{aligned}\n",
        "       \u2016g\u1d64\u2016 &< \u03b1 + \u03b2 \u03c3\u1d64\n",
        "    \\\\ \u2016g\u1d65\u2016 &< \u03b1 + \u03b2 \u03c3\u1d65\n",
        "\\end{aligned}$$\n",
        "\n",
        "On a whole, this means that the algorithm only needs ~(2m+2n) memory.\n",
        "\n",
        "\n"
      ]
    },
    {
      "cell_type": "markdown",
      "metadata": {},
      "source": [
        "## Simplifications\n",
        "\n",
        "1. $a=\u03c3\u1d64$ and $b=\u2016Av\u2016\u00b2-\u03c3\u1d64\u00b2=\u2016d\u1d64\u2016\u00b2-\u03c3\u1d64\u00b2=\u03c1\u1d64\u00b2-\u03c3\u1d64\u00b2$, hence $c=\\sqrt{\u03c3\u1d64\u00b2 + (\u2016d\u1d64\u2016\u00b2-\u03c3\u1d64\u00b2)} = \u2016d\u1d64\u2016$\n",
        "\n",
        "```pseudo\n",
        "for k in range(1, max_iter):\n",
        "    { # update u\n",
        "        # compute gradient\n",
        "        d\u1d64 = A v\n",
        "        # compute tangent vector\n",
        "        \u03c3\u1d64 = u\u1d40 d\u1d64\n",
        "        g\u1d64 = d\u1d64 - \u03c3\u1d64 \u22c5 u \n",
        "        # compute coefficients\n",
        "        a = u\u1d40 A v\n",
        "        b = g\u1d64\u1d40 A v \n",
        "        c = \u2016d\u1d64\u2016\n",
        "        # update u\n",
        "        u = (a/c) u + (b/c) g\u1d64\n",
        "        # ensure norm is 1\n",
        "        u = u / \u2016u\u2016\n",
        "    }\n",
        "    { # update v\n",
        "        # compute gradient\n",
        "        d\u1d65 = A\u1d40 u\n",
        "        # compute tangent vector\n",
        "        \u03c3\u1d65 = v\u1d40 d\u1d65\n",
        "        g\u1d65 = d\u1d65 - \u03c3\u1d65\u22c5v\n",
        "        # compute coefficients\n",
        "        a = u\u1d40 A v  # identical to \u03c3\u1d65!\n",
        "        b = u\u1d40 A g\u1d65\n",
        "        c = sqrt(a\u00b2 + b\u00b2)\n",
        "        # update v\n",
        "        v = (a/c) v + (b/c) g\u1d65\n",
        "        # ensure norm is 1\n",
        "        v = v / \u2016v\u2016\n",
        "    }\n",
        "    if \u2016g\u1d64\u2016< \u03b1+\u03b2\u03c3\u1d64 and \u2016g\u1d65\u2016< \u03b1+\u03b2\u03c3\u1d65:\n",
        "        break\n",
        "```\n"
      ]
    },
    {
      "cell_type": "code",
      "execution_count": null,
      "metadata": {},
      "outputs": [],
      "source": []
    },
    {
      "cell_type": "markdown",
      "metadata": {},
      "source": [
        "## Idea Combined Descent\n",
        "\n",
        "\n",
        "We follow the gradient along the two geodesics for both $u$ and $v$\n",
        "\n",
        "$$\\begin{aligned}\n",
        "    \\max_t u(t)\u1d40 A v(t) \n",
        "       &= (\\cos(\u03bb\u1d64t) u + \\sin(\u03bb\u1d64t) e\u1d64)^\u22a4 A (\\cos(\u03bb\u1d65t) v + \\sin(\u03bb\u1d65t) e\u1d65)\n",
        "    \\\\ &= (u\u1d40 A v)\\cos(\u03bb\u1d64t)\\cos(\u03bb\u1d65t) + (e\u1d64\u1d40 A v)\\sin(\u03bb\u1d64t)\\cos(\u03bb\u1d65t) + (u\u1d40 A e\u1d65)\\cos(\u03bb\u1d64t)\\sin(\u03bb\u1d65t) + (e\u1d64\u1d40 A e\u1d65)\\sin(\u03bb\u1d64t)\\sin(\u03bb\u1d65t)\n",
        "\\end{aligned}$$\n",
        "\n",
        "\n",
        "We can try to simplify. Note that in the simultaneous computation, $\u03c3\u1d64=u\u1d40d\u1d64 = u\u1d40Av = v\u1d40A\u1d40u = v\u1d40d\u1d65 = \u03c3\u1d65$ are equal.\n",
        "Therefore, using $g\u1d64=Av-\u03c3\u1d64u$ and $g\u1d65=A\u1d40u-\u03c3\u1d65v$, $e\u1d64=g\u1d64/\u2016g\u1d64\u2016$ and $e\u1d65=g\u1d65/\u2016g\u1d65\u2016$, and $d\u1d64=Av$ and $d\u1d65=A\u1d40u$, and $\u03c3\u1d64=u\u1d40d\u1d64$ and $\u03c3\u1d65=v\u1d40d\u1d65$:\n",
        "\n",
        "$$\\begin{aligned}\n",
        "    (e\u1d64\u1d40 A v) &= \\frac{g\u1d64\u1d40 A v}{\u2016g\u1d64\u2016} =  \\frac{(Av-\u03c3u)\u1d40 A v}{\u2016Av-\u03c3u\u2016} =\\frac{\u2016Av\u2016\u00b2 - \u03c3\u00b2}{\u2016Av-\u03c3u\u2016} = \u2016Av-\u03c3u\u2016\n",
        "\\\\ (u\u1d40 A e\u1d65) &= \\frac{u\u1d40 A g\u1d65}{\u2016g\u1d65\u2016} = \\frac{u\u1d40 A (A\u1d40 u - \u03c3 v)}{\u2016A\u1d40 u - \u03c3 v\u2016} = \\frac{\u2016A\u1d40 u\u2016\u00b2 - \u03c3\u00b2}{\u2016A\u1d40 u - \u03c3 v\u2016} = \u2016A\u1d40 u - \u03c3 v\u2016\n",
        "\\\\ (e\u1d64\u1d40 A e\u1d65) &= \\frac{g\u1d64\u1d40 A g\u1d65}{\u2016g\u1d64\u2016\u22c5\u2016g\u1d65\u2016} = \\frac{(Av-\u03c3u)\u1d40 A (A\u1d40 u - \u03c3 v)}{\u2016Av-\u03c3u\u2016\u22c5\u2016A\u1d40 u - \u03c3 v\u2016} = \\frac{v\u1d40A\u1d40AA\u1d40u - \u03c3\u2016Av\u2016\u00b2 - \u03c3\u2016A\u1d40u\u2016\u00b2 + \u03c3\u00b3}{\u2016Av-\u03c3u\u2016\u22c5\u2016A\u1d40 u - \u03c3 v\u2016}\n",
        "\\end{aligned}$$\n",
        "\n",
        "\n",
        "Note: $\u2016Av-\u03c3u\u2016\u00b2 = \u2016Av\u2016\u00b2 - 2\u03c3u\u1d40Av + \u03c3\u00b2\u2016u\u2016\u00b2 = \u2016Av\u2016\u00b2 - 2\u03c3\u00b2 + \u03c3\u00b2 = \u2016Av\u2016\u00b2 - \u03c3\u00b2$"
      ]
    },
    {
      "cell_type": "markdown",
      "metadata": {},
      "source": [
        "### Note: Product of sine waves\n",
        "\n",
        "\n",
        "$$\\begin{aligned}\n",
        "    \\sin(\u03c9\u2081t)\\sin(\u03c9\u2082t) &= \\tfrac{1}{2}(\\cos((\u03c9\u2081-\u03c9\u2082)t) - \\cos((\u03c9\u2081+\u03c9\u2082)t))\n",
        "\\\\  \\cos(\u03c9\u2081t)\\cos(\u03c9\u2082t) &= \\tfrac{1}{2}(\\cos((\u03c9\u2081-\u03c9\u2082)t) + \\cos((\u03c9\u2081+\u03c9\u2082)t))\n",
        "\\\\  \\sin(\u03c9\u2081t)\\cos(\u03c9\u2082t) &= \\tfrac{1}{2}(\\sin((\u03c9\u2081-\u03c9\u2082)t) + \\sin((\u03c9\u2081+\u03c9\u2082)t))\n",
        "\\\\  \\cos(\u03c9\u2081t)\\sin(\u03c9\u2082t) &= \\tfrac{1}{2}(\\sin((\u03c9\u2081+\u03c9\u2082)t) - \\sin((\u03c9\u2081-\u03c9\u2082)t))\n",
        "\\end{aligned}$$\n",
        "\n",
        "Consequently, optimizing $u(t)\u1d40Av(t)$ is equivalent to optimizing a sum of sine waves.\n",
        "\n",
        "We can take several approaches:\n",
        "\n",
        "1. alternating optimization: optimize $u$ and $v$ separately in a block coordinate descent fashion\n",
        "2. joint optimization: optimize $u$ and $v$ simultaneously\n",
        "\n",
        "\n",
        "\n",
        "\n"
      ]
    },
    {
      "cell_type": "code",
      "execution_count": null,
      "metadata": {},
      "outputs": [],
      "source": []
    },
    {
      "cell_type": "code",
      "execution_count": null,
      "metadata": {},
      "outputs": [],
      "source": []
    }
  ],
  "metadata": {
    "kernelspec": {
      "display_name": "kiwi",
      "language": "python",
      "name": "python3"
    },
    "language_info": {
      "codemirror_mode": {
        "name": "ipython",
        "version": 3
      },
      "file_extension": ".py",
      "mimetype": "text/x-python",
      "name": "python",
      "nbconvert_exporter": "python",
      "pygments_lexer": "ipython3",
      "version": "3.11.6"
    }
  },
  "nbformat": 4,
  "nbformat_minor": 4
}
