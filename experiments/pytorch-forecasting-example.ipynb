{
 "cells": [
  {
   "cell_type": "markdown",
   "id": "4340cc9c-9439-4ce3-8f20-397e5506884f",
   "metadata": {},
   "source": [
    "## Train Test Split"
   ]
  },
  {
   "cell_type": "code",
   "execution_count": 1,
   "id": "3eb16a14-223f-4cbf-a08f-83a1649d9d96",
   "metadata": {},
   "outputs": [],
   "source": [
    "%load_ext autoreload\n",
    "%autoreload 2"
   ]
  },
  {
   "cell_type": "code",
   "execution_count": 2,
   "id": "5ce25be9-0756-4d2d-93a9-e2030d819ed8",
   "metadata": {},
   "outputs": [],
   "source": [
    "import torch\n",
    "import numpy as np\n",
    "import pandas as pd\n",
    "from pandas import DataFrame, Series, Timestamp, Timedelta, DatetimeIndex\n",
    "from pandas.tseries.offsets import DateOffset\n",
    "\n",
    "pd.set_option('display.max_rows', 5)"
   ]
  },
  {
   "cell_type": "code",
   "execution_count": 3,
   "id": "93cf478a-2645-412d-8e8b-6a79fd0ac23f",
   "metadata": {},
   "outputs": [],
   "source": [
    "from tsdm.datasets import Electricity\n",
    "\n",
    "X = Electricity.dataset\n",
    "X"
   ]
  },
  {
   "cell_type": "code",
   "execution_count": 4,
   "id": "666be7f4-9955-4750-8426-24661617572e",
   "metadata": {},
   "outputs": [],
   "source": [
    "from tsdm.util import make_dense_triplets\n",
    "\n",
    "df = make_dense_triplets(X).reset_index()\n",
    "df"
   ]
  },
  {
   "cell_type": "code",
   "execution_count": 5,
   "id": "1556300a-ea9a-4a46-a568-c9efc193aa1a",
   "metadata": {},
   "outputs": [],
   "source": [
    "from tsdm.util import time2int\n",
    "\n",
    "df['time'] = time2int(df['time'])"
   ]
  },
  {
   "cell_type": "code",
   "execution_count": 6,
   "id": "efd1c10f-997b-489c-8bd9-06d53c16d67e",
   "metadata": {},
   "outputs": [],
   "source": [
    "from pytorch_forecasting import TimeSeriesDataSet\n",
    "\n",
    "ds = TimeSeriesDataSet(df,\n",
    "    time_idx=\"time\",\n",
    "    target=\"value\",\n",
    "    group_ids=[\"variable\"],\n",
    "    min_encoder_length=11,\n",
    "    max_encoder_length=11,\n",
    "    min_prediction_length=7,\n",
    "    max_prediction_length=7,\n",
    "    time_varying_unknown_reals=[\"value\"]\n",
    ")"
   ]
  },
  {
   "cell_type": "code",
   "execution_count": 7,
   "id": "a606f2b9-0dc1-4f91-b2b5-3dac7cb27fef",
   "metadata": {},
   "outputs": [],
   "source": [
    "dataloader = ds.to_dataloader(batch_size=32)\n",
    "x, y = next(iter(dataloader))\n",
    "for key, value in x.items():\n",
    "    print(f\"{key:16s} = {value.size()}\")"
   ]
  },
  {
   "cell_type": "code",
   "execution_count": 12,
   "id": "9cea65c4-9852-48f5-951c-f508686cd611",
   "metadata": {},
   "outputs": [],
   "source": [
    "from tsdm.util import make_sparse_triplets\n",
    "\n",
    "df = make_sparse_triplets(X).reset_index()\n",
    "df"
   ]
  },
  {
   "cell_type": "code",
   "execution_count": 13,
   "id": "16441b10-9794-4541-90f2-1a352ab39729",
   "metadata": {},
   "outputs": [],
   "source": [
    "from tsdm.util import time2int\n",
    "\n",
    "df['time'] = time2int(df['time'])\n",
    "df"
   ]
  },
  {
   "cell_type": "code",
   "execution_count": 6,
   "id": "269bbe86-36d5-410d-9fa6-92ae24e799ec",
   "metadata": {},
   "outputs": [],
   "source": [
    "from pytorch_forecasting import TimeSeriesDataSet\n",
    "\n",
    "ds = TimeSeriesDataSet(df,\n",
    "    time_idx=\"time\",\n",
    "    target=\"value\",\n",
    "    group_ids=[\"variable\"],\n",
    "    min_encoder_length=11,\n",
    "    max_encoder_length=11,\n",
    "    min_prediction_length=7,\n",
    "    max_prediction_length=7,\n",
    "    time_varying_unknown_reals=[\"value\"]\n",
    ")"
   ]
  },
  {
   "cell_type": "code",
   "execution_count": 7,
   "id": "a627564d-1e7e-4433-821a-2f6a2703873a",
   "metadata": {},
   "outputs": [],
   "source": [
    "dataloader = ds.to_dataloader(batch_size=32)\n",
    "x, y = next(iter(dataloader))\n",
    "for key, value in x.items():\n",
    "    print(f\"{key:16s} = {value.size()}\")"
   ]
  }
 ],
 "metadata": {
  "kernelspec": {
   "display_name": "Python 3",
   "language": "python",
   "name": "python3"
  },
  "language_info": {
   "codemirror_mode": {
    "name": "ipython",
    "version": 3
   },
   "file_extension": ".py",
   "mimetype": "text/x-python",
   "name": "python",
   "nbconvert_exporter": "python",
   "pygments_lexer": "ipython3",
   "version": "3.9.4"
  }
 },
 "nbformat": 4,
 "nbformat_minor": 5
}
