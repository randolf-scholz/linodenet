{
 "cells": [
  {
   "cell_type": "markdown",
   "metadata": {},
   "source": [
    "# Testing whether batch processing works"
   ]
  },
  {
   "cell_type": "code",
   "execution_count": 1,
   "metadata": {},
   "outputs": [],
   "source": [
    "%load_ext autoreload\n",
    "%autoreload 2"
   ]
  },
  {
   "cell_type": "code",
   "execution_count": 2,
   "metadata": {},
   "outputs": [],
   "source": [
    "import numpy as np\n",
    "import pandas as pd\n",
    "import torch\n",
    "\n",
    "pd.set_option('display.max_rows', 5)"
   ]
  },
  {
   "cell_type": "code",
   "execution_count": 3,
   "metadata": {},
   "outputs": [],
   "source": [
    "from tsdm.datasets import Electricity\n",
    "X = Electricity.dataset\n",
    "x = X.iloc[:100]\n",
    "t = X.index[:100]\n",
    "t = (t - t[0]) / np.timedelta64(1, 'h')\n",
    "x"
   ]
  },
  {
   "cell_type": "code",
   "execution_count": 4,
   "metadata": {},
   "outputs": [],
   "source": [
    "nsteps = 100\n",
    "NDIM = 64\n",
    "BATCH_SIZE = 7\n",
    "OUTER_BATCH_SIZE = 3\n",
    "X = np.random.rand(nsteps, NDIM)\n",
    "T = np.sort(np.random.randn(nsteps))\n",
    "dtype = torch.float32\n",
    "device = torch.device('cpu')"
   ]
  },
  {
   "cell_type": "code",
   "execution_count": 5,
   "metadata": {},
   "outputs": [],
   "source": [
    "X = torch.tensor(X, dtype=dtype, device=device)\n",
    "T = torch.tensor(T, dtype=dtype, device=device)\n",
    "ΔT = torch.diff(T)\n",
    "Δt = ΔT[0]\n",
    "x0 = X[0]\n",
    "T_batch  = torch.stack([T]*BATCH_SIZE)\n",
    "X_batch  = torch.stack([X]*BATCH_SIZE)\n",
    "Δt_batch = torch.stack([Δt]*BATCH_SIZE)\n",
    "ΔT_batch = torch.stack([ΔT]*BATCH_SIZE)\n",
    "x0_batch = torch.stack([x0]*BATCH_SIZE)"
   ]
  },
  {
   "cell_type": "code",
   "execution_count": 6,
   "metadata": {
    "tags": []
   },
   "outputs": [],
   "source": [
    "from linodenet.models import LinODEnet, LinODECell, LinODE\n",
    "model = LinODECell(NDIM, kernel_regularization=\"skew-symmetric\")\n",
    "model.to(device=device, dtype=dtype)\n",
    "print(Δt.shape, x0.shape)\n",
    "print(model(Δt, x0).shape)\n",
    "print(Δt_batch.shape, x0_batch.shape)\n",
    "print(model(Δt_batch, x0_batch).shape)"
   ]
  },
  {
   "cell_type": "code",
   "execution_count": 7,
   "metadata": {
    "tags": []
   },
   "outputs": [],
   "source": [
    "from linodenet.models import LinODEnet, LinODECell, LinODE\n",
    "model = LinODE(NDIM, kernel_regularization='skew-symmetric')\n",
    "model.to(device=device, dtype=dtype)\n",
    "print(T.shape, x0.shape)\n",
    "print(model(T, x0).shape)\n",
    "print(T_batch.shape, x0_batch.shape)\n",
    "print(model(T_batch, x0_batch).shape)"
   ]
  },
  {
   "cell_type": "code",
   "execution_count": 8,
   "metadata": {
    "tags": []
   },
   "outputs": [],
   "source": [
    "from linodenet.models import LinODEnet, LinODECell, LinODE\n",
    "model = LinODEnet(NDIM, 400, embedding_type='concat')\n",
    "model.to(device=device, dtype=dtype)\n",
    "print(T.shape, X.shape)\n",
    "print(model(T, X).shape)\n",
    "print(T_batch.shape, X_batch.shape)\n",
    "print(model(T_batch, X_batch).shape)"
   ]
  },
  {
   "cell_type": "code",
   "execution_count": 9,
   "metadata": {},
   "outputs": [],
   "source": [
    "T_batch  = torch.stack([T_batch ]*OUTER_BATCH_SIZE)\n",
    "X_batch  = torch.stack([X_batch ]*OUTER_BATCH_SIZE)\n",
    "Δt_batch = torch.stack([Δt_batch]*OUTER_BATCH_SIZE)\n",
    "ΔT_batch = torch.stack([ΔT_batch]*OUTER_BATCH_SIZE)\n",
    "x0_batch = torch.stack([x0_batch]*OUTER_BATCH_SIZE)"
   ]
  },
  {
   "cell_type": "code",
   "execution_count": 10,
   "metadata": {
    "tags": []
   },
   "outputs": [],
   "source": [
    "from linodenet.models import LinODEnet, LinODECell, LinODE\n",
    "model = LinODECell(NDIM, kernel_regularization=\"skew-symmetric\")\n",
    "model.to(device=device, dtype=dtype)\n",
    "print(Δt.shape, x0.shape)\n",
    "print(model(Δt, x0).shape)\n",
    "print(Δt_batch.shape, x0_batch.shape)\n",
    "print(model(Δt_batch, x0_batch).shape)"
   ]
  },
  {
   "cell_type": "code",
   "execution_count": 11,
   "metadata": {
    "tags": []
   },
   "outputs": [],
   "source": [
    "from linodenet.models import LinODEnet, LinODECell, LinODE\n",
    "model = LinODE(NDIM, kernel_regularization='skew-symmetric')\n",
    "model.to(device=device, dtype=dtype)\n",
    "print(T.shape, x0.shape)\n",
    "print(model(T, x0).shape)\n",
    "print(T_batch.shape, x0_batch.shape)\n",
    "print(model(T_batch, x0_batch).shape)"
   ]
  },
  {
   "cell_type": "code",
   "execution_count": 12,
   "metadata": {
    "tags": []
   },
   "outputs": [],
   "source": [
    "from linodenet.models import LinODEnet, LinODECell, LinODE\n",
    "model = LinODEnet(NDIM, 250)\n",
    "model.to(device=device, dtype=dtype)\n",
    "print(T.shape, X.shape)\n",
    "print(model(T, X).shape)\n",
    "print(T_batch.shape, X_batch.shape)\n",
    "print(model(T_batch, X_batch).shape)"
   ]
  },
  {
   "cell_type": "code",
   "execution_count": null,
   "metadata": {},
   "outputs": [],
   "source": []
  }
 ],
 "metadata": {
  "kernelspec": {
   "display_name": "Python 3",
   "language": "python",
   "name": "python3"
  },
  "language_info": {
   "codemirror_mode": {
    "name": "ipython",
    "version": 3
   },
   "file_extension": ".py",
   "mimetype": "text/x-python",
   "name": "python",
   "nbconvert_exporter": "python",
   "pygments_lexer": "ipython3",
   "version": "3.9.5"
  }
 },
 "nbformat": 4,
 "nbformat_minor": 4
}
